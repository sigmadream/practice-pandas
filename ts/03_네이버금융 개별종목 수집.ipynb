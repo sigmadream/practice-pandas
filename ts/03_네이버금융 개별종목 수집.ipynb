{
 "cells": [
  {
   "cell_type": "markdown",
   "metadata": {},
   "source": [
    "## 라이브러리 로드"
   ]
  },
  {
   "cell_type": "code",
   "execution_count": 1,
   "metadata": {
    "id": "6Mm8vuymTMkA"
   },
   "outputs": [],
   "source": [
    "# 라이브러리 로드\n",
    "import pandas as pd"
   ]
  },
  {
   "cell_type": "markdown",
   "metadata": {},
   "source": [
    "## 수집할 URL 정하기"
   ]
  },
  {
   "cell_type": "code",
   "execution_count": 2,
   "metadata": {
    "id": "QzZJoAvoTMkA"
   },
   "outputs": [
    {
     "data": {
      "text/plain": [
       "'https://finance.naver.com/item/sise_day.nhn?code=326030&page=1'"
      ]
     },
     "execution_count": 2,
     "metadata": {},
     "output_type": "execute_result"
    }
   ],
   "source": [
    "# 종목번호와 상장사 이름을 item_code와 item_name으로 설정\n",
    "item_code = \"326030\"\n",
    "item_name = \"SK바이오팜\"\n",
    "page_no = 1\n",
    "\n",
    "# 종목 URL 만들기\n",
    "url = f\"https://finance.naver.com/item/sise_day.nhn?code={item_code}&page={page_no}\"\n",
    "url"
   ]
  },
  {
   "cell_type": "markdown",
   "metadata": {},
   "source": [
    "## requests를 통한 HTTP 요청\n",
    "* [Requests: HTTP for Humans™ — Requests documentation](https://requests.readthedocs.io/en/master/)\n",
    "* [Quickstart — Requests documentation # custom-headers](https://requests.readthedocs.io/en/latest/user/quickstart/#custom-headers)"
   ]
  },
  {
   "cell_type": "code",
   "execution_count": 3,
   "metadata": {},
   "outputs": [],
   "source": [
    "import requests\n",
    "\n",
    "headers = {'user-agent': 'Mozilla/5.0 (Macintosh; Intel Mac OS X 10_15_7) AppleWebKit/537.36 (KHTML, like Gecko) Chrome/88.0.4324.96 Safari/537.36'}\n",
    "\n",
    "response = requests.get(url, headers=headers)\n",
    "# response.text"
   ]
  },
  {
   "cell_type": "markdown",
   "metadata": {},
   "source": [
    "## BeautifulSoup 을 통한 table 태그 찾기\n",
    "\n",
    "* [Beautiful Soup Documentation — Beautiful Soup 4.9.0 documentation](https://www.crummy.com/software/BeautifulSoup/bs4/doc/)"
   ]
  },
  {
   "cell_type": "code",
   "execution_count": 4,
   "metadata": {},
   "outputs": [
    {
     "data": {
      "text/plain": [
       "2"
      ]
     },
     "execution_count": 4,
     "metadata": {},
     "output_type": "execute_result"
    }
   ],
   "source": [
    "from bs4 import BeautifulSoup as bs\n",
    "\n",
    "html = bs(response.text, \"lxml\")\n",
    "table = html.select(\"table\")\n",
    "len(table)"
   ]
  },
  {
   "cell_type": "code",
   "execution_count": 5,
   "metadata": {},
   "outputs": [
    {
     "data": {
      "text/plain": [
       "bs4.element.ResultSet"
      ]
     },
     "execution_count": 5,
     "metadata": {},
     "output_type": "execute_result"
    }
   ],
   "source": [
    "type(table)"
   ]
  },
  {
   "cell_type": "markdown",
   "metadata": {},
   "source": [
    "## pandas 코드 한 줄로 데이터 수집하기"
   ]
  },
  {
   "cell_type": "code",
   "execution_count": 6,
   "metadata": {
    "id": "T3e0Jt0mTMkA"
   },
   "outputs": [
    {
     "name": "stderr",
     "output_type": "stream",
     "text": [
      "/var/folders/cn/3xfx7dqx4zx7lmdpfl0jh9g80000gn/T/ipykernel_61727/3976437143.py:5: FutureWarning: Passing literal html to 'read_html' is deprecated and will be removed in a future version. To read from a literal string, wrap it in a 'StringIO' object.\n",
      "  table = pd.read_html(str(table))\n"
     ]
    }
   ],
   "source": [
    "# read_html을 이용하여 url의 page내의 값을 DataFrame으로 받아옵니다.\n",
    "# cp949는 한글 인코딩을 위해 사용합니다. 기본 인코딩 설정은 utf-8 이며, \n",
    "# 네이버의 일별 시세는 cp949 인코딩으로 불러올 수 있습니다.\n",
    "# 데이터를 로드 했을 때 한글 인코딩이 깨진다면 대부분 cp949 로 불러올 수 있습니다.\n",
    "table = pd.read_html(str(table))"
   ]
  },
  {
   "cell_type": "code",
   "execution_count": 7,
   "metadata": {
    "id": "GQ_LCYp0TMkA"
   },
   "outputs": [
    {
     "data": {
      "text/html": [
       "<div>\n",
       "<style scoped>\n",
       "    .dataframe tbody tr th:only-of-type {\n",
       "        vertical-align: middle;\n",
       "    }\n",
       "\n",
       "    .dataframe tbody tr th {\n",
       "        vertical-align: top;\n",
       "    }\n",
       "\n",
       "    .dataframe thead th {\n",
       "        text-align: right;\n",
       "    }\n",
       "</style>\n",
       "<table border=\"1\" class=\"dataframe\">\n",
       "  <thead>\n",
       "    <tr style=\"text-align: right;\">\n",
       "      <th></th>\n",
       "      <th>0</th>\n",
       "      <th>1</th>\n",
       "      <th>2</th>\n",
       "      <th>3</th>\n",
       "      <th>4</th>\n",
       "      <th>5</th>\n",
       "      <th>6</th>\n",
       "      <th>7</th>\n",
       "      <th>8</th>\n",
       "      <th>9</th>\n",
       "      <th>10</th>\n",
       "      <th>11</th>\n",
       "    </tr>\n",
       "  </thead>\n",
       "  <tbody>\n",
       "    <tr>\n",
       "      <th>0</th>\n",
       "      <td>1</td>\n",
       "      <td>2</td>\n",
       "      <td>3</td>\n",
       "      <td>4</td>\n",
       "      <td>5</td>\n",
       "      <td>6</td>\n",
       "      <td>7</td>\n",
       "      <td>8</td>\n",
       "      <td>9</td>\n",
       "      <td>10</td>\n",
       "      <td>다음</td>\n",
       "      <td>맨뒤</td>\n",
       "    </tr>\n",
       "  </tbody>\n",
       "</table>\n",
       "</div>"
      ],
      "text/plain": [
       "   0   1   2   3   4   5   6   7   8   9   10  11\n",
       "0   1   2   3   4   5   6   7   8   9  10  다음  맨뒤"
      ]
     },
     "execution_count": 7,
     "metadata": {},
     "output_type": "execute_result"
    }
   ],
   "source": [
    "# table[0]와 table[1]을 확인하여 보면 table[0]에 필요한 데이터들이 있습니다.\n",
    "table[1]"
   ]
  },
  {
   "cell_type": "code",
   "execution_count": 8,
   "metadata": {
    "id": "0gI1rNUbTMkA"
   },
   "outputs": [
    {
     "data": {
      "text/html": [
       "<div>\n",
       "<style scoped>\n",
       "    .dataframe tbody tr th:only-of-type {\n",
       "        vertical-align: middle;\n",
       "    }\n",
       "\n",
       "    .dataframe tbody tr th {\n",
       "        vertical-align: top;\n",
       "    }\n",
       "\n",
       "    .dataframe thead th {\n",
       "        text-align: right;\n",
       "    }\n",
       "</style>\n",
       "<table border=\"1\" class=\"dataframe\">\n",
       "  <thead>\n",
       "    <tr style=\"text-align: right;\">\n",
       "      <th></th>\n",
       "      <th>날짜</th>\n",
       "      <th>종가</th>\n",
       "      <th>전일비</th>\n",
       "      <th>시가</th>\n",
       "      <th>고가</th>\n",
       "      <th>저가</th>\n",
       "      <th>거래량</th>\n",
       "    </tr>\n",
       "  </thead>\n",
       "  <tbody>\n",
       "    <tr>\n",
       "      <th>1</th>\n",
       "      <td>2023.11.01</td>\n",
       "      <td>75300.0</td>\n",
       "      <td>100.0</td>\n",
       "      <td>75400.0</td>\n",
       "      <td>76100.0</td>\n",
       "      <td>74300.0</td>\n",
       "      <td>75732.0</td>\n",
       "    </tr>\n",
       "    <tr>\n",
       "      <th>2</th>\n",
       "      <td>2023.10.31</td>\n",
       "      <td>75400.0</td>\n",
       "      <td>500.0</td>\n",
       "      <td>76500.0</td>\n",
       "      <td>77000.0</td>\n",
       "      <td>74800.0</td>\n",
       "      <td>79072.0</td>\n",
       "    </tr>\n",
       "    <tr>\n",
       "      <th>3</th>\n",
       "      <td>2023.10.30</td>\n",
       "      <td>75900.0</td>\n",
       "      <td>1100.0</td>\n",
       "      <td>74400.0</td>\n",
       "      <td>76300.0</td>\n",
       "      <td>74400.0</td>\n",
       "      <td>83365.0</td>\n",
       "    </tr>\n",
       "    <tr>\n",
       "      <th>4</th>\n",
       "      <td>2023.10.27</td>\n",
       "      <td>74800.0</td>\n",
       "      <td>600.0</td>\n",
       "      <td>75800.0</td>\n",
       "      <td>76300.0</td>\n",
       "      <td>74600.0</td>\n",
       "      <td>80275.0</td>\n",
       "    </tr>\n",
       "    <tr>\n",
       "      <th>5</th>\n",
       "      <td>2023.10.26</td>\n",
       "      <td>75400.0</td>\n",
       "      <td>1800.0</td>\n",
       "      <td>76500.0</td>\n",
       "      <td>76700.0</td>\n",
       "      <td>74100.0</td>\n",
       "      <td>98644.0</td>\n",
       "    </tr>\n",
       "    <tr>\n",
       "      <th>9</th>\n",
       "      <td>2023.10.25</td>\n",
       "      <td>77200.0</td>\n",
       "      <td>300.0</td>\n",
       "      <td>77300.0</td>\n",
       "      <td>78000.0</td>\n",
       "      <td>76100.0</td>\n",
       "      <td>102844.0</td>\n",
       "    </tr>\n",
       "    <tr>\n",
       "      <th>10</th>\n",
       "      <td>2023.10.24</td>\n",
       "      <td>76900.0</td>\n",
       "      <td>900.0</td>\n",
       "      <td>76800.0</td>\n",
       "      <td>77300.0</td>\n",
       "      <td>73500.0</td>\n",
       "      <td>129541.0</td>\n",
       "    </tr>\n",
       "    <tr>\n",
       "      <th>11</th>\n",
       "      <td>2023.10.23</td>\n",
       "      <td>76000.0</td>\n",
       "      <td>500.0</td>\n",
       "      <td>75500.0</td>\n",
       "      <td>76800.0</td>\n",
       "      <td>74700.0</td>\n",
       "      <td>97056.0</td>\n",
       "    </tr>\n",
       "    <tr>\n",
       "      <th>12</th>\n",
       "      <td>2023.10.20</td>\n",
       "      <td>75500.0</td>\n",
       "      <td>700.0</td>\n",
       "      <td>75700.0</td>\n",
       "      <td>76500.0</td>\n",
       "      <td>74200.0</td>\n",
       "      <td>125081.0</td>\n",
       "    </tr>\n",
       "    <tr>\n",
       "      <th>13</th>\n",
       "      <td>2023.10.19</td>\n",
       "      <td>76200.0</td>\n",
       "      <td>900.0</td>\n",
       "      <td>76200.0</td>\n",
       "      <td>77000.0</td>\n",
       "      <td>75500.0</td>\n",
       "      <td>126906.0</td>\n",
       "    </tr>\n",
       "  </tbody>\n",
       "</table>\n",
       "</div>"
      ],
      "text/plain": [
       "            날짜       종가     전일비       시가       고가       저가       거래량\n",
       "1   2023.11.01  75300.0   100.0  75400.0  76100.0  74300.0   75732.0\n",
       "2   2023.10.31  75400.0   500.0  76500.0  77000.0  74800.0   79072.0\n",
       "3   2023.10.30  75900.0  1100.0  74400.0  76300.0  74400.0   83365.0\n",
       "4   2023.10.27  74800.0   600.0  75800.0  76300.0  74600.0   80275.0\n",
       "5   2023.10.26  75400.0  1800.0  76500.0  76700.0  74100.0   98644.0\n",
       "9   2023.10.25  77200.0   300.0  77300.0  78000.0  76100.0  102844.0\n",
       "10  2023.10.24  76900.0   900.0  76800.0  77300.0  73500.0  129541.0\n",
       "11  2023.10.23  76000.0   500.0  75500.0  76800.0  74700.0   97056.0\n",
       "12  2023.10.20  75500.0   700.0  75700.0  76500.0  74200.0  125081.0\n",
       "13  2023.10.19  76200.0   900.0  76200.0  77000.0  75500.0  126906.0"
      ]
     },
     "execution_count": 8,
     "metadata": {},
     "output_type": "execute_result"
    }
   ],
   "source": [
    "# dropna를 통해 결측치가 들어있는 row를 제거합니다.\n",
    "temp = table[0].dropna()\n",
    "temp"
   ]
  },
  {
   "cell_type": "markdown",
   "metadata": {
    "id": "CKhsb94wTMkA"
   },
   "source": [
    "## 페이지별 데이터 수집 함수 만들기"
   ]
  },
  {
   "cell_type": "code",
   "execution_count": 9,
   "metadata": {
    "id": "gJugcyoiTMkA"
   },
   "outputs": [],
   "source": [
    "# 종목 번호를 이용해 page에 따라 데이터를 읽어오는 함수\n",
    "# \"\"\" 는 이 두개 사이의 행들은 주석 처리되며, 함수의 docstring 으로 사용됩니다.\n",
    "\n",
    "def get_day_list(item_code, page_no):\n",
    "    \"\"\"\n",
    "    일자별 시세를 페이지별로 수집\n",
    "    \"\"\" \n",
    "    url = f\"https://finance.naver.com/item/sise_day.nhn?code={item_code}&page={page_no}\"\n",
    "    \n",
    "    headers = {'user-agent': 'Mozilla/5.0 (Macintosh; Intel Mac OS X 10_15_7) AppleWebKit/537.36 (KHTML, like Gecko) Chrome/88.0.4324.96 Safari/537.36'}\n",
    "\n",
    "    response = requests.get(url, headers=headers)\n",
    "    html = bs(response.text, \"lxml\")\n",
    "    table = html.select(\"table\")\n",
    "    table = pd.read_html(str(table))\n",
    "    temp = table[0].dropna()\n",
    "    return temp"
   ]
  },
  {
   "cell_type": "code",
   "execution_count": 10,
   "metadata": {
    "id": "evjinapgTMkA"
   },
   "outputs": [
    {
     "name": "stderr",
     "output_type": "stream",
     "text": [
      "/var/folders/cn/3xfx7dqx4zx7lmdpfl0jh9g80000gn/T/ipykernel_61727/4113515383.py:15: FutureWarning: Passing literal html to 'read_html' is deprecated and will be removed in a future version. To read from a literal string, wrap it in a 'StringIO' object.\n",
      "  table = pd.read_html(str(table))\n"
     ]
    },
    {
     "data": {
      "text/html": [
       "<div>\n",
       "<style scoped>\n",
       "    .dataframe tbody tr th:only-of-type {\n",
       "        vertical-align: middle;\n",
       "    }\n",
       "\n",
       "    .dataframe tbody tr th {\n",
       "        vertical-align: top;\n",
       "    }\n",
       "\n",
       "    .dataframe thead th {\n",
       "        text-align: right;\n",
       "    }\n",
       "</style>\n",
       "<table border=\"1\" class=\"dataframe\">\n",
       "  <thead>\n",
       "    <tr style=\"text-align: right;\">\n",
       "      <th></th>\n",
       "      <th>날짜</th>\n",
       "      <th>종가</th>\n",
       "      <th>전일비</th>\n",
       "      <th>시가</th>\n",
       "      <th>고가</th>\n",
       "      <th>저가</th>\n",
       "      <th>거래량</th>\n",
       "    </tr>\n",
       "  </thead>\n",
       "  <tbody>\n",
       "    <tr>\n",
       "      <th>1</th>\n",
       "      <td>2023.11.01</td>\n",
       "      <td>75300.0</td>\n",
       "      <td>100.0</td>\n",
       "      <td>75400.0</td>\n",
       "      <td>76100.0</td>\n",
       "      <td>74300.0</td>\n",
       "      <td>75732.0</td>\n",
       "    </tr>\n",
       "    <tr>\n",
       "      <th>2</th>\n",
       "      <td>2023.10.31</td>\n",
       "      <td>75400.0</td>\n",
       "      <td>500.0</td>\n",
       "      <td>76500.0</td>\n",
       "      <td>77000.0</td>\n",
       "      <td>74800.0</td>\n",
       "      <td>79072.0</td>\n",
       "    </tr>\n",
       "    <tr>\n",
       "      <th>3</th>\n",
       "      <td>2023.10.30</td>\n",
       "      <td>75900.0</td>\n",
       "      <td>1100.0</td>\n",
       "      <td>74400.0</td>\n",
       "      <td>76300.0</td>\n",
       "      <td>74400.0</td>\n",
       "      <td>83365.0</td>\n",
       "    </tr>\n",
       "    <tr>\n",
       "      <th>4</th>\n",
       "      <td>2023.10.27</td>\n",
       "      <td>74800.0</td>\n",
       "      <td>600.0</td>\n",
       "      <td>75800.0</td>\n",
       "      <td>76300.0</td>\n",
       "      <td>74600.0</td>\n",
       "      <td>80275.0</td>\n",
       "    </tr>\n",
       "    <tr>\n",
       "      <th>5</th>\n",
       "      <td>2023.10.26</td>\n",
       "      <td>75400.0</td>\n",
       "      <td>1800.0</td>\n",
       "      <td>76500.0</td>\n",
       "      <td>76700.0</td>\n",
       "      <td>74100.0</td>\n",
       "      <td>98644.0</td>\n",
       "    </tr>\n",
       "    <tr>\n",
       "      <th>9</th>\n",
       "      <td>2023.10.25</td>\n",
       "      <td>77200.0</td>\n",
       "      <td>300.0</td>\n",
       "      <td>77300.0</td>\n",
       "      <td>78000.0</td>\n",
       "      <td>76100.0</td>\n",
       "      <td>102844.0</td>\n",
       "    </tr>\n",
       "    <tr>\n",
       "      <th>10</th>\n",
       "      <td>2023.10.24</td>\n",
       "      <td>76900.0</td>\n",
       "      <td>900.0</td>\n",
       "      <td>76800.0</td>\n",
       "      <td>77300.0</td>\n",
       "      <td>73500.0</td>\n",
       "      <td>129541.0</td>\n",
       "    </tr>\n",
       "    <tr>\n",
       "      <th>11</th>\n",
       "      <td>2023.10.23</td>\n",
       "      <td>76000.0</td>\n",
       "      <td>500.0</td>\n",
       "      <td>75500.0</td>\n",
       "      <td>76800.0</td>\n",
       "      <td>74700.0</td>\n",
       "      <td>97056.0</td>\n",
       "    </tr>\n",
       "    <tr>\n",
       "      <th>12</th>\n",
       "      <td>2023.10.20</td>\n",
       "      <td>75500.0</td>\n",
       "      <td>700.0</td>\n",
       "      <td>75700.0</td>\n",
       "      <td>76500.0</td>\n",
       "      <td>74200.0</td>\n",
       "      <td>125081.0</td>\n",
       "    </tr>\n",
       "    <tr>\n",
       "      <th>13</th>\n",
       "      <td>2023.10.19</td>\n",
       "      <td>76200.0</td>\n",
       "      <td>900.0</td>\n",
       "      <td>76200.0</td>\n",
       "      <td>77000.0</td>\n",
       "      <td>75500.0</td>\n",
       "      <td>126906.0</td>\n",
       "    </tr>\n",
       "  </tbody>\n",
       "</table>\n",
       "</div>"
      ],
      "text/plain": [
       "            날짜       종가     전일비       시가       고가       저가       거래량\n",
       "1   2023.11.01  75300.0   100.0  75400.0  76100.0  74300.0   75732.0\n",
       "2   2023.10.31  75400.0   500.0  76500.0  77000.0  74800.0   79072.0\n",
       "3   2023.10.30  75900.0  1100.0  74400.0  76300.0  74400.0   83365.0\n",
       "4   2023.10.27  74800.0   600.0  75800.0  76300.0  74600.0   80275.0\n",
       "5   2023.10.26  75400.0  1800.0  76500.0  76700.0  74100.0   98644.0\n",
       "9   2023.10.25  77200.0   300.0  77300.0  78000.0  76100.0  102844.0\n",
       "10  2023.10.24  76900.0   900.0  76800.0  77300.0  73500.0  129541.0\n",
       "11  2023.10.23  76000.0   500.0  75500.0  76800.0  74700.0   97056.0\n",
       "12  2023.10.20  75500.0   700.0  75700.0  76500.0  74200.0  125081.0\n",
       "13  2023.10.19  76200.0   900.0  76200.0  77000.0  75500.0  126906.0"
      ]
     },
     "execution_count": 10,
     "metadata": {},
     "output_type": "execute_result"
    }
   ],
   "source": [
    "# 함수가 잘 만들어졌는지 확인하기\n",
    "get_day_list(item_code, 1)"
   ]
  },
  {
   "cell_type": "markdown",
   "metadata": {
    "id": "uuaac8XTTMkA"
   },
   "source": [
    "## 반복문을 통한 전체 일자 데이터 수집하기\n",
    "* (주의) 기간이 긴 데이터를 수집할때는 서버에 부담을 주지 않기 위해 time.sleep()값을 주세요."
   ]
  },
  {
   "cell_type": "code",
   "execution_count": 11,
   "metadata": {
    "id": "EQs1C6C_TMkA"
   },
   "outputs": [
    {
     "name": "stdout",
     "output_type": "stream",
     "text": [
      "1\n",
      "2\n"
     ]
    },
    {
     "name": "stderr",
     "output_type": "stream",
     "text": [
      "/var/folders/cn/3xfx7dqx4zx7lmdpfl0jh9g80000gn/T/ipykernel_61727/4113515383.py:15: FutureWarning: Passing literal html to 'read_html' is deprecated and will be removed in a future version. To read from a literal string, wrap it in a 'StringIO' object.\n",
      "  table = pd.read_html(str(table))\n",
      "/var/folders/cn/3xfx7dqx4zx7lmdpfl0jh9g80000gn/T/ipykernel_61727/4113515383.py:15: FutureWarning: Passing literal html to 'read_html' is deprecated and will be removed in a future version. To read from a literal string, wrap it in a 'StringIO' object.\n",
      "  table = pd.read_html(str(table))\n"
     ]
    },
    {
     "name": "stdout",
     "output_type": "stream",
     "text": [
      "3\n",
      "4\n"
     ]
    },
    {
     "name": "stderr",
     "output_type": "stream",
     "text": [
      "/var/folders/cn/3xfx7dqx4zx7lmdpfl0jh9g80000gn/T/ipykernel_61727/4113515383.py:15: FutureWarning: Passing literal html to 'read_html' is deprecated and will be removed in a future version. To read from a literal string, wrap it in a 'StringIO' object.\n",
      "  table = pd.read_html(str(table))\n",
      "/var/folders/cn/3xfx7dqx4zx7lmdpfl0jh9g80000gn/T/ipykernel_61727/4113515383.py:15: FutureWarning: Passing literal html to 'read_html' is deprecated and will be removed in a future version. To read from a literal string, wrap it in a 'StringIO' object.\n",
      "  table = pd.read_html(str(table))\n"
     ]
    },
    {
     "name": "stdout",
     "output_type": "stream",
     "text": [
      "5\n",
      "6\n"
     ]
    },
    {
     "name": "stderr",
     "output_type": "stream",
     "text": [
      "/var/folders/cn/3xfx7dqx4zx7lmdpfl0jh9g80000gn/T/ipykernel_61727/4113515383.py:15: FutureWarning: Passing literal html to 'read_html' is deprecated and will be removed in a future version. To read from a literal string, wrap it in a 'StringIO' object.\n",
      "  table = pd.read_html(str(table))\n",
      "/var/folders/cn/3xfx7dqx4zx7lmdpfl0jh9g80000gn/T/ipykernel_61727/4113515383.py:15: FutureWarning: Passing literal html to 'read_html' is deprecated and will be removed in a future version. To read from a literal string, wrap it in a 'StringIO' object.\n",
      "  table = pd.read_html(str(table))\n"
     ]
    },
    {
     "name": "stdout",
     "output_type": "stream",
     "text": [
      "7\n",
      "8\n"
     ]
    },
    {
     "name": "stderr",
     "output_type": "stream",
     "text": [
      "/var/folders/cn/3xfx7dqx4zx7lmdpfl0jh9g80000gn/T/ipykernel_61727/4113515383.py:15: FutureWarning: Passing literal html to 'read_html' is deprecated and will be removed in a future version. To read from a literal string, wrap it in a 'StringIO' object.\n",
      "  table = pd.read_html(str(table))\n",
      "/var/folders/cn/3xfx7dqx4zx7lmdpfl0jh9g80000gn/T/ipykernel_61727/4113515383.py:15: FutureWarning: Passing literal html to 'read_html' is deprecated and will be removed in a future version. To read from a literal string, wrap it in a 'StringIO' object.\n",
      "  table = pd.read_html(str(table))\n"
     ]
    },
    {
     "name": "stdout",
     "output_type": "stream",
     "text": [
      "9\n",
      "10\n"
     ]
    },
    {
     "name": "stderr",
     "output_type": "stream",
     "text": [
      "/var/folders/cn/3xfx7dqx4zx7lmdpfl0jh9g80000gn/T/ipykernel_61727/4113515383.py:15: FutureWarning: Passing literal html to 'read_html' is deprecated and will be removed in a future version. To read from a literal string, wrap it in a 'StringIO' object.\n",
      "  table = pd.read_html(str(table))\n",
      "/var/folders/cn/3xfx7dqx4zx7lmdpfl0jh9g80000gn/T/ipykernel_61727/4113515383.py:15: FutureWarning: Passing literal html to 'read_html' is deprecated and will be removed in a future version. To read from a literal string, wrap it in a 'StringIO' object.\n",
      "  table = pd.read_html(str(table))\n"
     ]
    }
   ],
   "source": [
    "import time\n",
    "# web page 시작번호\n",
    "page_no = 1\n",
    "# 데이터를 저장할 빈 변수 선언\n",
    "item_list = []\n",
    "\n",
    "while True:\n",
    "    print(page_no)\n",
    "    temp = get_day_list(item_code, page_no)\n",
    "    item_list.append(temp)\n",
    "    \n",
    "    page_no = page_no + 1\n",
    "    time.sleep(0.1)\n",
    "    \n",
    "    #if temp.shape[0] < 10:\n",
    "    if page_no > 10:\n",
    "        break;"
   ]
  },
  {
   "cell_type": "code",
   "execution_count": 12,
   "metadata": {},
   "outputs": [
    {
     "data": {
      "text/plain": [
       "10"
      ]
     },
     "execution_count": 12,
     "metadata": {},
     "output_type": "execute_result"
    }
   ],
   "source": [
    "len(item_list)"
   ]
  },
  {
   "cell_type": "markdown",
   "metadata": {
    "id": "iEFBJv5XTMkA"
   },
   "source": [
    "## 수집한 데이터 하나의 데이터프레임으로 합치기\n",
    "\n",
    "<img src=\"https://pandas.pydata.org/docs/_images/merging_concat_basic.png\">\n",
    "\n",
    "* [Merge, join, concatenate and compare documentation](https://pandas.pydata.org/docs/user_guide/merging.html#merge-join-concatenate-and-compare)"
   ]
  },
  {
   "cell_type": "code",
   "execution_count": 13,
   "metadata": {
    "id": "mUcxeTMFTMkA"
   },
   "outputs": [],
   "source": [
    "# DataFrame들이 list의 형태로 저장된 것을 concat을 이용하여 합치면서 하나의 DataFrame으로 만듭니다.\n",
    "df = pd.concat(item_list)"
   ]
  },
  {
   "cell_type": "markdown",
   "metadata": {},
   "source": [
    "<img src=\"https://pandas.pydata.org/docs/_images/08_concat_row.svg\">"
   ]
  },
  {
   "cell_type": "code",
   "execution_count": 14,
   "metadata": {
    "id": "Ep3NWfM-TMkA"
   },
   "outputs": [
    {
     "data": {
      "text/html": [
       "<div>\n",
       "<style scoped>\n",
       "    .dataframe tbody tr th:only-of-type {\n",
       "        vertical-align: middle;\n",
       "    }\n",
       "\n",
       "    .dataframe tbody tr th {\n",
       "        vertical-align: top;\n",
       "    }\n",
       "\n",
       "    .dataframe thead th {\n",
       "        text-align: right;\n",
       "    }\n",
       "</style>\n",
       "<table border=\"1\" class=\"dataframe\">\n",
       "  <thead>\n",
       "    <tr style=\"text-align: right;\">\n",
       "      <th></th>\n",
       "      <th>날짜</th>\n",
       "      <th>종가</th>\n",
       "      <th>전일비</th>\n",
       "      <th>시가</th>\n",
       "      <th>고가</th>\n",
       "      <th>저가</th>\n",
       "      <th>거래량</th>\n",
       "    </tr>\n",
       "  </thead>\n",
       "  <tbody>\n",
       "    <tr>\n",
       "      <th>1</th>\n",
       "      <td>2023.11.01</td>\n",
       "      <td>75300.0</td>\n",
       "      <td>100.0</td>\n",
       "      <td>75400.0</td>\n",
       "      <td>76100.0</td>\n",
       "      <td>74300.0</td>\n",
       "      <td>75732.0</td>\n",
       "    </tr>\n",
       "    <tr>\n",
       "      <th>2</th>\n",
       "      <td>2023.10.31</td>\n",
       "      <td>75400.0</td>\n",
       "      <td>500.0</td>\n",
       "      <td>76500.0</td>\n",
       "      <td>77000.0</td>\n",
       "      <td>74800.0</td>\n",
       "      <td>79072.0</td>\n",
       "    </tr>\n",
       "    <tr>\n",
       "      <th>3</th>\n",
       "      <td>2023.10.30</td>\n",
       "      <td>75900.0</td>\n",
       "      <td>1100.0</td>\n",
       "      <td>74400.0</td>\n",
       "      <td>76300.0</td>\n",
       "      <td>74400.0</td>\n",
       "      <td>83365.0</td>\n",
       "    </tr>\n",
       "    <tr>\n",
       "      <th>4</th>\n",
       "      <td>2023.10.27</td>\n",
       "      <td>74800.0</td>\n",
       "      <td>600.0</td>\n",
       "      <td>75800.0</td>\n",
       "      <td>76300.0</td>\n",
       "      <td>74600.0</td>\n",
       "      <td>80275.0</td>\n",
       "    </tr>\n",
       "    <tr>\n",
       "      <th>5</th>\n",
       "      <td>2023.10.26</td>\n",
       "      <td>75400.0</td>\n",
       "      <td>1800.0</td>\n",
       "      <td>76500.0</td>\n",
       "      <td>76700.0</td>\n",
       "      <td>74100.0</td>\n",
       "      <td>98644.0</td>\n",
       "    </tr>\n",
       "  </tbody>\n",
       "</table>\n",
       "</div>"
      ],
      "text/plain": [
       "           날짜       종가     전일비       시가       고가       저가      거래량\n",
       "1  2023.11.01  75300.0   100.0  75400.0  76100.0  74300.0  75732.0\n",
       "2  2023.10.31  75400.0   500.0  76500.0  77000.0  74800.0  79072.0\n",
       "3  2023.10.30  75900.0  1100.0  74400.0  76300.0  74400.0  83365.0\n",
       "4  2023.10.27  74800.0   600.0  75800.0  76300.0  74600.0  80275.0\n",
       "5  2023.10.26  75400.0  1800.0  76500.0  76700.0  74100.0  98644.0"
      ]
     },
     "execution_count": 14,
     "metadata": {},
     "output_type": "execute_result"
    }
   ],
   "source": [
    "# head와 tail로 데이터의 일부를 가져와서 봅니다.\n",
    "df.head()"
   ]
  },
  {
   "cell_type": "code",
   "execution_count": 15,
   "metadata": {
    "id": "hHcKUo8iTMkA"
   },
   "outputs": [
    {
     "data": {
      "text/html": [
       "<div>\n",
       "<style scoped>\n",
       "    .dataframe tbody tr th:only-of-type {\n",
       "        vertical-align: middle;\n",
       "    }\n",
       "\n",
       "    .dataframe tbody tr th {\n",
       "        vertical-align: top;\n",
       "    }\n",
       "\n",
       "    .dataframe thead th {\n",
       "        text-align: right;\n",
       "    }\n",
       "</style>\n",
       "<table border=\"1\" class=\"dataframe\">\n",
       "  <thead>\n",
       "    <tr style=\"text-align: right;\">\n",
       "      <th></th>\n",
       "      <th>날짜</th>\n",
       "      <th>종가</th>\n",
       "      <th>전일비</th>\n",
       "      <th>시가</th>\n",
       "      <th>고가</th>\n",
       "      <th>저가</th>\n",
       "      <th>거래량</th>\n",
       "    </tr>\n",
       "  </thead>\n",
       "  <tbody>\n",
       "    <tr>\n",
       "      <th>9</th>\n",
       "      <td>2023.06.13</td>\n",
       "      <td>81000.0</td>\n",
       "      <td>3500.0</td>\n",
       "      <td>77400.0</td>\n",
       "      <td>81500.0</td>\n",
       "      <td>77400.0</td>\n",
       "      <td>366343.0</td>\n",
       "    </tr>\n",
       "    <tr>\n",
       "      <th>10</th>\n",
       "      <td>2023.06.12</td>\n",
       "      <td>77500.0</td>\n",
       "      <td>3600.0</td>\n",
       "      <td>73900.0</td>\n",
       "      <td>78300.0</td>\n",
       "      <td>73900.0</td>\n",
       "      <td>229972.0</td>\n",
       "    </tr>\n",
       "    <tr>\n",
       "      <th>11</th>\n",
       "      <td>2023.06.09</td>\n",
       "      <td>73900.0</td>\n",
       "      <td>700.0</td>\n",
       "      <td>73900.0</td>\n",
       "      <td>74400.0</td>\n",
       "      <td>72800.0</td>\n",
       "      <td>91931.0</td>\n",
       "    </tr>\n",
       "    <tr>\n",
       "      <th>12</th>\n",
       "      <td>2023.06.08</td>\n",
       "      <td>73200.0</td>\n",
       "      <td>1300.0</td>\n",
       "      <td>74800.0</td>\n",
       "      <td>74900.0</td>\n",
       "      <td>73000.0</td>\n",
       "      <td>106918.0</td>\n",
       "    </tr>\n",
       "    <tr>\n",
       "      <th>13</th>\n",
       "      <td>2023.06.07</td>\n",
       "      <td>74500.0</td>\n",
       "      <td>200.0</td>\n",
       "      <td>74800.0</td>\n",
       "      <td>76900.0</td>\n",
       "      <td>74300.0</td>\n",
       "      <td>139962.0</td>\n",
       "    </tr>\n",
       "  </tbody>\n",
       "</table>\n",
       "</div>"
      ],
      "text/plain": [
       "            날짜       종가     전일비       시가       고가       저가       거래량\n",
       "9   2023.06.13  81000.0  3500.0  77400.0  81500.0  77400.0  366343.0\n",
       "10  2023.06.12  77500.0  3600.0  73900.0  78300.0  73900.0  229972.0\n",
       "11  2023.06.09  73900.0   700.0  73900.0  74400.0  72800.0   91931.0\n",
       "12  2023.06.08  73200.0  1300.0  74800.0  74900.0  73000.0  106918.0\n",
       "13  2023.06.07  74500.0   200.0  74800.0  76900.0  74300.0  139962.0"
      ]
     },
     "execution_count": 15,
     "metadata": {},
     "output_type": "execute_result"
    }
   ],
   "source": [
    "df.tail()"
   ]
  },
  {
   "cell_type": "markdown",
   "metadata": {
    "id": "DdML6w8yTMkA"
   },
   "source": [
    "## 데이터프레임에 종목코드와 종목명을 추가하기\n",
    "* 파생변수 만들기"
   ]
  },
  {
   "cell_type": "code",
   "execution_count": 16,
   "metadata": {
    "id": "-yIDnlZHTMkA"
   },
   "outputs": [
    {
     "data": {
      "text/html": [
       "<div>\n",
       "<style scoped>\n",
       "    .dataframe tbody tr th:only-of-type {\n",
       "        vertical-align: middle;\n",
       "    }\n",
       "\n",
       "    .dataframe tbody tr th {\n",
       "        vertical-align: top;\n",
       "    }\n",
       "\n",
       "    .dataframe thead th {\n",
       "        text-align: right;\n",
       "    }\n",
       "</style>\n",
       "<table border=\"1\" class=\"dataframe\">\n",
       "  <thead>\n",
       "    <tr style=\"text-align: right;\">\n",
       "      <th></th>\n",
       "      <th>날짜</th>\n",
       "      <th>종가</th>\n",
       "      <th>전일비</th>\n",
       "      <th>시가</th>\n",
       "      <th>고가</th>\n",
       "      <th>저가</th>\n",
       "      <th>거래량</th>\n",
       "      <th>종목코드</th>\n",
       "      <th>종목명</th>\n",
       "    </tr>\n",
       "  </thead>\n",
       "  <tbody>\n",
       "    <tr>\n",
       "      <th>1</th>\n",
       "      <td>2023.11.01</td>\n",
       "      <td>75300.0</td>\n",
       "      <td>100.0</td>\n",
       "      <td>75400.0</td>\n",
       "      <td>76100.0</td>\n",
       "      <td>74300.0</td>\n",
       "      <td>75732.0</td>\n",
       "      <td>326030</td>\n",
       "      <td>SK바이오팜</td>\n",
       "    </tr>\n",
       "    <tr>\n",
       "      <th>2</th>\n",
       "      <td>2023.10.31</td>\n",
       "      <td>75400.0</td>\n",
       "      <td>500.0</td>\n",
       "      <td>76500.0</td>\n",
       "      <td>77000.0</td>\n",
       "      <td>74800.0</td>\n",
       "      <td>79072.0</td>\n",
       "      <td>326030</td>\n",
       "      <td>SK바이오팜</td>\n",
       "    </tr>\n",
       "    <tr>\n",
       "      <th>3</th>\n",
       "      <td>2023.10.30</td>\n",
       "      <td>75900.0</td>\n",
       "      <td>1100.0</td>\n",
       "      <td>74400.0</td>\n",
       "      <td>76300.0</td>\n",
       "      <td>74400.0</td>\n",
       "      <td>83365.0</td>\n",
       "      <td>326030</td>\n",
       "      <td>SK바이오팜</td>\n",
       "    </tr>\n",
       "    <tr>\n",
       "      <th>4</th>\n",
       "      <td>2023.10.27</td>\n",
       "      <td>74800.0</td>\n",
       "      <td>600.0</td>\n",
       "      <td>75800.0</td>\n",
       "      <td>76300.0</td>\n",
       "      <td>74600.0</td>\n",
       "      <td>80275.0</td>\n",
       "      <td>326030</td>\n",
       "      <td>SK바이오팜</td>\n",
       "    </tr>\n",
       "    <tr>\n",
       "      <th>5</th>\n",
       "      <td>2023.10.26</td>\n",
       "      <td>75400.0</td>\n",
       "      <td>1800.0</td>\n",
       "      <td>76500.0</td>\n",
       "      <td>76700.0</td>\n",
       "      <td>74100.0</td>\n",
       "      <td>98644.0</td>\n",
       "      <td>326030</td>\n",
       "      <td>SK바이오팜</td>\n",
       "    </tr>\n",
       "    <tr>\n",
       "      <th>...</th>\n",
       "      <td>...</td>\n",
       "      <td>...</td>\n",
       "      <td>...</td>\n",
       "      <td>...</td>\n",
       "      <td>...</td>\n",
       "      <td>...</td>\n",
       "      <td>...</td>\n",
       "      <td>...</td>\n",
       "      <td>...</td>\n",
       "    </tr>\n",
       "    <tr>\n",
       "      <th>9</th>\n",
       "      <td>2023.06.13</td>\n",
       "      <td>81000.0</td>\n",
       "      <td>3500.0</td>\n",
       "      <td>77400.0</td>\n",
       "      <td>81500.0</td>\n",
       "      <td>77400.0</td>\n",
       "      <td>366343.0</td>\n",
       "      <td>326030</td>\n",
       "      <td>SK바이오팜</td>\n",
       "    </tr>\n",
       "    <tr>\n",
       "      <th>10</th>\n",
       "      <td>2023.06.12</td>\n",
       "      <td>77500.0</td>\n",
       "      <td>3600.0</td>\n",
       "      <td>73900.0</td>\n",
       "      <td>78300.0</td>\n",
       "      <td>73900.0</td>\n",
       "      <td>229972.0</td>\n",
       "      <td>326030</td>\n",
       "      <td>SK바이오팜</td>\n",
       "    </tr>\n",
       "    <tr>\n",
       "      <th>11</th>\n",
       "      <td>2023.06.09</td>\n",
       "      <td>73900.0</td>\n",
       "      <td>700.0</td>\n",
       "      <td>73900.0</td>\n",
       "      <td>74400.0</td>\n",
       "      <td>72800.0</td>\n",
       "      <td>91931.0</td>\n",
       "      <td>326030</td>\n",
       "      <td>SK바이오팜</td>\n",
       "    </tr>\n",
       "    <tr>\n",
       "      <th>12</th>\n",
       "      <td>2023.06.08</td>\n",
       "      <td>73200.0</td>\n",
       "      <td>1300.0</td>\n",
       "      <td>74800.0</td>\n",
       "      <td>74900.0</td>\n",
       "      <td>73000.0</td>\n",
       "      <td>106918.0</td>\n",
       "      <td>326030</td>\n",
       "      <td>SK바이오팜</td>\n",
       "    </tr>\n",
       "    <tr>\n",
       "      <th>13</th>\n",
       "      <td>2023.06.07</td>\n",
       "      <td>74500.0</td>\n",
       "      <td>200.0</td>\n",
       "      <td>74800.0</td>\n",
       "      <td>76900.0</td>\n",
       "      <td>74300.0</td>\n",
       "      <td>139962.0</td>\n",
       "      <td>326030</td>\n",
       "      <td>SK바이오팜</td>\n",
       "    </tr>\n",
       "  </tbody>\n",
       "</table>\n",
       "<p>100 rows × 9 columns</p>\n",
       "</div>"
      ],
      "text/plain": [
       "            날짜       종가     전일비       시가       고가       저가       거래량    종목코드  \\\n",
       "1   2023.11.01  75300.0   100.0  75400.0  76100.0  74300.0   75732.0  326030   \n",
       "2   2023.10.31  75400.0   500.0  76500.0  77000.0  74800.0   79072.0  326030   \n",
       "3   2023.10.30  75900.0  1100.0  74400.0  76300.0  74400.0   83365.0  326030   \n",
       "4   2023.10.27  74800.0   600.0  75800.0  76300.0  74600.0   80275.0  326030   \n",
       "5   2023.10.26  75400.0  1800.0  76500.0  76700.0  74100.0   98644.0  326030   \n",
       "..         ...      ...     ...      ...      ...      ...       ...     ...   \n",
       "9   2023.06.13  81000.0  3500.0  77400.0  81500.0  77400.0  366343.0  326030   \n",
       "10  2023.06.12  77500.0  3600.0  73900.0  78300.0  73900.0  229972.0  326030   \n",
       "11  2023.06.09  73900.0   700.0  73900.0  74400.0  72800.0   91931.0  326030   \n",
       "12  2023.06.08  73200.0  1300.0  74800.0  74900.0  73000.0  106918.0  326030   \n",
       "13  2023.06.07  74500.0   200.0  74800.0  76900.0  74300.0  139962.0  326030   \n",
       "\n",
       "       종목명  \n",
       "1   SK바이오팜  \n",
       "2   SK바이오팜  \n",
       "3   SK바이오팜  \n",
       "4   SK바이오팜  \n",
       "5   SK바이오팜  \n",
       "..     ...  \n",
       "9   SK바이오팜  \n",
       "10  SK바이오팜  \n",
       "11  SK바이오팜  \n",
       "12  SK바이오팜  \n",
       "13  SK바이오팜  \n",
       "\n",
       "[100 rows x 9 columns]"
      ]
     },
     "execution_count": 16,
     "metadata": {},
     "output_type": "execute_result"
    }
   ],
   "source": [
    "# '종목코드'와 '종목명' column을 추가하면서 각각 item_code와 item_name 값을 입력합니다.\n",
    "df[\"종목코드\"] = item_code\n",
    "df[\"종목명\"] = item_name\n",
    "df"
   ]
  },
  {
   "cell_type": "markdown",
   "metadata": {
    "id": "3RlnKPE1TMkA"
   },
   "source": [
    "## 컬럼 순서 변경하기"
   ]
  },
  {
   "cell_type": "code",
   "execution_count": 17,
   "metadata": {
    "id": "JblNSbuRTMkA"
   },
   "outputs": [
    {
     "data": {
      "text/plain": [
       "Index(['날짜', '종가', '전일비', '시가', '고가', '저가', '거래량', '종목코드', '종목명'], dtype='object')"
      ]
     },
     "execution_count": 17,
     "metadata": {},
     "output_type": "execute_result"
    }
   ],
   "source": [
    "# DataFrame에서 column 들의 이름을 순서를 조정하여 column순서를 변경할 수 있습니다.\n",
    "df.columns"
   ]
  },
  {
   "cell_type": "code",
   "execution_count": 18,
   "metadata": {},
   "outputs": [],
   "source": [
    "cols = ['종목코드', '종목명', '날짜', '종가', '전일비', '시가', '고가', '저가', '거래량']\n",
    "df = df[cols]"
   ]
  },
  {
   "cell_type": "markdown",
   "metadata": {
    "id": "_-SXjeiSTMkA"
   },
   "source": [
    "## 중복데이터 제거하기\n",
    "* drop_duplicates 를 통해 중복된 데이터가 있다면 제거합니다."
   ]
  },
  {
   "cell_type": "code",
   "execution_count": 19,
   "metadata": {
    "id": "F0VZGMNRTMkA"
   },
   "outputs": [
    {
     "data": {
      "text/plain": [
       "(100, 9)"
      ]
     },
     "execution_count": 19,
     "metadata": {},
     "output_type": "execute_result"
    }
   ],
   "source": [
    "# drop_duplicates : row들 끼리 data를 비교하여 같은 값이 있으면 row중 하나를 삭제\n",
    "# df.shape를 전/후로 출력하여 삭제된 row가 있는지 확인\n",
    "df = df.drop_duplicates()\n",
    "df.shape"
   ]
  },
  {
   "cell_type": "markdown",
   "metadata": {
    "id": "viEbEi4iTMkB"
   },
   "source": [
    "## 기술통계값 구하기"
   ]
  },
  {
   "cell_type": "code",
   "execution_count": 20,
   "metadata": {
    "id": "Q-gV-QPPTMkB"
   },
   "outputs": [
    {
     "data": {
      "text/html": [
       "<div>\n",
       "<style scoped>\n",
       "    .dataframe tbody tr th:only-of-type {\n",
       "        vertical-align: middle;\n",
       "    }\n",
       "\n",
       "    .dataframe tbody tr th {\n",
       "        vertical-align: top;\n",
       "    }\n",
       "\n",
       "    .dataframe thead th {\n",
       "        text-align: right;\n",
       "    }\n",
       "</style>\n",
       "<table border=\"1\" class=\"dataframe\">\n",
       "  <thead>\n",
       "    <tr style=\"text-align: right;\">\n",
       "      <th></th>\n",
       "      <th>종가</th>\n",
       "      <th>전일비</th>\n",
       "      <th>시가</th>\n",
       "      <th>고가</th>\n",
       "      <th>저가</th>\n",
       "      <th>거래량</th>\n",
       "    </tr>\n",
       "  </thead>\n",
       "  <tbody>\n",
       "    <tr>\n",
       "      <th>count</th>\n",
       "      <td>100.000000</td>\n",
       "      <td>100.000000</td>\n",
       "      <td>100.000000</td>\n",
       "      <td>100.000000</td>\n",
       "      <td>100.000000</td>\n",
       "      <td>100.000000</td>\n",
       "    </tr>\n",
       "    <tr>\n",
       "      <th>mean</th>\n",
       "      <td>83244.000000</td>\n",
       "      <td>1722.000000</td>\n",
       "      <td>83234.000000</td>\n",
       "      <td>84935.000000</td>\n",
       "      <td>81683.000000</td>\n",
       "      <td>208174.520000</td>\n",
       "    </tr>\n",
       "    <tr>\n",
       "      <th>std</th>\n",
       "      <td>6033.999963</td>\n",
       "      <td>1792.779006</td>\n",
       "      <td>5958.937265</td>\n",
       "      <td>6288.459447</td>\n",
       "      <td>5670.961919</td>\n",
       "      <td>164676.672965</td>\n",
       "    </tr>\n",
       "    <tr>\n",
       "      <th>min</th>\n",
       "      <td>73200.000000</td>\n",
       "      <td>0.000000</td>\n",
       "      <td>73400.000000</td>\n",
       "      <td>74000.000000</td>\n",
       "      <td>72700.000000</td>\n",
       "      <td>75732.000000</td>\n",
       "    </tr>\n",
       "    <tr>\n",
       "      <th>25%</th>\n",
       "      <td>79100.000000</td>\n",
       "      <td>575.000000</td>\n",
       "      <td>79100.000000</td>\n",
       "      <td>81500.000000</td>\n",
       "      <td>77275.000000</td>\n",
       "      <td>115445.750000</td>\n",
       "    </tr>\n",
       "    <tr>\n",
       "      <th>50%</th>\n",
       "      <td>83100.000000</td>\n",
       "      <td>1100.000000</td>\n",
       "      <td>83000.000000</td>\n",
       "      <td>84900.000000</td>\n",
       "      <td>81250.000000</td>\n",
       "      <td>150247.000000</td>\n",
       "    </tr>\n",
       "    <tr>\n",
       "      <th>75%</th>\n",
       "      <td>86225.000000</td>\n",
       "      <td>2125.000000</td>\n",
       "      <td>86300.000000</td>\n",
       "      <td>87925.000000</td>\n",
       "      <td>84875.000000</td>\n",
       "      <td>225306.250000</td>\n",
       "    </tr>\n",
       "    <tr>\n",
       "      <th>max</th>\n",
       "      <td>99700.000000</td>\n",
       "      <td>8600.000000</td>\n",
       "      <td>99800.000000</td>\n",
       "      <td>103000.000000</td>\n",
       "      <td>97500.000000</td>\n",
       "      <td>888940.000000</td>\n",
       "    </tr>\n",
       "  </tbody>\n",
       "</table>\n",
       "</div>"
      ],
      "text/plain": [
       "                 종가          전일비            시가             고가            저가  \\\n",
       "count    100.000000   100.000000    100.000000     100.000000    100.000000   \n",
       "mean   83244.000000  1722.000000  83234.000000   84935.000000  81683.000000   \n",
       "std     6033.999963  1792.779006   5958.937265    6288.459447   5670.961919   \n",
       "min    73200.000000     0.000000  73400.000000   74000.000000  72700.000000   \n",
       "25%    79100.000000   575.000000  79100.000000   81500.000000  77275.000000   \n",
       "50%    83100.000000  1100.000000  83000.000000   84900.000000  81250.000000   \n",
       "75%    86225.000000  2125.000000  86300.000000   87925.000000  84875.000000   \n",
       "max    99700.000000  8600.000000  99800.000000  103000.000000  97500.000000   \n",
       "\n",
       "                 거래량  \n",
       "count     100.000000  \n",
       "mean   208174.520000  \n",
       "std    164676.672965  \n",
       "min     75732.000000  \n",
       "25%    115445.750000  \n",
       "50%    150247.000000  \n",
       "75%    225306.250000  \n",
       "max    888940.000000  "
      ]
     },
     "execution_count": 20,
     "metadata": {},
     "output_type": "execute_result"
    }
   ],
   "source": [
    "# describe는 기본적으로 수치데이터에 대한 기술통계값을 구하게 됩니다.\n",
    "df.describe()"
   ]
  },
  {
   "cell_type": "markdown",
   "metadata": {},
   "source": [
    "* 참고 : E notation\n",
    "[과학적 기수법 - 위키백과, 우리 모두의 백과사전](https://ko.wikipedia.org/wiki/%EA%B3%BC%ED%95%99%EC%A0%81_%EA%B8%B0%EC%88%98%EB%B2%95)\n",
    "\n",
    "과학적 기수법, 과학적 표기법(scientific notation, scientific form, standard index form, standard form)은 너무 크거나 너무 작은 숫자들을 십진법으로 편하게 작성하여 표현하는 방법이다. 과학자, 수학자, 공학자들이 공통적으로 사용하는데, 부분적인 이유는 특정한 산술을 단순화시켜 주기 때문이다. 과학 계산기에서는 \"SCI\" 디스플레이 모드라는 이름으로 알려져 있다."
   ]
  },
  {
   "cell_type": "code",
   "execution_count": 21,
   "metadata": {},
   "outputs": [
    {
     "data": {
      "text/plain": [
       "100.0"
      ]
     },
     "execution_count": 21,
     "metadata": {},
     "output_type": "execute_result"
    }
   ],
   "source": [
    "# 거래량의 과학적 기수법 읽기\n",
    "1.000000e+02"
   ]
  },
  {
   "cell_type": "code",
   "execution_count": 22,
   "metadata": {},
   "outputs": [
    {
     "data": {
      "text/plain": [
       "470152.3"
      ]
     },
     "execution_count": 22,
     "metadata": {},
     "output_type": "execute_result"
    }
   ],
   "source": [
    "4.701523e+05"
   ]
  },
  {
   "cell_type": "code",
   "execution_count": 23,
   "metadata": {},
   "outputs": [
    {
     "data": {
      "text/plain": [
       "470152.3"
      ]
     },
     "execution_count": 23,
     "metadata": {},
     "output_type": "execute_result"
    }
   ],
   "source": [
    "4.701523 * (10 ** 5)"
   ]
  },
  {
   "cell_type": "markdown",
   "metadata": {
    "id": "Ql0phnyuTMkB"
   },
   "source": [
    "## 최근 날짜 구해서 파일명 만들기"
   ]
  },
  {
   "cell_type": "code",
   "execution_count": 24,
   "metadata": {
    "id": "_dyLUpVVTMkB"
   },
   "outputs": [
    {
     "data": {
      "text/plain": [
       "'2023.11.01'"
      ]
     },
     "execution_count": 24,
     "metadata": {},
     "output_type": "execute_result"
    }
   ],
   "source": [
    "# 날짜 column의 첫 row값 확인\n",
    "date = df.iloc[0][\"날짜\"]\n",
    "date"
   ]
  },
  {
   "cell_type": "code",
   "execution_count": 25,
   "metadata": {
    "id": "teInPugvTMkB"
   },
   "outputs": [
    {
     "data": {
      "text/plain": [
       "'SK바이오팜_326030_2023.11.01.csv'"
      ]
     },
     "execution_count": 25,
     "metadata": {},
     "output_type": "execute_result"
    }
   ],
   "source": [
    "# 종목명, 종목코드, 날짜를 이름으로 하는 csv 파일명 만들기\n",
    "file_name = f\"{item_name}_{item_code}_{date}.csv\"\n",
    "file_name"
   ]
  },
  {
   "cell_type": "markdown",
   "metadata": {
    "id": "1LXe-dutTMkB"
   },
   "source": [
    "## 파일로 저장하기"
   ]
  },
  {
   "cell_type": "code",
   "execution_count": 26,
   "metadata": {
    "id": "dBRXOwIxTMkB"
   },
   "outputs": [],
   "source": [
    "# 파일로 저장하기 \n",
    "# index=False 로 데이터프레임의 기본 index 는 저장하지 않도록 합니다.\n",
    "df.to_csv(file_name, index=False)"
   ]
  },
  {
   "cell_type": "code",
   "execution_count": 27,
   "metadata": {
    "id": "EEfm9Yk9TMkB"
   },
   "outputs": [
    {
     "data": {
      "text/html": [
       "<div>\n",
       "<style scoped>\n",
       "    .dataframe tbody tr th:only-of-type {\n",
       "        vertical-align: middle;\n",
       "    }\n",
       "\n",
       "    .dataframe tbody tr th {\n",
       "        vertical-align: top;\n",
       "    }\n",
       "\n",
       "    .dataframe thead th {\n",
       "        text-align: right;\n",
       "    }\n",
       "</style>\n",
       "<table border=\"1\" class=\"dataframe\">\n",
       "  <thead>\n",
       "    <tr style=\"text-align: right;\">\n",
       "      <th></th>\n",
       "      <th>종목코드</th>\n",
       "      <th>종목명</th>\n",
       "      <th>날짜</th>\n",
       "      <th>종가</th>\n",
       "      <th>전일비</th>\n",
       "      <th>시가</th>\n",
       "      <th>고가</th>\n",
       "      <th>저가</th>\n",
       "      <th>거래량</th>\n",
       "    </tr>\n",
       "  </thead>\n",
       "  <tbody>\n",
       "    <tr>\n",
       "      <th>0</th>\n",
       "      <td>326030</td>\n",
       "      <td>SK바이오팜</td>\n",
       "      <td>2023.11.01</td>\n",
       "      <td>75300.0</td>\n",
       "      <td>100.0</td>\n",
       "      <td>75400.0</td>\n",
       "      <td>76100.0</td>\n",
       "      <td>74300.0</td>\n",
       "      <td>75732.0</td>\n",
       "    </tr>\n",
       "    <tr>\n",
       "      <th>1</th>\n",
       "      <td>326030</td>\n",
       "      <td>SK바이오팜</td>\n",
       "      <td>2023.10.31</td>\n",
       "      <td>75400.0</td>\n",
       "      <td>500.0</td>\n",
       "      <td>76500.0</td>\n",
       "      <td>77000.0</td>\n",
       "      <td>74800.0</td>\n",
       "      <td>79072.0</td>\n",
       "    </tr>\n",
       "    <tr>\n",
       "      <th>2</th>\n",
       "      <td>326030</td>\n",
       "      <td>SK바이오팜</td>\n",
       "      <td>2023.10.30</td>\n",
       "      <td>75900.0</td>\n",
       "      <td>1100.0</td>\n",
       "      <td>74400.0</td>\n",
       "      <td>76300.0</td>\n",
       "      <td>74400.0</td>\n",
       "      <td>83365.0</td>\n",
       "    </tr>\n",
       "    <tr>\n",
       "      <th>3</th>\n",
       "      <td>326030</td>\n",
       "      <td>SK바이오팜</td>\n",
       "      <td>2023.10.27</td>\n",
       "      <td>74800.0</td>\n",
       "      <td>600.0</td>\n",
       "      <td>75800.0</td>\n",
       "      <td>76300.0</td>\n",
       "      <td>74600.0</td>\n",
       "      <td>80275.0</td>\n",
       "    </tr>\n",
       "    <tr>\n",
       "      <th>4</th>\n",
       "      <td>326030</td>\n",
       "      <td>SK바이오팜</td>\n",
       "      <td>2023.10.26</td>\n",
       "      <td>75400.0</td>\n",
       "      <td>1800.0</td>\n",
       "      <td>76500.0</td>\n",
       "      <td>76700.0</td>\n",
       "      <td>74100.0</td>\n",
       "      <td>98644.0</td>\n",
       "    </tr>\n",
       "    <tr>\n",
       "      <th>...</th>\n",
       "      <td>...</td>\n",
       "      <td>...</td>\n",
       "      <td>...</td>\n",
       "      <td>...</td>\n",
       "      <td>...</td>\n",
       "      <td>...</td>\n",
       "      <td>...</td>\n",
       "      <td>...</td>\n",
       "      <td>...</td>\n",
       "    </tr>\n",
       "    <tr>\n",
       "      <th>95</th>\n",
       "      <td>326030</td>\n",
       "      <td>SK바이오팜</td>\n",
       "      <td>2023.06.13</td>\n",
       "      <td>81000.0</td>\n",
       "      <td>3500.0</td>\n",
       "      <td>77400.0</td>\n",
       "      <td>81500.0</td>\n",
       "      <td>77400.0</td>\n",
       "      <td>366343.0</td>\n",
       "    </tr>\n",
       "    <tr>\n",
       "      <th>96</th>\n",
       "      <td>326030</td>\n",
       "      <td>SK바이오팜</td>\n",
       "      <td>2023.06.12</td>\n",
       "      <td>77500.0</td>\n",
       "      <td>3600.0</td>\n",
       "      <td>73900.0</td>\n",
       "      <td>78300.0</td>\n",
       "      <td>73900.0</td>\n",
       "      <td>229972.0</td>\n",
       "    </tr>\n",
       "    <tr>\n",
       "      <th>97</th>\n",
       "      <td>326030</td>\n",
       "      <td>SK바이오팜</td>\n",
       "      <td>2023.06.09</td>\n",
       "      <td>73900.0</td>\n",
       "      <td>700.0</td>\n",
       "      <td>73900.0</td>\n",
       "      <td>74400.0</td>\n",
       "      <td>72800.0</td>\n",
       "      <td>91931.0</td>\n",
       "    </tr>\n",
       "    <tr>\n",
       "      <th>98</th>\n",
       "      <td>326030</td>\n",
       "      <td>SK바이오팜</td>\n",
       "      <td>2023.06.08</td>\n",
       "      <td>73200.0</td>\n",
       "      <td>1300.0</td>\n",
       "      <td>74800.0</td>\n",
       "      <td>74900.0</td>\n",
       "      <td>73000.0</td>\n",
       "      <td>106918.0</td>\n",
       "    </tr>\n",
       "    <tr>\n",
       "      <th>99</th>\n",
       "      <td>326030</td>\n",
       "      <td>SK바이오팜</td>\n",
       "      <td>2023.06.07</td>\n",
       "      <td>74500.0</td>\n",
       "      <td>200.0</td>\n",
       "      <td>74800.0</td>\n",
       "      <td>76900.0</td>\n",
       "      <td>74300.0</td>\n",
       "      <td>139962.0</td>\n",
       "    </tr>\n",
       "  </tbody>\n",
       "</table>\n",
       "<p>100 rows × 9 columns</p>\n",
       "</div>"
      ],
      "text/plain": [
       "      종목코드     종목명          날짜       종가     전일비       시가       고가       저가  \\\n",
       "0   326030  SK바이오팜  2023.11.01  75300.0   100.0  75400.0  76100.0  74300.0   \n",
       "1   326030  SK바이오팜  2023.10.31  75400.0   500.0  76500.0  77000.0  74800.0   \n",
       "2   326030  SK바이오팜  2023.10.30  75900.0  1100.0  74400.0  76300.0  74400.0   \n",
       "3   326030  SK바이오팜  2023.10.27  74800.0   600.0  75800.0  76300.0  74600.0   \n",
       "4   326030  SK바이오팜  2023.10.26  75400.0  1800.0  76500.0  76700.0  74100.0   \n",
       "..     ...     ...         ...      ...     ...      ...      ...      ...   \n",
       "95  326030  SK바이오팜  2023.06.13  81000.0  3500.0  77400.0  81500.0  77400.0   \n",
       "96  326030  SK바이오팜  2023.06.12  77500.0  3600.0  73900.0  78300.0  73900.0   \n",
       "97  326030  SK바이오팜  2023.06.09  73900.0   700.0  73900.0  74400.0  72800.0   \n",
       "98  326030  SK바이오팜  2023.06.08  73200.0  1300.0  74800.0  74900.0  73000.0   \n",
       "99  326030  SK바이오팜  2023.06.07  74500.0   200.0  74800.0  76900.0  74300.0   \n",
       "\n",
       "         거래량  \n",
       "0    75732.0  \n",
       "1    79072.0  \n",
       "2    83365.0  \n",
       "3    80275.0  \n",
       "4    98644.0  \n",
       "..       ...  \n",
       "95  366343.0  \n",
       "96  229972.0  \n",
       "97   91931.0  \n",
       "98  106918.0  \n",
       "99  139962.0  \n",
       "\n",
       "[100 rows x 9 columns]"
      ]
     },
     "execution_count": 27,
     "metadata": {},
     "output_type": "execute_result"
    }
   ],
   "source": [
    "# 제대로 저장되었는지 파일을 읽어서 확인합니다\n",
    "pd.read_csv(file_name)"
   ]
  },
  {
   "cell_type": "markdown",
   "metadata": {},
   "source": [
    "## 전체 과정을 하나의 함수로 만들기"
   ]
  },
  {
   "cell_type": "code",
   "execution_count": 28,
   "metadata": {},
   "outputs": [],
   "source": [
    "def get_item_list(item_code, item_name):\n",
    "    \"\"\"\n",
    "    일별 시세를 수집하는 함수\n",
    "    \"\"\"\n",
    "    # web page 시작번호\n",
    "    page_no = 1\n",
    "    # 데이터를 저장할 빈 변수 선언\n",
    "    item_list = []\n",
    "\n",
    "    while True:\n",
    "        temp = get_day_list(item_code, page_no)\n",
    "        item_list.append(temp)\n",
    "\n",
    "        page_no = page_no + 1\n",
    "        time.sleep(0.1)\n",
    "\n",
    "        #if temp.shape[0] < 10:\n",
    "        if page_no > 10:\n",
    "            break\n",
    "            \n",
    "    df = pd.concat(item_list)\n",
    "    df[\"종목코드\"] = item_code\n",
    "    df[\"종목명\"] = item_name\n",
    "    cols = ['종목코드', '종목명', '날짜', '종가', '전일비', '시가', '고가', '저가', '거래량']\n",
    "    df = df[cols]\n",
    "\n",
    "    return df"
   ]
  },
  {
   "cell_type": "code",
   "execution_count": 29,
   "metadata": {},
   "outputs": [
    {
     "name": "stderr",
     "output_type": "stream",
     "text": [
      "/var/folders/cn/3xfx7dqx4zx7lmdpfl0jh9g80000gn/T/ipykernel_61727/4113515383.py:15: FutureWarning: Passing literal html to 'read_html' is deprecated and will be removed in a future version. To read from a literal string, wrap it in a 'StringIO' object.\n",
      "  table = pd.read_html(str(table))\n",
      "/var/folders/cn/3xfx7dqx4zx7lmdpfl0jh9g80000gn/T/ipykernel_61727/4113515383.py:15: FutureWarning: Passing literal html to 'read_html' is deprecated and will be removed in a future version. To read from a literal string, wrap it in a 'StringIO' object.\n",
      "  table = pd.read_html(str(table))\n",
      "/var/folders/cn/3xfx7dqx4zx7lmdpfl0jh9g80000gn/T/ipykernel_61727/4113515383.py:15: FutureWarning: Passing literal html to 'read_html' is deprecated and will be removed in a future version. To read from a literal string, wrap it in a 'StringIO' object.\n",
      "  table = pd.read_html(str(table))\n",
      "/var/folders/cn/3xfx7dqx4zx7lmdpfl0jh9g80000gn/T/ipykernel_61727/4113515383.py:15: FutureWarning: Passing literal html to 'read_html' is deprecated and will be removed in a future version. To read from a literal string, wrap it in a 'StringIO' object.\n",
      "  table = pd.read_html(str(table))\n",
      "/var/folders/cn/3xfx7dqx4zx7lmdpfl0jh9g80000gn/T/ipykernel_61727/4113515383.py:15: FutureWarning: Passing literal html to 'read_html' is deprecated and will be removed in a future version. To read from a literal string, wrap it in a 'StringIO' object.\n",
      "  table = pd.read_html(str(table))\n",
      "/var/folders/cn/3xfx7dqx4zx7lmdpfl0jh9g80000gn/T/ipykernel_61727/4113515383.py:15: FutureWarning: Passing literal html to 'read_html' is deprecated and will be removed in a future version. To read from a literal string, wrap it in a 'StringIO' object.\n",
      "  table = pd.read_html(str(table))\n",
      "/var/folders/cn/3xfx7dqx4zx7lmdpfl0jh9g80000gn/T/ipykernel_61727/4113515383.py:15: FutureWarning: Passing literal html to 'read_html' is deprecated and will be removed in a future version. To read from a literal string, wrap it in a 'StringIO' object.\n",
      "  table = pd.read_html(str(table))\n",
      "/var/folders/cn/3xfx7dqx4zx7lmdpfl0jh9g80000gn/T/ipykernel_61727/4113515383.py:15: FutureWarning: Passing literal html to 'read_html' is deprecated and will be removed in a future version. To read from a literal string, wrap it in a 'StringIO' object.\n",
      "  table = pd.read_html(str(table))\n",
      "/var/folders/cn/3xfx7dqx4zx7lmdpfl0jh9g80000gn/T/ipykernel_61727/4113515383.py:15: FutureWarning: Passing literal html to 'read_html' is deprecated and will be removed in a future version. To read from a literal string, wrap it in a 'StringIO' object.\n",
      "  table = pd.read_html(str(table))\n",
      "/var/folders/cn/3xfx7dqx4zx7lmdpfl0jh9g80000gn/T/ipykernel_61727/4113515383.py:15: FutureWarning: Passing literal html to 'read_html' is deprecated and will be removed in a future version. To read from a literal string, wrap it in a 'StringIO' object.\n",
      "  table = pd.read_html(str(table))\n"
     ]
    },
    {
     "data": {
      "text/html": [
       "<div>\n",
       "<style scoped>\n",
       "    .dataframe tbody tr th:only-of-type {\n",
       "        vertical-align: middle;\n",
       "    }\n",
       "\n",
       "    .dataframe tbody tr th {\n",
       "        vertical-align: top;\n",
       "    }\n",
       "\n",
       "    .dataframe thead th {\n",
       "        text-align: right;\n",
       "    }\n",
       "</style>\n",
       "<table border=\"1\" class=\"dataframe\">\n",
       "  <thead>\n",
       "    <tr style=\"text-align: right;\">\n",
       "      <th></th>\n",
       "      <th>종목코드</th>\n",
       "      <th>종목명</th>\n",
       "      <th>날짜</th>\n",
       "      <th>종가</th>\n",
       "      <th>전일비</th>\n",
       "      <th>시가</th>\n",
       "      <th>고가</th>\n",
       "      <th>저가</th>\n",
       "      <th>거래량</th>\n",
       "    </tr>\n",
       "  </thead>\n",
       "  <tbody>\n",
       "    <tr>\n",
       "      <th>1</th>\n",
       "      <td>352820</td>\n",
       "      <td>하이브</td>\n",
       "      <td>2023.11.01</td>\n",
       "      <td>227500.0</td>\n",
       "      <td>8000.0</td>\n",
       "      <td>220000.0</td>\n",
       "      <td>227500.0</td>\n",
       "      <td>214000.0</td>\n",
       "      <td>172591.0</td>\n",
       "    </tr>\n",
       "    <tr>\n",
       "      <th>2</th>\n",
       "      <td>352820</td>\n",
       "      <td>하이브</td>\n",
       "      <td>2023.10.31</td>\n",
       "      <td>219500.0</td>\n",
       "      <td>0.0</td>\n",
       "      <td>223500.0</td>\n",
       "      <td>225500.0</td>\n",
       "      <td>216000.0</td>\n",
       "      <td>130896.0</td>\n",
       "    </tr>\n",
       "    <tr>\n",
       "      <th>3</th>\n",
       "      <td>352820</td>\n",
       "      <td>하이브</td>\n",
       "      <td>2023.10.30</td>\n",
       "      <td>219500.0</td>\n",
       "      <td>7500.0</td>\n",
       "      <td>210000.0</td>\n",
       "      <td>222000.0</td>\n",
       "      <td>210000.0</td>\n",
       "      <td>144405.0</td>\n",
       "    </tr>\n",
       "    <tr>\n",
       "      <th>4</th>\n",
       "      <td>352820</td>\n",
       "      <td>하이브</td>\n",
       "      <td>2023.10.27</td>\n",
       "      <td>212000.0</td>\n",
       "      <td>8000.0</td>\n",
       "      <td>210000.0</td>\n",
       "      <td>218500.0</td>\n",
       "      <td>209000.0</td>\n",
       "      <td>312497.0</td>\n",
       "    </tr>\n",
       "    <tr>\n",
       "      <th>5</th>\n",
       "      <td>352820</td>\n",
       "      <td>하이브</td>\n",
       "      <td>2023.10.26</td>\n",
       "      <td>204000.0</td>\n",
       "      <td>24500.0</td>\n",
       "      <td>221500.0</td>\n",
       "      <td>222000.0</td>\n",
       "      <td>202000.0</td>\n",
       "      <td>894408.0</td>\n",
       "    </tr>\n",
       "    <tr>\n",
       "      <th>...</th>\n",
       "      <td>...</td>\n",
       "      <td>...</td>\n",
       "      <td>...</td>\n",
       "      <td>...</td>\n",
       "      <td>...</td>\n",
       "      <td>...</td>\n",
       "      <td>...</td>\n",
       "      <td>...</td>\n",
       "      <td>...</td>\n",
       "    </tr>\n",
       "    <tr>\n",
       "      <th>9</th>\n",
       "      <td>352820</td>\n",
       "      <td>하이브</td>\n",
       "      <td>2023.06.13</td>\n",
       "      <td>294000.0</td>\n",
       "      <td>0.0</td>\n",
       "      <td>294500.0</td>\n",
       "      <td>296500.0</td>\n",
       "      <td>289000.0</td>\n",
       "      <td>209505.0</td>\n",
       "    </tr>\n",
       "    <tr>\n",
       "      <th>10</th>\n",
       "      <td>352820</td>\n",
       "      <td>하이브</td>\n",
       "      <td>2023.06.12</td>\n",
       "      <td>294000.0</td>\n",
       "      <td>13500.0</td>\n",
       "      <td>284500.0</td>\n",
       "      <td>295000.0</td>\n",
       "      <td>281000.0</td>\n",
       "      <td>402574.0</td>\n",
       "    </tr>\n",
       "    <tr>\n",
       "      <th>11</th>\n",
       "      <td>352820</td>\n",
       "      <td>하이브</td>\n",
       "      <td>2023.06.09</td>\n",
       "      <td>280500.0</td>\n",
       "      <td>12500.0</td>\n",
       "      <td>270500.0</td>\n",
       "      <td>286500.0</td>\n",
       "      <td>269000.0</td>\n",
       "      <td>430504.0</td>\n",
       "    </tr>\n",
       "    <tr>\n",
       "      <th>12</th>\n",
       "      <td>352820</td>\n",
       "      <td>하이브</td>\n",
       "      <td>2023.06.08</td>\n",
       "      <td>268000.0</td>\n",
       "      <td>1000.0</td>\n",
       "      <td>267500.0</td>\n",
       "      <td>271000.0</td>\n",
       "      <td>265000.0</td>\n",
       "      <td>151260.0</td>\n",
       "    </tr>\n",
       "    <tr>\n",
       "      <th>13</th>\n",
       "      <td>352820</td>\n",
       "      <td>하이브</td>\n",
       "      <td>2023.06.07</td>\n",
       "      <td>269000.0</td>\n",
       "      <td>4000.0</td>\n",
       "      <td>265000.0</td>\n",
       "      <td>272000.0</td>\n",
       "      <td>265000.0</td>\n",
       "      <td>174858.0</td>\n",
       "    </tr>\n",
       "  </tbody>\n",
       "</table>\n",
       "<p>100 rows × 9 columns</p>\n",
       "</div>"
      ],
      "text/plain": [
       "      종목코드  종목명          날짜        종가      전일비        시가        고가        저가  \\\n",
       "1   352820  하이브  2023.11.01  227500.0   8000.0  220000.0  227500.0  214000.0   \n",
       "2   352820  하이브  2023.10.31  219500.0      0.0  223500.0  225500.0  216000.0   \n",
       "3   352820  하이브  2023.10.30  219500.0   7500.0  210000.0  222000.0  210000.0   \n",
       "4   352820  하이브  2023.10.27  212000.0   8000.0  210000.0  218500.0  209000.0   \n",
       "5   352820  하이브  2023.10.26  204000.0  24500.0  221500.0  222000.0  202000.0   \n",
       "..     ...  ...         ...       ...      ...       ...       ...       ...   \n",
       "9   352820  하이브  2023.06.13  294000.0      0.0  294500.0  296500.0  289000.0   \n",
       "10  352820  하이브  2023.06.12  294000.0  13500.0  284500.0  295000.0  281000.0   \n",
       "11  352820  하이브  2023.06.09  280500.0  12500.0  270500.0  286500.0  269000.0   \n",
       "12  352820  하이브  2023.06.08  268000.0   1000.0  267500.0  271000.0  265000.0   \n",
       "13  352820  하이브  2023.06.07  269000.0   4000.0  265000.0  272000.0  265000.0   \n",
       "\n",
       "         거래량  \n",
       "1   172591.0  \n",
       "2   130896.0  \n",
       "3   144405.0  \n",
       "4   312497.0  \n",
       "5   894408.0  \n",
       "..       ...  \n",
       "9   209505.0  \n",
       "10  402574.0  \n",
       "11  430504.0  \n",
       "12  151260.0  \n",
       "13  174858.0  \n",
       "\n",
       "[100 rows x 9 columns]"
      ]
     },
     "execution_count": 29,
     "metadata": {},
     "output_type": "execute_result"
    }
   ],
   "source": [
    "item_code = \"352820\"\n",
    "item_name = \"하이브\"\n",
    "# 빅히트의 사명이 하이브로 변경되었습니다.\n",
    "\n",
    "# item_code = \"326030\"\n",
    "# item_name = \"SK바이오팜\"\n",
    "\n",
    "get_item_list(item_code, item_name)"
   ]
  }
 ],
 "metadata": {
  "colab": {
   "collapsed_sections": [],
   "name": "3. 네이버금융 개별종목 수집.ipynb",
   "provenance": [],
   "toc_visible": true
  },
  "kernelspec": {
   "display_name": "Python 3",
   "language": "python",
   "name": "python3"
  },
  "language_info": {
   "codemirror_mode": {
    "name": "ipython",
    "version": 3
   },
   "file_extension": ".py",
   "mimetype": "text/x-python",
   "name": "python",
   "nbconvert_exporter": "python",
   "pygments_lexer": "ipython3",
   "version": "3.11.6"
  },
  "toc": {
   "base_numbering": 1,
   "nav_menu": {},
   "number_sections": true,
   "sideBar": true,
   "skip_h1_title": false,
   "title_cell": "Table of Contents",
   "title_sidebar": "Contents",
   "toc_cell": false,
   "toc_position": {
    "height": "calc(100% - 180px)",
    "left": "10px",
    "top": "150px",
    "width": "204.8px"
   },
   "toc_section_display": true,
   "toc_window_display": true
  },
  "varInspector": {
   "cols": {
    "lenName": 16,
    "lenType": 16,
    "lenVar": 40
   },
   "kernels_config": {
    "python": {
     "delete_cmd_postfix": "",
     "delete_cmd_prefix": "del ",
     "library": "var_list.py",
     "varRefreshCmd": "print(var_dic_list())"
    },
    "r": {
     "delete_cmd_postfix": ") ",
     "delete_cmd_prefix": "rm(",
     "library": "var_list.r",
     "varRefreshCmd": "cat(var_dic_list()) "
    }
   },
   "types_to_exclude": [
    "module",
    "function",
    "builtin_function_or_method",
    "instance",
    "_Feature"
   ],
   "window_display": false
  }
 },
 "nbformat": 4,
 "nbformat_minor": 1
}
