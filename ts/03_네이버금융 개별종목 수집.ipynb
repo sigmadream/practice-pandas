{
 "cells": [
  {
   "cell_type": "markdown",
   "metadata": {},
   "source": [
    "## 라이브러리 로드"
   ]
  },
  {
   "cell_type": "code",
   "execution_count": 57,
   "metadata": {
    "id": "6Mm8vuymTMkA"
   },
   "outputs": [],
   "source": [
    "import pandas as pd"
   ]
  },
  {
   "cell_type": "markdown",
   "metadata": {},
   "source": [
    "## 수집할 URL 정하기"
   ]
  },
  {
   "cell_type": "code",
   "execution_count": 58,
   "metadata": {
    "id": "QzZJoAvoTMkA"
   },
   "outputs": [],
   "source": [
    "item_code = \"326030\"\n",
    "item_name = \"SK바이오팜\"\n",
    "page_no = 1"
   ]
  },
  {
   "cell_type": "code",
   "execution_count": 59,
   "metadata": {},
   "outputs": [
    {
     "data": {
      "text/plain": [
       "'https://finance.naver.com/item/sise_day.nhn?code=326030&page=1'"
      ]
     },
     "execution_count": 59,
     "metadata": {},
     "output_type": "execute_result"
    }
   ],
   "source": [
    "url = f\"https://finance.naver.com/item/sise_day.nhn?code={item_code}&page={page_no}\"\n",
    "url"
   ]
  },
  {
   "cell_type": "markdown",
   "metadata": {},
   "source": [
    "## requests를 통한 HTTP 요청"
   ]
  },
  {
   "cell_type": "code",
   "execution_count": 60,
   "metadata": {},
   "outputs": [
    {
     "data": {
      "text/plain": [
       "'\\n<html lang=\"ko\">\\n<head>\\n<meta http-equiv=\"Content-Type\" content=\"text/html; charset=euc-kr\">\\n<title>네이버페이 증권</title>\\n\\n<link rel=\"stylesheet\" type=\"text/css\" href=\"https://ssl.pstatic.net/imgstock/static.pc/20231101165823/css/newstock.css\">\\n<link rel=\"stylesheet\" type=\"text/css\" href=\"https://ssl.pstatic.net/imgstock/static.pc/20231101165823/css/common.css\">\\n<link rel=\"stylesheet\" type=\"text/css\" href=\"https://ssl.pstatic.net/imgstock/static.pc/20231101165823/css/layout.css\">\\n<link rel=\"stylesheet\" type=\"text/css\" href=\"https://ssl.pstatic.net/imgstock/static.pc/20231101165823/css/main.css\">\\n<link rel=\"stylesheet\" type=\"text/css\" href=\"https://ssl.pstatic.net/imgstock/static.pc/20231101165823/css/newstock2.css\">\\n<link rel=\"stylesheet\" type=\"text/css\" href=\"https://ssl.pstatic.net/imgstock/static.pc/20231101165823/css/newstock3.css\">\\n<link rel=\"stylesheet\" type=\"text/css\" href=\"https://ssl.pstatic.net/imgstock/static.pc/20231101165823/css/world.css\">\\n</head>\\n<body>\\n<script language=\"JavaScript\">\\nfunction mouseOver(obj){\\n  obj.style.backgroundColor=\"#f6f4e5\";\\n}\\nfunction mouseOut(obj){\\n  obj.style.backgroundColor=\"#ffffff\";\\n}\\n</script>\\n\\t\\t\\t\\t<h4 class=\"tlline2\"><strong><span class=\"red03\">일별</span>시세</strong></h4>\\t\\t\\t\\n\\t\\t\\t\\t<table cellspacing=\"0\" class=\"type2\">\\n\\t\\t\\t\\t<tr>\\n\\t\\t\\t\\t<th>날짜</th>\\n\\t\\t\\t\\t<th>종가</th>\\n\\t\\t\\t\\t<th>전일비</th>\\n\\t\\t\\t\\t<th>시가</th>\\n\\t\\t\\t\\t<th>고가</th>\\n\\t\\t\\t\\t<th>저가</th>\\n\\t\\t\\t\\t<th>거래량</th>\\n\\t\\t\\t\\t</tr>\\n\\t\\t\\t\\t<tr>\\n\\t\\t\\t\\t<td colspan=\"7\" height=\"8\"></td>\\n\\t\\t\\t\\t</tr>\\n\\n\\n\\t\\n\\t\\t\\t\\t<tr onMouseOver=\"mouseOver(this)\" onMouseOut=\"mouseOut(this)\">\\n\\t\\t\\t\\t<td align=\"center\"><span class=\"tah p10 gray03\">2023.11.06</span></td>\\n\\t\\t\\t\\t<td class=\"num\"><span class=\"tah p11\">81,300</span></td>\\n\\t\\t\\t\\t<td class=\"num\">\\n\\t\\t\\t\\t<img src=\"https://ssl.pstatic.net/imgstock/images/images4/ico_up.gif\" width=\"7\" height=\"6\" style=\"margin-right:4px;\" alt=\"상승\"><span class=\"tah p11 red02\">\\n\\t\\t\\t\\t4,000\\n\\t\\t\\t\\t</span>\\n\\t\\t\\t</td>\\n\\t\\t\\t\\t<td class=\"num\"><span class=\"tah p11\">78,700</span></td>\\n\\t\\t\\t\\t<td class=\"num\"><span class=\"tah p11\">81,400</span></td>\\n\\t\\t\\t\\t<td class=\"num\"><span class=\"tah p11\">78,500</span></td>\\n\\t\\t\\t\\t<td class=\"num\"><span class=\"tah p11\">185,131</span></td>\\n\\t\\t\\t\\t</tr>\\n\\t\\t\\n\\t\\t\\t\\n\\t\\t\\t\\t\\n\\t\\t\\t\\t\\t<tr onMouseOver=\"mouseOver(this)\" onMouseOut=\"mouseOut(this)\">\\n\\t\\t\\t\\t\\t<td align=\"center\"><span class=\"tah p10 gray03\">2023.11.03</span></td>\\n\\t\\t\\t\\t\\t<td class=\"num\"><span class=\"tah p11\">77,300</span></td>\\n\\t\\t\\t\\t\\t<td class=\"num\">\\n\\t\\t\\t\\t<img src=\"https://ssl.pstatic.net/imgstock/images/images4/ico_up.gif\" width=\"7\" height=\"6\" style=\"margin-right:4px;\" alt=\"상승\"><span class=\"tah p11 red02\">\\n\\t\\t\\t\\t100\\n\\t\\t\\t\\t</span>\\n\\t\\t\\t</td>\\n\\t\\t\\t\\t\\t<td class=\"num\"><span class=\"tah p11\">78,000</span></td>\\n\\t\\t\\t\\t\\t<td class=\"num\"><span class=\"tah p11\">78,200</span></td>\\n\\t\\t\\t\\t\\t<td class=\"num\"><span class=\"tah p11\">77,100</span></td>\\n\\t\\t\\t\\t\\t<td class=\"num\"><span class=\"tah p11\">65,838</span></td>\\n\\t\\t\\t\\t\\t</tr>\\n\\t\\t\\t\\t\\n\\t\\t\\t\\t\\n\\t\\t\\t\\n\\t\\t\\t\\n\\t\\t\\t\\n\\t\\t\\t\\n\\t\\t\\t\\n\\t\\n\\t\\t\\n\\t\\t\\t\\n\\t\\t\\t\\t\\n\\t\\t\\t\\t\\t<tr onMouseOver=\"mouseOver(this)\" onMouseOut=\"mouseOut(this)\">\\n\\t\\t\\t\\t\\t<td align=\"center\"><span class=\"tah p10 gray03\">2023.11.02</span></td>\\n\\t\\t\\t\\t\\t<td class=\"num\"><span class=\"tah p11\">77,200</span></td>\\n\\t\\t\\t\\t\\t<td class=\"num\">\\n\\t\\t\\t\\t<img src=\"https://ssl.pstatic.net/imgstock/images/images4/ico_up.gif\" width=\"7\" height=\"6\" style=\"margin-right:4px;\" alt=\"상승\"><span class=\"tah p11 red02\">\\n\\t\\t\\t\\t1,600\\n\\t\\t\\t\\t</span>\\n\\t\\t\\t</td>\\n\\t\\t\\t\\t\\t<td class=\"num\"><span class=\"tah p11\">76,100</span></td>\\n\\t\\t\\t\\t\\t<td class=\"num\"><span class=\"tah p11\">77,500</span></td>\\n\\t\\t\\t\\t\\t<td class=\"num\"><span class=\"tah p11\">75,800</span></td>\\n\\t\\t\\t\\t\\t<td class=\"num\"><span class=\"tah p11\">147,421</span></td>\\n\\t\\t\\t\\t\\t</tr>\\n\\t\\t\\t\\t\\n\\t\\t\\t\\t\\n\\t\\t\\t\\n\\t\\t\\t\\n\\t\\t\\t\\n\\t\\t\\t\\n\\t\\t\\t\\n\\t\\n\\t\\t\\n\\t\\t\\t\\n\\t\\t\\t\\t\\n\\t\\t\\t\\t\\t<tr onMouseOver=\"mouseOver(this)\" onMouseOut=\"mouseOut(this)\">\\n\\t\\t\\t\\t\\t<td align=\"center\"><span class=\"tah p10 gray03\">2023.11.01</span></td>\\n\\t\\t\\t\\t\\t<td class=\"num\"><span class=\"tah p11\">75,600</span></td>\\n\\t\\t\\t\\t\\t<td class=\"num\">\\n\\t\\t\\t\\t<img src=\"https://ssl.pstatic.net/imgstock/images/images4/ico_up.gif\" width=\"7\" height=\"6\" style=\"margin-right:4px;\" alt=\"상승\"><span class=\"tah p11 red02\">\\n\\t\\t\\t\\t200\\n\\t\\t\\t\\t</span>\\n\\t\\t\\t</td>\\n\\t\\t\\t\\t\\t<td class=\"num\"><span class=\"tah p11\">75,400</span></td>\\n\\t\\t\\t\\t\\t<td class=\"num\"><span class=\"tah p11\">76,100</span></td>\\n\\t\\t\\t\\t\\t<td class=\"num\"><span class=\"tah p11\">74,300</span></td>\\n\\t\\t\\t\\t\\t<td class=\"num\"><span class=\"tah p11\">92,279</span></td>\\n\\t\\t\\t\\t\\t</tr>\\n\\t\\t\\t\\t\\n\\t\\t\\t\\t\\n\\t\\t\\t\\n\\t\\t\\t\\n\\t\\t\\t\\n\\t\\t\\t\\n\\t\\t\\t\\n\\t\\n\\t\\t\\n\\t\\t\\t\\n\\t\\t\\t\\t\\n\\t\\t\\t\\t\\t<tr onMouseOver=\"mouseOver(this)\" onMouseOut=\"mouseOut(this)\">\\n\\t\\t\\t\\t\\t<td align=\"center\"><span class=\"tah p10 gray03\">2023.10.31</span></td>\\n\\t\\t\\t\\t\\t<td class=\"num\"><span class=\"tah p11\">75,400</span></td>\\n\\t\\t\\t\\t\\t<td class=\"num\">\\n\\t\\t\\t\\t<img src=\"https://ssl.pstatic.net/imgstock/images/images4/ico_down.gif\" width=\"7\" height=\"6\" style=\"margin-right:4px;\" alt=\"하락\"><span class=\"tah p11 nv01\">\\n\\t\\t\\t\\t500\\n\\t\\t\\t\\t</span>\\n\\t\\t\\t</td>\\n\\t\\t\\t\\t\\t<td class=\"num\"><span class=\"tah p11\">76,500</span></td>\\n\\t\\t\\t\\t\\t<td class=\"num\"><span class=\"tah p11\">77,000</span></td>\\n\\t\\t\\t\\t\\t<td class=\"num\"><span class=\"tah p11\">74,800</span></td>\\n\\t\\t\\t\\t\\t<td class=\"num\"><span class=\"tah p11\">79,072</span></td>\\n\\t\\t\\t\\t\\t</tr>\\n\\t\\t\\t\\t\\n\\t\\t\\t\\t\\n\\t\\t\\t\\n\\t\\t\\t\\n\\t\\t\\t\\n\\t\\t\\t\\n\\t\\t\\t\\t<tr>\\n\\t\\t\\t\\t<td colspan=\"7\" height=\"8\"></td>\\n\\t\\t\\t\\t</tr>\\n\\t\\t\\t\\t<tr>\\n\\t\\t\\t\\t<td colspan=\"7\" height=\"1\" bgcolor=\"#e1e1e1\"></td>\\n\\t\\t\\t\\t</tr>\\n\\t\\t\\t\\t<tr>\\n\\t\\t\\t\\t<td colspan=\"7\" height=\"8\"></td>\\n\\t\\t\\t\\t</tr>\\n\\t\\t\\t\\n\\t\\t\\t\\n\\t\\n\\t\\t\\n\\t\\t\\t\\n\\t\\t\\t\\t\\n\\t\\t\\t\\t\\t<tr onMouseOver=\"mouseOver(this)\" onMouseOut=\"mouseOut(this)\">\\n\\t\\t\\t\\t\\t<td align=\"center\"><span class=\"tah p10 gray03\">2023.10.30</span></td>\\n\\t\\t\\t\\t\\t<td class=\"num\"><span class=\"tah p11\">75,900</span></td>\\n\\t\\t\\t\\t\\t<td class=\"num\">\\n\\t\\t\\t\\t<img src=\"https://ssl.pstatic.net/imgstock/images/images4/ico_up.gif\" width=\"7\" height=\"6\" style=\"margin-right:4px;\" alt=\"상승\"><span class=\"tah p11 red02\">\\n\\t\\t\\t\\t1,100\\n\\t\\t\\t\\t</span>\\n\\t\\t\\t</td>\\n\\t\\t\\t\\t\\t<td class=\"num\"><span class=\"tah p11\">74,400</span></td>\\n\\t\\t\\t\\t\\t<td class=\"num\"><span class=\"tah p11\">76,300</span></td>\\n\\t\\t\\t\\t\\t<td class=\"num\"><span class=\"tah p11\">74,400</span></td>\\n\\t\\t\\t\\t\\t<td class=\"num\"><span class=\"tah p11\">83,365</span></td>\\n\\t\\t\\t\\t\\t</tr>\\n\\t\\t\\t\\t\\n\\t\\t\\t\\t\\n\\t\\t\\t\\n\\t\\t\\t\\n\\t\\t\\t\\n\\t\\t\\t\\n\\t\\t\\t\\n\\t\\n\\t\\t\\n\\t\\t\\t\\n\\t\\t\\t\\t\\n\\t\\t\\t\\t\\t<tr onMouseOver=\"mouseOver(this)\" onMouseOut=\"mouseOut(this)\">\\n\\t\\t\\t\\t\\t<td align=\"center\"><span class=\"tah p10 gray03\">2023.10.27</span></td>\\n\\t\\t\\t\\t\\t<td class=\"num\"><span class=\"tah p11\">74,800</span></td>\\n\\t\\t\\t\\t\\t<td class=\"num\">\\n\\t\\t\\t\\t<img src=\"https://ssl.pstatic.net/imgstock/images/images4/ico_down.gif\" width=\"7\" height=\"6\" style=\"margin-right:4px;\" alt=\"하락\"><span class=\"tah p11 nv01\">\\n\\t\\t\\t\\t600\\n\\t\\t\\t\\t</span>\\n\\t\\t\\t</td>\\n\\t\\t\\t\\t\\t<td class=\"num\"><span class=\"tah p11\">75,800</span></td>\\n\\t\\t\\t\\t\\t<td class=\"num\"><span class=\"tah p11\">76,300</span></td>\\n\\t\\t\\t\\t\\t<td class=\"num\"><span class=\"tah p11\">74,600</span></td>\\n\\t\\t\\t\\t\\t<td class=\"num\"><span class=\"tah p11\">80,275</span></td>\\n\\t\\t\\t\\t\\t</tr>\\n\\t\\t\\t\\t\\n\\t\\t\\t\\t\\n\\t\\t\\t\\n\\t\\t\\t\\n\\t\\t\\t\\n\\t\\t\\t\\n\\t\\t\\t\\n\\t\\n\\t\\t\\n\\t\\t\\t\\n\\t\\t\\t\\t\\n\\t\\t\\t\\t\\t<tr onMouseOver=\"mouseOver(this)\" onMouseOut=\"mouseOut(this)\">\\n\\t\\t\\t\\t\\t<td align=\"center\"><span class=\"tah p10 gray03\">2023.10.26</span></td>\\n\\t\\t\\t\\t\\t<td class=\"num\"><span class=\"tah p11\">75,400</span></td>\\n\\t\\t\\t\\t\\t<td class=\"num\">\\n\\t\\t\\t\\t<img src=\"https://ssl.pstatic.net/imgstock/images/images4/ico_down.gif\" width=\"7\" height=\"6\" style=\"margin-right:4px;\" alt=\"하락\"><span class=\"tah p11 nv01\">\\n\\t\\t\\t\\t1,800\\n\\t\\t\\t\\t</span>\\n\\t\\t\\t</td>\\n\\t\\t\\t\\t\\t<td class=\"num\"><span class=\"tah p11\">76,500</span></td>\\n\\t\\t\\t\\t\\t<td class=\"num\"><span class=\"tah p11\">76,700</span></td>\\n\\t\\t\\t\\t\\t<td class=\"num\"><span class=\"tah p11\">74,100</span></td>\\n\\t\\t\\t\\t\\t<td class=\"num\"><span class=\"tah p11\">98,644</span></td>\\n\\t\\t\\t\\t\\t</tr>\\n\\t\\t\\t\\t\\n\\t\\t\\t\\t\\n\\t\\t\\t\\n\\t\\t\\t\\n\\t\\t\\t\\n\\t\\t\\t\\n\\t\\t\\t\\n\\t\\n\\t\\t\\n\\t\\t\\t\\n\\t\\t\\t\\t\\n\\t\\t\\t\\t\\t<tr onMouseOver=\"mouseOver(this)\" onMouseOut=\"mouseOut(this)\">\\n\\t\\t\\t\\t\\t<td align=\"center\"><span class=\"tah p10 gray03\">2023.10.25</span></td>\\n\\t\\t\\t\\t\\t<td class=\"num\"><span class=\"tah p11\">77,200</span></td>\\n\\t\\t\\t\\t\\t<td class=\"num\">\\n\\t\\t\\t\\t<img src=\"https://ssl.pstatic.net/imgstock/images/images4/ico_up.gif\" width=\"7\" height=\"6\" style=\"margin-right:4px;\" alt=\"상승\"><span class=\"tah p11 red02\">\\n\\t\\t\\t\\t300\\n\\t\\t\\t\\t</span>\\n\\t\\t\\t</td>\\n\\t\\t\\t\\t\\t<td class=\"num\"><span class=\"tah p11\">77,300</span></td>\\n\\t\\t\\t\\t\\t<td class=\"num\"><span class=\"tah p11\">78,000</span></td>\\n\\t\\t\\t\\t\\t<td class=\"num\"><span class=\"tah p11\">76,100</span></td>\\n\\t\\t\\t\\t\\t<td class=\"num\"><span class=\"tah p11\">102,844</span></td>\\n\\t\\t\\t\\t\\t</tr>\\n\\t\\t\\t\\t\\n\\t\\t\\t\\t\\n\\t\\t\\t\\n\\t\\t\\t\\n\\t\\t\\t\\n\\t\\t\\t\\n\\t\\t\\t\\n\\t\\n\\t\\t\\n\\t\\t\\t\\n\\t\\t\\t\\t\\n\\t\\t\\t\\t\\t<tr onMouseOver=\"mouseOver(this)\" onMouseOut=\"mouseOut(this)\">\\n\\t\\t\\t\\t\\t<td align=\"center\"><span class=\"tah p10 gray03\">2023.10.24</span></td>\\n\\t\\t\\t\\t\\t<td class=\"num\"><span class=\"tah p11\">76,900</span></td>\\n\\t\\t\\t\\t\\t<td class=\"num\">\\n\\t\\t\\t\\t<img src=\"https://ssl.pstatic.net/imgstock/images/images4/ico_up.gif\" width=\"7\" height=\"6\" style=\"margin-right:4px;\" alt=\"상승\"><span class=\"tah p11 red02\">\\n\\t\\t\\t\\t900\\n\\t\\t\\t\\t</span>\\n\\t\\t\\t</td>\\n\\t\\t\\t\\t\\t<td class=\"num\"><span class=\"tah p11\">76,800</span></td>\\n\\t\\t\\t\\t\\t<td class=\"num\"><span class=\"tah p11\">77,300</span></td>\\n\\t\\t\\t\\t\\t<td class=\"num\"><span class=\"tah p11\">73,500</span></td>\\n\\t\\t\\t\\t\\t<td class=\"num\"><span class=\"tah p11\">129,541</span></td>\\n\\t\\t\\t\\t\\t</tr>\\n\\t\\t\\t\\t\\n\\t\\t\\t\\t\\n\\t\\t\\t\\n\\t\\t\\t\\n\\t\\t\\t\\n\\t\\t\\t\\n\\t\\t\\t\\n\\t\\n\\t\\t\\n\\t\\n\\t\\n\\t\\n\\n\\t\\t\\t\\t<tr>\\n\\t\\t\\t\\t<td colspan=\"7\" height=\"8\"></td>\\n\\t\\t\\t\\t</tr>\\n\\t\\t\\t\\t</table>\\n\\t\\t\\t\\t<!--- 페이지 네비게이션 시작--->\\n\\t\\t\\t\\t<table summary=\"페이지 네비게이션 리스트\" class=\"Nnavi\" align=\"center\">\\n\\t\\t\\t\\t<caption>페이지 네비게이션</caption>\\n\\t\\t\\t\\t<tr>\\t\\t\\n\\t\\t\\t\\n\\t\\t\\t\\t\\n                \\n                <td class=\"on\">\\n\\t\\t\\t\\t<a href=\"/item/sise_day.nhn?code=326030&amp;page=1\"  >1</a>\\n\\t\\t\\t\\t</td>\\n<td>\\n\\t\\t\\t\\t<a href=\"/item/sise_day.nhn?code=326030&amp;page=2\"  >2</a>\\n\\t\\t\\t\\t</td>\\n<td>\\n\\t\\t\\t\\t<a href=\"/item/sise_day.nhn?code=326030&amp;page=3\"  >3</a>\\n\\t\\t\\t\\t</td>\\n<td>\\n\\t\\t\\t\\t<a href=\"/item/sise_day.nhn?code=326030&amp;page=4\"  >4</a>\\n\\t\\t\\t\\t</td>\\n<td>\\n\\t\\t\\t\\t<a href=\"/item/sise_day.nhn?code=326030&amp;page=5\"  >5</a>\\n\\t\\t\\t\\t</td>\\n<td>\\n\\t\\t\\t\\t<a href=\"/item/sise_day.nhn?code=326030&amp;page=6\"  >6</a>\\n\\t\\t\\t\\t</td>\\n<td>\\n\\t\\t\\t\\t<a href=\"/item/sise_day.nhn?code=326030&amp;page=7\"  >7</a>\\n\\t\\t\\t\\t</td>\\n<td>\\n\\t\\t\\t\\t<a href=\"/item/sise_day.nhn?code=326030&amp;page=8\"  >8</a>\\n\\t\\t\\t\\t</td>\\n<td>\\n\\t\\t\\t\\t<a href=\"/item/sise_day.nhn?code=326030&amp;page=9\"  >9</a>\\n\\t\\t\\t\\t</td>\\n<td>\\n\\t\\t\\t\\t<a href=\"/item/sise_day.nhn?code=326030&amp;page=10\"  >10</a>\\n\\t\\t\\t\\t</td>\\n\\n                <td class=\"pgR\">\\n\\t\\t\\t\\t<a href=\"/item/sise_day.nhn?code=326030&amp;page=11\"  >\\n\\t\\t\\t\\t다음<img src=\"https://ssl.pstatic.net/static/n/cmn/bu_pgarR.gif\" width=\"3\" height=\"5\" alt=\"\" border=\"0\">\\n\\t\\t\\t\\t</a>\\n\\t\\t\\t\\t</td>\\n\\n                <td class=\"pgRR\">\\n\\t\\t\\t\\t<a href=\"/item/sise_day.nhn?code=326030&amp;page=83\"  >맨뒤\\n\\t\\t\\t\\t<img src=\"https://ssl.pstatic.net/static/n/cmn/bu_pgarRR.gif\" width=\"8\" height=\"5\" alt=\"\" border=\"0\">\\n\\t\\t\\t\\t</a>\\n\\t\\t\\t\\t</td>\\n\\n            \\n\\t\\t\\t\\t</tr>\\n\\t\\t\\t\\t</table>\\n\\t\\t\\t\\t<!--- 페이지 네비게이션 끝--->\\n\\n\\n\\t<script type=\"text/javascript\" src=\"https://ssl.pstatic.net/imgstock/static.pc/20231101165823/js/jindo.min.ns.1.5.3.euckr.js\"></script>\\n\\t<script type=\"text/javascript\" src=\"https://ssl.pstatic.net/imgstock/static.pc/20231101165823/js/lcslog.js\"></script>\\n\\t<script type=\"text/javascript\">\\n        ;(function(){\\n            var eventType = \"onpageshow\" in window ? \"pageshow\" : \"load\";\\n            jindo.$Fn(function(){\\n                lcs_do();\\n            }).attach(window, eventType);\\n        })();\\n\\t</script>\\n\\n</body>\\n'"
      ]
     },
     "execution_count": 60,
     "metadata": {},
     "output_type": "execute_result"
    }
   ],
   "source": [
    "import requests\n",
    "headers = {'user-agent': 'Mozilla/5.0 (Macintosh; Intel Mac OS X 10_15_7) AppleWebKit/537.36 (KHTML, like Gecko) Chrome/88.0.4324.96 Safari/537.36'}\n",
    "response = requests.get(url, headers=headers)\n",
    "response.text"
   ]
  },
  {
   "cell_type": "markdown",
   "metadata": {},
   "source": [
    "## BeautifulSoup 을 통한 table 태그 찾기"
   ]
  },
  {
   "cell_type": "code",
   "execution_count": 61,
   "metadata": {},
   "outputs": [
    {
     "data": {
      "text/plain": [
       "2"
      ]
     },
     "execution_count": 61,
     "metadata": {},
     "output_type": "execute_result"
    }
   ],
   "source": [
    "from bs4 import BeautifulSoup as bs\n",
    "\n",
    "html = bs(response.text, \"lxml\")\n",
    "table = html.select(\"table\")\n",
    "len(table)"
   ]
  },
  {
   "cell_type": "code",
   "execution_count": 62,
   "metadata": {},
   "outputs": [
    {
     "data": {
      "text/plain": [
       "bs4.element.ResultSet"
      ]
     },
     "execution_count": 62,
     "metadata": {},
     "output_type": "execute_result"
    }
   ],
   "source": [
    "type(table)"
   ]
  },
  {
   "cell_type": "markdown",
   "metadata": {},
   "source": [
    "## pandas 코드 한 줄로 데이터 수집하기"
   ]
  },
  {
   "cell_type": "code",
   "execution_count": 63,
   "metadata": {
    "id": "T3e0Jt0mTMkA"
   },
   "outputs": [
    {
     "name": "stderr",
     "output_type": "stream",
     "text": [
      "/var/folders/cn/3xfx7dqx4zx7lmdpfl0jh9g80000gn/T/ipykernel_4229/2239560915.py:1: FutureWarning: Passing literal html to 'read_html' is deprecated and will be removed in a future version. To read from a literal string, wrap it in a 'StringIO' object.\n",
      "  table = pd.read_html(str(table))\n"
     ]
    }
   ],
   "source": [
    "table = pd.read_html(str(table))"
   ]
  },
  {
   "cell_type": "code",
   "execution_count": 64,
   "metadata": {
    "id": "GQ_LCYp0TMkA"
   },
   "outputs": [
    {
     "data": {
      "text/html": [
       "<div>\n",
       "<style scoped>\n",
       "    .dataframe tbody tr th:only-of-type {\n",
       "        vertical-align: middle;\n",
       "    }\n",
       "\n",
       "    .dataframe tbody tr th {\n",
       "        vertical-align: top;\n",
       "    }\n",
       "\n",
       "    .dataframe thead th {\n",
       "        text-align: right;\n",
       "    }\n",
       "</style>\n",
       "<table border=\"1\" class=\"dataframe\">\n",
       "  <thead>\n",
       "    <tr style=\"text-align: right;\">\n",
       "      <th></th>\n",
       "      <th>0</th>\n",
       "      <th>1</th>\n",
       "      <th>2</th>\n",
       "      <th>3</th>\n",
       "      <th>4</th>\n",
       "      <th>5</th>\n",
       "      <th>6</th>\n",
       "      <th>7</th>\n",
       "      <th>8</th>\n",
       "      <th>9</th>\n",
       "      <th>10</th>\n",
       "      <th>11</th>\n",
       "    </tr>\n",
       "  </thead>\n",
       "  <tbody>\n",
       "    <tr>\n",
       "      <th>0</th>\n",
       "      <td>1</td>\n",
       "      <td>2</td>\n",
       "      <td>3</td>\n",
       "      <td>4</td>\n",
       "      <td>5</td>\n",
       "      <td>6</td>\n",
       "      <td>7</td>\n",
       "      <td>8</td>\n",
       "      <td>9</td>\n",
       "      <td>10</td>\n",
       "      <td>다음</td>\n",
       "      <td>맨뒤</td>\n",
       "    </tr>\n",
       "  </tbody>\n",
       "</table>\n",
       "</div>"
      ],
      "text/plain": [
       "   0   1   2   3   4   5   6   7   8   9   10  11\n",
       "0   1   2   3   4   5   6   7   8   9  10  다음  맨뒤"
      ]
     },
     "execution_count": 64,
     "metadata": {},
     "output_type": "execute_result"
    }
   ],
   "source": [
    "# table[0]와 table[1]을 확인하여 보면 table[0]에 필요한 데이터들이 있습니다.\n",
    "table[1]"
   ]
  },
  {
   "cell_type": "code",
   "execution_count": 65,
   "metadata": {
    "id": "0gI1rNUbTMkA"
   },
   "outputs": [
    {
     "data": {
      "text/html": [
       "<div>\n",
       "<style scoped>\n",
       "    .dataframe tbody tr th:only-of-type {\n",
       "        vertical-align: middle;\n",
       "    }\n",
       "\n",
       "    .dataframe tbody tr th {\n",
       "        vertical-align: top;\n",
       "    }\n",
       "\n",
       "    .dataframe thead th {\n",
       "        text-align: right;\n",
       "    }\n",
       "</style>\n",
       "<table border=\"1\" class=\"dataframe\">\n",
       "  <thead>\n",
       "    <tr style=\"text-align: right;\">\n",
       "      <th></th>\n",
       "      <th>날짜</th>\n",
       "      <th>종가</th>\n",
       "      <th>전일비</th>\n",
       "      <th>시가</th>\n",
       "      <th>고가</th>\n",
       "      <th>저가</th>\n",
       "      <th>거래량</th>\n",
       "    </tr>\n",
       "  </thead>\n",
       "  <tbody>\n",
       "    <tr>\n",
       "      <th>1</th>\n",
       "      <td>2023.11.06</td>\n",
       "      <td>81300.0</td>\n",
       "      <td>4000.0</td>\n",
       "      <td>78700.0</td>\n",
       "      <td>81400.0</td>\n",
       "      <td>78500.0</td>\n",
       "      <td>185131.0</td>\n",
       "    </tr>\n",
       "    <tr>\n",
       "      <th>2</th>\n",
       "      <td>2023.11.03</td>\n",
       "      <td>77300.0</td>\n",
       "      <td>100.0</td>\n",
       "      <td>78000.0</td>\n",
       "      <td>78200.0</td>\n",
       "      <td>77100.0</td>\n",
       "      <td>65838.0</td>\n",
       "    </tr>\n",
       "    <tr>\n",
       "      <th>3</th>\n",
       "      <td>2023.11.02</td>\n",
       "      <td>77200.0</td>\n",
       "      <td>1600.0</td>\n",
       "      <td>76100.0</td>\n",
       "      <td>77500.0</td>\n",
       "      <td>75800.0</td>\n",
       "      <td>147421.0</td>\n",
       "    </tr>\n",
       "    <tr>\n",
       "      <th>4</th>\n",
       "      <td>2023.11.01</td>\n",
       "      <td>75600.0</td>\n",
       "      <td>200.0</td>\n",
       "      <td>75400.0</td>\n",
       "      <td>76100.0</td>\n",
       "      <td>74300.0</td>\n",
       "      <td>92279.0</td>\n",
       "    </tr>\n",
       "    <tr>\n",
       "      <th>5</th>\n",
       "      <td>2023.10.31</td>\n",
       "      <td>75400.0</td>\n",
       "      <td>500.0</td>\n",
       "      <td>76500.0</td>\n",
       "      <td>77000.0</td>\n",
       "      <td>74800.0</td>\n",
       "      <td>79072.0</td>\n",
       "    </tr>\n",
       "    <tr>\n",
       "      <th>9</th>\n",
       "      <td>2023.10.30</td>\n",
       "      <td>75900.0</td>\n",
       "      <td>1100.0</td>\n",
       "      <td>74400.0</td>\n",
       "      <td>76300.0</td>\n",
       "      <td>74400.0</td>\n",
       "      <td>83365.0</td>\n",
       "    </tr>\n",
       "    <tr>\n",
       "      <th>10</th>\n",
       "      <td>2023.10.27</td>\n",
       "      <td>74800.0</td>\n",
       "      <td>600.0</td>\n",
       "      <td>75800.0</td>\n",
       "      <td>76300.0</td>\n",
       "      <td>74600.0</td>\n",
       "      <td>80275.0</td>\n",
       "    </tr>\n",
       "    <tr>\n",
       "      <th>11</th>\n",
       "      <td>2023.10.26</td>\n",
       "      <td>75400.0</td>\n",
       "      <td>1800.0</td>\n",
       "      <td>76500.0</td>\n",
       "      <td>76700.0</td>\n",
       "      <td>74100.0</td>\n",
       "      <td>98644.0</td>\n",
       "    </tr>\n",
       "    <tr>\n",
       "      <th>12</th>\n",
       "      <td>2023.10.25</td>\n",
       "      <td>77200.0</td>\n",
       "      <td>300.0</td>\n",
       "      <td>77300.0</td>\n",
       "      <td>78000.0</td>\n",
       "      <td>76100.0</td>\n",
       "      <td>102844.0</td>\n",
       "    </tr>\n",
       "    <tr>\n",
       "      <th>13</th>\n",
       "      <td>2023.10.24</td>\n",
       "      <td>76900.0</td>\n",
       "      <td>900.0</td>\n",
       "      <td>76800.0</td>\n",
       "      <td>77300.0</td>\n",
       "      <td>73500.0</td>\n",
       "      <td>129541.0</td>\n",
       "    </tr>\n",
       "  </tbody>\n",
       "</table>\n",
       "</div>"
      ],
      "text/plain": [
       "            날짜       종가     전일비       시가       고가       저가       거래량\n",
       "1   2023.11.06  81300.0  4000.0  78700.0  81400.0  78500.0  185131.0\n",
       "2   2023.11.03  77300.0   100.0  78000.0  78200.0  77100.0   65838.0\n",
       "3   2023.11.02  77200.0  1600.0  76100.0  77500.0  75800.0  147421.0\n",
       "4   2023.11.01  75600.0   200.0  75400.0  76100.0  74300.0   92279.0\n",
       "5   2023.10.31  75400.0   500.0  76500.0  77000.0  74800.0   79072.0\n",
       "9   2023.10.30  75900.0  1100.0  74400.0  76300.0  74400.0   83365.0\n",
       "10  2023.10.27  74800.0   600.0  75800.0  76300.0  74600.0   80275.0\n",
       "11  2023.10.26  75400.0  1800.0  76500.0  76700.0  74100.0   98644.0\n",
       "12  2023.10.25  77200.0   300.0  77300.0  78000.0  76100.0  102844.0\n",
       "13  2023.10.24  76900.0   900.0  76800.0  77300.0  73500.0  129541.0"
      ]
     },
     "execution_count": 65,
     "metadata": {},
     "output_type": "execute_result"
    }
   ],
   "source": [
    "# dropna를 통해 결측치가 들어있는 row를 제거합니다.\n",
    "temp = table[0].dropna()\n",
    "temp"
   ]
  },
  {
   "cell_type": "markdown",
   "metadata": {
    "id": "CKhsb94wTMkA"
   },
   "source": [
    "## 페이지별 데이터 수집 함수 만들기"
   ]
  },
  {
   "cell_type": "code",
   "execution_count": 66,
   "metadata": {
    "id": "gJugcyoiTMkA"
   },
   "outputs": [],
   "source": [
    "def get_day_list(item_code, page_no):\n",
    "    url = f\"https://finance.naver.com/item/sise_day.nhn?code={item_code}&page={page_no}\"    \n",
    "    headers = {'user-agent': 'Mozilla/5.0 (Macintosh; Intel Mac OS X 10_15_7) AppleWebKit/537.36 (KHTML, like Gecko) Chrome/88.0.4324.96 Safari/537.36'}\n",
    "    response = requests.get(url, headers=headers)\n",
    "    html = bs(response.text, \"lxml\")\n",
    "    table = html.select(\"table\")\n",
    "    table = pd.read_html(str(table))\n",
    "    temp = table[0].dropna()\n",
    "    return temp"
   ]
  },
  {
   "cell_type": "code",
   "execution_count": 67,
   "metadata": {
    "id": "evjinapgTMkA"
   },
   "outputs": [
    {
     "name": "stderr",
     "output_type": "stream",
     "text": [
      "/var/folders/cn/3xfx7dqx4zx7lmdpfl0jh9g80000gn/T/ipykernel_4229/515146795.py:7: FutureWarning: Passing literal html to 'read_html' is deprecated and will be removed in a future version. To read from a literal string, wrap it in a 'StringIO' object.\n",
      "  table = pd.read_html(str(table))\n"
     ]
    },
    {
     "data": {
      "text/html": [
       "<div>\n",
       "<style scoped>\n",
       "    .dataframe tbody tr th:only-of-type {\n",
       "        vertical-align: middle;\n",
       "    }\n",
       "\n",
       "    .dataframe tbody tr th {\n",
       "        vertical-align: top;\n",
       "    }\n",
       "\n",
       "    .dataframe thead th {\n",
       "        text-align: right;\n",
       "    }\n",
       "</style>\n",
       "<table border=\"1\" class=\"dataframe\">\n",
       "  <thead>\n",
       "    <tr style=\"text-align: right;\">\n",
       "      <th></th>\n",
       "      <th>날짜</th>\n",
       "      <th>종가</th>\n",
       "      <th>전일비</th>\n",
       "      <th>시가</th>\n",
       "      <th>고가</th>\n",
       "      <th>저가</th>\n",
       "      <th>거래량</th>\n",
       "    </tr>\n",
       "  </thead>\n",
       "  <tbody>\n",
       "    <tr>\n",
       "      <th>1</th>\n",
       "      <td>2023.11.06</td>\n",
       "      <td>81300.0</td>\n",
       "      <td>4000.0</td>\n",
       "      <td>78700.0</td>\n",
       "      <td>81400.0</td>\n",
       "      <td>78500.0</td>\n",
       "      <td>185131.0</td>\n",
       "    </tr>\n",
       "    <tr>\n",
       "      <th>2</th>\n",
       "      <td>2023.11.03</td>\n",
       "      <td>77300.0</td>\n",
       "      <td>100.0</td>\n",
       "      <td>78000.0</td>\n",
       "      <td>78200.0</td>\n",
       "      <td>77100.0</td>\n",
       "      <td>65838.0</td>\n",
       "    </tr>\n",
       "    <tr>\n",
       "      <th>3</th>\n",
       "      <td>2023.11.02</td>\n",
       "      <td>77200.0</td>\n",
       "      <td>1600.0</td>\n",
       "      <td>76100.0</td>\n",
       "      <td>77500.0</td>\n",
       "      <td>75800.0</td>\n",
       "      <td>147421.0</td>\n",
       "    </tr>\n",
       "    <tr>\n",
       "      <th>4</th>\n",
       "      <td>2023.11.01</td>\n",
       "      <td>75600.0</td>\n",
       "      <td>200.0</td>\n",
       "      <td>75400.0</td>\n",
       "      <td>76100.0</td>\n",
       "      <td>74300.0</td>\n",
       "      <td>92279.0</td>\n",
       "    </tr>\n",
       "    <tr>\n",
       "      <th>5</th>\n",
       "      <td>2023.10.31</td>\n",
       "      <td>75400.0</td>\n",
       "      <td>500.0</td>\n",
       "      <td>76500.0</td>\n",
       "      <td>77000.0</td>\n",
       "      <td>74800.0</td>\n",
       "      <td>79072.0</td>\n",
       "    </tr>\n",
       "    <tr>\n",
       "      <th>9</th>\n",
       "      <td>2023.10.30</td>\n",
       "      <td>75900.0</td>\n",
       "      <td>1100.0</td>\n",
       "      <td>74400.0</td>\n",
       "      <td>76300.0</td>\n",
       "      <td>74400.0</td>\n",
       "      <td>83365.0</td>\n",
       "    </tr>\n",
       "    <tr>\n",
       "      <th>10</th>\n",
       "      <td>2023.10.27</td>\n",
       "      <td>74800.0</td>\n",
       "      <td>600.0</td>\n",
       "      <td>75800.0</td>\n",
       "      <td>76300.0</td>\n",
       "      <td>74600.0</td>\n",
       "      <td>80275.0</td>\n",
       "    </tr>\n",
       "    <tr>\n",
       "      <th>11</th>\n",
       "      <td>2023.10.26</td>\n",
       "      <td>75400.0</td>\n",
       "      <td>1800.0</td>\n",
       "      <td>76500.0</td>\n",
       "      <td>76700.0</td>\n",
       "      <td>74100.0</td>\n",
       "      <td>98644.0</td>\n",
       "    </tr>\n",
       "    <tr>\n",
       "      <th>12</th>\n",
       "      <td>2023.10.25</td>\n",
       "      <td>77200.0</td>\n",
       "      <td>300.0</td>\n",
       "      <td>77300.0</td>\n",
       "      <td>78000.0</td>\n",
       "      <td>76100.0</td>\n",
       "      <td>102844.0</td>\n",
       "    </tr>\n",
       "    <tr>\n",
       "      <th>13</th>\n",
       "      <td>2023.10.24</td>\n",
       "      <td>76900.0</td>\n",
       "      <td>900.0</td>\n",
       "      <td>76800.0</td>\n",
       "      <td>77300.0</td>\n",
       "      <td>73500.0</td>\n",
       "      <td>129541.0</td>\n",
       "    </tr>\n",
       "  </tbody>\n",
       "</table>\n",
       "</div>"
      ],
      "text/plain": [
       "            날짜       종가     전일비       시가       고가       저가       거래량\n",
       "1   2023.11.06  81300.0  4000.0  78700.0  81400.0  78500.0  185131.0\n",
       "2   2023.11.03  77300.0   100.0  78000.0  78200.0  77100.0   65838.0\n",
       "3   2023.11.02  77200.0  1600.0  76100.0  77500.0  75800.0  147421.0\n",
       "4   2023.11.01  75600.0   200.0  75400.0  76100.0  74300.0   92279.0\n",
       "5   2023.10.31  75400.0   500.0  76500.0  77000.0  74800.0   79072.0\n",
       "9   2023.10.30  75900.0  1100.0  74400.0  76300.0  74400.0   83365.0\n",
       "10  2023.10.27  74800.0   600.0  75800.0  76300.0  74600.0   80275.0\n",
       "11  2023.10.26  75400.0  1800.0  76500.0  76700.0  74100.0   98644.0\n",
       "12  2023.10.25  77200.0   300.0  77300.0  78000.0  76100.0  102844.0\n",
       "13  2023.10.24  76900.0   900.0  76800.0  77300.0  73500.0  129541.0"
      ]
     },
     "execution_count": 67,
     "metadata": {},
     "output_type": "execute_result"
    }
   ],
   "source": [
    "# 함수가 잘 만들어졌는지 확인하기\n",
    "get_day_list(item_code, 1)"
   ]
  },
  {
   "cell_type": "markdown",
   "metadata": {
    "id": "uuaac8XTTMkA"
   },
   "source": [
    "## 반복문을 통한 전체 일자 데이터 수집하기\n",
    "* (주의) 기간이 긴 데이터를 수집할때는 서버에 부담을 주지 않기 위해 time.sleep()값을 주세요."
   ]
  },
  {
   "cell_type": "code",
   "execution_count": 68,
   "metadata": {
    "id": "EQs1C6C_TMkA"
   },
   "outputs": [
    {
     "name": "stderr",
     "output_type": "stream",
     "text": [
      "/var/folders/cn/3xfx7dqx4zx7lmdpfl0jh9g80000gn/T/ipykernel_4229/515146795.py:7: FutureWarning: Passing literal html to 'read_html' is deprecated and will be removed in a future version. To read from a literal string, wrap it in a 'StringIO' object.\n",
      "  table = pd.read_html(str(table))\n"
     ]
    },
    {
     "name": "stdout",
     "output_type": "stream",
     "text": [
      "1\n",
      "2\n"
     ]
    },
    {
     "name": "stderr",
     "output_type": "stream",
     "text": [
      "/var/folders/cn/3xfx7dqx4zx7lmdpfl0jh9g80000gn/T/ipykernel_4229/515146795.py:7: FutureWarning: Passing literal html to 'read_html' is deprecated and will be removed in a future version. To read from a literal string, wrap it in a 'StringIO' object.\n",
      "  table = pd.read_html(str(table))\n",
      "/var/folders/cn/3xfx7dqx4zx7lmdpfl0jh9g80000gn/T/ipykernel_4229/515146795.py:7: FutureWarning: Passing literal html to 'read_html' is deprecated and will be removed in a future version. To read from a literal string, wrap it in a 'StringIO' object.\n",
      "  table = pd.read_html(str(table))\n"
     ]
    },
    {
     "name": "stdout",
     "output_type": "stream",
     "text": [
      "3\n",
      "4\n"
     ]
    },
    {
     "name": "stderr",
     "output_type": "stream",
     "text": [
      "/var/folders/cn/3xfx7dqx4zx7lmdpfl0jh9g80000gn/T/ipykernel_4229/515146795.py:7: FutureWarning: Passing literal html to 'read_html' is deprecated and will be removed in a future version. To read from a literal string, wrap it in a 'StringIO' object.\n",
      "  table = pd.read_html(str(table))\n",
      "/var/folders/cn/3xfx7dqx4zx7lmdpfl0jh9g80000gn/T/ipykernel_4229/515146795.py:7: FutureWarning: Passing literal html to 'read_html' is deprecated and will be removed in a future version. To read from a literal string, wrap it in a 'StringIO' object.\n",
      "  table = pd.read_html(str(table))\n"
     ]
    },
    {
     "name": "stdout",
     "output_type": "stream",
     "text": [
      "5\n",
      "6\n"
     ]
    },
    {
     "name": "stderr",
     "output_type": "stream",
     "text": [
      "/var/folders/cn/3xfx7dqx4zx7lmdpfl0jh9g80000gn/T/ipykernel_4229/515146795.py:7: FutureWarning: Passing literal html to 'read_html' is deprecated and will be removed in a future version. To read from a literal string, wrap it in a 'StringIO' object.\n",
      "  table = pd.read_html(str(table))\n",
      "/var/folders/cn/3xfx7dqx4zx7lmdpfl0jh9g80000gn/T/ipykernel_4229/515146795.py:7: FutureWarning: Passing literal html to 'read_html' is deprecated and will be removed in a future version. To read from a literal string, wrap it in a 'StringIO' object.\n",
      "  table = pd.read_html(str(table))\n"
     ]
    },
    {
     "name": "stdout",
     "output_type": "stream",
     "text": [
      "7\n",
      "8\n"
     ]
    },
    {
     "name": "stderr",
     "output_type": "stream",
     "text": [
      "/var/folders/cn/3xfx7dqx4zx7lmdpfl0jh9g80000gn/T/ipykernel_4229/515146795.py:7: FutureWarning: Passing literal html to 'read_html' is deprecated and will be removed in a future version. To read from a literal string, wrap it in a 'StringIO' object.\n",
      "  table = pd.read_html(str(table))\n",
      "/var/folders/cn/3xfx7dqx4zx7lmdpfl0jh9g80000gn/T/ipykernel_4229/515146795.py:7: FutureWarning: Passing literal html to 'read_html' is deprecated and will be removed in a future version. To read from a literal string, wrap it in a 'StringIO' object.\n",
      "  table = pd.read_html(str(table))\n"
     ]
    },
    {
     "name": "stdout",
     "output_type": "stream",
     "text": [
      "9\n",
      "10\n"
     ]
    },
    {
     "name": "stderr",
     "output_type": "stream",
     "text": [
      "/var/folders/cn/3xfx7dqx4zx7lmdpfl0jh9g80000gn/T/ipykernel_4229/515146795.py:7: FutureWarning: Passing literal html to 'read_html' is deprecated and will be removed in a future version. To read from a literal string, wrap it in a 'StringIO' object.\n",
      "  table = pd.read_html(str(table))\n"
     ]
    }
   ],
   "source": [
    "import time\n",
    "\n",
    "page_no = 1\n",
    "item_list = []\n",
    "\n",
    "while True:\n",
    "    print(page_no)\n",
    "    temp = get_day_list(item_code, page_no)\n",
    "    item_list.append(temp)\n",
    "    \n",
    "    page_no = page_no + 1\n",
    "    time.sleep(0.1)\n",
    "    \n",
    "    #if temp.shape[0] < 10:\n",
    "    if page_no > 10:\n",
    "        break;"
   ]
  },
  {
   "cell_type": "code",
   "execution_count": 69,
   "metadata": {},
   "outputs": [
    {
     "data": {
      "text/plain": [
       "10"
      ]
     },
     "execution_count": 69,
     "metadata": {},
     "output_type": "execute_result"
    }
   ],
   "source": [
    "len(item_list)"
   ]
  },
  {
   "cell_type": "markdown",
   "metadata": {
    "id": "iEFBJv5XTMkA"
   },
   "source": [
    "## 수집한 데이터 하나의 데이터프레임으로 합치기"
   ]
  },
  {
   "cell_type": "code",
   "execution_count": 70,
   "metadata": {
    "id": "mUcxeTMFTMkA"
   },
   "outputs": [],
   "source": [
    "# DataFrame들이 list의 형태로 저장된 것을 concat을 이용하여 합치면서 하나의 DataFrame으로 만듭니다.\n",
    "df = pd.concat(item_list)"
   ]
  },
  {
   "cell_type": "code",
   "execution_count": 71,
   "metadata": {
    "id": "Ep3NWfM-TMkA"
   },
   "outputs": [
    {
     "data": {
      "text/html": [
       "<div>\n",
       "<style scoped>\n",
       "    .dataframe tbody tr th:only-of-type {\n",
       "        vertical-align: middle;\n",
       "    }\n",
       "\n",
       "    .dataframe tbody tr th {\n",
       "        vertical-align: top;\n",
       "    }\n",
       "\n",
       "    .dataframe thead th {\n",
       "        text-align: right;\n",
       "    }\n",
       "</style>\n",
       "<table border=\"1\" class=\"dataframe\">\n",
       "  <thead>\n",
       "    <tr style=\"text-align: right;\">\n",
       "      <th></th>\n",
       "      <th>날짜</th>\n",
       "      <th>종가</th>\n",
       "      <th>전일비</th>\n",
       "      <th>시가</th>\n",
       "      <th>고가</th>\n",
       "      <th>저가</th>\n",
       "      <th>거래량</th>\n",
       "    </tr>\n",
       "  </thead>\n",
       "  <tbody>\n",
       "    <tr>\n",
       "      <th>1</th>\n",
       "      <td>2023.11.06</td>\n",
       "      <td>81300.0</td>\n",
       "      <td>4000.0</td>\n",
       "      <td>78700.0</td>\n",
       "      <td>81400.0</td>\n",
       "      <td>78500.0</td>\n",
       "      <td>185131.0</td>\n",
       "    </tr>\n",
       "    <tr>\n",
       "      <th>2</th>\n",
       "      <td>2023.11.03</td>\n",
       "      <td>77300.0</td>\n",
       "      <td>100.0</td>\n",
       "      <td>78000.0</td>\n",
       "      <td>78200.0</td>\n",
       "      <td>77100.0</td>\n",
       "      <td>65838.0</td>\n",
       "    </tr>\n",
       "    <tr>\n",
       "      <th>3</th>\n",
       "      <td>2023.11.02</td>\n",
       "      <td>77200.0</td>\n",
       "      <td>1600.0</td>\n",
       "      <td>76100.0</td>\n",
       "      <td>77500.0</td>\n",
       "      <td>75800.0</td>\n",
       "      <td>147421.0</td>\n",
       "    </tr>\n",
       "    <tr>\n",
       "      <th>4</th>\n",
       "      <td>2023.11.01</td>\n",
       "      <td>75600.0</td>\n",
       "      <td>200.0</td>\n",
       "      <td>75400.0</td>\n",
       "      <td>76100.0</td>\n",
       "      <td>74300.0</td>\n",
       "      <td>92279.0</td>\n",
       "    </tr>\n",
       "    <tr>\n",
       "      <th>5</th>\n",
       "      <td>2023.10.31</td>\n",
       "      <td>75400.0</td>\n",
       "      <td>500.0</td>\n",
       "      <td>76500.0</td>\n",
       "      <td>77000.0</td>\n",
       "      <td>74800.0</td>\n",
       "      <td>79072.0</td>\n",
       "    </tr>\n",
       "  </tbody>\n",
       "</table>\n",
       "</div>"
      ],
      "text/plain": [
       "           날짜       종가     전일비       시가       고가       저가       거래량\n",
       "1  2023.11.06  81300.0  4000.0  78700.0  81400.0  78500.0  185131.0\n",
       "2  2023.11.03  77300.0   100.0  78000.0  78200.0  77100.0   65838.0\n",
       "3  2023.11.02  77200.0  1600.0  76100.0  77500.0  75800.0  147421.0\n",
       "4  2023.11.01  75600.0   200.0  75400.0  76100.0  74300.0   92279.0\n",
       "5  2023.10.31  75400.0   500.0  76500.0  77000.0  74800.0   79072.0"
      ]
     },
     "execution_count": 71,
     "metadata": {},
     "output_type": "execute_result"
    }
   ],
   "source": [
    "# head와 tail로 데이터의 일부를 가져와서 봅니다.\n",
    "df.head()"
   ]
  },
  {
   "cell_type": "code",
   "execution_count": 72,
   "metadata": {
    "id": "hHcKUo8iTMkA"
   },
   "outputs": [
    {
     "data": {
      "text/html": [
       "<div>\n",
       "<style scoped>\n",
       "    .dataframe tbody tr th:only-of-type {\n",
       "        vertical-align: middle;\n",
       "    }\n",
       "\n",
       "    .dataframe tbody tr th {\n",
       "        vertical-align: top;\n",
       "    }\n",
       "\n",
       "    .dataframe thead th {\n",
       "        text-align: right;\n",
       "    }\n",
       "</style>\n",
       "<table border=\"1\" class=\"dataframe\">\n",
       "  <thead>\n",
       "    <tr style=\"text-align: right;\">\n",
       "      <th></th>\n",
       "      <th>날짜</th>\n",
       "      <th>종가</th>\n",
       "      <th>전일비</th>\n",
       "      <th>시가</th>\n",
       "      <th>고가</th>\n",
       "      <th>저가</th>\n",
       "      <th>거래량</th>\n",
       "    </tr>\n",
       "  </thead>\n",
       "  <tbody>\n",
       "    <tr>\n",
       "      <th>9</th>\n",
       "      <td>2023.06.16</td>\n",
       "      <td>85800.0</td>\n",
       "      <td>6000.0</td>\n",
       "      <td>80400.0</td>\n",
       "      <td>86500.0</td>\n",
       "      <td>80300.0</td>\n",
       "      <td>693322.0</td>\n",
       "    </tr>\n",
       "    <tr>\n",
       "      <th>10</th>\n",
       "      <td>2023.06.15</td>\n",
       "      <td>79800.0</td>\n",
       "      <td>300.0</td>\n",
       "      <td>80900.0</td>\n",
       "      <td>82700.0</td>\n",
       "      <td>78700.0</td>\n",
       "      <td>183134.0</td>\n",
       "    </tr>\n",
       "    <tr>\n",
       "      <th>11</th>\n",
       "      <td>2023.06.14</td>\n",
       "      <td>80100.0</td>\n",
       "      <td>900.0</td>\n",
       "      <td>80800.0</td>\n",
       "      <td>81700.0</td>\n",
       "      <td>79900.0</td>\n",
       "      <td>193070.0</td>\n",
       "    </tr>\n",
       "    <tr>\n",
       "      <th>12</th>\n",
       "      <td>2023.06.13</td>\n",
       "      <td>81000.0</td>\n",
       "      <td>3500.0</td>\n",
       "      <td>77400.0</td>\n",
       "      <td>81500.0</td>\n",
       "      <td>77400.0</td>\n",
       "      <td>366343.0</td>\n",
       "    </tr>\n",
       "    <tr>\n",
       "      <th>13</th>\n",
       "      <td>2023.06.12</td>\n",
       "      <td>77500.0</td>\n",
       "      <td>3600.0</td>\n",
       "      <td>73900.0</td>\n",
       "      <td>78300.0</td>\n",
       "      <td>73900.0</td>\n",
       "      <td>229972.0</td>\n",
       "    </tr>\n",
       "  </tbody>\n",
       "</table>\n",
       "</div>"
      ],
      "text/plain": [
       "            날짜       종가     전일비       시가       고가       저가       거래량\n",
       "9   2023.06.16  85800.0  6000.0  80400.0  86500.0  80300.0  693322.0\n",
       "10  2023.06.15  79800.0   300.0  80900.0  82700.0  78700.0  183134.0\n",
       "11  2023.06.14  80100.0   900.0  80800.0  81700.0  79900.0  193070.0\n",
       "12  2023.06.13  81000.0  3500.0  77400.0  81500.0  77400.0  366343.0\n",
       "13  2023.06.12  77500.0  3600.0  73900.0  78300.0  73900.0  229972.0"
      ]
     },
     "execution_count": 72,
     "metadata": {},
     "output_type": "execute_result"
    }
   ],
   "source": [
    "df.tail()"
   ]
  },
  {
   "cell_type": "markdown",
   "metadata": {
    "id": "DdML6w8yTMkA"
   },
   "source": [
    "## 데이터프레임에 종목코드와 종목명을 추가하기\n",
    "* 파생변수 만들기"
   ]
  },
  {
   "cell_type": "code",
   "execution_count": 73,
   "metadata": {
    "id": "-yIDnlZHTMkA"
   },
   "outputs": [
    {
     "data": {
      "text/html": [
       "<div>\n",
       "<style scoped>\n",
       "    .dataframe tbody tr th:only-of-type {\n",
       "        vertical-align: middle;\n",
       "    }\n",
       "\n",
       "    .dataframe tbody tr th {\n",
       "        vertical-align: top;\n",
       "    }\n",
       "\n",
       "    .dataframe thead th {\n",
       "        text-align: right;\n",
       "    }\n",
       "</style>\n",
       "<table border=\"1\" class=\"dataframe\">\n",
       "  <thead>\n",
       "    <tr style=\"text-align: right;\">\n",
       "      <th></th>\n",
       "      <th>날짜</th>\n",
       "      <th>종가</th>\n",
       "      <th>전일비</th>\n",
       "      <th>시가</th>\n",
       "      <th>고가</th>\n",
       "      <th>저가</th>\n",
       "      <th>거래량</th>\n",
       "      <th>종목코드</th>\n",
       "      <th>종목명</th>\n",
       "    </tr>\n",
       "  </thead>\n",
       "  <tbody>\n",
       "    <tr>\n",
       "      <th>1</th>\n",
       "      <td>2023.11.06</td>\n",
       "      <td>81300.0</td>\n",
       "      <td>4000.0</td>\n",
       "      <td>78700.0</td>\n",
       "      <td>81400.0</td>\n",
       "      <td>78500.0</td>\n",
       "      <td>185131.0</td>\n",
       "      <td>326030</td>\n",
       "      <td>SK바이오팜</td>\n",
       "    </tr>\n",
       "    <tr>\n",
       "      <th>2</th>\n",
       "      <td>2023.11.03</td>\n",
       "      <td>77300.0</td>\n",
       "      <td>100.0</td>\n",
       "      <td>78000.0</td>\n",
       "      <td>78200.0</td>\n",
       "      <td>77100.0</td>\n",
       "      <td>65838.0</td>\n",
       "      <td>326030</td>\n",
       "      <td>SK바이오팜</td>\n",
       "    </tr>\n",
       "    <tr>\n",
       "      <th>3</th>\n",
       "      <td>2023.11.02</td>\n",
       "      <td>77200.0</td>\n",
       "      <td>1600.0</td>\n",
       "      <td>76100.0</td>\n",
       "      <td>77500.0</td>\n",
       "      <td>75800.0</td>\n",
       "      <td>147421.0</td>\n",
       "      <td>326030</td>\n",
       "      <td>SK바이오팜</td>\n",
       "    </tr>\n",
       "    <tr>\n",
       "      <th>4</th>\n",
       "      <td>2023.11.01</td>\n",
       "      <td>75600.0</td>\n",
       "      <td>200.0</td>\n",
       "      <td>75400.0</td>\n",
       "      <td>76100.0</td>\n",
       "      <td>74300.0</td>\n",
       "      <td>92279.0</td>\n",
       "      <td>326030</td>\n",
       "      <td>SK바이오팜</td>\n",
       "    </tr>\n",
       "    <tr>\n",
       "      <th>5</th>\n",
       "      <td>2023.10.31</td>\n",
       "      <td>75400.0</td>\n",
       "      <td>500.0</td>\n",
       "      <td>76500.0</td>\n",
       "      <td>77000.0</td>\n",
       "      <td>74800.0</td>\n",
       "      <td>79072.0</td>\n",
       "      <td>326030</td>\n",
       "      <td>SK바이오팜</td>\n",
       "    </tr>\n",
       "    <tr>\n",
       "      <th>...</th>\n",
       "      <td>...</td>\n",
       "      <td>...</td>\n",
       "      <td>...</td>\n",
       "      <td>...</td>\n",
       "      <td>...</td>\n",
       "      <td>...</td>\n",
       "      <td>...</td>\n",
       "      <td>...</td>\n",
       "      <td>...</td>\n",
       "    </tr>\n",
       "    <tr>\n",
       "      <th>9</th>\n",
       "      <td>2023.06.16</td>\n",
       "      <td>85800.0</td>\n",
       "      <td>6000.0</td>\n",
       "      <td>80400.0</td>\n",
       "      <td>86500.0</td>\n",
       "      <td>80300.0</td>\n",
       "      <td>693322.0</td>\n",
       "      <td>326030</td>\n",
       "      <td>SK바이오팜</td>\n",
       "    </tr>\n",
       "    <tr>\n",
       "      <th>10</th>\n",
       "      <td>2023.06.15</td>\n",
       "      <td>79800.0</td>\n",
       "      <td>300.0</td>\n",
       "      <td>80900.0</td>\n",
       "      <td>82700.0</td>\n",
       "      <td>78700.0</td>\n",
       "      <td>183134.0</td>\n",
       "      <td>326030</td>\n",
       "      <td>SK바이오팜</td>\n",
       "    </tr>\n",
       "    <tr>\n",
       "      <th>11</th>\n",
       "      <td>2023.06.14</td>\n",
       "      <td>80100.0</td>\n",
       "      <td>900.0</td>\n",
       "      <td>80800.0</td>\n",
       "      <td>81700.0</td>\n",
       "      <td>79900.0</td>\n",
       "      <td>193070.0</td>\n",
       "      <td>326030</td>\n",
       "      <td>SK바이오팜</td>\n",
       "    </tr>\n",
       "    <tr>\n",
       "      <th>12</th>\n",
       "      <td>2023.06.13</td>\n",
       "      <td>81000.0</td>\n",
       "      <td>3500.0</td>\n",
       "      <td>77400.0</td>\n",
       "      <td>81500.0</td>\n",
       "      <td>77400.0</td>\n",
       "      <td>366343.0</td>\n",
       "      <td>326030</td>\n",
       "      <td>SK바이오팜</td>\n",
       "    </tr>\n",
       "    <tr>\n",
       "      <th>13</th>\n",
       "      <td>2023.06.12</td>\n",
       "      <td>77500.0</td>\n",
       "      <td>3600.0</td>\n",
       "      <td>73900.0</td>\n",
       "      <td>78300.0</td>\n",
       "      <td>73900.0</td>\n",
       "      <td>229972.0</td>\n",
       "      <td>326030</td>\n",
       "      <td>SK바이오팜</td>\n",
       "    </tr>\n",
       "  </tbody>\n",
       "</table>\n",
       "<p>100 rows × 9 columns</p>\n",
       "</div>"
      ],
      "text/plain": [
       "            날짜       종가     전일비       시가       고가       저가       거래량    종목코드  \\\n",
       "1   2023.11.06  81300.0  4000.0  78700.0  81400.0  78500.0  185131.0  326030   \n",
       "2   2023.11.03  77300.0   100.0  78000.0  78200.0  77100.0   65838.0  326030   \n",
       "3   2023.11.02  77200.0  1600.0  76100.0  77500.0  75800.0  147421.0  326030   \n",
       "4   2023.11.01  75600.0   200.0  75400.0  76100.0  74300.0   92279.0  326030   \n",
       "5   2023.10.31  75400.0   500.0  76500.0  77000.0  74800.0   79072.0  326030   \n",
       "..         ...      ...     ...      ...      ...      ...       ...     ...   \n",
       "9   2023.06.16  85800.0  6000.0  80400.0  86500.0  80300.0  693322.0  326030   \n",
       "10  2023.06.15  79800.0   300.0  80900.0  82700.0  78700.0  183134.0  326030   \n",
       "11  2023.06.14  80100.0   900.0  80800.0  81700.0  79900.0  193070.0  326030   \n",
       "12  2023.06.13  81000.0  3500.0  77400.0  81500.0  77400.0  366343.0  326030   \n",
       "13  2023.06.12  77500.0  3600.0  73900.0  78300.0  73900.0  229972.0  326030   \n",
       "\n",
       "       종목명  \n",
       "1   SK바이오팜  \n",
       "2   SK바이오팜  \n",
       "3   SK바이오팜  \n",
       "4   SK바이오팜  \n",
       "5   SK바이오팜  \n",
       "..     ...  \n",
       "9   SK바이오팜  \n",
       "10  SK바이오팜  \n",
       "11  SK바이오팜  \n",
       "12  SK바이오팜  \n",
       "13  SK바이오팜  \n",
       "\n",
       "[100 rows x 9 columns]"
      ]
     },
     "execution_count": 73,
     "metadata": {},
     "output_type": "execute_result"
    }
   ],
   "source": [
    "# '종목코드'와 '종목명' column을 추가하면서 각각 item_code와 item_name 값을 입력합니다.\n",
    "df[\"종목코드\"] = item_code\n",
    "df[\"종목명\"] = item_name\n",
    "df"
   ]
  },
  {
   "cell_type": "markdown",
   "metadata": {
    "id": "3RlnKPE1TMkA"
   },
   "source": [
    "## 컬럼 순서 변경하기"
   ]
  },
  {
   "cell_type": "code",
   "execution_count": 74,
   "metadata": {
    "id": "JblNSbuRTMkA"
   },
   "outputs": [
    {
     "data": {
      "text/plain": [
       "Index(['날짜', '종가', '전일비', '시가', '고가', '저가', '거래량', '종목코드', '종목명'], dtype='object')"
      ]
     },
     "execution_count": 74,
     "metadata": {},
     "output_type": "execute_result"
    }
   ],
   "source": [
    "# DataFrame에서 column 들의 이름을 순서를 조정하여 column순서를 변경할 수 있습니다.\n",
    "df.columns"
   ]
  },
  {
   "cell_type": "code",
   "execution_count": 75,
   "metadata": {},
   "outputs": [],
   "source": [
    "cols = ['종목코드', '종목명', '날짜', '종가', '전일비', '시가', '고가', '저가', '거래량']\n",
    "df = df[cols]"
   ]
  },
  {
   "cell_type": "markdown",
   "metadata": {
    "id": "_-SXjeiSTMkA"
   },
   "source": [
    "## 중복데이터 제거하기"
   ]
  },
  {
   "cell_type": "code",
   "execution_count": 76,
   "metadata": {
    "id": "F0VZGMNRTMkA"
   },
   "outputs": [
    {
     "data": {
      "text/plain": [
       "(100, 9)"
      ]
     },
     "execution_count": 76,
     "metadata": {},
     "output_type": "execute_result"
    }
   ],
   "source": [
    "df = df.drop_duplicates()\n",
    "df.shape"
   ]
  },
  {
   "cell_type": "markdown",
   "metadata": {
    "id": "viEbEi4iTMkB"
   },
   "source": [
    "## 기술통계값 구하기"
   ]
  },
  {
   "cell_type": "code",
   "execution_count": 77,
   "metadata": {
    "id": "Q-gV-QPPTMkB"
   },
   "outputs": [
    {
     "data": {
      "text/html": [
       "<div>\n",
       "<style scoped>\n",
       "    .dataframe tbody tr th:only-of-type {\n",
       "        vertical-align: middle;\n",
       "    }\n",
       "\n",
       "    .dataframe tbody tr th {\n",
       "        vertical-align: top;\n",
       "    }\n",
       "\n",
       "    .dataframe thead th {\n",
       "        text-align: right;\n",
       "    }\n",
       "</style>\n",
       "<table border=\"1\" class=\"dataframe\">\n",
       "  <thead>\n",
       "    <tr style=\"text-align: right;\">\n",
       "      <th></th>\n",
       "      <th>종가</th>\n",
       "      <th>전일비</th>\n",
       "      <th>시가</th>\n",
       "      <th>고가</th>\n",
       "      <th>저가</th>\n",
       "      <th>거래량</th>\n",
       "    </tr>\n",
       "  </thead>\n",
       "  <tbody>\n",
       "    <tr>\n",
       "      <th>count</th>\n",
       "      <td>100.000000</td>\n",
       "      <td>100.000000</td>\n",
       "      <td>100.000000</td>\n",
       "      <td>100.000000</td>\n",
       "      <td>100.000000</td>\n",
       "      <td>100.000000</td>\n",
       "    </tr>\n",
       "    <tr>\n",
       "      <th>mean</th>\n",
       "      <td>83389.000000</td>\n",
       "      <td>1758.000000</td>\n",
       "      <td>83327.000000</td>\n",
       "      <td>85044.000000</td>\n",
       "      <td>81796.000000</td>\n",
       "      <td>208935.780000</td>\n",
       "    </tr>\n",
       "    <tr>\n",
       "      <th>std</th>\n",
       "      <td>5867.835541</td>\n",
       "      <td>1803.597975</td>\n",
       "      <td>5846.502105</td>\n",
       "      <td>6155.088558</td>\n",
       "      <td>5540.920683</td>\n",
       "      <td>164427.944561</td>\n",
       "    </tr>\n",
       "    <tr>\n",
       "      <th>min</th>\n",
       "      <td>73400.000000</td>\n",
       "      <td>0.000000</td>\n",
       "      <td>73400.000000</td>\n",
       "      <td>74000.000000</td>\n",
       "      <td>72700.000000</td>\n",
       "      <td>65838.000000</td>\n",
       "    </tr>\n",
       "    <tr>\n",
       "      <th>25%</th>\n",
       "      <td>79650.000000</td>\n",
       "      <td>575.000000</td>\n",
       "      <td>79100.000000</td>\n",
       "      <td>81500.000000</td>\n",
       "      <td>77625.000000</td>\n",
       "      <td>115673.000000</td>\n",
       "    </tr>\n",
       "    <tr>\n",
       "      <th>50%</th>\n",
       "      <td>83100.000000</td>\n",
       "      <td>1100.000000</td>\n",
       "      <td>83000.000000</td>\n",
       "      <td>84900.000000</td>\n",
       "      <td>81250.000000</td>\n",
       "      <td>151415.000000</td>\n",
       "    </tr>\n",
       "    <tr>\n",
       "      <th>75%</th>\n",
       "      <td>86225.000000</td>\n",
       "      <td>2225.000000</td>\n",
       "      <td>86300.000000</td>\n",
       "      <td>87925.000000</td>\n",
       "      <td>84875.000000</td>\n",
       "      <td>225306.250000</td>\n",
       "    </tr>\n",
       "    <tr>\n",
       "      <th>max</th>\n",
       "      <td>99700.000000</td>\n",
       "      <td>8600.000000</td>\n",
       "      <td>99800.000000</td>\n",
       "      <td>103000.000000</td>\n",
       "      <td>97500.000000</td>\n",
       "      <td>888940.000000</td>\n",
       "    </tr>\n",
       "  </tbody>\n",
       "</table>\n",
       "</div>"
      ],
      "text/plain": [
       "                 종가          전일비            시가             고가            저가  \\\n",
       "count    100.000000   100.000000    100.000000     100.000000    100.000000   \n",
       "mean   83389.000000  1758.000000  83327.000000   85044.000000  81796.000000   \n",
       "std     5867.835541  1803.597975   5846.502105    6155.088558   5540.920683   \n",
       "min    73400.000000     0.000000  73400.000000   74000.000000  72700.000000   \n",
       "25%    79650.000000   575.000000  79100.000000   81500.000000  77625.000000   \n",
       "50%    83100.000000  1100.000000  83000.000000   84900.000000  81250.000000   \n",
       "75%    86225.000000  2225.000000  86300.000000   87925.000000  84875.000000   \n",
       "max    99700.000000  8600.000000  99800.000000  103000.000000  97500.000000   \n",
       "\n",
       "                 거래량  \n",
       "count     100.000000  \n",
       "mean   208935.780000  \n",
       "std    164427.944561  \n",
       "min     65838.000000  \n",
       "25%    115673.000000  \n",
       "50%    151415.000000  \n",
       "75%    225306.250000  \n",
       "max    888940.000000  "
      ]
     },
     "execution_count": 77,
     "metadata": {},
     "output_type": "execute_result"
    }
   ],
   "source": [
    "df.describe()"
   ]
  },
  {
   "cell_type": "markdown",
   "metadata": {
    "id": "Ql0phnyuTMkB"
   },
   "source": [
    "## 최근 날짜 구해서 파일명 만들기"
   ]
  },
  {
   "cell_type": "code",
   "execution_count": 78,
   "metadata": {
    "id": "_dyLUpVVTMkB"
   },
   "outputs": [
    {
     "data": {
      "text/plain": [
       "'2023.11.06'"
      ]
     },
     "execution_count": 78,
     "metadata": {},
     "output_type": "execute_result"
    }
   ],
   "source": [
    "# 날짜 column의 첫 row값 확인\n",
    "date = df.iloc[0][\"날짜\"]\n",
    "date"
   ]
  },
  {
   "cell_type": "code",
   "execution_count": 79,
   "metadata": {
    "id": "teInPugvTMkB"
   },
   "outputs": [
    {
     "data": {
      "text/plain": [
       "'SK바이오팜_326030_2023.11.06.csv'"
      ]
     },
     "execution_count": 79,
     "metadata": {},
     "output_type": "execute_result"
    }
   ],
   "source": [
    "# 종목명, 종목코드, 날짜를 이름으로 하는 csv 파일명 만들기\n",
    "file_name = f\"{item_name}_{item_code}_{date}.csv\"\n",
    "file_name"
   ]
  },
  {
   "cell_type": "markdown",
   "metadata": {
    "id": "1LXe-dutTMkB"
   },
   "source": [
    "## 파일로 저장하기"
   ]
  },
  {
   "cell_type": "code",
   "execution_count": 80,
   "metadata": {
    "id": "dBRXOwIxTMkB"
   },
   "outputs": [],
   "source": [
    "# 파일로 저장하기 \n",
    "df.to_csv(file_name, index=False)"
   ]
  },
  {
   "cell_type": "code",
   "execution_count": 81,
   "metadata": {
    "id": "EEfm9Yk9TMkB"
   },
   "outputs": [
    {
     "data": {
      "text/html": [
       "<div>\n",
       "<style scoped>\n",
       "    .dataframe tbody tr th:only-of-type {\n",
       "        vertical-align: middle;\n",
       "    }\n",
       "\n",
       "    .dataframe tbody tr th {\n",
       "        vertical-align: top;\n",
       "    }\n",
       "\n",
       "    .dataframe thead th {\n",
       "        text-align: right;\n",
       "    }\n",
       "</style>\n",
       "<table border=\"1\" class=\"dataframe\">\n",
       "  <thead>\n",
       "    <tr style=\"text-align: right;\">\n",
       "      <th></th>\n",
       "      <th>종목코드</th>\n",
       "      <th>종목명</th>\n",
       "      <th>날짜</th>\n",
       "      <th>종가</th>\n",
       "      <th>전일비</th>\n",
       "      <th>시가</th>\n",
       "      <th>고가</th>\n",
       "      <th>저가</th>\n",
       "      <th>거래량</th>\n",
       "    </tr>\n",
       "  </thead>\n",
       "  <tbody>\n",
       "    <tr>\n",
       "      <th>0</th>\n",
       "      <td>326030</td>\n",
       "      <td>SK바이오팜</td>\n",
       "      <td>2023.11.06</td>\n",
       "      <td>81300.0</td>\n",
       "      <td>4000.0</td>\n",
       "      <td>78700.0</td>\n",
       "      <td>81400.0</td>\n",
       "      <td>78500.0</td>\n",
       "      <td>185131.0</td>\n",
       "    </tr>\n",
       "    <tr>\n",
       "      <th>1</th>\n",
       "      <td>326030</td>\n",
       "      <td>SK바이오팜</td>\n",
       "      <td>2023.11.03</td>\n",
       "      <td>77300.0</td>\n",
       "      <td>100.0</td>\n",
       "      <td>78000.0</td>\n",
       "      <td>78200.0</td>\n",
       "      <td>77100.0</td>\n",
       "      <td>65838.0</td>\n",
       "    </tr>\n",
       "    <tr>\n",
       "      <th>2</th>\n",
       "      <td>326030</td>\n",
       "      <td>SK바이오팜</td>\n",
       "      <td>2023.11.02</td>\n",
       "      <td>77200.0</td>\n",
       "      <td>1600.0</td>\n",
       "      <td>76100.0</td>\n",
       "      <td>77500.0</td>\n",
       "      <td>75800.0</td>\n",
       "      <td>147421.0</td>\n",
       "    </tr>\n",
       "    <tr>\n",
       "      <th>3</th>\n",
       "      <td>326030</td>\n",
       "      <td>SK바이오팜</td>\n",
       "      <td>2023.11.01</td>\n",
       "      <td>75600.0</td>\n",
       "      <td>200.0</td>\n",
       "      <td>75400.0</td>\n",
       "      <td>76100.0</td>\n",
       "      <td>74300.0</td>\n",
       "      <td>92279.0</td>\n",
       "    </tr>\n",
       "    <tr>\n",
       "      <th>4</th>\n",
       "      <td>326030</td>\n",
       "      <td>SK바이오팜</td>\n",
       "      <td>2023.10.31</td>\n",
       "      <td>75400.0</td>\n",
       "      <td>500.0</td>\n",
       "      <td>76500.0</td>\n",
       "      <td>77000.0</td>\n",
       "      <td>74800.0</td>\n",
       "      <td>79072.0</td>\n",
       "    </tr>\n",
       "    <tr>\n",
       "      <th>...</th>\n",
       "      <td>...</td>\n",
       "      <td>...</td>\n",
       "      <td>...</td>\n",
       "      <td>...</td>\n",
       "      <td>...</td>\n",
       "      <td>...</td>\n",
       "      <td>...</td>\n",
       "      <td>...</td>\n",
       "      <td>...</td>\n",
       "    </tr>\n",
       "    <tr>\n",
       "      <th>95</th>\n",
       "      <td>326030</td>\n",
       "      <td>SK바이오팜</td>\n",
       "      <td>2023.06.16</td>\n",
       "      <td>85800.0</td>\n",
       "      <td>6000.0</td>\n",
       "      <td>80400.0</td>\n",
       "      <td>86500.0</td>\n",
       "      <td>80300.0</td>\n",
       "      <td>693322.0</td>\n",
       "    </tr>\n",
       "    <tr>\n",
       "      <th>96</th>\n",
       "      <td>326030</td>\n",
       "      <td>SK바이오팜</td>\n",
       "      <td>2023.06.15</td>\n",
       "      <td>79800.0</td>\n",
       "      <td>300.0</td>\n",
       "      <td>80900.0</td>\n",
       "      <td>82700.0</td>\n",
       "      <td>78700.0</td>\n",
       "      <td>183134.0</td>\n",
       "    </tr>\n",
       "    <tr>\n",
       "      <th>97</th>\n",
       "      <td>326030</td>\n",
       "      <td>SK바이오팜</td>\n",
       "      <td>2023.06.14</td>\n",
       "      <td>80100.0</td>\n",
       "      <td>900.0</td>\n",
       "      <td>80800.0</td>\n",
       "      <td>81700.0</td>\n",
       "      <td>79900.0</td>\n",
       "      <td>193070.0</td>\n",
       "    </tr>\n",
       "    <tr>\n",
       "      <th>98</th>\n",
       "      <td>326030</td>\n",
       "      <td>SK바이오팜</td>\n",
       "      <td>2023.06.13</td>\n",
       "      <td>81000.0</td>\n",
       "      <td>3500.0</td>\n",
       "      <td>77400.0</td>\n",
       "      <td>81500.0</td>\n",
       "      <td>77400.0</td>\n",
       "      <td>366343.0</td>\n",
       "    </tr>\n",
       "    <tr>\n",
       "      <th>99</th>\n",
       "      <td>326030</td>\n",
       "      <td>SK바이오팜</td>\n",
       "      <td>2023.06.12</td>\n",
       "      <td>77500.0</td>\n",
       "      <td>3600.0</td>\n",
       "      <td>73900.0</td>\n",
       "      <td>78300.0</td>\n",
       "      <td>73900.0</td>\n",
       "      <td>229972.0</td>\n",
       "    </tr>\n",
       "  </tbody>\n",
       "</table>\n",
       "<p>100 rows × 9 columns</p>\n",
       "</div>"
      ],
      "text/plain": [
       "      종목코드     종목명          날짜       종가     전일비       시가       고가       저가  \\\n",
       "0   326030  SK바이오팜  2023.11.06  81300.0  4000.0  78700.0  81400.0  78500.0   \n",
       "1   326030  SK바이오팜  2023.11.03  77300.0   100.0  78000.0  78200.0  77100.0   \n",
       "2   326030  SK바이오팜  2023.11.02  77200.0  1600.0  76100.0  77500.0  75800.0   \n",
       "3   326030  SK바이오팜  2023.11.01  75600.0   200.0  75400.0  76100.0  74300.0   \n",
       "4   326030  SK바이오팜  2023.10.31  75400.0   500.0  76500.0  77000.0  74800.0   \n",
       "..     ...     ...         ...      ...     ...      ...      ...      ...   \n",
       "95  326030  SK바이오팜  2023.06.16  85800.0  6000.0  80400.0  86500.0  80300.0   \n",
       "96  326030  SK바이오팜  2023.06.15  79800.0   300.0  80900.0  82700.0  78700.0   \n",
       "97  326030  SK바이오팜  2023.06.14  80100.0   900.0  80800.0  81700.0  79900.0   \n",
       "98  326030  SK바이오팜  2023.06.13  81000.0  3500.0  77400.0  81500.0  77400.0   \n",
       "99  326030  SK바이오팜  2023.06.12  77500.0  3600.0  73900.0  78300.0  73900.0   \n",
       "\n",
       "         거래량  \n",
       "0   185131.0  \n",
       "1    65838.0  \n",
       "2   147421.0  \n",
       "3    92279.0  \n",
       "4    79072.0  \n",
       "..       ...  \n",
       "95  693322.0  \n",
       "96  183134.0  \n",
       "97  193070.0  \n",
       "98  366343.0  \n",
       "99  229972.0  \n",
       "\n",
       "[100 rows x 9 columns]"
      ]
     },
     "execution_count": 81,
     "metadata": {},
     "output_type": "execute_result"
    }
   ],
   "source": [
    "# 제대로 저장되었는지 파일을 읽어서 확인합니다\n",
    "pd.read_csv(file_name)"
   ]
  },
  {
   "cell_type": "markdown",
   "metadata": {},
   "source": [
    "## 전체 과정을 하나의 함수로 만들기"
   ]
  },
  {
   "cell_type": "code",
   "execution_count": 82,
   "metadata": {},
   "outputs": [],
   "source": [
    "def get_item_list(item_code, item_name):\n",
    "    \"\"\"\n",
    "    일별 시세를 수집하는 함수\n",
    "    \"\"\"\n",
    "    # web page 시작번호\n",
    "    page_no = 1\n",
    "    # 데이터를 저장할 빈 변수 선언\n",
    "    item_list = []\n",
    "\n",
    "    while True:\n",
    "        temp = get_day_list(item_code, page_no)\n",
    "        item_list.append(temp)\n",
    "\n",
    "        page_no = page_no + 1\n",
    "        time.sleep(0.1)\n",
    "\n",
    "        #if temp.shape[0] < 10:\n",
    "        if page_no > 10:\n",
    "            break\n",
    "            \n",
    "    df = pd.concat(item_list)\n",
    "    df[\"종목코드\"] = item_code\n",
    "    df[\"종목명\"] = item_name\n",
    "    cols = ['종목코드', '종목명', '날짜', '종가', '전일비', '시가', '고가', '저가', '거래량']\n",
    "    df = df[cols]\n",
    "\n",
    "    return df"
   ]
  },
  {
   "cell_type": "code",
   "execution_count": 83,
   "metadata": {},
   "outputs": [
    {
     "name": "stderr",
     "output_type": "stream",
     "text": [
      "/var/folders/cn/3xfx7dqx4zx7lmdpfl0jh9g80000gn/T/ipykernel_4229/515146795.py:7: FutureWarning: Passing literal html to 'read_html' is deprecated and will be removed in a future version. To read from a literal string, wrap it in a 'StringIO' object.\n",
      "  table = pd.read_html(str(table))\n",
      "/var/folders/cn/3xfx7dqx4zx7lmdpfl0jh9g80000gn/T/ipykernel_4229/515146795.py:7: FutureWarning: Passing literal html to 'read_html' is deprecated and will be removed in a future version. To read from a literal string, wrap it in a 'StringIO' object.\n",
      "  table = pd.read_html(str(table))\n",
      "/var/folders/cn/3xfx7dqx4zx7lmdpfl0jh9g80000gn/T/ipykernel_4229/515146795.py:7: FutureWarning: Passing literal html to 'read_html' is deprecated and will be removed in a future version. To read from a literal string, wrap it in a 'StringIO' object.\n",
      "  table = pd.read_html(str(table))\n",
      "/var/folders/cn/3xfx7dqx4zx7lmdpfl0jh9g80000gn/T/ipykernel_4229/515146795.py:7: FutureWarning: Passing literal html to 'read_html' is deprecated and will be removed in a future version. To read from a literal string, wrap it in a 'StringIO' object.\n",
      "  table = pd.read_html(str(table))\n",
      "/var/folders/cn/3xfx7dqx4zx7lmdpfl0jh9g80000gn/T/ipykernel_4229/515146795.py:7: FutureWarning: Passing literal html to 'read_html' is deprecated and will be removed in a future version. To read from a literal string, wrap it in a 'StringIO' object.\n",
      "  table = pd.read_html(str(table))\n",
      "/var/folders/cn/3xfx7dqx4zx7lmdpfl0jh9g80000gn/T/ipykernel_4229/515146795.py:7: FutureWarning: Passing literal html to 'read_html' is deprecated and will be removed in a future version. To read from a literal string, wrap it in a 'StringIO' object.\n",
      "  table = pd.read_html(str(table))\n",
      "/var/folders/cn/3xfx7dqx4zx7lmdpfl0jh9g80000gn/T/ipykernel_4229/515146795.py:7: FutureWarning: Passing literal html to 'read_html' is deprecated and will be removed in a future version. To read from a literal string, wrap it in a 'StringIO' object.\n",
      "  table = pd.read_html(str(table))\n",
      "/var/folders/cn/3xfx7dqx4zx7lmdpfl0jh9g80000gn/T/ipykernel_4229/515146795.py:7: FutureWarning: Passing literal html to 'read_html' is deprecated and will be removed in a future version. To read from a literal string, wrap it in a 'StringIO' object.\n",
      "  table = pd.read_html(str(table))\n",
      "/var/folders/cn/3xfx7dqx4zx7lmdpfl0jh9g80000gn/T/ipykernel_4229/515146795.py:7: FutureWarning: Passing literal html to 'read_html' is deprecated and will be removed in a future version. To read from a literal string, wrap it in a 'StringIO' object.\n",
      "  table = pd.read_html(str(table))\n",
      "/var/folders/cn/3xfx7dqx4zx7lmdpfl0jh9g80000gn/T/ipykernel_4229/515146795.py:7: FutureWarning: Passing literal html to 'read_html' is deprecated and will be removed in a future version. To read from a literal string, wrap it in a 'StringIO' object.\n",
      "  table = pd.read_html(str(table))\n"
     ]
    },
    {
     "data": {
      "text/html": [
       "<div>\n",
       "<style scoped>\n",
       "    .dataframe tbody tr th:only-of-type {\n",
       "        vertical-align: middle;\n",
       "    }\n",
       "\n",
       "    .dataframe tbody tr th {\n",
       "        vertical-align: top;\n",
       "    }\n",
       "\n",
       "    .dataframe thead th {\n",
       "        text-align: right;\n",
       "    }\n",
       "</style>\n",
       "<table border=\"1\" class=\"dataframe\">\n",
       "  <thead>\n",
       "    <tr style=\"text-align: right;\">\n",
       "      <th></th>\n",
       "      <th>종목코드</th>\n",
       "      <th>종목명</th>\n",
       "      <th>날짜</th>\n",
       "      <th>종가</th>\n",
       "      <th>전일비</th>\n",
       "      <th>시가</th>\n",
       "      <th>고가</th>\n",
       "      <th>저가</th>\n",
       "      <th>거래량</th>\n",
       "    </tr>\n",
       "  </thead>\n",
       "  <tbody>\n",
       "    <tr>\n",
       "      <th>1</th>\n",
       "      <td>352820</td>\n",
       "      <td>하이브</td>\n",
       "      <td>2023.11.06</td>\n",
       "      <td>225000.0</td>\n",
       "      <td>9000.0</td>\n",
       "      <td>222500.0</td>\n",
       "      <td>227000.0</td>\n",
       "      <td>217000.0</td>\n",
       "      <td>279251.0</td>\n",
       "    </tr>\n",
       "    <tr>\n",
       "      <th>2</th>\n",
       "      <td>352820</td>\n",
       "      <td>하이브</td>\n",
       "      <td>2023.11.03</td>\n",
       "      <td>216000.0</td>\n",
       "      <td>11500.0</td>\n",
       "      <td>231500.0</td>\n",
       "      <td>231500.0</td>\n",
       "      <td>213000.0</td>\n",
       "      <td>448385.0</td>\n",
       "    </tr>\n",
       "    <tr>\n",
       "      <th>3</th>\n",
       "      <td>352820</td>\n",
       "      <td>하이브</td>\n",
       "      <td>2023.11.02</td>\n",
       "      <td>227500.0</td>\n",
       "      <td>3000.0</td>\n",
       "      <td>235000.0</td>\n",
       "      <td>243000.0</td>\n",
       "      <td>220500.0</td>\n",
       "      <td>606694.0</td>\n",
       "    </tr>\n",
       "    <tr>\n",
       "      <th>4</th>\n",
       "      <td>352820</td>\n",
       "      <td>하이브</td>\n",
       "      <td>2023.11.01</td>\n",
       "      <td>230500.0</td>\n",
       "      <td>11000.0</td>\n",
       "      <td>220000.0</td>\n",
       "      <td>231000.0</td>\n",
       "      <td>214000.0</td>\n",
       "      <td>259672.0</td>\n",
       "    </tr>\n",
       "    <tr>\n",
       "      <th>5</th>\n",
       "      <td>352820</td>\n",
       "      <td>하이브</td>\n",
       "      <td>2023.10.31</td>\n",
       "      <td>219500.0</td>\n",
       "      <td>0.0</td>\n",
       "      <td>223500.0</td>\n",
       "      <td>225500.0</td>\n",
       "      <td>216000.0</td>\n",
       "      <td>130896.0</td>\n",
       "    </tr>\n",
       "    <tr>\n",
       "      <th>...</th>\n",
       "      <td>...</td>\n",
       "      <td>...</td>\n",
       "      <td>...</td>\n",
       "      <td>...</td>\n",
       "      <td>...</td>\n",
       "      <td>...</td>\n",
       "      <td>...</td>\n",
       "      <td>...</td>\n",
       "      <td>...</td>\n",
       "    </tr>\n",
       "    <tr>\n",
       "      <th>9</th>\n",
       "      <td>352820</td>\n",
       "      <td>하이브</td>\n",
       "      <td>2023.06.16</td>\n",
       "      <td>297500.0</td>\n",
       "      <td>3000.0</td>\n",
       "      <td>302500.0</td>\n",
       "      <td>303000.0</td>\n",
       "      <td>295000.0</td>\n",
       "      <td>213190.0</td>\n",
       "    </tr>\n",
       "    <tr>\n",
       "      <th>10</th>\n",
       "      <td>352820</td>\n",
       "      <td>하이브</td>\n",
       "      <td>2023.06.15</td>\n",
       "      <td>300500.0</td>\n",
       "      <td>8500.0</td>\n",
       "      <td>296000.0</td>\n",
       "      <td>302500.0</td>\n",
       "      <td>295500.0</td>\n",
       "      <td>329373.0</td>\n",
       "    </tr>\n",
       "    <tr>\n",
       "      <th>11</th>\n",
       "      <td>352820</td>\n",
       "      <td>하이브</td>\n",
       "      <td>2023.06.14</td>\n",
       "      <td>292000.0</td>\n",
       "      <td>2000.0</td>\n",
       "      <td>295000.0</td>\n",
       "      <td>307500.0</td>\n",
       "      <td>288500.0</td>\n",
       "      <td>448757.0</td>\n",
       "    </tr>\n",
       "    <tr>\n",
       "      <th>12</th>\n",
       "      <td>352820</td>\n",
       "      <td>하이브</td>\n",
       "      <td>2023.06.13</td>\n",
       "      <td>294000.0</td>\n",
       "      <td>0.0</td>\n",
       "      <td>294500.0</td>\n",
       "      <td>296500.0</td>\n",
       "      <td>289000.0</td>\n",
       "      <td>209505.0</td>\n",
       "    </tr>\n",
       "    <tr>\n",
       "      <th>13</th>\n",
       "      <td>352820</td>\n",
       "      <td>하이브</td>\n",
       "      <td>2023.06.12</td>\n",
       "      <td>294000.0</td>\n",
       "      <td>13500.0</td>\n",
       "      <td>284500.0</td>\n",
       "      <td>295000.0</td>\n",
       "      <td>281000.0</td>\n",
       "      <td>402574.0</td>\n",
       "    </tr>\n",
       "  </tbody>\n",
       "</table>\n",
       "<p>100 rows × 9 columns</p>\n",
       "</div>"
      ],
      "text/plain": [
       "      종목코드  종목명          날짜        종가      전일비        시가        고가        저가  \\\n",
       "1   352820  하이브  2023.11.06  225000.0   9000.0  222500.0  227000.0  217000.0   \n",
       "2   352820  하이브  2023.11.03  216000.0  11500.0  231500.0  231500.0  213000.0   \n",
       "3   352820  하이브  2023.11.02  227500.0   3000.0  235000.0  243000.0  220500.0   \n",
       "4   352820  하이브  2023.11.01  230500.0  11000.0  220000.0  231000.0  214000.0   \n",
       "5   352820  하이브  2023.10.31  219500.0      0.0  223500.0  225500.0  216000.0   \n",
       "..     ...  ...         ...       ...      ...       ...       ...       ...   \n",
       "9   352820  하이브  2023.06.16  297500.0   3000.0  302500.0  303000.0  295000.0   \n",
       "10  352820  하이브  2023.06.15  300500.0   8500.0  296000.0  302500.0  295500.0   \n",
       "11  352820  하이브  2023.06.14  292000.0   2000.0  295000.0  307500.0  288500.0   \n",
       "12  352820  하이브  2023.06.13  294000.0      0.0  294500.0  296500.0  289000.0   \n",
       "13  352820  하이브  2023.06.12  294000.0  13500.0  284500.0  295000.0  281000.0   \n",
       "\n",
       "         거래량  \n",
       "1   279251.0  \n",
       "2   448385.0  \n",
       "3   606694.0  \n",
       "4   259672.0  \n",
       "5   130896.0  \n",
       "..       ...  \n",
       "9   213190.0  \n",
       "10  329373.0  \n",
       "11  448757.0  \n",
       "12  209505.0  \n",
       "13  402574.0  \n",
       "\n",
       "[100 rows x 9 columns]"
      ]
     },
     "execution_count": 83,
     "metadata": {},
     "output_type": "execute_result"
    }
   ],
   "source": [
    "item_code = \"352820\"\n",
    "item_name = \"하이브\"\n",
    "# 빅히트의 사명이 하이브로 변경되었습니다.\n",
    "\n",
    "# item_code = \"326030\"\n",
    "# item_name = \"SK바이오팜\"\n",
    "\n",
    "get_item_list(item_code, item_name)"
   ]
  }
 ],
 "metadata": {
  "colab": {
   "collapsed_sections": [],
   "name": "3. 네이버금융 개별종목 수집.ipynb",
   "provenance": [],
   "toc_visible": true
  },
  "kernelspec": {
   "display_name": "Python 3",
   "language": "python",
   "name": "python3"
  },
  "language_info": {
   "codemirror_mode": {
    "name": "ipython",
    "version": 3
   },
   "file_extension": ".py",
   "mimetype": "text/x-python",
   "name": "python",
   "nbconvert_exporter": "python",
   "pygments_lexer": "ipython3",
   "version": "3.11.6"
  },
  "toc": {
   "base_numbering": 1,
   "nav_menu": {},
   "number_sections": true,
   "sideBar": true,
   "skip_h1_title": false,
   "title_cell": "Table of Contents",
   "title_sidebar": "Contents",
   "toc_cell": false,
   "toc_position": {
    "height": "calc(100% - 180px)",
    "left": "10px",
    "top": "150px",
    "width": "204.8px"
   },
   "toc_section_display": true,
   "toc_window_display": true
  },
  "varInspector": {
   "cols": {
    "lenName": 16,
    "lenType": 16,
    "lenVar": 40
   },
   "kernels_config": {
    "python": {
     "delete_cmd_postfix": "",
     "delete_cmd_prefix": "del ",
     "library": "var_list.py",
     "varRefreshCmd": "print(var_dic_list())"
    },
    "r": {
     "delete_cmd_postfix": ") ",
     "delete_cmd_prefix": "rm(",
     "library": "var_list.r",
     "varRefreshCmd": "cat(var_dic_list()) "
    }
   },
   "types_to_exclude": [
    "module",
    "function",
    "builtin_function_or_method",
    "instance",
    "_Feature"
   ],
   "window_display": false
  }
 },
 "nbformat": 4,
 "nbformat_minor": 1
}
