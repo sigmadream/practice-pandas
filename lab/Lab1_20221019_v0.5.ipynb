{
 "nbformat": 4,
 "nbformat_minor": 0,
 "metadata": {
  "colab": {
   "provenance": []
  },
  "kernelspec": {
   "name": "python3",
   "language": "python",
   "display_name": "Python 3 (ipykernel)"
  },
  "language_info": {
   "name": "python"
  }
 },
 "cells": [
  {
   "cell_type": "markdown",
   "source": [
    "# Object\n",
    "- 출생율 데이터를 사용해서 `판다스 인 액션`에서 학습한 내용을 복습 및 연습\n",
    "\n",
    "# Goal\n",
    "- `Melt`에 대한 이해 및 사용법\n",
    "  - pivot은 차후에 몇가지 연습\n",
    "- 간단한 필터링\n",
    "- 컬럼 기반 내용 추출\n",
    "- 컬럼 추가 및 변경\n"
   ],
   "metadata": {
    "id": "zVu_1D8z-Y4w"
   }
  },
  {
   "cell_type": "code",
   "source": [
    "!pip install koreanize-matplotlib"
   ],
   "metadata": {
    "colab": {
     "base_uri": "https://localhost:8080/"
    },
    "id": "IClW24F3_b6O",
    "executionInfo": {
     "status": "ok",
     "timestamp": 1697819807264,
     "user_tz": -540,
     "elapsed": 4490,
     "user": {
      "displayName": "Sangkon Han (sigmadream)",
      "userId": "11611818706289122316"
     }
    },
    "outputId": "78f091ee-8b7b-44aa-c33e-f7b08af7e4d5",
    "ExecuteTime": {
     "end_time": "2023-10-20T16:39:30.406508Z",
     "start_time": "2023-10-20T16:39:28.785543Z"
    }
   },
   "execution_count": 1,
   "outputs": [
    {
     "name": "stdout",
     "output_type": "stream",
     "text": [
      "Requirement already satisfied: koreanize-matplotlib in /Users/sd/Works/practice-pandas/venv/lib/python3.11/site-packages (0.1.1)\r\n",
      "Requirement already satisfied: matplotlib in /Users/sd/Works/practice-pandas/venv/lib/python3.11/site-packages (from koreanize-matplotlib) (3.8.0)\r\n",
      "Requirement already satisfied: contourpy>=1.0.1 in /Users/sd/Works/practice-pandas/venv/lib/python3.11/site-packages (from matplotlib->koreanize-matplotlib) (1.1.1)\r\n",
      "Requirement already satisfied: cycler>=0.10 in /Users/sd/Works/practice-pandas/venv/lib/python3.11/site-packages (from matplotlib->koreanize-matplotlib) (0.12.1)\r\n",
      "Requirement already satisfied: fonttools>=4.22.0 in /Users/sd/Works/practice-pandas/venv/lib/python3.11/site-packages (from matplotlib->koreanize-matplotlib) (4.43.1)\r\n",
      "Requirement already satisfied: kiwisolver>=1.0.1 in /Users/sd/Works/practice-pandas/venv/lib/python3.11/site-packages (from matplotlib->koreanize-matplotlib) (1.4.5)\r\n",
      "Requirement already satisfied: numpy<2,>=1.21 in /Users/sd/Works/practice-pandas/venv/lib/python3.11/site-packages (from matplotlib->koreanize-matplotlib) (1.26.1)\r\n",
      "Requirement already satisfied: packaging>=20.0 in /Users/sd/Works/practice-pandas/venv/lib/python3.11/site-packages (from matplotlib->koreanize-matplotlib) (23.2)\r\n",
      "Requirement already satisfied: pillow>=6.2.0 in /Users/sd/Works/practice-pandas/venv/lib/python3.11/site-packages (from matplotlib->koreanize-matplotlib) (10.1.0)\r\n",
      "Requirement already satisfied: pyparsing>=2.3.1 in /Users/sd/Works/practice-pandas/venv/lib/python3.11/site-packages (from matplotlib->koreanize-matplotlib) (3.1.1)\r\n",
      "Requirement already satisfied: python-dateutil>=2.7 in /Users/sd/Works/practice-pandas/venv/lib/python3.11/site-packages (from matplotlib->koreanize-matplotlib) (2.8.2)\r\n",
      "Requirement already satisfied: six>=1.5 in /Users/sd/Works/practice-pandas/venv/lib/python3.11/site-packages (from python-dateutil>=2.7->matplotlib->koreanize-matplotlib) (1.16.0)\r\n",
      "\r\n",
      "\u001B[1m[\u001B[0m\u001B[34;49mnotice\u001B[0m\u001B[1;39;49m]\u001B[0m\u001B[39;49m A new release of pip is available: \u001B[0m\u001B[31;49m23.2.1\u001B[0m\u001B[39;49m -> \u001B[0m\u001B[32;49m23.3\u001B[0m\r\n",
      "\u001B[1m[\u001B[0m\u001B[34;49mnotice\u001B[0m\u001B[1;39;49m]\u001B[0m\u001B[39;49m To update, run: \u001B[0m\u001B[32;49mpip install --upgrade pip\u001B[0m\r\n"
     ]
    }
   ]
  },
  {
   "cell_type": "code",
   "execution_count": 2,
   "metadata": {
    "id": "loajh_3DVV8U",
    "executionInfo": {
     "status": "ok",
     "timestamp": 1697819807264,
     "user_tz": -540,
     "elapsed": 10,
     "user": {
      "displayName": "Sangkon Han (sigmadream)",
      "userId": "11611818706289122316"
     }
    },
    "ExecuteTime": {
     "end_time": "2023-10-20T16:39:41.993039Z",
     "start_time": "2023-10-20T16:39:40.963157Z"
    }
   },
   "outputs": [],
   "source": [
    "import pandas as pd\n",
    "import numpy as np\n",
    "import matplotlib.pyplot as plt\n",
    "import koreanize_matplotlib"
   ]
  },
  {
   "cell_type": "code",
   "source": [
    "print(f\"pd.__version__, np.__version__\")"
   ],
   "metadata": {
    "colab": {
     "base_uri": "https://localhost:8080/"
    },
    "id": "gCG3YZ7OYeKZ",
    "executionInfo": {
     "status": "ok",
     "timestamp": 1697819807264,
     "user_tz": -540,
     "elapsed": 9,
     "user": {
      "displayName": "Sangkon Han (sigmadream)",
      "userId": "11611818706289122316"
     }
    },
    "outputId": "d3d27467-7862-4351-a848-abcc2997f8c0",
    "ExecuteTime": {
     "end_time": "2023-10-20T16:39:42.098548Z",
     "start_time": "2023-10-20T16:39:42.091676Z"
    }
   },
   "execution_count": 3,
   "outputs": [
    {
     "name": "stdout",
     "output_type": "stream",
     "text": [
      "pd.__version__, np.__version__\n"
     ]
    }
   ]
  },
  {
   "cell_type": "code",
   "source": [
    "df = pd.read_csv(\"data/lab1-baby-20231019.csv\", encoding=\"cp949\")"
   ],
   "metadata": {
    "id": "kfFLiBvv3PX9",
    "executionInfo": {
     "status": "ok",
     "timestamp": 1697819807878,
     "user_tz": -540,
     "elapsed": 21,
     "user": {
      "displayName": "Sangkon Han (sigmadream)",
      "userId": "11611818706289122316"
     }
    },
    "ExecuteTime": {
     "end_time": "2023-10-20T16:40:00.509635Z",
     "start_time": "2023-10-20T16:40:00.453549Z"
    }
   },
   "execution_count": 4,
   "outputs": []
  },
  {
   "cell_type": "code",
   "source": [
    "df.info()"
   ],
   "metadata": {
    "colab": {
     "base_uri": "https://localhost:8080/"
    },
    "id": "XHyANf6s3hQZ",
    "executionInfo": {
     "status": "ok",
     "timestamp": 1697819807878,
     "user_tz": -540,
     "elapsed": 21,
     "user": {
      "displayName": "Sangkon Han (sigmadream)",
      "userId": "11611818706289122316"
     }
    },
    "outputId": "14130351-4319-416a-ccb9-34308cd7a157",
    "ExecuteTime": {
     "end_time": "2023-10-20T16:40:01.679762Z",
     "start_time": "2023-10-20T16:40:01.616452Z"
    }
   },
   "execution_count": 5,
   "outputs": [
    {
     "name": "stdout",
     "output_type": "stream",
     "text": [
      "<class 'pandas.core.frame.DataFrame'>\n",
      "RangeIndex: 19 entries, 0 to 18\n",
      "Columns: 937 entries, 시군구별 to 2022.12.2\n",
      "dtypes: object(937)\n",
      "memory usage: 139.2+ KB\n"
     ]
    }
   ]
  },
  {
   "cell_type": "code",
   "source": [
    "df.head(2)"
   ],
   "metadata": {
    "colab": {
     "base_uri": "https://localhost:8080/",
     "height": 141
    },
    "id": "2Xt_bwW33rde",
    "executionInfo": {
     "status": "ok",
     "timestamp": 1697819807879,
     "user_tz": -540,
     "elapsed": 20,
     "user": {
      "displayName": "Sangkon Han (sigmadream)",
      "userId": "11611818706289122316"
     }
    },
    "outputId": "324d0fc6-6333-4a4c-9eb2-53d7186aa522",
    "ExecuteTime": {
     "end_time": "2023-10-20T16:40:02.801598Z",
     "start_time": "2023-10-20T16:40:02.779663Z"
    }
   },
   "execution_count": 6,
   "outputs": [
    {
     "data": {
      "text/plain": "   시군구별 1997.01 1997.01.1 1997.01.2 1997.02 1997.02.1 1997.02.2 1997.03  \\\n0  시군구별   계 (명)    남자 (명)    여자 (명)   계 (명)    남자 (명)    여자 (명)   계 (명)   \n1    전국   63268     33266     30002   58144     30086     28058   62160   \n\n  1997.03.1 1997.03.2  ... 2022.09.2 2022.10 2022.10.1 2022.10.2 2022.11  \\\n0    남자 (명)    여자 (명)  ...    여자 (명)   계 (명)    남자 (명)    여자 (명)   계 (명)   \n1     32333     29827  ...     10715   20646     10530     10116   18981   \n\n  2022.11.1 2022.11.2 2022.12 2022.12.1 2022.12.2  \n0    남자 (명)    여자 (명)   계 (명)    남자 (명)    여자 (명)  \n1      9737      9244   16896      8684      8212  \n\n[2 rows x 937 columns]",
      "text/html": "<div>\n<style scoped>\n    .dataframe tbody tr th:only-of-type {\n        vertical-align: middle;\n    }\n\n    .dataframe tbody tr th {\n        vertical-align: top;\n    }\n\n    .dataframe thead th {\n        text-align: right;\n    }\n</style>\n<table border=\"1\" class=\"dataframe\">\n  <thead>\n    <tr style=\"text-align: right;\">\n      <th></th>\n      <th>시군구별</th>\n      <th>1997.01</th>\n      <th>1997.01.1</th>\n      <th>1997.01.2</th>\n      <th>1997.02</th>\n      <th>1997.02.1</th>\n      <th>1997.02.2</th>\n      <th>1997.03</th>\n      <th>1997.03.1</th>\n      <th>1997.03.2</th>\n      <th>...</th>\n      <th>2022.09.2</th>\n      <th>2022.10</th>\n      <th>2022.10.1</th>\n      <th>2022.10.2</th>\n      <th>2022.11</th>\n      <th>2022.11.1</th>\n      <th>2022.11.2</th>\n      <th>2022.12</th>\n      <th>2022.12.1</th>\n      <th>2022.12.2</th>\n    </tr>\n  </thead>\n  <tbody>\n    <tr>\n      <th>0</th>\n      <td>시군구별</td>\n      <td>계 (명)</td>\n      <td>남자 (명)</td>\n      <td>여자 (명)</td>\n      <td>계 (명)</td>\n      <td>남자 (명)</td>\n      <td>여자 (명)</td>\n      <td>계 (명)</td>\n      <td>남자 (명)</td>\n      <td>여자 (명)</td>\n      <td>...</td>\n      <td>여자 (명)</td>\n      <td>계 (명)</td>\n      <td>남자 (명)</td>\n      <td>여자 (명)</td>\n      <td>계 (명)</td>\n      <td>남자 (명)</td>\n      <td>여자 (명)</td>\n      <td>계 (명)</td>\n      <td>남자 (명)</td>\n      <td>여자 (명)</td>\n    </tr>\n    <tr>\n      <th>1</th>\n      <td>전국</td>\n      <td>63268</td>\n      <td>33266</td>\n      <td>30002</td>\n      <td>58144</td>\n      <td>30086</td>\n      <td>28058</td>\n      <td>62160</td>\n      <td>32333</td>\n      <td>29827</td>\n      <td>...</td>\n      <td>10715</td>\n      <td>20646</td>\n      <td>10530</td>\n      <td>10116</td>\n      <td>18981</td>\n      <td>9737</td>\n      <td>9244</td>\n      <td>16896</td>\n      <td>8684</td>\n      <td>8212</td>\n    </tr>\n  </tbody>\n</table>\n<p>2 rows × 937 columns</p>\n</div>"
     },
     "execution_count": 6,
     "metadata": {},
     "output_type": "execute_result"
    }
   ]
  },
  {
   "cell_type": "code",
   "source": [
    "df_melt = df.melt(id_vars = \"시군구별\")"
   ],
   "metadata": {
    "id": "kqX33E-O35Ax",
    "executionInfo": {
     "status": "ok",
     "timestamp": 1697819807879,
     "user_tz": -540,
     "elapsed": 19,
     "user": {
      "displayName": "Sangkon Han (sigmadream)",
      "userId": "11611818706289122316"
     }
    },
    "ExecuteTime": {
     "end_time": "2023-10-20T16:40:04.266563Z",
     "start_time": "2023-10-20T16:40:03.970647Z"
    }
   },
   "execution_count": 7,
   "outputs": []
  },
  {
   "cell_type": "code",
   "source": [
    "df_melt.info()"
   ],
   "metadata": {
    "colab": {
     "base_uri": "https://localhost:8080/"
    },
    "id": "QZ7HEOQZ6idQ",
    "executionInfo": {
     "status": "ok",
     "timestamp": 1697819807879,
     "user_tz": -540,
     "elapsed": 19,
     "user": {
      "displayName": "Sangkon Han (sigmadream)",
      "userId": "11611818706289122316"
     }
    },
    "outputId": "a2ac65c9-88ad-4c6c-9108-51944d3e7b58",
    "ExecuteTime": {
     "end_time": "2023-10-20T16:40:05.996035Z",
     "start_time": "2023-10-20T16:40:05.977847Z"
    }
   },
   "execution_count": 8,
   "outputs": [
    {
     "name": "stdout",
     "output_type": "stream",
     "text": [
      "<class 'pandas.core.frame.DataFrame'>\n",
      "RangeIndex: 17784 entries, 0 to 17783\n",
      "Data columns (total 3 columns):\n",
      " #   Column    Non-Null Count  Dtype \n",
      "---  ------    --------------  ----- \n",
      " 0   시군구별      17784 non-null  object\n",
      " 1   variable  17784 non-null  object\n",
      " 2   value     17784 non-null  object\n",
      "dtypes: object(3)\n",
      "memory usage: 416.9+ KB\n"
     ]
    }
   ]
  },
  {
   "cell_type": "code",
   "source": [
    "df_melt[\"시군구별\"].unique()"
   ],
   "metadata": {
    "colab": {
     "base_uri": "https://localhost:8080/"
    },
    "id": "FF9L98_V5AuC",
    "executionInfo": {
     "status": "ok",
     "timestamp": 1697819807879,
     "user_tz": -540,
     "elapsed": 18,
     "user": {
      "displayName": "Sangkon Han (sigmadream)",
      "userId": "11611818706289122316"
     }
    },
    "outputId": "cc25985a-87f6-4c60-e14c-f298ea38d934",
    "ExecuteTime": {
     "end_time": "2023-10-20T16:40:07.397313Z",
     "start_time": "2023-10-20T16:40:07.376022Z"
    }
   },
   "execution_count": 9,
   "outputs": [
    {
     "data": {
      "text/plain": "array(['시군구별', '전국', '서울특별시', '부산광역시', '대구광역시', '인천광역시', '광주광역시', '대전광역시',\n       '울산광역시', '세종특별자치시', '경기도', '강원도', '충청북도', '충청남도', '전라북도', '전라남도',\n       '경상북도', '경상남도', '제주특별자치도'], dtype=object)"
     },
     "execution_count": 9,
     "metadata": {},
     "output_type": "execute_result"
    }
   ]
  },
  {
   "cell_type": "code",
   "source": [
    "df_melt = df_melt[df_melt[\"시군구별\"] != \"시군구별\"]"
   ],
   "metadata": {
    "id": "CqxWR-is5_K1",
    "executionInfo": {
     "status": "ok",
     "timestamp": 1697819807879,
     "user_tz": -540,
     "elapsed": 17,
     "user": {
      "displayName": "Sangkon Han (sigmadream)",
      "userId": "11611818706289122316"
     }
    },
    "ExecuteTime": {
     "end_time": "2023-10-20T16:40:08.459516Z",
     "start_time": "2023-10-20T16:40:08.446786Z"
    }
   },
   "execution_count": 10,
   "outputs": []
  },
  {
   "cell_type": "code",
   "source": [
    "df_melt[\"시군구별\"].unique()"
   ],
   "metadata": {
    "colab": {
     "base_uri": "https://localhost:8080/"
    },
    "id": "ttCGV4Rs6TMB",
    "executionInfo": {
     "status": "ok",
     "timestamp": 1697819807879,
     "user_tz": -540,
     "elapsed": 17,
     "user": {
      "displayName": "Sangkon Han (sigmadream)",
      "userId": "11611818706289122316"
     }
    },
    "outputId": "8f6542b3-9b1d-4902-95cc-61226838c607",
    "ExecuteTime": {
     "end_time": "2023-10-20T16:40:09.300889Z",
     "start_time": "2023-10-20T16:40:09.279683Z"
    }
   },
   "execution_count": 11,
   "outputs": [
    {
     "data": {
      "text/plain": "array(['전국', '서울특별시', '부산광역시', '대구광역시', '인천광역시', '광주광역시', '대전광역시',\n       '울산광역시', '세종특별자치시', '경기도', '강원도', '충청북도', '충청남도', '전라북도', '전라남도',\n       '경상북도', '경상남도', '제주특별자치도'], dtype=object)"
     },
     "execution_count": 11,
     "metadata": {},
     "output_type": "execute_result"
    }
   ]
  },
  {
   "cell_type": "code",
   "source": [
    "df_melt.head()"
   ],
   "metadata": {
    "colab": {
     "base_uri": "https://localhost:8080/",
     "height": 206
    },
    "id": "Pe9isOiN63K5",
    "executionInfo": {
     "status": "ok",
     "timestamp": 1697819807879,
     "user_tz": -540,
     "elapsed": 16,
     "user": {
      "displayName": "Sangkon Han (sigmadream)",
      "userId": "11611818706289122316"
     }
    },
    "outputId": "11b0db63-f0ee-40e3-ab52-9ffba2ef2940",
    "ExecuteTime": {
     "end_time": "2023-10-20T16:40:10.177483Z",
     "start_time": "2023-10-20T16:40:10.158849Z"
    }
   },
   "execution_count": 12,
   "outputs": [
    {
     "data": {
      "text/plain": "    시군구별 variable  value\n1     전국  1997.01  63268\n2  서울특별시  1997.01  13205\n3  부산광역시  1997.01   4201\n4  대구광역시  1997.01   3345\n5  인천광역시  1997.01   3646",
      "text/html": "<div>\n<style scoped>\n    .dataframe tbody tr th:only-of-type {\n        vertical-align: middle;\n    }\n\n    .dataframe tbody tr th {\n        vertical-align: top;\n    }\n\n    .dataframe thead th {\n        text-align: right;\n    }\n</style>\n<table border=\"1\" class=\"dataframe\">\n  <thead>\n    <tr style=\"text-align: right;\">\n      <th></th>\n      <th>시군구별</th>\n      <th>variable</th>\n      <th>value</th>\n    </tr>\n  </thead>\n  <tbody>\n    <tr>\n      <th>1</th>\n      <td>전국</td>\n      <td>1997.01</td>\n      <td>63268</td>\n    </tr>\n    <tr>\n      <th>2</th>\n      <td>서울특별시</td>\n      <td>1997.01</td>\n      <td>13205</td>\n    </tr>\n    <tr>\n      <th>3</th>\n      <td>부산광역시</td>\n      <td>1997.01</td>\n      <td>4201</td>\n    </tr>\n    <tr>\n      <th>4</th>\n      <td>대구광역시</td>\n      <td>1997.01</td>\n      <td>3345</td>\n    </tr>\n    <tr>\n      <th>5</th>\n      <td>인천광역시</td>\n      <td>1997.01</td>\n      <td>3646</td>\n    </tr>\n  </tbody>\n</table>\n</div>"
     },
     "execution_count": 12,
     "metadata": {},
     "output_type": "execute_result"
    }
   ]
  },
  {
   "cell_type": "code",
   "source": [
    "df_melt[\"연도\"] = df_melt[\"variable\"].str.split(\".\", expand=True)[0]\n",
    "df_melt[\"월\"] = df_melt[\"variable\"].str.split(\".\", expand=True)[1]\n",
    "df_melt[\"성별\"] = df_melt[\"variable\"].str.split(\".\", expand=True)[2]"
   ],
   "metadata": {
    "id": "8GX1sF0Y7T7I",
    "executionInfo": {
     "status": "ok",
     "timestamp": 1697819807879,
     "user_tz": -540,
     "elapsed": 15,
     "user": {
      "displayName": "Sangkon Han (sigmadream)",
      "userId": "11611818706289122316"
     }
    },
    "ExecuteTime": {
     "end_time": "2023-10-20T16:40:11.131723Z",
     "start_time": "2023-10-20T16:40:11.085443Z"
    }
   },
   "execution_count": 13,
   "outputs": []
  },
  {
   "cell_type": "code",
   "source": [
    "df_melt[\"성별\"] = df_melt[\"성별\"].fillna(\"전체\")\n",
    "df_melt[\"성별\"] = df_melt[\"성별\"].replace(\"1\", \"남자\").replace(\"2\", \"여자\")"
   ],
   "metadata": {
    "id": "88ftNEbc8PW1",
    "executionInfo": {
     "status": "ok",
     "timestamp": 1697819807879,
     "user_tz": -540,
     "elapsed": 15,
     "user": {
      "displayName": "Sangkon Han (sigmadream)",
      "userId": "11611818706289122316"
     }
    },
    "ExecuteTime": {
     "end_time": "2023-10-20T16:40:12.356408Z",
     "start_time": "2023-10-20T16:40:12.339464Z"
    }
   },
   "execution_count": 14,
   "outputs": []
  },
  {
   "cell_type": "code",
   "source": [
    "df_melt[\"성별\"].unique()"
   ],
   "metadata": {
    "colab": {
     "base_uri": "https://localhost:8080/"
    },
    "id": "8ZCW-mDD996H",
    "executionInfo": {
     "status": "ok",
     "timestamp": 1697819807879,
     "user_tz": -540,
     "elapsed": 14,
     "user": {
      "displayName": "Sangkon Han (sigmadream)",
      "userId": "11611818706289122316"
     }
    },
    "outputId": "be935c7b-cc13-45db-86f5-e4e0f8bd8353",
    "ExecuteTime": {
     "end_time": "2023-10-20T16:40:13.675106Z",
     "start_time": "2023-10-20T16:40:13.662434Z"
    }
   },
   "execution_count": 15,
   "outputs": [
    {
     "data": {
      "text/plain": "array(['전체', '남자', '여자'], dtype=object)"
     },
     "execution_count": 15,
     "metadata": {},
     "output_type": "execute_result"
    }
   ]
  },
  {
   "cell_type": "code",
   "source": [
    "df_melt = df_melt.rename(columns={\"variable\": \"기간\", \"value\": \"출생아수\"})"
   ],
   "metadata": {
    "id": "EUzSfNvf99-g",
    "executionInfo": {
     "status": "ok",
     "timestamp": 1697819807880,
     "user_tz": -540,
     "elapsed": 12,
     "user": {
      "displayName": "Sangkon Han (sigmadream)",
      "userId": "11611818706289122316"
     }
    },
    "ExecuteTime": {
     "end_time": "2023-10-20T16:40:15.017935Z",
     "start_time": "2023-10-20T16:40:15.004420Z"
    }
   },
   "execution_count": 16,
   "outputs": []
  },
  {
   "cell_type": "code",
   "source": [
    "df_melt[\"출생아수\"] = df_melt[\"출생아수\"].replace(\"-\", np.nan).astype(float)\n",
    "df_melt[\"출생아수\"]"
   ],
   "metadata": {
    "id": "vN1-8nYd9-Av",
    "colab": {
     "base_uri": "https://localhost:8080/"
    },
    "executionInfo": {
     "status": "ok",
     "timestamp": 1697819807880,
     "user_tz": -540,
     "elapsed": 12,
     "user": {
      "displayName": "Sangkon Han (sigmadream)",
      "userId": "11611818706289122316"
     }
    },
    "outputId": "e75730b8-7a73-4ba0-b347-d9e5afc208b8",
    "ExecuteTime": {
     "end_time": "2023-10-20T16:40:16.000688Z",
     "start_time": "2023-10-20T16:40:15.985964Z"
    }
   },
   "execution_count": 17,
   "outputs": [
    {
     "data": {
      "text/plain": "1        63268.0\n2        13205.0\n3         4201.0\n4         3345.0\n5         3646.0\n          ...   \n17779      229.0\n17780      250.0\n17781      366.0\n17782      503.0\n17783      121.0\nName: 출생아수, Length: 16848, dtype: float64"
     },
     "execution_count": 17,
     "metadata": {},
     "output_type": "execute_result"
    }
   ]
  },
  {
   "cell_type": "code",
   "source": [
    "df_melt.info()"
   ],
   "metadata": {
    "colab": {
     "base_uri": "https://localhost:8080/"
    },
    "id": "2zgO2sD_E0hk",
    "executionInfo": {
     "status": "ok",
     "timestamp": 1697819807880,
     "user_tz": -540,
     "elapsed": 12,
     "user": {
      "displayName": "Sangkon Han (sigmadream)",
      "userId": "11611818706289122316"
     }
    },
    "outputId": "cae2fe26-aa19-44f9-a3b2-d10791f1c52b",
    "ExecuteTime": {
     "end_time": "2023-10-20T16:40:16.934533Z",
     "start_time": "2023-10-20T16:40:16.926358Z"
    }
   },
   "execution_count": 18,
   "outputs": [
    {
     "name": "stdout",
     "output_type": "stream",
     "text": [
      "<class 'pandas.core.frame.DataFrame'>\n",
      "Index: 16848 entries, 1 to 17783\n",
      "Data columns (total 6 columns):\n",
      " #   Column  Non-Null Count  Dtype  \n",
      "---  ------  --------------  -----  \n",
      " 0   시군구별    16848 non-null  object \n",
      " 1   기간      16848 non-null  object \n",
      " 2   출생아수    16308 non-null  float64\n",
      " 3   연도      16848 non-null  object \n",
      " 4   월       16848 non-null  object \n",
      " 5   성별      16848 non-null  object \n",
      "dtypes: float64(1), object(5)\n",
      "memory usage: 921.4+ KB\n"
     ]
    }
   ]
  },
  {
   "cell_type": "code",
   "source": [
    "df_all = df_melt[(df_melt[\"시군구별\"] == \"전국\") & (df_melt[\"성별\"] == \"전체\")]"
   ],
   "metadata": {
    "id": "yBF9xeeeFDt2",
    "executionInfo": {
     "status": "ok",
     "timestamp": 1697819807880,
     "user_tz": -540,
     "elapsed": 11,
     "user": {
      "displayName": "Sangkon Han (sigmadream)",
      "userId": "11611818706289122316"
     }
    },
    "ExecuteTime": {
     "end_time": "2023-10-20T16:40:18.970823Z",
     "start_time": "2023-10-20T16:40:18.960480Z"
    }
   },
   "execution_count": 19,
   "outputs": []
  },
  {
   "cell_type": "code",
   "source": [
    "df_pivot_table = df_all.pivot_table(index=\"연도\", values=\"출생아수\", aggfunc=\"sum\")\n",
    "df_pivot_table"
   ],
   "metadata": {
    "id": "XGlTbdj-CO0e",
    "executionInfo": {
     "status": "ok",
     "timestamp": 1697819807880,
     "user_tz": -540,
     "elapsed": 10,
     "user": {
      "displayName": "Sangkon Han (sigmadream)",
      "userId": "11611818706289122316"
     }
    },
    "colab": {
     "base_uri": "https://localhost:8080/",
     "height": 896
    },
    "outputId": "4799ee50-b59f-445d-fb2a-91e5ce1f346c",
    "ExecuteTime": {
     "end_time": "2023-10-20T16:40:20.082744Z",
     "start_time": "2023-10-20T16:40:20.067107Z"
    }
   },
   "execution_count": 20,
   "outputs": [
    {
     "data": {
      "text/plain": "          출생아수\n연도            \n1997  675394.0\n1998  641594.0\n1999  620668.0\n2000  640089.0\n2001  559934.0\n2002  496911.0\n2003  495036.0\n2004  476958.0\n2005  438707.0\n2006  451759.0\n2007  496822.0\n2008  465892.0\n2009  444849.0\n2010  470171.0\n2011  471265.0\n2012  484550.0\n2013  436455.0\n2014  435435.0\n2015  438420.0\n2016  406243.0\n2017  357771.0\n2018  326822.0\n2019  302676.0\n2020  272337.0\n2021  260562.0\n2022  249186.0",
      "text/html": "<div>\n<style scoped>\n    .dataframe tbody tr th:only-of-type {\n        vertical-align: middle;\n    }\n\n    .dataframe tbody tr th {\n        vertical-align: top;\n    }\n\n    .dataframe thead th {\n        text-align: right;\n    }\n</style>\n<table border=\"1\" class=\"dataframe\">\n  <thead>\n    <tr style=\"text-align: right;\">\n      <th></th>\n      <th>출생아수</th>\n    </tr>\n    <tr>\n      <th>연도</th>\n      <th></th>\n    </tr>\n  </thead>\n  <tbody>\n    <tr>\n      <th>1997</th>\n      <td>675394.0</td>\n    </tr>\n    <tr>\n      <th>1998</th>\n      <td>641594.0</td>\n    </tr>\n    <tr>\n      <th>1999</th>\n      <td>620668.0</td>\n    </tr>\n    <tr>\n      <th>2000</th>\n      <td>640089.0</td>\n    </tr>\n    <tr>\n      <th>2001</th>\n      <td>559934.0</td>\n    </tr>\n    <tr>\n      <th>2002</th>\n      <td>496911.0</td>\n    </tr>\n    <tr>\n      <th>2003</th>\n      <td>495036.0</td>\n    </tr>\n    <tr>\n      <th>2004</th>\n      <td>476958.0</td>\n    </tr>\n    <tr>\n      <th>2005</th>\n      <td>438707.0</td>\n    </tr>\n    <tr>\n      <th>2006</th>\n      <td>451759.0</td>\n    </tr>\n    <tr>\n      <th>2007</th>\n      <td>496822.0</td>\n    </tr>\n    <tr>\n      <th>2008</th>\n      <td>465892.0</td>\n    </tr>\n    <tr>\n      <th>2009</th>\n      <td>444849.0</td>\n    </tr>\n    <tr>\n      <th>2010</th>\n      <td>470171.0</td>\n    </tr>\n    <tr>\n      <th>2011</th>\n      <td>471265.0</td>\n    </tr>\n    <tr>\n      <th>2012</th>\n      <td>484550.0</td>\n    </tr>\n    <tr>\n      <th>2013</th>\n      <td>436455.0</td>\n    </tr>\n    <tr>\n      <th>2014</th>\n      <td>435435.0</td>\n    </tr>\n    <tr>\n      <th>2015</th>\n      <td>438420.0</td>\n    </tr>\n    <tr>\n      <th>2016</th>\n      <td>406243.0</td>\n    </tr>\n    <tr>\n      <th>2017</th>\n      <td>357771.0</td>\n    </tr>\n    <tr>\n      <th>2018</th>\n      <td>326822.0</td>\n    </tr>\n    <tr>\n      <th>2019</th>\n      <td>302676.0</td>\n    </tr>\n    <tr>\n      <th>2020</th>\n      <td>272337.0</td>\n    </tr>\n    <tr>\n      <th>2021</th>\n      <td>260562.0</td>\n    </tr>\n    <tr>\n      <th>2022</th>\n      <td>249186.0</td>\n    </tr>\n  </tbody>\n</table>\n</div>"
     },
     "execution_count": 20,
     "metadata": {},
     "output_type": "execute_result"
    }
   ]
  },
  {
   "cell_type": "code",
   "source": [
    "df_pivot_table.plot(figsize=(15,4))"
   ],
   "metadata": {
    "colab": {
     "base_uri": "https://localhost:8080/",
     "height": 404
    },
    "id": "cHSoFT4XFhus",
    "executionInfo": {
     "status": "ok",
     "timestamp": 1697819808428,
     "user_tz": -540,
     "elapsed": 557,
     "user": {
      "displayName": "Sangkon Han (sigmadream)",
      "userId": "11611818706289122316"
     }
    },
    "outputId": "48fc4efa-c549-43b6-dc35-ce20d4e33b57",
    "ExecuteTime": {
     "end_time": "2023-10-20T16:40:21.628871Z",
     "start_time": "2023-10-20T16:40:21.434837Z"
    }
   },
   "execution_count": 21,
   "outputs": [
    {
     "data": {
      "text/plain": "<Axes: xlabel='연도'>"
     },
     "execution_count": 21,
     "metadata": {},
     "output_type": "execute_result"
    },
    {
     "data": {
      "text/plain": "<Figure size 1500x400 with 1 Axes>",
      "image/png": "[encoded data removed]"
     },
     "metadata": {},
     "output_type": "display_data"
    }
   ]
  },
  {
   "cell_type": "code",
   "source": [],
   "metadata": {
    "id": "_ZE2J_q-CIh4",
    "executionInfo": {
     "status": "ok",
     "timestamp": 1697819808428,
     "user_tz": -540,
     "elapsed": 4,
     "user": {
      "displayName": "Sangkon Han (sigmadream)",
      "userId": "11611818706289122316"
     }
    }
   },
   "execution_count": 120,
   "outputs": []
  }
 ]
}
