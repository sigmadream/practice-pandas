{
 "cells": [
  {
   "cell_type": "markdown",
   "metadata": {
    "id": "yyhlnkRW1rrp"
   },
   "source": [
    "# Object\n",
    "- 공공정보데이터의 `소상공인시장진흥공단` 데이터를 사용해서 `판다스 인 액션`에서 학습한 내용을 복습 및 연습\n",
    "\n",
    "# Goal\n",
    "- 텍스트 처리\n"
   ]
  },
  {
   "cell_type": "code",
   "execution_count": 2,
   "metadata": {
    "ExecuteTime": {
     "end_time": "2023-10-20T16:41:21.104545Z",
     "start_time": "2023-10-20T16:41:19.517541Z"
    },
    "colab": {
     "base_uri": "https://localhost:8080/"
    },
    "executionInfo": {
     "elapsed": 5841,
     "status": "ok",
     "timestamp": 1697819806241,
     "user": {
      "displayName": "Sangkon Han (sigmadream)",
      "userId": "11611818706289122316"
     },
     "user_tz": -540
    },
    "id": "P0-ge_tG1xL3",
    "outputId": "61abdbe3-c187-4854-d8fa-3c1fff328af1"
   },
   "outputs": [
    {
     "name": "stdout",
     "output_type": "stream",
     "text": [
      "Requirement already satisfied: koreanize-matplotlib in c:\\users\\sigma\\works\\practice-pandas\\.venv\\lib\\site-packages (0.1.1)\n",
      "Requirement already satisfied: matplotlib in c:\\users\\sigma\\works\\practice-pandas\\.venv\\lib\\site-packages (from koreanize-matplotlib) (3.8.0)\n",
      "Requirement already satisfied: contourpy>=1.0.1 in c:\\users\\sigma\\works\\practice-pandas\\.venv\\lib\\site-packages (from matplotlib->koreanize-matplotlib) (1.1.1)\n",
      "Requirement already satisfied: cycler>=0.10 in c:\\users\\sigma\\works\\practice-pandas\\.venv\\lib\\site-packages (from matplotlib->koreanize-matplotlib) (0.12.1)\n",
      "Requirement already satisfied: fonttools>=4.22.0 in c:\\users\\sigma\\works\\practice-pandas\\.venv\\lib\\site-packages (from matplotlib->koreanize-matplotlib) (4.43.1)\n",
      "Requirement already satisfied: kiwisolver>=1.0.1 in c:\\users\\sigma\\works\\practice-pandas\\.venv\\lib\\site-packages (from matplotlib->koreanize-matplotlib) (1.4.5)\n",
      "Requirement already satisfied: numpy<2,>=1.21 in c:\\users\\sigma\\works\\practice-pandas\\.venv\\lib\\site-packages (from matplotlib->koreanize-matplotlib) (1.26.1)\n",
      "Requirement already satisfied: packaging>=20.0 in c:\\users\\sigma\\works\\practice-pandas\\.venv\\lib\\site-packages (from matplotlib->koreanize-matplotlib) (23.2)\n",
      "Requirement already satisfied: pillow>=6.2.0 in c:\\users\\sigma\\works\\practice-pandas\\.venv\\lib\\site-packages (from matplotlib->koreanize-matplotlib) (10.1.0)\n",
      "Requirement already satisfied: pyparsing>=2.3.1 in c:\\users\\sigma\\works\\practice-pandas\\.venv\\lib\\site-packages (from matplotlib->koreanize-matplotlib) (3.1.1)\n",
      "Requirement already satisfied: python-dateutil>=2.7 in c:\\users\\sigma\\works\\practice-pandas\\.venv\\lib\\site-packages (from matplotlib->koreanize-matplotlib) (2.8.2)\n",
      "Requirement already satisfied: six>=1.5 in c:\\users\\sigma\\works\\practice-pandas\\.venv\\lib\\site-packages (from python-dateutil>=2.7->matplotlib->koreanize-matplotlib) (1.16.0)\n"
     ]
    },
    {
     "name": "stderr",
     "output_type": "stream",
     "text": [
      "\n",
      "[notice] A new release of pip is available: 23.3 -> 23.3.1\n",
      "[notice] To update, run: python.exe -m pip install --upgrade pip\n"
     ]
    }
   ],
   "source": [
    "!pip install koreanize-matplotlib"
   ]
  },
  {
   "cell_type": "code",
   "execution_count": 3,
   "metadata": {
    "ExecuteTime": {
     "end_time": "2023-10-20T16:41:24.632536Z",
     "start_time": "2023-10-20T16:41:23.671096Z"
    },
    "executionInfo": {
     "elapsed": 9,
     "status": "ok",
     "timestamp": 1697819806241,
     "user": {
      "displayName": "Sangkon Han (sigmadream)",
      "userId": "11611818706289122316"
     },
     "user_tz": -540
    },
    "id": "k70oqt6sff-8"
   },
   "outputs": [],
   "source": [
    "import pandas as pd\n",
    "import numpy as np\n",
    "import matplotlib.pyplot as plt\n",
    "import koreanize_matplotlib"
   ]
  },
  {
   "cell_type": "code",
   "execution_count": 29,
   "metadata": {
    "ExecuteTime": {
     "end_time": "2023-10-20T16:41:25.881724Z",
     "start_time": "2023-10-20T16:41:25.869698Z"
    },
    "colab": {
     "base_uri": "https://localhost:8080/"
    },
    "executionInfo": {
     "elapsed": 8,
     "status": "ok",
     "timestamp": 1697819806241,
     "user": {
      "displayName": "Sangkon Han (sigmadream)",
      "userId": "11611818706289122316"
     },
     "user_tz": -540
    },
    "id": "wxFyg0113aWc",
    "outputId": "10480e79-9814-46a8-b970-14bf48226e7e"
   },
   "outputs": [
    {
     "name": "stdout",
     "output_type": "stream",
     "text": [
      "2.1.1, 1.26.1\n"
     ]
    }
   ],
   "source": [
    "print(f\"{pd.__version__}, {np.__version__}\")"
   ]
  },
  {
   "cell_type": "code",
   "execution_count": 6,
   "metadata": {
    "ExecuteTime": {
     "end_time": "2023-10-20T16:41:33.884608Z",
     "start_time": "2023-10-20T16:41:33.832821Z"
    },
    "executionInfo": {
     "elapsed": 13,
     "status": "ok",
     "timestamp": 1697819806896,
     "user": {
      "displayName": "Sangkon Han (sigmadream)",
      "userId": "11611818706289122316"
     },
     "user_tz": -540
    },
    "id": "R0Ip2AdB2L0k"
   },
   "outputs": [
    {
     "name": "stderr",
     "output_type": "stream",
     "text": [
      "C:\\Users\\sigma\\AppData\\Local\\Temp\\ipykernel_22992\\1533197597.py:1: DtypeWarning: Columns (2) have mixed types. Specify dtype option on import or set low_memory=False.\n",
      "  df = pd.read_csv(\"data/lab3/소상공인시장진흥공단_상가(상권)정보_부산_202306.csv\")\n"
     ]
    }
   ],
   "source": [
    "df = pd.read_csv(\"data/lab3/소상공인시장진흥공단_상가(상권)정보_부산_202306.csv\")"
   ]
  },
  {
   "cell_type": "code",
   "execution_count": 7,
   "metadata": {},
   "outputs": [
    {
     "data": {
      "text/html": [
       "<div>\n",
       "<style scoped>\n",
       "    .dataframe tbody tr th:only-of-type {\n",
       "        vertical-align: middle;\n",
       "    }\n",
       "\n",
       "    .dataframe tbody tr th {\n",
       "        vertical-align: top;\n",
       "    }\n",
       "\n",
       "    .dataframe thead th {\n",
       "        text-align: right;\n",
       "    }\n",
       "</style>\n",
       "<table border=\"1\" class=\"dataframe\">\n",
       "  <thead>\n",
       "    <tr style=\"text-align: right;\">\n",
       "      <th></th>\n",
       "      <th>상가업소번호</th>\n",
       "      <th>상호명</th>\n",
       "      <th>지점명</th>\n",
       "      <th>상권업종대분류코드</th>\n",
       "      <th>상권업종대분류명</th>\n",
       "      <th>상권업종중분류코드</th>\n",
       "      <th>상권업종중분류명</th>\n",
       "      <th>상권업종소분류코드</th>\n",
       "      <th>상권업종소분류명</th>\n",
       "      <th>표준산업분류코드</th>\n",
       "      <th>...</th>\n",
       "      <th>건물관리번호</th>\n",
       "      <th>건물명</th>\n",
       "      <th>도로명주소</th>\n",
       "      <th>구우편번호</th>\n",
       "      <th>신우편번호</th>\n",
       "      <th>동정보</th>\n",
       "      <th>층정보</th>\n",
       "      <th>호정보</th>\n",
       "      <th>경도</th>\n",
       "      <th>위도</th>\n",
       "    </tr>\n",
       "  </thead>\n",
       "  <tbody>\n",
       "    <tr>\n",
       "      <th>0</th>\n",
       "      <td>MA0101202210A0072343</td>\n",
       "      <td>선해횟집</td>\n",
       "      <td>NaN</td>\n",
       "      <td>I2</td>\n",
       "      <td>음식</td>\n",
       "      <td>I201</td>\n",
       "      <td>한식</td>\n",
       "      <td>I20111</td>\n",
       "      <td>횟집</td>\n",
       "      <td>I56111</td>\n",
       "      <td>...</td>\n",
       "      <td>2641011100100300027023409</td>\n",
       "      <td>NaN</td>\n",
       "      <td>부산광역시 금정구 사천로3번길 2</td>\n",
       "      <td>609808</td>\n",
       "      <td>46264</td>\n",
       "      <td>NaN</td>\n",
       "      <td>1</td>\n",
       "      <td>NaN</td>\n",
       "      <td>129.113321</td>\n",
       "      <td>35.223363</td>\n",
       "    </tr>\n",
       "    <tr>\n",
       "      <th>1</th>\n",
       "      <td>MA010120220805430802</td>\n",
       "      <td>미즈노</td>\n",
       "      <td>NaN</td>\n",
       "      <td>G2</td>\n",
       "      <td>소매</td>\n",
       "      <td>G209</td>\n",
       "      <td>섬유·의복·신발 소매</td>\n",
       "      <td>G20905</td>\n",
       "      <td>기타 의류 소매업</td>\n",
       "      <td>G47419</td>\n",
       "      <td>...</td>\n",
       "      <td>2635010500114960000000001</td>\n",
       "      <td>롯데백화점센텀시티점</td>\n",
       "      <td>부산광역시 해운대구 센텀남대로 59</td>\n",
       "      <td>612022</td>\n",
       "      <td>48058</td>\n",
       "      <td>NaN</td>\n",
       "      <td>5</td>\n",
       "      <td>NaN</td>\n",
       "      <td>129.131099</td>\n",
       "      <td>35.169873</td>\n",
       "    </tr>\n",
       "    <tr>\n",
       "      <th>2</th>\n",
       "      <td>MA010120220805430814</td>\n",
       "      <td>리스트</td>\n",
       "      <td>NaN</td>\n",
       "      <td>G2</td>\n",
       "      <td>소매</td>\n",
       "      <td>G209</td>\n",
       "      <td>섬유·의복·신발 소매</td>\n",
       "      <td>G20902</td>\n",
       "      <td>여성 의류 소매업</td>\n",
       "      <td>G47412</td>\n",
       "      <td>...</td>\n",
       "      <td>2644010400134380000000001</td>\n",
       "      <td>스타필드시티명지점</td>\n",
       "      <td>부산광역시 강서구 명지국제6로 168</td>\n",
       "      <td>618200</td>\n",
       "      <td>46772</td>\n",
       "      <td>NaN</td>\n",
       "      <td>2</td>\n",
       "      <td>NaN</td>\n",
       "      <td>128.918174</td>\n",
       "      <td>35.093125</td>\n",
       "    </tr>\n",
       "    <tr>\n",
       "      <th>3</th>\n",
       "      <td>MA010120220805430900</td>\n",
       "      <td>눈썹그리기교실동안눈썹</td>\n",
       "      <td>NaN</td>\n",
       "      <td>S2</td>\n",
       "      <td>수리·개인</td>\n",
       "      <td>S207</td>\n",
       "      <td>이용·미용</td>\n",
       "      <td>S20702</td>\n",
       "      <td>피부 관리실</td>\n",
       "      <td>S96113</td>\n",
       "      <td>...</td>\n",
       "      <td>2632010200122720005015331</td>\n",
       "      <td>현호타워</td>\n",
       "      <td>부산광역시 북구 화명대로 31</td>\n",
       "      <td>616852</td>\n",
       "      <td>46525</td>\n",
       "      <td>NaN</td>\n",
       "      <td>NaN</td>\n",
       "      <td>NaN</td>\n",
       "      <td>129.011641</td>\n",
       "      <td>35.235217</td>\n",
       "    </tr>\n",
       "    <tr>\n",
       "      <th>4</th>\n",
       "      <td>MA010120220805430935</td>\n",
       "      <td>카페051남포역점</td>\n",
       "      <td>NaN</td>\n",
       "      <td>I2</td>\n",
       "      <td>음식</td>\n",
       "      <td>I212</td>\n",
       "      <td>비알코올</td>\n",
       "      <td>I21201</td>\n",
       "      <td>카페</td>\n",
       "      <td>I56221</td>\n",
       "      <td>...</td>\n",
       "      <td>2611013700100010005007067</td>\n",
       "      <td>NaN</td>\n",
       "      <td>부산광역시 중구 남포길 47</td>\n",
       "      <td>600042</td>\n",
       "      <td>48954</td>\n",
       "      <td>NaN</td>\n",
       "      <td>1</td>\n",
       "      <td>NaN</td>\n",
       "      <td>129.033875</td>\n",
       "      <td>35.098035</td>\n",
       "    </tr>\n",
       "  </tbody>\n",
       "</table>\n",
       "<p>5 rows × 39 columns</p>\n",
       "</div>"
      ],
      "text/plain": [
       "                 상가업소번호          상호명  지점명 상권업종대분류코드 상권업종대분류명 상권업종중분류코드  \\\n",
       "0  MA0101202210A0072343         선해횟집  NaN        I2       음식      I201   \n",
       "1  MA010120220805430802          미즈노  NaN        G2       소매      G209   \n",
       "2  MA010120220805430814          리스트  NaN        G2       소매      G209   \n",
       "3  MA010120220805430900  눈썹그리기교실동안눈썹  NaN        S2    수리·개인      S207   \n",
       "4  MA010120220805430935    카페051남포역점  NaN        I2       음식      I212   \n",
       "\n",
       "      상권업종중분류명 상권업종소분류코드   상권업종소분류명 표준산업분류코드  ...                     건물관리번호  \\\n",
       "0           한식    I20111         횟집   I56111  ...  2641011100100300027023409   \n",
       "1  섬유·의복·신발 소매    G20905  기타 의류 소매업   G47419  ...  2635010500114960000000001   \n",
       "2  섬유·의복·신발 소매    G20902  여성 의류 소매업   G47412  ...  2644010400134380000000001   \n",
       "3        이용·미용    S20702     피부 관리실   S96113  ...  2632010200122720005015331   \n",
       "4        비알코올     I21201         카페   I56221  ...  2611013700100010005007067   \n",
       "\n",
       "          건물명                 도로명주소   구우편번호  신우편번호  동정보  층정보  호정보          경도  \\\n",
       "0         NaN    부산광역시 금정구 사천로3번길 2  609808  46264  NaN    1  NaN  129.113321   \n",
       "1  롯데백화점센텀시티점   부산광역시 해운대구 센텀남대로 59  612022  48058  NaN    5  NaN  129.131099   \n",
       "2   스타필드시티명지점  부산광역시 강서구 명지국제6로 168  618200  46772  NaN    2  NaN  128.918174   \n",
       "3        현호타워      부산광역시 북구 화명대로 31  616852  46525  NaN  NaN  NaN  129.011641   \n",
       "4         NaN       부산광역시 중구 남포길 47  600042  48954  NaN    1  NaN  129.033875   \n",
       "\n",
       "          위도  \n",
       "0  35.223363  \n",
       "1  35.169873  \n",
       "2  35.093125  \n",
       "3  35.235217  \n",
       "4  35.098035  \n",
       "\n",
       "[5 rows x 39 columns]"
      ]
     },
     "execution_count": 7,
     "metadata": {},
     "output_type": "execute_result"
    }
   ],
   "source": [
    "df.head()"
   ]
  },
  {
   "cell_type": "code",
   "execution_count": 8,
   "metadata": {},
   "outputs": [
    {
     "data": {
      "text/html": [
       "<div>\n",
       "<style scoped>\n",
       "    .dataframe tbody tr th:only-of-type {\n",
       "        vertical-align: middle;\n",
       "    }\n",
       "\n",
       "    .dataframe tbody tr th {\n",
       "        vertical-align: top;\n",
       "    }\n",
       "\n",
       "    .dataframe thead th {\n",
       "        text-align: right;\n",
       "    }\n",
       "</style>\n",
       "<table border=\"1\" class=\"dataframe\">\n",
       "  <thead>\n",
       "    <tr style=\"text-align: right;\">\n",
       "      <th></th>\n",
       "      <th>상가업소번호</th>\n",
       "      <th>상호명</th>\n",
       "      <th>지점명</th>\n",
       "      <th>상권업종대분류코드</th>\n",
       "      <th>상권업종대분류명</th>\n",
       "      <th>상권업종중분류코드</th>\n",
       "      <th>상권업종중분류명</th>\n",
       "      <th>상권업종소분류코드</th>\n",
       "      <th>상권업종소분류명</th>\n",
       "      <th>표준산업분류코드</th>\n",
       "      <th>...</th>\n",
       "      <th>건물관리번호</th>\n",
       "      <th>건물명</th>\n",
       "      <th>도로명주소</th>\n",
       "      <th>구우편번호</th>\n",
       "      <th>신우편번호</th>\n",
       "      <th>동정보</th>\n",
       "      <th>층정보</th>\n",
       "      <th>호정보</th>\n",
       "      <th>경도</th>\n",
       "      <th>위도</th>\n",
       "    </tr>\n",
       "  </thead>\n",
       "  <tbody>\n",
       "    <tr>\n",
       "      <th>153526</th>\n",
       "      <td>MA0101202307A0067231</td>\n",
       "      <td>해동반찬</td>\n",
       "      <td>NaN</td>\n",
       "      <td>G2</td>\n",
       "      <td>소매</td>\n",
       "      <td>G205</td>\n",
       "      <td>식료품 소매</td>\n",
       "      <td>G20509</td>\n",
       "      <td>반찬/식료품 소매업</td>\n",
       "      <td>G47218</td>\n",
       "      <td>...</td>\n",
       "      <td>2623011100100530003015438</td>\n",
       "      <td>개금주공상가</td>\n",
       "      <td>부산광역시 부산진구 백양관문로 3</td>\n",
       "      <td>614810</td>\n",
       "      <td>47171</td>\n",
       "      <td>NaN</td>\n",
       "      <td>1</td>\n",
       "      <td>NaN</td>\n",
       "      <td>129.031062</td>\n",
       "      <td>35.159462</td>\n",
       "    </tr>\n",
       "    <tr>\n",
       "      <th>153527</th>\n",
       "      <td>MA0101202307A0053908</td>\n",
       "      <td>써니데이</td>\n",
       "      <td>NaN</td>\n",
       "      <td>I2</td>\n",
       "      <td>음식</td>\n",
       "      <td>I212</td>\n",
       "      <td>비알코올</td>\n",
       "      <td>I21201</td>\n",
       "      <td>카페</td>\n",
       "      <td>I56221</td>\n",
       "      <td>...</td>\n",
       "      <td>2671032022107230000000001</td>\n",
       "      <td>동원로얄듀크2차아파트</td>\n",
       "      <td>부산광역시 기장군 정관읍 정관5로 12</td>\n",
       "      <td>619751</td>\n",
       "      <td>46017</td>\n",
       "      <td>NaN</td>\n",
       "      <td>1</td>\n",
       "      <td>NaN</td>\n",
       "      <td>129.174387</td>\n",
       "      <td>35.319494</td>\n",
       "    </tr>\n",
       "    <tr>\n",
       "      <th>153528</th>\n",
       "      <td>MA0101202307A0007674</td>\n",
       "      <td>타코이찌타코야끼</td>\n",
       "      <td>하단점</td>\n",
       "      <td>I2</td>\n",
       "      <td>음식</td>\n",
       "      <td>I204</td>\n",
       "      <td>서양식</td>\n",
       "      <td>I20499</td>\n",
       "      <td>기타 서양식 음식점</td>\n",
       "      <td>I56194</td>\n",
       "      <td>...</td>\n",
       "      <td>2638010300104990022014227</td>\n",
       "      <td>NaN</td>\n",
       "      <td>부산광역시 사하구 낙동대로519번길 22</td>\n",
       "      <td>604851</td>\n",
       "      <td>49308</td>\n",
       "      <td>NaN</td>\n",
       "      <td>NaN</td>\n",
       "      <td>NaN</td>\n",
       "      <td>128.964167</td>\n",
       "      <td>35.110490</td>\n",
       "    </tr>\n",
       "    <tr>\n",
       "      <th>153529</th>\n",
       "      <td>MA0101202307A0060093</td>\n",
       "      <td>히어로드림에프씨</td>\n",
       "      <td>NaN</td>\n",
       "      <td>P1</td>\n",
       "      <td>교육</td>\n",
       "      <td>P106</td>\n",
       "      <td>기타 교육</td>\n",
       "      <td>P10603</td>\n",
       "      <td>요가/필라테스 학원</td>\n",
       "      <td>P85612</td>\n",
       "      <td>...</td>\n",
       "      <td>2629010600117940001000001</td>\n",
       "      <td>대교마트</td>\n",
       "      <td>부산광역시 남구 진남로 115-7</td>\n",
       "      <td>608819</td>\n",
       "      <td>48454</td>\n",
       "      <td>NaN</td>\n",
       "      <td>3</td>\n",
       "      <td>NaN</td>\n",
       "      <td>129.083013</td>\n",
       "      <td>35.138025</td>\n",
       "    </tr>\n",
       "    <tr>\n",
       "      <th>153530</th>\n",
       "      <td>MA0101202307A0056030</td>\n",
       "      <td>소망</td>\n",
       "      <td>NaN</td>\n",
       "      <td>G2</td>\n",
       "      <td>소매</td>\n",
       "      <td>G215</td>\n",
       "      <td>의약·화장품 소매</td>\n",
       "      <td>G21503</td>\n",
       "      <td>화장품 소매업</td>\n",
       "      <td>G47813</td>\n",
       "      <td>...</td>\n",
       "      <td>2614010200102920001002564</td>\n",
       "      <td>NaN</td>\n",
       "      <td>부산광역시 서구 대영로85번길 15</td>\n",
       "      <td>602811</td>\n",
       "      <td>49217</td>\n",
       "      <td>NaN</td>\n",
       "      <td>1</td>\n",
       "      <td>NaN</td>\n",
       "      <td>129.020105</td>\n",
       "      <td>35.111664</td>\n",
       "    </tr>\n",
       "  </tbody>\n",
       "</table>\n",
       "<p>5 rows × 39 columns</p>\n",
       "</div>"
      ],
      "text/plain": [
       "                      상가업소번호       상호명  지점명 상권업종대분류코드 상권업종대분류명 상권업종중분류코드  \\\n",
       "153526  MA0101202307A0067231      해동반찬  NaN        G2       소매      G205   \n",
       "153527  MA0101202307A0053908      써니데이  NaN        I2       음식      I212   \n",
       "153528  MA0101202307A0007674  타코이찌타코야끼  하단점        I2       음식      I204   \n",
       "153529  MA0101202307A0060093  히어로드림에프씨  NaN        P1       교육      P106   \n",
       "153530  MA0101202307A0056030        소망  NaN        G2       소매      G215   \n",
       "\n",
       "         상권업종중분류명 상권업종소분류코드    상권업종소분류명 표준산업분류코드  ...  \\\n",
       "153526     식료품 소매    G20509  반찬/식료품 소매업   G47218  ...   \n",
       "153527      비알코올     I21201          카페   I56221  ...   \n",
       "153528        서양식    I20499  기타 서양식 음식점   I56194  ...   \n",
       "153529      기타 교육    P10603  요가/필라테스 학원   P85612  ...   \n",
       "153530  의약·화장품 소매    G21503     화장품 소매업   G47813  ...   \n",
       "\n",
       "                           건물관리번호          건물명                   도로명주소  \\\n",
       "153526  2623011100100530003015438       개금주공상가      부산광역시 부산진구 백양관문로 3   \n",
       "153527  2671032022107230000000001  동원로얄듀크2차아파트   부산광역시 기장군 정관읍 정관5로 12   \n",
       "153528  2638010300104990022014227          NaN  부산광역시 사하구 낙동대로519번길 22   \n",
       "153529  2629010600117940001000001         대교마트      부산광역시 남구 진남로 115-7   \n",
       "153530  2614010200102920001002564          NaN     부산광역시 서구 대영로85번길 15   \n",
       "\n",
       "         구우편번호  신우편번호  동정보  층정보  호정보          경도         위도  \n",
       "153526  614810  47171  NaN    1  NaN  129.031062  35.159462  \n",
       "153527  619751  46017  NaN    1  NaN  129.174387  35.319494  \n",
       "153528  604851  49308  NaN  NaN  NaN  128.964167  35.110490  \n",
       "153529  608819  48454  NaN    3  NaN  129.083013  35.138025  \n",
       "153530  602811  49217  NaN    1  NaN  129.020105  35.111664  \n",
       "\n",
       "[5 rows x 39 columns]"
      ]
     },
     "execution_count": 8,
     "metadata": {},
     "output_type": "execute_result"
    }
   ],
   "source": [
    "df.tail()"
   ]
  },
  {
   "cell_type": "code",
   "execution_count": 14,
   "metadata": {},
   "outputs": [],
   "source": [
    "pd.options.display.max_columns = 39"
   ]
  },
  {
   "cell_type": "code",
   "execution_count": 15,
   "metadata": {},
   "outputs": [
    {
     "data": {
      "text/plain": [
       "RangeIndex(start=0, stop=153531, step=1)"
      ]
     },
     "execution_count": 15,
     "metadata": {},
     "output_type": "execute_result"
    }
   ],
   "source": [
    "df.index"
   ]
  },
  {
   "cell_type": "code",
   "execution_count": 16,
   "metadata": {},
   "outputs": [
    {
     "data": {
      "text/plain": [
       "Index(['상가업소번호', '상호명', '지점명', '상권업종대분류코드', '상권업종대분류명', '상권업종중분류코드',\n",
       "       '상권업종중분류명', '상권업종소분류코드', '상권업종소분류명', '표준산업분류코드', '표준산업분류명', '시도코드',\n",
       "       '시도명', '시군구코드', '시군구명', '행정동코드', '행정동명', '법정동코드', '법정동명', '지번코드',\n",
       "       '대지구분코드', '대지구분명', '지번본번지', '지번부번지', '지번주소', '도로명코드', '도로명', '건물본번지',\n",
       "       '건물부번지', '건물관리번호', '건물명', '도로명주소', '구우편번호', '신우편번호', '동정보', '층정보',\n",
       "       '호정보', '경도', '위도'],\n",
       "      dtype='object')"
      ]
     },
     "execution_count": 16,
     "metadata": {},
     "output_type": "execute_result"
    }
   ],
   "source": [
    "df.columns"
   ]
  },
  {
   "cell_type": "code",
   "execution_count": 17,
   "metadata": {},
   "outputs": [
    {
     "data": {
      "text/plain": [
       "상가업소번호        object\n",
       "상호명           object\n",
       "지점명           object\n",
       "상권업종대분류코드     object\n",
       "상권업종대분류명      object\n",
       "상권업종중분류코드     object\n",
       "상권업종중분류명      object\n",
       "상권업종소분류코드     object\n",
       "상권업종소분류명      object\n",
       "표준산업분류코드      object\n",
       "표준산업분류명       object\n",
       "시도코드           int64\n",
       "시도명           object\n",
       "시군구코드          int64\n",
       "시군구명          object\n",
       "행정동코드          int64\n",
       "행정동명          object\n",
       "법정동코드          int64\n",
       "법정동명          object\n",
       "지번코드           int64\n",
       "대지구분코드         int64\n",
       "대지구분명         object\n",
       "지번본번지        float64\n",
       "지번부번지        float64\n",
       "지번주소          object\n",
       "도로명코드          int64\n",
       "도로명           object\n",
       "건물본번지          int64\n",
       "건물부번지        float64\n",
       "건물관리번호        object\n",
       "건물명           object\n",
       "도로명주소         object\n",
       "구우편번호          int64\n",
       "신우편번호          int64\n",
       "동정보          float64\n",
       "층정보           object\n",
       "호정보          float64\n",
       "경도           float64\n",
       "위도           float64\n",
       "dtype: object"
      ]
     },
     "execution_count": 17,
     "metadata": {},
     "output_type": "execute_result"
    }
   ],
   "source": [
    "df.dtypes"
   ]
  },
  {
   "cell_type": "code",
   "execution_count": 18,
   "metadata": {},
   "outputs": [
    {
     "name": "stdout",
     "output_type": "stream",
     "text": [
      "<class 'pandas.core.frame.DataFrame'>\n",
      "RangeIndex: 153531 entries, 0 to 153530\n",
      "Data columns (total 39 columns):\n",
      " #   Column     Non-Null Count   Dtype  \n",
      "---  ------     --------------   -----  \n",
      " 0   상가업소번호     153531 non-null  object \n",
      " 1   상호명        153530 non-null  object \n",
      " 2   지점명        1893 non-null    object \n",
      " 3   상권업종대분류코드  153531 non-null  object \n",
      " 4   상권업종대분류명   153531 non-null  object \n",
      " 5   상권업종중분류코드  153531 non-null  object \n",
      " 6   상권업종중분류명   153531 non-null  object \n",
      " 7   상권업종소분류코드  153531 non-null  object \n",
      " 8   상권업종소분류명   153531 non-null  object \n",
      " 9   표준산업분류코드   153509 non-null  object \n",
      " 10  표준산업분류명    153509 non-null  object \n",
      " 11  시도코드       153531 non-null  int64  \n",
      " 12  시도명        153531 non-null  object \n",
      " 13  시군구코드      153531 non-null  int64  \n",
      " 14  시군구명       153531 non-null  object \n",
      " 15  행정동코드      153531 non-null  int64  \n",
      " 16  행정동명       153531 non-null  object \n",
      " 17  법정동코드      153531 non-null  int64  \n",
      " 18  법정동명       153531 non-null  object \n",
      " 19  지번코드       153531 non-null  int64  \n",
      " 20  대지구분코드     153531 non-null  int64  \n",
      " 21  대지구분명      153531 non-null  object \n",
      " 22  지번본번지      153530 non-null  float64\n",
      " 23  지번부번지      136195 non-null  float64\n",
      " 24  지번주소       153531 non-null  object \n",
      " 25  도로명코드      153531 non-null  int64  \n",
      " 26  도로명        153531 non-null  object \n",
      " 27  건물본번지      153531 non-null  int64  \n",
      " 28  건물부번지      24389 non-null   float64\n",
      " 29  건물관리번호     153528 non-null  object \n",
      " 30  건물명        51985 non-null   object \n",
      " 31  도로명주소      153531 non-null  object \n",
      " 32  구우편번호      153531 non-null  int64  \n",
      " 33  신우편번호      153531 non-null  int64  \n",
      " 34  동정보        0 non-null       float64\n",
      " 35  층정보        80366 non-null   object \n",
      " 36  호정보        0 non-null       float64\n",
      " 37  경도         153531 non-null  float64\n",
      " 38  위도         153531 non-null  float64\n",
      "dtypes: float64(7), int64(10), object(22)\n",
      "memory usage: 45.7+ MB\n"
     ]
    }
   ],
   "source": [
    "df.info()"
   ]
  },
  {
   "cell_type": "code",
   "execution_count": 19,
   "metadata": {},
   "outputs": [],
   "source": [
    "n = df.isnull().sum()"
   ]
  },
  {
   "cell_type": "code",
   "execution_count": 20,
   "metadata": {},
   "outputs": [
    {
     "data": {
      "text/plain": [
       "<Axes: >"
      ]
     },
     "execution_count": 20,
     "metadata": {},
     "output_type": "execute_result"
    },
    {
     "data": {
      "image/png": "[encoded data removed]",
      "text/plain": [
       "<Figure size 640x480 with 1 Axes>"
      ]
     },
     "metadata": {},
     "output_type": "display_data"
    }
   ],
   "source": [
    "n.plot.bar()"
   ]
  },
  {
   "cell_type": "code",
   "execution_count": 21,
   "metadata": {},
   "outputs": [
    {
     "data": {
      "text/plain": [
       "<Axes: >"
      ]
     },
     "execution_count": 21,
     "metadata": {},
     "output_type": "execute_result"
    },
    {
     "data": {
      "image/png": "[encoded data removed]",
      "text/plain": [
       "<Figure size 700x800 with 1 Axes>"
      ]
     },
     "metadata": {},
     "output_type": "display_data"
    }
   ],
   "source": [
    "n.sort_values().plot.barh(figsize=(7, 8))"
   ]
  },
  {
   "cell_type": "code",
   "execution_count": 22,
   "metadata": {},
   "outputs": [
    {
     "data": {
      "text/plain": [
       "Index(['호정보', '동정보', '지점명', '건물부번지', '건물명', '층정보', '지번부번지', '표준산업분류코드',\n",
       "       '표준산업분류명'],\n",
       "      dtype='object')"
      ]
     },
     "execution_count": 22,
     "metadata": {},
     "output_type": "execute_result"
    }
   ],
   "source": [
    "not_use = n.sort_values(ascending=False).head(9)\n",
    "not_use_col = not_use.index\n",
    "not_use_col"
   ]
  },
  {
   "cell_type": "code",
   "execution_count": 23,
   "metadata": {},
   "outputs": [
    {
     "name": "stdout",
     "output_type": "stream",
     "text": [
      "(153531, 39)\n",
      "(153531, 30)\n"
     ]
    }
   ],
   "source": [
    "print(df.shape)\n",
    "df = df.drop(not_use_col, axis=1)\n",
    "print(df.shape)"
   ]
  },
  {
   "cell_type": "code",
   "execution_count": 24,
   "metadata": {},
   "outputs": [
    {
     "name": "stdout",
     "output_type": "stream",
     "text": [
      "<class 'pandas.core.frame.DataFrame'>\n",
      "RangeIndex: 153531 entries, 0 to 153530\n",
      "Data columns (total 30 columns):\n",
      " #   Column     Non-Null Count   Dtype  \n",
      "---  ------     --------------   -----  \n",
      " 0   상가업소번호     153531 non-null  object \n",
      " 1   상호명        153530 non-null  object \n",
      " 2   상권업종대분류코드  153531 non-null  object \n",
      " 3   상권업종대분류명   153531 non-null  object \n",
      " 4   상권업종중분류코드  153531 non-null  object \n",
      " 5   상권업종중분류명   153531 non-null  object \n",
      " 6   상권업종소분류코드  153531 non-null  object \n",
      " 7   상권업종소분류명   153531 non-null  object \n",
      " 8   시도코드       153531 non-null  int64  \n",
      " 9   시도명        153531 non-null  object \n",
      " 10  시군구코드      153531 non-null  int64  \n",
      " 11  시군구명       153531 non-null  object \n",
      " 12  행정동코드      153531 non-null  int64  \n",
      " 13  행정동명       153531 non-null  object \n",
      " 14  법정동코드      153531 non-null  int64  \n",
      " 15  법정동명       153531 non-null  object \n",
      " 16  지번코드       153531 non-null  int64  \n",
      " 17  대지구분코드     153531 non-null  int64  \n",
      " 18  대지구분명      153531 non-null  object \n",
      " 19  지번본번지      153530 non-null  float64\n",
      " 20  지번주소       153531 non-null  object \n",
      " 21  도로명코드      153531 non-null  int64  \n",
      " 22  도로명        153531 non-null  object \n",
      " 23  건물본번지      153531 non-null  int64  \n",
      " 24  건물관리번호     153528 non-null  object \n",
      " 25  도로명주소      153531 non-null  object \n",
      " 26  구우편번호      153531 non-null  int64  \n",
      " 27  신우편번호      153531 non-null  int64  \n",
      " 28  경도         153531 non-null  float64\n",
      " 29  위도         153531 non-null  float64\n",
      "dtypes: float64(3), int64(10), object(17)\n",
      "memory usage: 35.1+ MB\n"
     ]
    }
   ],
   "source": [
    "df.info()"
   ]
  },
  {
   "cell_type": "code",
   "execution_count": 25,
   "metadata": {},
   "outputs": [
    {
     "data": {
      "text/plain": [
       "Index(['상가업소번호', '상호명', '상권업종대분류코드', '상권업종대분류명', '상권업종중분류코드', '상권업종중분류명',\n",
       "       '상권업종소분류코드', '상권업종소분류명', '시도코드', '시도명', '시군구코드', '시군구명', '행정동코드',\n",
       "       '행정동명', '법정동코드', '법정동명', '지번코드', '대지구분코드', '대지구분명', '지번본번지', '지번주소',\n",
       "       '도로명코드', '도로명', '건물본번지', '건물관리번호', '도로명주소', '구우편번호', '신우편번호', '경도',\n",
       "       '위도'],\n",
       "      dtype='object')"
      ]
     },
     "execution_count": 25,
     "metadata": {},
     "output_type": "execute_result"
    }
   ],
   "source": [
    "cols = df.columns\n",
    "cols"
   ]
  },
  {
   "cell_type": "code",
   "execution_count": 26,
   "metadata": {},
   "outputs": [
    {
     "data": {
      "text/plain": [
       "Index(['상가업소번호', '상권업종대분류코드', '상권업종중분류코드', '상권업종소분류코드', '시도코드', '시군구코드',\n",
       "       '행정동코드', '법정동코드', '지번코드', '대지구분코드', '도로명코드', '건물관리번호', '구우편번호',\n",
       "       '신우편번호'],\n",
       "      dtype='object')"
      ]
     },
     "execution_count": 26,
     "metadata": {},
     "output_type": "execute_result"
    }
   ],
   "source": [
    "cols_code = cols[cols.str.contains(\"코드|번호\")]\n",
    "cols_code"
   ]
  },
  {
   "cell_type": "code",
   "execution_count": 27,
   "metadata": {},
   "outputs": [
    {
     "name": "stdout",
     "output_type": "stream",
     "text": [
      "<class 'pandas.core.frame.DataFrame'>\n",
      "RangeIndex: 153531 entries, 0 to 153530\n",
      "Data columns (total 30 columns):\n",
      " #   Column     Non-Null Count   Dtype  \n",
      "---  ------     --------------   -----  \n",
      " 0   상가업소번호     153531 non-null  object \n",
      " 1   상호명        153530 non-null  object \n",
      " 2   상권업종대분류코드  153531 non-null  object \n",
      " 3   상권업종대분류명   153531 non-null  object \n",
      " 4   상권업종중분류코드  153531 non-null  object \n",
      " 5   상권업종중분류명   153531 non-null  object \n",
      " 6   상권업종소분류코드  153531 non-null  object \n",
      " 7   상권업종소분류명   153531 non-null  object \n",
      " 8   시도코드       153531 non-null  int64  \n",
      " 9   시도명        153531 non-null  object \n",
      " 10  시군구코드      153531 non-null  int64  \n",
      " 11  시군구명       153531 non-null  object \n",
      " 12  행정동코드      153531 non-null  int64  \n",
      " 13  행정동명       153531 non-null  object \n",
      " 14  법정동코드      153531 non-null  int64  \n",
      " 15  법정동명       153531 non-null  object \n",
      " 16  지번코드       153531 non-null  int64  \n",
      " 17  대지구분코드     153531 non-null  int64  \n",
      " 18  대지구분명      153531 non-null  object \n",
      " 19  지번본번지      153530 non-null  float64\n",
      " 20  지번주소       153531 non-null  object \n",
      " 21  도로명코드      153531 non-null  int64  \n",
      " 22  도로명        153531 non-null  object \n",
      " 23  건물본번지      153531 non-null  int64  \n",
      " 24  건물관리번호     153528 non-null  object \n",
      " 25  도로명주소      153531 non-null  object \n",
      " 26  구우편번호      153531 non-null  int64  \n",
      " 27  신우편번호      153531 non-null  int64  \n",
      " 28  경도         153531 non-null  float64\n",
      " 29  위도         153531 non-null  float64\n",
      "dtypes: float64(3), int64(10), object(17)\n",
      "memory usage: 35.1+ MB\n"
     ]
    }
   ],
   "source": [
    "df.info()"
   ]
  },
  {
   "cell_type": "code",
   "execution_count": null,
   "metadata": {},
   "outputs": [],
   "source": []
  }
 ],
 "metadata": {
  "colab": {
   "provenance": []
  },
  "kernelspec": {
   "display_name": "Python 3 (ipykernel)",
   "language": "python",
   "name": "python3"
  },
  "language_info": {
   "codemirror_mode": {
    "name": "ipython",
    "version": 3
   },
   "file_extension": ".py",
   "mimetype": "text/x-python",
   "name": "python",
   "nbconvert_exporter": "python",
   "pygments_lexer": "ipython3",
   "version": "3.11.6"
  }
 },
 "nbformat": 4,
 "nbformat_minor": 0
}
