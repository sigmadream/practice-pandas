{
 "nbformat": 4,
 "nbformat_minor": 0,
 "metadata": {
  "colab": {
   "provenance": []
  },
  "kernelspec": {
   "name": "python3",
   "language": "python",
   "display_name": "Python 3 (ipykernel)"
  },
  "language_info": {
   "name": "python"
  }
 },
 "cells": [
  {
   "cell_type": "code",
   "source": [
    "!pip install koreanize-matplotlib"
   ],
   "metadata": {
    "colab": {
     "base_uri": "https://localhost:8080/"
    },
    "id": "IClW24F3_b6O",
    "outputId": "df571fe7-ec10-4ccd-95ab-48fb9c6a78ca",
    "ExecuteTime": {
     "end_time": "2023-10-19T17:49:08.746729Z",
     "start_time": "2023-10-19T17:48:55.343657Z"
    }
   },
   "execution_count": 1,
   "outputs": [
    {
     "name": "stdout",
     "output_type": "stream",
     "text": [
      "Collecting koreanize-matplotlib\r\n",
      "  Downloading koreanize_matplotlib-0.1.1-py3-none-any.whl (7.9 MB)\r\n",
      "\u001B[2K     \u001B[90m━━━━━━━━━━━━━━━━━━━━━━━━━━━━━━━━━━━━━━━━\u001B[0m \u001B[32m7.9/7.9 MB\u001B[0m \u001B[31m5.5 MB/s\u001B[0m eta \u001B[36m0:00:00\u001B[0m00:01\u001B[0m00:01\u001B[0m\r\n",
      "\u001B[?25hCollecting matplotlib (from koreanize-matplotlib)\r\n",
      "  Obtaining dependency information for matplotlib from https://files.pythonhosted.org/packages/33/ee/e87d7a79a32f5ac833655ef29ebd37c7b389e8957bc71aacb10a95f822b9/matplotlib-3.8.0-cp311-cp311-macosx_10_12_x86_64.whl.metadata\r\n",
      "  Downloading matplotlib-3.8.0-cp311-cp311-macosx_10_12_x86_64.whl.metadata (5.8 kB)\r\n",
      "Collecting contourpy>=1.0.1 (from matplotlib->koreanize-matplotlib)\r\n",
      "  Obtaining dependency information for contourpy>=1.0.1 from https://files.pythonhosted.org/packages/8b/4f/be28a39cd5e988b8d3c2cc642c2c7ffeeb28fe80a86df71b6d1e473c5038/contourpy-1.1.1-cp311-cp311-macosx_10_9_x86_64.whl.metadata\r\n",
      "  Downloading contourpy-1.1.1-cp311-cp311-macosx_10_9_x86_64.whl.metadata (5.9 kB)\r\n",
      "Collecting cycler>=0.10 (from matplotlib->koreanize-matplotlib)\r\n",
      "  Obtaining dependency information for cycler>=0.10 from https://files.pythonhosted.org/packages/e7/05/c19819d5e3d95294a6f5947fb9b9629efb316b96de511b418c53d245aae6/cycler-0.12.1-py3-none-any.whl.metadata\r\n",
      "  Downloading cycler-0.12.1-py3-none-any.whl.metadata (3.8 kB)\r\n",
      "Collecting fonttools>=4.22.0 (from matplotlib->koreanize-matplotlib)\r\n",
      "  Obtaining dependency information for fonttools>=4.22.0 from https://files.pythonhosted.org/packages/89/17/a8c8e905a618302f4bd702a9a91910a36edd5b0ece7dd63e2e6c23641d76/fonttools-4.43.1-cp311-cp311-macosx_10_9_x86_64.whl.metadata\r\n",
      "  Downloading fonttools-4.43.1-cp311-cp311-macosx_10_9_x86_64.whl.metadata (152 kB)\r\n",
      "\u001B[2K     \u001B[90m━━━━━━━━━━━━━━━━━━━━━━━━━━━━━━━━━━━━━━━\u001B[0m \u001B[32m152.4/152.4 kB\u001B[0m \u001B[31m3.6 MB/s\u001B[0m eta \u001B[36m0:00:00\u001B[0ma \u001B[36m0:00:01\u001B[0m\r\n",
      "\u001B[?25hCollecting kiwisolver>=1.0.1 (from matplotlib->koreanize-matplotlib)\r\n",
      "  Obtaining dependency information for kiwisolver>=1.0.1 from https://files.pythonhosted.org/packages/a6/94/695922e71288855fc7cace3bdb52edda9d7e50edba77abb0c9d7abb51e96/kiwisolver-1.4.5-cp311-cp311-macosx_10_9_x86_64.whl.metadata\r\n",
      "  Downloading kiwisolver-1.4.5-cp311-cp311-macosx_10_9_x86_64.whl.metadata (6.4 kB)\r\n",
      "Requirement already satisfied: numpy<2,>=1.21 in /Users/sd/Works/practice-pandas/venv/lib/python3.11/site-packages (from matplotlib->koreanize-matplotlib) (1.26.1)\r\n",
      "Requirement already satisfied: packaging>=20.0 in /Users/sd/Works/practice-pandas/venv/lib/python3.11/site-packages (from matplotlib->koreanize-matplotlib) (23.2)\r\n",
      "Collecting pillow>=6.2.0 (from matplotlib->koreanize-matplotlib)\r\n",
      "  Obtaining dependency information for pillow>=6.2.0 from https://files.pythonhosted.org/packages/07/22/93d6b5aa5917d09ec7088a2c4d1821848f3f95fbdc2633ba9d9fc28444a1/Pillow-10.1.0-cp311-cp311-macosx_10_10_x86_64.whl.metadata\r\n",
      "  Downloading Pillow-10.1.0-cp311-cp311-macosx_10_10_x86_64.whl.metadata (9.5 kB)\r\n",
      "Collecting pyparsing>=2.3.1 (from matplotlib->koreanize-matplotlib)\r\n",
      "  Obtaining dependency information for pyparsing>=2.3.1 from https://files.pythonhosted.org/packages/39/92/8486ede85fcc088f1b3dba4ce92dd29d126fd96b0008ea213167940a2475/pyparsing-3.1.1-py3-none-any.whl.metadata\r\n",
      "  Downloading pyparsing-3.1.1-py3-none-any.whl.metadata (5.1 kB)\r\n",
      "Requirement already satisfied: python-dateutil>=2.7 in /Users/sd/Works/practice-pandas/venv/lib/python3.11/site-packages (from matplotlib->koreanize-matplotlib) (2.8.2)\r\n",
      "Requirement already satisfied: six>=1.5 in /Users/sd/Works/practice-pandas/venv/lib/python3.11/site-packages (from python-dateutil>=2.7->matplotlib->koreanize-matplotlib) (1.16.0)\r\n",
      "Downloading matplotlib-3.8.0-cp311-cp311-macosx_10_12_x86_64.whl (7.6 MB)\r\n",
      "\u001B[2K   \u001B[90m━━━━━━━━━━━━━━━━━━━━━━━━━━━━━━━━━━━━━━━━\u001B[0m \u001B[32m7.6/7.6 MB\u001B[0m \u001B[31m4.7 MB/s\u001B[0m eta \u001B[36m0:00:00\u001B[0m00:01\u001B[0m00:01\u001B[0m\r\n",
      "\u001B[?25hDownloading contourpy-1.1.1-cp311-cp311-macosx_10_9_x86_64.whl (248 kB)\r\n",
      "\u001B[2K   \u001B[90m━━━━━━━━━━━━━━━━━━━━━━━━━━━━━━━━━━━━━━━━\u001B[0m \u001B[32m248.6/248.6 kB\u001B[0m \u001B[31m5.4 MB/s\u001B[0m eta \u001B[36m0:00:00\u001B[0m:00:01\u001B[0m\r\n",
      "\u001B[?25hDownloading cycler-0.12.1-py3-none-any.whl (8.3 kB)\r\n",
      "Downloading fonttools-4.43.1-cp311-cp311-macosx_10_9_x86_64.whl (2.2 MB)\r\n",
      "\u001B[2K   \u001B[90m━━━━━━━━━━━━━━━━━━━━━━━━━━━━━━━━━━━━━━━━\u001B[0m \u001B[32m2.2/2.2 MB\u001B[0m \u001B[31m2.6 MB/s\u001B[0m eta \u001B[36m0:00:00\u001B[0m00:01\u001B[0m00:01\u001B[0m0m\r\n",
      "\u001B[?25hDownloading kiwisolver-1.4.5-cp311-cp311-macosx_10_9_x86_64.whl (68 kB)\r\n",
      "\u001B[2K   \u001B[90m━━━━━━━━━━━━━━━━━━━━━━━━━━━━━━━━━━━━━━━━\u001B[0m \u001B[32m68.2/68.2 kB\u001B[0m \u001B[31m585.3 kB/s\u001B[0m eta \u001B[36m0:00:00\u001B[0m--:--\u001B[0m\r\n",
      "\u001B[?25hDownloading Pillow-10.1.0-cp311-cp311-macosx_10_10_x86_64.whl (3.5 MB)\r\n",
      "\u001B[2K   \u001B[90m━━━━━━━━━━━━━━━━━━━━━━━━━━━━━━━━━━━━━━━━\u001B[0m \u001B[32m3.5/3.5 MB\u001B[0m \u001B[31m5.0 MB/s\u001B[0m eta \u001B[36m0:00:00\u001B[0m00:01\u001B[0m00:01\u001B[0mm\r\n",
      "\u001B[?25hDownloading pyparsing-3.1.1-py3-none-any.whl (103 kB)\r\n",
      "\u001B[2K   \u001B[90m━━━━━━━━━━━━━━━━━━━━━━━━━━━━━━━━━━━━━━━━\u001B[0m \u001B[32m103.1/103.1 kB\u001B[0m \u001B[31m3.2 MB/s\u001B[0m eta \u001B[36m0:00:00\u001B[0m:00:01\u001B[0m\r\n",
      "\u001B[?25hInstalling collected packages: pyparsing, pillow, kiwisolver, fonttools, cycler, contourpy, matplotlib, koreanize-matplotlib\r\n",
      "Successfully installed contourpy-1.1.1 cycler-0.12.1 fonttools-4.43.1 kiwisolver-1.4.5 koreanize-matplotlib-0.1.1 matplotlib-3.8.0 pillow-10.1.0 pyparsing-3.1.1\r\n",
      "\r\n",
      "\u001B[1m[\u001B[0m\u001B[34;49mnotice\u001B[0m\u001B[1;39;49m]\u001B[0m\u001B[39;49m A new release of pip is available: \u001B[0m\u001B[31;49m23.2.1\u001B[0m\u001B[39;49m -> \u001B[0m\u001B[32;49m23.3\u001B[0m\r\n",
      "\u001B[1m[\u001B[0m\u001B[34;49mnotice\u001B[0m\u001B[1;39;49m]\u001B[0m\u001B[39;49m To update, run: \u001B[0m\u001B[32;49mpip install --upgrade pip\u001B[0m\r\n"
     ]
    }
   ]
  },
  {
   "cell_type": "code",
   "execution_count": 2,
   "metadata": {
    "id": "loajh_3DVV8U",
    "ExecuteTime": {
     "end_time": "2023-10-19T17:49:16.103517Z",
     "start_time": "2023-10-19T17:49:12.606719Z"
    }
   },
   "outputs": [],
   "source": [
    "import pandas as pd\n",
    "import numpy as np\n",
    "import matplotlib.pyplot as plt\n",
    "import koreanize_matplotlib"
   ]
  },
  {
   "cell_type": "code",
   "source": [
    "pd.__version__"
   ],
   "metadata": {
    "colab": {
     "base_uri": "https://localhost:8080/",
     "height": 35
    },
    "id": "gCG3YZ7OYeKZ",
    "outputId": "02d79a45-52a3-484f-dc1f-e5b20cf49abd",
    "ExecuteTime": {
     "end_time": "2023-10-19T17:49:17.390175Z",
     "start_time": "2023-10-19T17:49:17.372234Z"
    }
   },
   "execution_count": 3,
   "outputs": [
    {
     "data": {
      "text/plain": "'2.1.1'"
     },
     "execution_count": 3,
     "metadata": {},
     "output_type": "execute_result"
    }
   ]
  },
  {
   "cell_type": "code",
   "source": [
    "np.__version__"
   ],
   "metadata": {
    "colab": {
     "base_uri": "https://localhost:8080/",
     "height": 35
    },
    "id": "jXdvVLXqBz_L",
    "outputId": "6a2b8c42-167c-4d21-c485-7fa48d34b82d",
    "ExecuteTime": {
     "end_time": "2023-10-19T17:49:18.435099Z",
     "start_time": "2023-10-19T17:49:18.403016Z"
    }
   },
   "execution_count": 4,
   "outputs": [
    {
     "data": {
      "text/plain": "'1.26.1'"
     },
     "execution_count": 4,
     "metadata": {},
     "output_type": "execute_result"
    }
   ]
  },
  {
   "cell_type": "markdown",
   "source": [
    "# Object\n",
    "- 출생율 데이터를 사용해서 `판다스 인 액션`에서 학습한 내용을 복습 및 연습\n",
    "\n",
    "# Goal\n",
    "- `Melt`에 대한 이해 및 사용법\n",
    "  - pivot은 차후에 몇가지 연습\n",
    "- 간단한 필터링\n",
    "- 컬럼 기반 내용 추출\n",
    "- 컬럼 추가 및 변경\n"
   ],
   "metadata": {
    "id": "zVu_1D8z-Y4w"
   }
  },
  {
   "cell_type": "code",
   "source": [
    "#!wget https://raw.githubusercontent.com/sigmadream/practice-pandas/main/lab/data/20231019163232.csv\n",
    "df = pd.read_csv(\"data/20231019163232.csv\", encoding=\"cp949\")"
   ],
   "metadata": {
    "id": "kfFLiBvv3PX9",
    "ExecuteTime": {
     "end_time": "2023-10-19T17:49:46.903056Z",
     "start_time": "2023-10-19T17:49:46.843401Z"
    }
   },
   "execution_count": 5,
   "outputs": []
  },
  {
   "cell_type": "code",
   "source": [
    "df.info()"
   ],
   "metadata": {
    "colab": {
     "base_uri": "https://localhost:8080/"
    },
    "id": "XHyANf6s3hQZ",
    "outputId": "09b63583-de07-4ca3-d065-e01057bbc614",
    "ExecuteTime": {
     "end_time": "2023-10-19T17:49:47.925156Z",
     "start_time": "2023-10-19T17:49:47.904063Z"
    }
   },
   "execution_count": 6,
   "outputs": [
    {
     "name": "stdout",
     "output_type": "stream",
     "text": [
      "<class 'pandas.core.frame.DataFrame'>\n",
      "RangeIndex: 19 entries, 0 to 18\n",
      "Columns: 937 entries, 시군구별 to 2022.12.2\n",
      "dtypes: object(937)\n",
      "memory usage: 139.2+ KB\n"
     ]
    }
   ]
  },
  {
   "cell_type": "code",
   "source": [
    "df.head(2)"
   ],
   "metadata": {
    "colab": {
     "base_uri": "https://localhost:8080/",
     "height": 141
    },
    "id": "2Xt_bwW33rde",
    "outputId": "a5698edc-75ae-4cc1-be51-d2fb92056887",
    "ExecuteTime": {
     "end_time": "2023-10-19T17:49:48.582600Z",
     "start_time": "2023-10-19T17:49:48.570720Z"
    }
   },
   "execution_count": 7,
   "outputs": [
    {
     "data": {
      "text/plain": "   시군구별 1997.01 1997.01.1 1997.01.2 1997.02 1997.02.1 1997.02.2 1997.03  \\\n0  시군구별   계 (명)    남자 (명)    여자 (명)   계 (명)    남자 (명)    여자 (명)   계 (명)   \n1    전국   63268     33266     30002   58144     30086     28058   62160   \n\n  1997.03.1 1997.03.2  ... 2022.09.2 2022.10 2022.10.1 2022.10.2 2022.11  \\\n0    남자 (명)    여자 (명)  ...    여자 (명)   계 (명)    남자 (명)    여자 (명)   계 (명)   \n1     32333     29827  ...     10715   20646     10530     10116   18981   \n\n  2022.11.1 2022.11.2 2022.12 2022.12.1 2022.12.2  \n0    남자 (명)    여자 (명)   계 (명)    남자 (명)    여자 (명)  \n1      9737      9244   16896      8684      8212  \n\n[2 rows x 937 columns]",
      "text/html": "<div>\n<style scoped>\n    .dataframe tbody tr th:only-of-type {\n        vertical-align: middle;\n    }\n\n    .dataframe tbody tr th {\n        vertical-align: top;\n    }\n\n    .dataframe thead th {\n        text-align: right;\n    }\n</style>\n<table border=\"1\" class=\"dataframe\">\n  <thead>\n    <tr style=\"text-align: right;\">\n      <th></th>\n      <th>시군구별</th>\n      <th>1997.01</th>\n      <th>1997.01.1</th>\n      <th>1997.01.2</th>\n      <th>1997.02</th>\n      <th>1997.02.1</th>\n      <th>1997.02.2</th>\n      <th>1997.03</th>\n      <th>1997.03.1</th>\n      <th>1997.03.2</th>\n      <th>...</th>\n      <th>2022.09.2</th>\n      <th>2022.10</th>\n      <th>2022.10.1</th>\n      <th>2022.10.2</th>\n      <th>2022.11</th>\n      <th>2022.11.1</th>\n      <th>2022.11.2</th>\n      <th>2022.12</th>\n      <th>2022.12.1</th>\n      <th>2022.12.2</th>\n    </tr>\n  </thead>\n  <tbody>\n    <tr>\n      <th>0</th>\n      <td>시군구별</td>\n      <td>계 (명)</td>\n      <td>남자 (명)</td>\n      <td>여자 (명)</td>\n      <td>계 (명)</td>\n      <td>남자 (명)</td>\n      <td>여자 (명)</td>\n      <td>계 (명)</td>\n      <td>남자 (명)</td>\n      <td>여자 (명)</td>\n      <td>...</td>\n      <td>여자 (명)</td>\n      <td>계 (명)</td>\n      <td>남자 (명)</td>\n      <td>여자 (명)</td>\n      <td>계 (명)</td>\n      <td>남자 (명)</td>\n      <td>여자 (명)</td>\n      <td>계 (명)</td>\n      <td>남자 (명)</td>\n      <td>여자 (명)</td>\n    </tr>\n    <tr>\n      <th>1</th>\n      <td>전국</td>\n      <td>63268</td>\n      <td>33266</td>\n      <td>30002</td>\n      <td>58144</td>\n      <td>30086</td>\n      <td>28058</td>\n      <td>62160</td>\n      <td>32333</td>\n      <td>29827</td>\n      <td>...</td>\n      <td>10715</td>\n      <td>20646</td>\n      <td>10530</td>\n      <td>10116</td>\n      <td>18981</td>\n      <td>9737</td>\n      <td>9244</td>\n      <td>16896</td>\n      <td>8684</td>\n      <td>8212</td>\n    </tr>\n  </tbody>\n</table>\n<p>2 rows × 937 columns</p>\n</div>"
     },
     "execution_count": 7,
     "metadata": {},
     "output_type": "execute_result"
    }
   ]
  },
  {
   "cell_type": "code",
   "source": [
    "df_melt = df.melt(id_vars = \"시군구별\")"
   ],
   "metadata": {
    "id": "kqX33E-O35Ax",
    "ExecuteTime": {
     "end_time": "2023-10-19T17:49:49.824891Z",
     "start_time": "2023-10-19T17:49:49.739246Z"
    }
   },
   "execution_count": 8,
   "outputs": []
  },
  {
   "cell_type": "code",
   "source": [
    "df_melt.info()"
   ],
   "metadata": {
    "colab": {
     "base_uri": "https://localhost:8080/"
    },
    "id": "QZ7HEOQZ6idQ",
    "outputId": "fe0a2f5a-212f-4ff8-eaf0-37b4ca5ee9ac",
    "ExecuteTime": {
     "end_time": "2023-10-19T17:49:50.843443Z",
     "start_time": "2023-10-19T17:49:50.531163Z"
    }
   },
   "execution_count": 9,
   "outputs": [
    {
     "name": "stdout",
     "output_type": "stream",
     "text": [
      "<class 'pandas.core.frame.DataFrame'>\n",
      "RangeIndex: 17784 entries, 0 to 17783\n",
      "Data columns (total 3 columns):\n",
      " #   Column    Non-Null Count  Dtype \n",
      "---  ------    --------------  ----- \n",
      " 0   시군구별      17784 non-null  object\n",
      " 1   variable  17784 non-null  object\n",
      " 2   value     17784 non-null  object\n",
      "dtypes: object(3)\n",
      "memory usage: 416.9+ KB\n"
     ]
    }
   ]
  },
  {
   "cell_type": "code",
   "source": [
    "df_melt[\"시군구별\"].unique()"
   ],
   "metadata": {
    "colab": {
     "base_uri": "https://localhost:8080/"
    },
    "id": "FF9L98_V5AuC",
    "outputId": "ba72cad7-58e1-448c-9e7f-5b7bb2bd98fc",
    "ExecuteTime": {
     "end_time": "2023-10-19T17:49:51.290430Z",
     "start_time": "2023-10-19T17:49:51.271450Z"
    }
   },
   "execution_count": 10,
   "outputs": [
    {
     "data": {
      "text/plain": "array(['시군구별', '전국', '서울특별시', '부산광역시', '대구광역시', '인천광역시', '광주광역시', '대전광역시',\n       '울산광역시', '세종특별자치시', '경기도', '강원도', '충청북도', '충청남도', '전라북도', '전라남도',\n       '경상북도', '경상남도', '제주특별자치도'], dtype=object)"
     },
     "execution_count": 10,
     "metadata": {},
     "output_type": "execute_result"
    }
   ]
  },
  {
   "cell_type": "code",
   "source": [
    "df_melt = df_melt[df_melt[\"시군구별\"] != \"시군구별\"]"
   ],
   "metadata": {
    "id": "CqxWR-is5_K1",
    "ExecuteTime": {
     "end_time": "2023-10-19T17:49:51.753728Z",
     "start_time": "2023-10-19T17:49:51.736130Z"
    }
   },
   "execution_count": 11,
   "outputs": []
  },
  {
   "cell_type": "code",
   "source": [
    "df_melt[\"시군구별\"].unique()"
   ],
   "metadata": {
    "colab": {
     "base_uri": "https://localhost:8080/"
    },
    "id": "ttCGV4Rs6TMB",
    "outputId": "f84d3f8a-6029-4053-8e20-6d090e079d2a",
    "ExecuteTime": {
     "end_time": "2023-10-19T17:49:52.168026Z",
     "start_time": "2023-10-19T17:49:52.148068Z"
    }
   },
   "execution_count": 12,
   "outputs": [
    {
     "data": {
      "text/plain": "array(['전국', '서울특별시', '부산광역시', '대구광역시', '인천광역시', '광주광역시', '대전광역시',\n       '울산광역시', '세종특별자치시', '경기도', '강원도', '충청북도', '충청남도', '전라북도', '전라남도',\n       '경상북도', '경상남도', '제주특별자치도'], dtype=object)"
     },
     "execution_count": 12,
     "metadata": {},
     "output_type": "execute_result"
    }
   ]
  },
  {
   "cell_type": "code",
   "source": [
    "df_melt.head()"
   ],
   "metadata": {
    "colab": {
     "base_uri": "https://localhost:8080/",
     "height": 206
    },
    "id": "Pe9isOiN63K5",
    "outputId": "0b2a3a2f-6a5a-49b5-c3fb-e2adb2c29c48",
    "ExecuteTime": {
     "end_time": "2023-10-19T17:49:52.575381Z",
     "start_time": "2023-10-19T17:49:52.553365Z"
    }
   },
   "execution_count": 13,
   "outputs": [
    {
     "data": {
      "text/plain": "    시군구별 variable  value\n1     전국  1997.01  63268\n2  서울특별시  1997.01  13205\n3  부산광역시  1997.01   4201\n4  대구광역시  1997.01   3345\n5  인천광역시  1997.01   3646",
      "text/html": "<div>\n<style scoped>\n    .dataframe tbody tr th:only-of-type {\n        vertical-align: middle;\n    }\n\n    .dataframe tbody tr th {\n        vertical-align: top;\n    }\n\n    .dataframe thead th {\n        text-align: right;\n    }\n</style>\n<table border=\"1\" class=\"dataframe\">\n  <thead>\n    <tr style=\"text-align: right;\">\n      <th></th>\n      <th>시군구별</th>\n      <th>variable</th>\n      <th>value</th>\n    </tr>\n  </thead>\n  <tbody>\n    <tr>\n      <th>1</th>\n      <td>전국</td>\n      <td>1997.01</td>\n      <td>63268</td>\n    </tr>\n    <tr>\n      <th>2</th>\n      <td>서울특별시</td>\n      <td>1997.01</td>\n      <td>13205</td>\n    </tr>\n    <tr>\n      <th>3</th>\n      <td>부산광역시</td>\n      <td>1997.01</td>\n      <td>4201</td>\n    </tr>\n    <tr>\n      <th>4</th>\n      <td>대구광역시</td>\n      <td>1997.01</td>\n      <td>3345</td>\n    </tr>\n    <tr>\n      <th>5</th>\n      <td>인천광역시</td>\n      <td>1997.01</td>\n      <td>3646</td>\n    </tr>\n  </tbody>\n</table>\n</div>"
     },
     "execution_count": 13,
     "metadata": {},
     "output_type": "execute_result"
    }
   ]
  },
  {
   "cell_type": "code",
   "source": [
    "df_melt[\"연도\"] = df_melt[\"variable\"].str.split(\".\", expand=True)[0]\n",
    "df_melt[\"월\"] = df_melt[\"variable\"].str.split(\".\", expand=True)[1]\n",
    "df_melt[\"성별\"] = df_melt[\"variable\"].str.split(\".\", expand=True)[2]"
   ],
   "metadata": {
    "id": "8GX1sF0Y7T7I",
    "ExecuteTime": {
     "end_time": "2023-10-19T17:49:53.019786Z",
     "start_time": "2023-10-19T17:49:52.979025Z"
    }
   },
   "execution_count": 14,
   "outputs": []
  },
  {
   "cell_type": "code",
   "source": [
    "df_melt[\"성별\"] = df_melt[\"성별\"].fillna(\"전체\")\n",
    "df_melt[\"성별\"] = df_melt[\"성별\"].replace(\"1\", \"남자\").replace(\"2\", \"여자\")"
   ],
   "metadata": {
    "id": "88ftNEbc8PW1",
    "ExecuteTime": {
     "end_time": "2023-10-19T17:49:53.213414Z",
     "start_time": "2023-10-19T17:49:53.197283Z"
    }
   },
   "execution_count": 15,
   "outputs": []
  },
  {
   "cell_type": "code",
   "source": [
    "df_melt[\"성별\"].unique()"
   ],
   "metadata": {
    "colab": {
     "base_uri": "https://localhost:8080/"
    },
    "id": "8ZCW-mDD996H",
    "outputId": "ba1b52d5-d094-48b1-a7bd-0296c7ec57af",
    "ExecuteTime": {
     "end_time": "2023-10-19T17:49:53.429689Z",
     "start_time": "2023-10-19T17:49:53.410614Z"
    }
   },
   "execution_count": 16,
   "outputs": [
    {
     "data": {
      "text/plain": "array(['전체', '남자', '여자'], dtype=object)"
     },
     "execution_count": 16,
     "metadata": {},
     "output_type": "execute_result"
    }
   ]
  },
  {
   "cell_type": "code",
   "source": [
    "df_melt = df_melt.rename(columns={\"variable\": \"기간\", \"value\": \"출생아수\"})"
   ],
   "metadata": {
    "id": "EUzSfNvf99-g",
    "ExecuteTime": {
     "end_time": "2023-10-19T17:49:53.634132Z",
     "start_time": "2023-10-19T17:49:53.612517Z"
    }
   },
   "execution_count": 17,
   "outputs": []
  },
  {
   "cell_type": "code",
   "source": [
    "df_melt[\"출생아수\"] = df_melt[\"출생아수\"].replace(\"-\", np.nan).astype(float)\n",
    "df_melt[\"출생아수\"]"
   ],
   "metadata": {
    "id": "vN1-8nYd9-Av",
    "colab": {
     "base_uri": "https://localhost:8080/"
    },
    "outputId": "c69f2255-1662-4333-dc44-b1e4a23f8025",
    "ExecuteTime": {
     "end_time": "2023-10-19T17:49:53.858067Z",
     "start_time": "2023-10-19T17:49:53.842323Z"
    }
   },
   "execution_count": 18,
   "outputs": [
    {
     "data": {
      "text/plain": "1        63268.0\n2        13205.0\n3         4201.0\n4         3345.0\n5         3646.0\n          ...   \n17779      229.0\n17780      250.0\n17781      366.0\n17782      503.0\n17783      121.0\nName: 출생아수, Length: 16848, dtype: float64"
     },
     "execution_count": 18,
     "metadata": {},
     "output_type": "execute_result"
    }
   ]
  },
  {
   "cell_type": "code",
   "source": [
    "df_melt.info()"
   ],
   "metadata": {
    "colab": {
     "base_uri": "https://localhost:8080/"
    },
    "id": "2zgO2sD_E0hk",
    "outputId": "13916914-8ad7-4b0a-e70d-e873d9c18f7d",
    "ExecuteTime": {
     "end_time": "2023-10-19T17:49:54.262781Z",
     "start_time": "2023-10-19T17:49:54.239543Z"
    }
   },
   "execution_count": 19,
   "outputs": [
    {
     "name": "stdout",
     "output_type": "stream",
     "text": [
      "<class 'pandas.core.frame.DataFrame'>\n",
      "Index: 16848 entries, 1 to 17783\n",
      "Data columns (total 6 columns):\n",
      " #   Column  Non-Null Count  Dtype  \n",
      "---  ------  --------------  -----  \n",
      " 0   시군구별    16848 non-null  object \n",
      " 1   기간      16848 non-null  object \n",
      " 2   출생아수    16308 non-null  float64\n",
      " 3   연도      16848 non-null  object \n",
      " 4   월       16848 non-null  object \n",
      " 5   성별      16848 non-null  object \n",
      "dtypes: float64(1), object(5)\n",
      "memory usage: 921.4+ KB\n"
     ]
    }
   ]
  },
  {
   "cell_type": "code",
   "source": [
    "df_all = df_melt[(df_melt[\"시군구별\"] == \"전국\") & (df_melt[\"성별\"] == \"전체\")]"
   ],
   "metadata": {
    "id": "yBF9xeeeFDt2",
    "ExecuteTime": {
     "end_time": "2023-10-19T17:49:54.698848Z",
     "start_time": "2023-10-19T17:49:54.684182Z"
    }
   },
   "execution_count": 20,
   "outputs": []
  },
  {
   "cell_type": "code",
   "source": [
    "df_all = df_all.pivot_table(index=\"연도\", aggfunc=\"sum\")"
   ],
   "metadata": {
    "id": "XGlTbdj-CO0e",
    "ExecuteTime": {
     "end_time": "2023-10-19T17:49:55.154262Z",
     "start_time": "2023-10-19T17:49:55.138893Z"
    }
   },
   "execution_count": 21,
   "outputs": []
  },
  {
   "cell_type": "code",
   "source": [
    "df_all.plot(figsize=(15,4))"
   ],
   "metadata": {
    "colab": {
     "base_uri": "https://localhost:8080/",
     "height": 404
    },
    "id": "cHSoFT4XFhus",
    "outputId": "fc15ca20-3721-4a36-da47-cb3358a1c50b",
    "ExecuteTime": {
     "end_time": "2023-10-19T17:49:56.191984Z",
     "start_time": "2023-10-19T17:49:55.841336Z"
    }
   },
   "execution_count": 22,
   "outputs": [
    {
     "data": {
      "text/plain": "<Axes: xlabel='연도'>"
     },
     "execution_count": 22,
     "metadata": {},
     "output_type": "execute_result"
    },
    {
     "data": {
      "text/plain": "<Figure size 1500x400 with 1 Axes>",
      "image/png": "[encoded data removed]"
     },
     "metadata": {},
     "output_type": "display_data"
    }
   ]
  },
  {
   "cell_type": "code",
   "source": [],
   "metadata": {
    "id": "_ZE2J_q-CIh4"
   },
   "execution_count": null,
   "outputs": []
  }
 ]
}
