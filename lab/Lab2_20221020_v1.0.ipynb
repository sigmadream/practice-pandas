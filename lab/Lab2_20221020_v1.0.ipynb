{
 "cells": [
  {
   "cell_type": "code",
   "execution_count": 1,
   "metadata": {
    "ExecuteTime": {
     "end_time": "2023-10-20T16:41:24.632536Z",
     "start_time": "2023-10-20T16:41:23.671096Z"
    },
    "executionInfo": {
     "elapsed": 9,
     "status": "ok",
     "timestamp": 1697819806241,
     "user": {
      "displayName": "Sangkon Han (sigmadream)",
      "userId": "11611818706289122316"
     },
     "user_tz": -540
    },
    "id": "k70oqt6sff-8"
   },
   "outputs": [],
   "source": [
    "import pandas as pd\n",
    "import numpy as np\n",
    "import matplotlib.pyplot as plt\n",
    "import seaborn as sns\n",
    "import koreanize_matplotlib"
   ]
  },
  {
   "cell_type": "code",
   "execution_count": 2,
   "metadata": {
    "ExecuteTime": {
     "end_time": "2023-10-20T16:41:33.884608Z",
     "start_time": "2023-10-20T16:41:33.832821Z"
    },
    "executionInfo": {
     "elapsed": 13,
     "status": "ok",
     "timestamp": 1697819806896,
     "user": {
      "displayName": "Sangkon Han (sigmadream)",
      "userId": "11611818706289122316"
     },
     "user_tz": -540
    },
    "id": "R0Ip2AdB2L0k"
   },
   "outputs": [],
   "source": [
    "df_airline = pd.read_csv(\"data/lab2-airline-20231026.csv\", encoding=\"cp949\")"
   ]
  },
  {
   "cell_type": "code",
   "execution_count": 3,
   "metadata": {
    "ExecuteTime": {
     "end_time": "2023-10-20T16:41:35.165708Z",
     "start_time": "2023-10-20T16:41:35.145472Z"
    },
    "executionInfo": {
     "elapsed": 12,
     "status": "ok",
     "timestamp": 1697819806896,
     "user": {
      "displayName": "Sangkon Han (sigmadream)",
      "userId": "11611818706289122316"
     },
     "user_tz": -540
    },
    "id": "R0tv8PoV2XFG"
   },
   "outputs": [],
   "source": [
    "df_airline[\"시점\"] = df_airline[\"시점\"].astype(\"object\")"
   ]
  },
  {
   "cell_type": "code",
   "execution_count": 4,
   "metadata": {
    "ExecuteTime": {
     "end_time": "2023-10-20T16:41:36.127459Z",
     "start_time": "2023-10-20T16:41:36.114782Z"
    },
    "colab": {
     "base_uri": "https://localhost:8080/"
    },
    "executionInfo": {
     "elapsed": 11,
     "status": "ok",
     "timestamp": 1697819806896,
     "user": {
      "displayName": "Sangkon Han (sigmadream)",
      "userId": "11611818706289122316"
     },
     "user_tz": -540
    },
    "id": "UXGH15QN7V9z",
    "outputId": "d6bba692-8be1-4050-bf2b-6cb1265d2f08"
   },
   "outputs": [
    {
     "name": "stdout",
     "output_type": "stream",
     "text": [
      "<class 'pandas.core.frame.DataFrame'>\n",
      "RangeIndex: 3696 entries, 0 to 3695\n",
      "Data columns (total 6 columns):\n",
      " #   Column    Non-Null Count  Dtype \n",
      "---  ------    --------------  ----- \n",
      " 0   시점        3696 non-null   object\n",
      " 1   항공사별(1)   3696 non-null   object\n",
      " 2   도착출발별(1)  3696 non-null   object\n",
      " 3   운항 (편)    3696 non-null   int64 \n",
      " 4   여객 (명)    3696 non-null   int64 \n",
      " 5   화물 (톤)    3696 non-null   int64 \n",
      "dtypes: int64(3), object(3)\n",
      "memory usage: 173.4+ KB\n"
     ]
    }
   ],
   "source": [
    "df_airline.info()"
   ]
  },
  {
   "cell_type": "code",
   "execution_count": 5,
   "metadata": {
    "ExecuteTime": {
     "end_time": "2023-10-20T16:41:36.762157Z",
     "start_time": "2023-10-20T16:41:36.716474Z"
    },
    "colab": {
     "base_uri": "https://localhost:8080/",
     "height": 206
    },
    "executionInfo": {
     "elapsed": 10,
     "status": "ok",
     "timestamp": 1697819806896,
     "user": {
      "displayName": "Sangkon Han (sigmadream)",
      "userId": "11611818706289122316"
     },
     "user_tz": -540
    },
    "id": "DK5EGmP08pmp",
    "outputId": "a75c45a2-04c5-4a23-f3ac-f3500b60a1fb"
   },
   "outputs": [
    {
     "data": {
      "text/html": [
       "<div>\n",
       "<style scoped>\n",
       "    .dataframe tbody tr th:only-of-type {\n",
       "        vertical-align: middle;\n",
       "    }\n",
       "\n",
       "    .dataframe tbody tr th {\n",
       "        vertical-align: top;\n",
       "    }\n",
       "\n",
       "    .dataframe thead th {\n",
       "        text-align: right;\n",
       "    }\n",
       "</style>\n",
       "<table border=\"1\" class=\"dataframe\">\n",
       "  <thead>\n",
       "    <tr style=\"text-align: right;\">\n",
       "      <th></th>\n",
       "      <th>시점</th>\n",
       "      <th>항공사별(1)</th>\n",
       "      <th>도착출발별(1)</th>\n",
       "      <th>운항 (편)</th>\n",
       "      <th>여객 (명)</th>\n",
       "      <th>화물 (톤)</th>\n",
       "    </tr>\n",
       "  </thead>\n",
       "  <tbody>\n",
       "    <tr>\n",
       "      <th>0</th>\n",
       "      <td>2005.01</td>\n",
       "      <td>아시아나항공</td>\n",
       "      <td>도착</td>\n",
       "      <td>6613</td>\n",
       "      <td>791439</td>\n",
       "      <td>28012</td>\n",
       "    </tr>\n",
       "    <tr>\n",
       "      <th>1</th>\n",
       "      <td>2005.01</td>\n",
       "      <td>아시아나항공</td>\n",
       "      <td>출발</td>\n",
       "      <td>6610</td>\n",
       "      <td>799835</td>\n",
       "      <td>29576</td>\n",
       "    </tr>\n",
       "    <tr>\n",
       "      <th>2</th>\n",
       "      <td>2005.01</td>\n",
       "      <td>대한항공</td>\n",
       "      <td>도착</td>\n",
       "      <td>8869</td>\n",
       "      <td>1372897</td>\n",
       "      <td>70544</td>\n",
       "    </tr>\n",
       "    <tr>\n",
       "      <th>3</th>\n",
       "      <td>2005.01</td>\n",
       "      <td>대한항공</td>\n",
       "      <td>출발</td>\n",
       "      <td>8870</td>\n",
       "      <td>1405847</td>\n",
       "      <td>78329</td>\n",
       "    </tr>\n",
       "    <tr>\n",
       "      <th>4</th>\n",
       "      <td>2005.01</td>\n",
       "      <td>외항사</td>\n",
       "      <td>도착</td>\n",
       "      <td>3145</td>\n",
       "      <td>443386</td>\n",
       "      <td>28311</td>\n",
       "    </tr>\n",
       "  </tbody>\n",
       "</table>\n",
       "</div>"
      ],
      "text/plain": [
       "        시점 항공사별(1) 도착출발별(1)  운항 (편)   여객 (명)  화물 (톤)\n",
       "0  2005.01  아시아나항공       도착    6613   791439   28012\n",
       "1  2005.01  아시아나항공       출발    6610   799835   29576\n",
       "2  2005.01    대한항공       도착    8869  1372897   70544\n",
       "3  2005.01    대한항공       출발    8870  1405847   78329\n",
       "4  2005.01     외항사       도착    3145   443386   28311"
      ]
     },
     "execution_count": 5,
     "metadata": {},
     "output_type": "execute_result"
    }
   ],
   "source": [
    "df_airline.head()"
   ]
  },
  {
   "cell_type": "markdown",
   "metadata": {
    "id": "xrvoO-bD4Ncs"
   },
   "source": [
    "## Q. 항공사별로 연간 평균 여객 수 계산"
   ]
  },
  {
   "cell_type": "code",
   "execution_count": 6,
   "metadata": {
    "ExecuteTime": {
     "end_time": "2023-10-20T16:41:38.702111Z",
     "start_time": "2023-10-20T16:41:38.689708Z"
    },
    "executionInfo": {
     "elapsed": 10,
     "status": "ok",
     "timestamp": 1697819806897,
     "user": {
      "displayName": "Sangkon Han (sigmadream)",
      "userId": "11611818706289122316"
     },
     "user_tz": -540
    },
    "id": "lro7cX_dS9E-"
   },
   "outputs": [],
   "source": [
    "average_passengers_by_airline = df_airline.groupby(\"항공사별(1)\")[\"여객 (명)\"].mean()"
   ]
  },
  {
   "cell_type": "code",
   "execution_count": 7,
   "metadata": {
    "ExecuteTime": {
     "end_time": "2023-10-20T16:41:40.647058Z",
     "start_time": "2023-10-20T16:41:40.430196Z"
    },
    "colab": {
     "base_uri": "https://localhost:8080/",
     "height": 391
    },
    "executionInfo": {
     "elapsed": 10,
     "status": "ok",
     "timestamp": 1697819806897,
     "user": {
      "displayName": "Sangkon Han (sigmadream)",
      "userId": "11611818706289122316"
     },
     "user_tz": -540
    },
    "id": "ZDUdsI1H4Toj",
    "outputId": "81b32bbf-a466-4832-cfdb-bd576e53d772"
   },
   "outputs": [
    {
     "data": {
      "image/png": "[encoded data removed]",
      "text/plain": [
       "<Figure size 1200x300 with 1 Axes>"
      ]
     },
     "metadata": {},
     "output_type": "display_data"
    }
   ],
   "source": [
    "plt.figure(figsize=(12, 3))\n",
    "average_passengers_by_airline.plot(kind=\"bar\")\n",
    "plt.title(\"항공사별 연간 평균 여객 수\")\n",
    "plt.xlabel(\"항공사\")\n",
    "plt.ylabel(\"평균 여객 수\")\n",
    "plt.xticks(rotation=45)\n",
    "plt.show()"
   ]
  },
  {
   "cell_type": "markdown",
   "metadata": {
    "id": "V0AOShHy44nX"
   },
   "source": [
    "## Q. 연간 운항 및 여객 증가율"
   ]
  },
  {
   "cell_type": "code",
   "execution_count": 8,
   "metadata": {
    "ExecuteTime": {
     "end_time": "2023-10-20T16:41:43.359620Z",
     "start_time": "2023-10-20T16:41:43.339312Z"
    },
    "executionInfo": {
     "elapsed": 9,
     "status": "ok",
     "timestamp": 1697819806897,
     "user": {
      "displayName": "Sangkon Han (sigmadream)",
      "userId": "11611818706289122316"
     },
     "user_tz": -540
    },
    "id": "RLi81LXp4Wz7"
   },
   "outputs": [],
   "source": [
    "# 연간 운항 편수 증가율 계산\n",
    "df_airline[\"운항 (편)_증가율\"] = df_airline.groupby(\"항공사별(1)\")[\"운항 (편)\"].pct_change() * 100\n",
    "\n",
    "# 연간 여객 수 증가율 계산\n",
    "df_airline[\"여객 (명)_증가율\"] = df_airline.groupby(\"항공사별(1)\")[\"여객 (명)\"].pct_change() * 100"
   ]
  },
  {
   "cell_type": "code",
   "execution_count": 9,
   "metadata": {
    "ExecuteTime": {
     "end_time": "2023-10-20T16:41:44.602124Z",
     "start_time": "2023-10-20T16:41:44.577876Z"
    },
    "colab": {
     "base_uri": "https://localhost:8080/",
     "height": 424
    },
    "executionInfo": {
     "elapsed": 8,
     "status": "ok",
     "timestamp": 1697819806897,
     "user": {
      "displayName": "Sangkon Han (sigmadream)",
      "userId": "11611818706289122316"
     },
     "user_tz": -540
    },
    "id": "ePCciGoN5Arh",
    "outputId": "24f5534f-256e-446d-8a1c-ecc677ae8a77"
   },
   "outputs": [
    {
     "data": {
      "text/html": [
       "<div>\n",
       "<style scoped>\n",
       "    .dataframe tbody tr th:only-of-type {\n",
       "        vertical-align: middle;\n",
       "    }\n",
       "\n",
       "    .dataframe tbody tr th {\n",
       "        vertical-align: top;\n",
       "    }\n",
       "\n",
       "    .dataframe thead th {\n",
       "        text-align: right;\n",
       "    }\n",
       "</style>\n",
       "<table border=\"1\" class=\"dataframe\">\n",
       "  <thead>\n",
       "    <tr style=\"text-align: right;\">\n",
       "      <th></th>\n",
       "      <th>시점</th>\n",
       "      <th>항공사별(1)</th>\n",
       "      <th>도착출발별(1)</th>\n",
       "      <th>운항 (편)</th>\n",
       "      <th>여객 (명)</th>\n",
       "      <th>화물 (톤)</th>\n",
       "      <th>운항 (편)_증가율</th>\n",
       "      <th>여객 (명)_증가율</th>\n",
       "    </tr>\n",
       "  </thead>\n",
       "  <tbody>\n",
       "    <tr>\n",
       "      <th>0</th>\n",
       "      <td>2005.01</td>\n",
       "      <td>아시아나항공</td>\n",
       "      <td>도착</td>\n",
       "      <td>6613</td>\n",
       "      <td>791439</td>\n",
       "      <td>28012</td>\n",
       "      <td>NaN</td>\n",
       "      <td>NaN</td>\n",
       "    </tr>\n",
       "    <tr>\n",
       "      <th>1</th>\n",
       "      <td>2005.01</td>\n",
       "      <td>아시아나항공</td>\n",
       "      <td>출발</td>\n",
       "      <td>6610</td>\n",
       "      <td>799835</td>\n",
       "      <td>29576</td>\n",
       "      <td>-0.045365</td>\n",
       "      <td>1.060852</td>\n",
       "    </tr>\n",
       "    <tr>\n",
       "      <th>2</th>\n",
       "      <td>2005.01</td>\n",
       "      <td>대한항공</td>\n",
       "      <td>도착</td>\n",
       "      <td>8869</td>\n",
       "      <td>1372897</td>\n",
       "      <td>70544</td>\n",
       "      <td>NaN</td>\n",
       "      <td>NaN</td>\n",
       "    </tr>\n",
       "    <tr>\n",
       "      <th>3</th>\n",
       "      <td>2005.01</td>\n",
       "      <td>대한항공</td>\n",
       "      <td>출발</td>\n",
       "      <td>8870</td>\n",
       "      <td>1405847</td>\n",
       "      <td>78329</td>\n",
       "      <td>0.011275</td>\n",
       "      <td>2.400034</td>\n",
       "    </tr>\n",
       "    <tr>\n",
       "      <th>4</th>\n",
       "      <td>2005.01</td>\n",
       "      <td>외항사</td>\n",
       "      <td>도착</td>\n",
       "      <td>3145</td>\n",
       "      <td>443386</td>\n",
       "      <td>28311</td>\n",
       "      <td>NaN</td>\n",
       "      <td>NaN</td>\n",
       "    </tr>\n",
       "    <tr>\n",
       "      <th>...</th>\n",
       "      <td>...</td>\n",
       "      <td>...</td>\n",
       "      <td>...</td>\n",
       "      <td>...</td>\n",
       "      <td>...</td>\n",
       "      <td>...</td>\n",
       "      <td>...</td>\n",
       "      <td>...</td>\n",
       "    </tr>\n",
       "    <tr>\n",
       "      <th>3691</th>\n",
       "      <td>2023.08</td>\n",
       "      <td>에어로케이항공</td>\n",
       "      <td>출발</td>\n",
       "      <td>352</td>\n",
       "      <td>53311</td>\n",
       "      <td>306</td>\n",
       "      <td>0.000000</td>\n",
       "      <td>-1.503926</td>\n",
       "    </tr>\n",
       "    <tr>\n",
       "      <th>3692</th>\n",
       "      <td>2023.08</td>\n",
       "      <td>에어프레미아</td>\n",
       "      <td>도착</td>\n",
       "      <td>126</td>\n",
       "      <td>35608</td>\n",
       "      <td>1474</td>\n",
       "      <td>-2.325581</td>\n",
       "      <td>-7.574106</td>\n",
       "    </tr>\n",
       "    <tr>\n",
       "      <th>3693</th>\n",
       "      <td>2023.08</td>\n",
       "      <td>에어프레미아</td>\n",
       "      <td>출발</td>\n",
       "      <td>125</td>\n",
       "      <td>35836</td>\n",
       "      <td>1690</td>\n",
       "      <td>-0.793651</td>\n",
       "      <td>0.640306</td>\n",
       "    </tr>\n",
       "    <tr>\n",
       "      <th>3694</th>\n",
       "      <td>2023.08</td>\n",
       "      <td>외항사</td>\n",
       "      <td>도착</td>\n",
       "      <td>6705</td>\n",
       "      <td>1118720</td>\n",
       "      <td>52006</td>\n",
       "      <td>1.698771</td>\n",
       "      <td>5.884647</td>\n",
       "    </tr>\n",
       "    <tr>\n",
       "      <th>3695</th>\n",
       "      <td>2023.08</td>\n",
       "      <td>외항사</td>\n",
       "      <td>출발</td>\n",
       "      <td>6719</td>\n",
       "      <td>1056783</td>\n",
       "      <td>51615</td>\n",
       "      <td>0.208799</td>\n",
       "      <td>-5.536417</td>\n",
       "    </tr>\n",
       "  </tbody>\n",
       "</table>\n",
       "<p>3696 rows × 8 columns</p>\n",
       "</div>"
      ],
      "text/plain": [
       "           시점  항공사별(1) 도착출발별(1)  운항 (편)   여객 (명)  화물 (톤)  운항 (편)_증가율  \\\n",
       "0     2005.01   아시아나항공       도착    6613   791439   28012         NaN   \n",
       "1     2005.01   아시아나항공       출발    6610   799835   29576   -0.045365   \n",
       "2     2005.01     대한항공       도착    8869  1372897   70544         NaN   \n",
       "3     2005.01     대한항공       출발    8870  1405847   78329    0.011275   \n",
       "4     2005.01      외항사       도착    3145   443386   28311         NaN   \n",
       "...       ...      ...      ...     ...      ...     ...         ...   \n",
       "3691  2023.08  에어로케이항공       출발     352    53311     306    0.000000   \n",
       "3692  2023.08   에어프레미아       도착     126    35608    1474   -2.325581   \n",
       "3693  2023.08   에어프레미아       출발     125    35836    1690   -0.793651   \n",
       "3694  2023.08      외항사       도착    6705  1118720   52006    1.698771   \n",
       "3695  2023.08      외항사       출발    6719  1056783   51615    0.208799   \n",
       "\n",
       "      여객 (명)_증가율  \n",
       "0            NaN  \n",
       "1       1.060852  \n",
       "2            NaN  \n",
       "3       2.400034  \n",
       "4            NaN  \n",
       "...          ...  \n",
       "3691   -1.503926  \n",
       "3692   -7.574106  \n",
       "3693    0.640306  \n",
       "3694    5.884647  \n",
       "3695   -5.536417  \n",
       "\n",
       "[3696 rows x 8 columns]"
      ]
     },
     "execution_count": 9,
     "metadata": {},
     "output_type": "execute_result"
    }
   ],
   "source": [
    "df_airline"
   ]
  },
  {
   "cell_type": "markdown",
   "metadata": {
    "id": "g_l1Ctl05KuS"
   },
   "source": [
    "## Q. 도착/출발별로 연간 운항 및 여객"
   ]
  },
  {
   "cell_type": "code",
   "execution_count": 10,
   "metadata": {
    "ExecuteTime": {
     "end_time": "2023-10-20T16:41:46.663643Z",
     "start_time": "2023-10-20T16:41:46.646892Z"
    },
    "executionInfo": {
     "elapsed": 7,
     "status": "ok",
     "timestamp": 1697819806897,
     "user": {
      "displayName": "Sangkon Han (sigmadream)",
      "userId": "11611818706289122316"
     },
     "user_tz": -540
    },
    "id": "8-vPRTl05CLu"
   },
   "outputs": [],
   "source": [
    "# 도착별 연간 운항 편수 및 여객 수 분석\n",
    "arrival_stats = df_airline[df_airline[\"도착출발별(1)\"] == \"도착\"].groupby(\"시점\")[[\"운항 (편)\", \"여객 (명)\"]].sum()\n",
    "\n",
    "# 출발별 연간 운항 편수 및 여객 수 분석\n",
    "departure_stats = df_airline[df_airline[\"도착출발별(1)\"] == \"출발\"].groupby(\"시점\")[[\"운항 (편)\", \"여객 (명)\"]].sum()"
   ]
  },
  {
   "cell_type": "code",
   "execution_count": 11,
   "metadata": {
    "ExecuteTime": {
     "end_time": "2023-10-20T16:41:47.493822Z",
     "start_time": "2023-10-20T16:41:47.478445Z"
    },
    "colab": {
     "base_uri": "https://localhost:8080/",
     "height": 455
    },
    "executionInfo": {
     "elapsed": 766,
     "status": "ok",
     "timestamp": 1697819807656,
     "user": {
      "displayName": "Sangkon Han (sigmadream)",
      "userId": "11611818706289122316"
     },
     "user_tz": -540
    },
    "id": "fOjVCDkD5WJP",
    "outputId": "ec3be914-edd0-4a97-a23d-4fed46be7185"
   },
   "outputs": [
    {
     "data": {
      "text/html": [
       "<div>\n",
       "<style scoped>\n",
       "    .dataframe tbody tr th:only-of-type {\n",
       "        vertical-align: middle;\n",
       "    }\n",
       "\n",
       "    .dataframe tbody tr th {\n",
       "        vertical-align: top;\n",
       "    }\n",
       "\n",
       "    .dataframe thead th {\n",
       "        text-align: right;\n",
       "    }\n",
       "</style>\n",
       "<table border=\"1\" class=\"dataframe\">\n",
       "  <thead>\n",
       "    <tr style=\"text-align: right;\">\n",
       "      <th></th>\n",
       "      <th>운항 (편)</th>\n",
       "      <th>여객 (명)</th>\n",
       "    </tr>\n",
       "    <tr>\n",
       "      <th>시점</th>\n",
       "      <th></th>\n",
       "      <th></th>\n",
       "    </tr>\n",
       "  </thead>\n",
       "  <tbody>\n",
       "    <tr>\n",
       "      <th>2005.01</th>\n",
       "      <td>18627</td>\n",
       "      <td>2607722</td>\n",
       "    </tr>\n",
       "    <tr>\n",
       "      <th>2005.02</th>\n",
       "      <td>17112</td>\n",
       "      <td>2451062</td>\n",
       "    </tr>\n",
       "    <tr>\n",
       "      <th>2005.03</th>\n",
       "      <td>18342</td>\n",
       "      <td>2462065</td>\n",
       "    </tr>\n",
       "    <tr>\n",
       "      <th>2005.04</th>\n",
       "      <td>18735</td>\n",
       "      <td>2823164</td>\n",
       "    </tr>\n",
       "    <tr>\n",
       "      <th>2005.05</th>\n",
       "      <td>19511</td>\n",
       "      <td>2836185</td>\n",
       "    </tr>\n",
       "    <tr>\n",
       "      <th>...</th>\n",
       "      <td>...</td>\n",
       "      <td>...</td>\n",
       "    </tr>\n",
       "    <tr>\n",
       "      <th>2023.04</th>\n",
       "      <td>31189</td>\n",
       "      <td>5233125</td>\n",
       "    </tr>\n",
       "    <tr>\n",
       "      <th>2023.05</th>\n",
       "      <td>33421</td>\n",
       "      <td>5529102</td>\n",
       "    </tr>\n",
       "    <tr>\n",
       "      <th>2023.06</th>\n",
       "      <td>33028</td>\n",
       "      <td>5618913</td>\n",
       "    </tr>\n",
       "    <tr>\n",
       "      <th>2023.07</th>\n",
       "      <td>34656</td>\n",
       "      <td>5743000</td>\n",
       "    </tr>\n",
       "    <tr>\n",
       "      <th>2023.08</th>\n",
       "      <td>35177</td>\n",
       "      <td>6192002</td>\n",
       "    </tr>\n",
       "  </tbody>\n",
       "</table>\n",
       "<p>224 rows × 2 columns</p>\n",
       "</div>"
      ],
      "text/plain": [
       "         운항 (편)   여객 (명)\n",
       "시점                      \n",
       "2005.01   18627  2607722\n",
       "2005.02   17112  2451062\n",
       "2005.03   18342  2462065\n",
       "2005.04   18735  2823164\n",
       "2005.05   19511  2836185\n",
       "...         ...      ...\n",
       "2023.04   31189  5233125\n",
       "2023.05   33421  5529102\n",
       "2023.06   33028  5618913\n",
       "2023.07   34656  5743000\n",
       "2023.08   35177  6192002\n",
       "\n",
       "[224 rows x 2 columns]"
      ]
     },
     "execution_count": 11,
     "metadata": {},
     "output_type": "execute_result"
    }
   ],
   "source": [
    "arrival_stats"
   ]
  },
  {
   "cell_type": "code",
   "execution_count": 12,
   "metadata": {
    "ExecuteTime": {
     "end_time": "2023-10-20T16:41:48.617516Z",
     "start_time": "2023-10-20T16:41:48.328898Z"
    },
    "colab": {
     "base_uri": "https://localhost:8080/",
     "height": 480
    },
    "executionInfo": {
     "elapsed": 7,
     "status": "ok",
     "timestamp": 1697819807656,
     "user": {
      "displayName": "Sangkon Han (sigmadream)",
      "userId": "11611818706289122316"
     },
     "user_tz": -540
    },
    "id": "l9XP8ppq5ZLD",
    "outputId": "a897e9c2-e001-4f3f-9946-5d65beda9a25"
   },
   "outputs": [
    {
     "data": {
      "text/plain": [
       "<Axes: xlabel='시점'>"
      ]
     },
     "execution_count": 12,
     "metadata": {},
     "output_type": "execute_result"
    },
    {
     "data": {
      "image/png": "[encoded data removed]",
      "text/plain": [
       "<Figure size 640x480 with 2 Axes>"
      ]
     },
     "metadata": {},
     "output_type": "display_data"
    }
   ],
   "source": [
    "departure_stats.plot(secondary_y=\"여객 (명)\")"
   ]
  },
  {
   "cell_type": "markdown",
   "metadata": {
    "id": "KipsF0yI5j2M"
   },
   "source": [
    "## Q. 시간에 따른 화물 운송량"
   ]
  },
  {
   "cell_type": "code",
   "execution_count": 13,
   "metadata": {
    "ExecuteTime": {
     "end_time": "2023-10-20T16:41:51.147575Z",
     "start_time": "2023-10-20T16:41:51.145255Z"
    },
    "executionInfo": {
     "elapsed": 5,
     "status": "ok",
     "timestamp": 1697819807656,
     "user": {
      "displayName": "Sangkon Han (sigmadream)",
      "userId": "11611818706289122316"
     },
     "user_tz": -540
    },
    "id": "M07IicT25azW"
   },
   "outputs": [],
   "source": [
    "# 시간에 따른 화물 운송량 시각화\n",
    "df_airline[\"시점\"] = pd.to_datetime(df_airline[\"시점\"])"
   ]
  },
  {
   "cell_type": "code",
   "execution_count": 14,
   "metadata": {
    "ExecuteTime": {
     "end_time": "2023-10-20T16:41:52.665682Z",
     "start_time": "2023-10-20T16:41:52.481685Z"
    },
    "colab": {
     "base_uri": "https://localhost:8080/",
     "height": 538
    },
    "executionInfo": {
     "elapsed": 824,
     "status": "ok",
     "timestamp": 1697819808475,
     "user": {
      "displayName": "Sangkon Han (sigmadream)",
      "userId": "11611818706289122316"
     },
     "user_tz": -540
    },
    "id": "I9SGoVEU5qXl",
    "outputId": "970a27a3-cda3-4b1c-e735-e88722a5b7da"
   },
   "outputs": [
    {
     "data": {
      "image/png": "[encoded data removed]",
      "text/plain": [
       "<Figure size 1200x600 with 1 Axes>"
      ]
     },
     "metadata": {},
     "output_type": "display_data"
    }
   ],
   "source": [
    "plt.figure(figsize=(12, 6))\n",
    "plt.plot(df_airline[df_airline[\"항공사별(1)\"] == \"아시아나항공\"][\"시점\"], df_airline[df_airline[\"항공사별(1)\"] == \"아시아나항공\"][\"화물 (톤)\"], label=\"아시아나항공\")\n",
    "plt.plot(df_airline[df_airline[\"항공사별(1)\"] == \"대한항공\"][\"시점\"], df_airline[df_airline[\"항공사별(1)\"] == \"대한항공\"][\"화물 (톤)\"], label=\"대한항공\")\n",
    "plt.xlabel(\"시간\")\n",
    "plt.ylabel(\"화물 운송량 (톤)\")\n",
    "plt.legend()\n",
    "plt.title(\"시간에 따른 화물 운송량 추이\")\n",
    "plt.show()"
   ]
  },
  {
   "cell_type": "code",
   "execution_count": 15,
   "metadata": {
    "ExecuteTime": {
     "end_time": "2023-10-20T16:42:00.402074Z",
     "start_time": "2023-10-20T16:42:00.351275Z"
    },
    "colab": {
     "base_uri": "https://localhost:8080/"
    },
    "executionInfo": {
     "elapsed": 19,
     "status": "ok",
     "timestamp": 1697819808476,
     "user": {
      "displayName": "Sangkon Han (sigmadream)",
      "userId": "11611818706289122316"
     },
     "user_tz": -540
    },
    "id": "BNLLZvoc5vaE",
    "outputId": "b5f4ac5d-5e78-473c-dc36-945c5e69d2d4"
   },
   "outputs": [
    {
     "name": "stdout",
     "output_type": "stream",
     "text": [
      "<class 'pandas.core.frame.DataFrame'>\n",
      "RangeIndex: 3696 entries, 0 to 3695\n",
      "Data columns (total 6 columns):\n",
      " #   Column    Non-Null Count  Dtype \n",
      "---  ------    --------------  ----- \n",
      " 0   시점        3696 non-null   object\n",
      " 1   항공사별(1)   3696 non-null   object\n",
      " 2   도착출발별(1)  3696 non-null   object\n",
      " 3   운항 (편)    3696 non-null   int64 \n",
      " 4   여객 (명)    3696 non-null   int64 \n",
      " 5   화물 (톤)    3696 non-null   int64 \n",
      "dtypes: int64(3), object(3)\n",
      "memory usage: 173.4+ KB\n"
     ]
    }
   ],
   "source": [
    "df_airline = pd.read_csv(\"data/lab2-airline-20231026.csv\", encoding=\"cp949\")\n",
    "# df_airline = pd.read_csv(\"lab2-airline-20231026.csv\", encoding=\"cp949\", dtype={\"시점\": \"object\"})\n",
    "df_airline[\"시점\"] = df_airline[\"시점\"].astype(\"object\")\n",
    "df_airline.info()"
   ]
  },
  {
   "cell_type": "code",
   "execution_count": 16,
   "metadata": {
    "ExecuteTime": {
     "end_time": "2023-10-20T16:42:01.825894Z",
     "start_time": "2023-10-20T16:42:01.800522Z"
    },
    "colab": {
     "base_uri": "https://localhost:8080/"
    },
    "executionInfo": {
     "elapsed": 17,
     "status": "ok",
     "timestamp": 1697819808476,
     "user": {
      "displayName": "Sangkon Han (sigmadream)",
      "userId": "11611818706289122316"
     },
     "user_tz": -540
    },
    "id": "l3ELEcLF5_jo",
    "outputId": "11a6b787-2746-4a3a-f7e2-aa6a78fb16e4"
   },
   "outputs": [
    {
     "name": "stdout",
     "output_type": "stream",
     "text": [
      "<class 'pandas.core.frame.DataFrame'>\n",
      "RangeIndex: 3696 entries, 0 to 3695\n",
      "Data columns (total 6 columns):\n",
      " #   Column  Non-Null Count  Dtype \n",
      "---  ------  --------------  ----- \n",
      " 0   시점      3696 non-null   object\n",
      " 1   항공사     3696 non-null   object\n",
      " 2   도착출발    3696 non-null   object\n",
      " 3   운항_편    3696 non-null   int64 \n",
      " 4   여객_명    3696 non-null   int64 \n",
      " 5   화물_톤    3696 non-null   int64 \n",
      "dtypes: int64(3), object(3)\n",
      "memory usage: 173.4+ KB\n"
     ]
    }
   ],
   "source": [
    "df_airline.columns = ['시점', '항공사', '도착출발', '운항_편', '여객_명', '화물_톤']\n",
    "df_airline.info()"
   ]
  },
  {
   "cell_type": "code",
   "execution_count": 17,
   "metadata": {
    "ExecuteTime": {
     "end_time": "2023-10-20T16:42:03.070435Z",
     "start_time": "2023-10-20T16:42:03.060956Z"
    },
    "colab": {
     "base_uri": "https://localhost:8080/"
    },
    "executionInfo": {
     "elapsed": 15,
     "status": "ok",
     "timestamp": 1697819808476,
     "user": {
      "displayName": "Sangkon Han (sigmadream)",
      "userId": "11611818706289122316"
     },
     "user_tz": -540
    },
    "id": "9YegJGEr6D6j",
    "outputId": "245288d6-bc03-4469-8472-351e7099bfb8"
   },
   "outputs": [
    {
     "name": "stdout",
     "output_type": "stream",
     "text": [
      "<class 'pandas.core.frame.DataFrame'>\n",
      "RangeIndex: 3696 entries, 0 to 3695\n",
      "Data columns (total 7 columns):\n",
      " #   Column  Non-Null Count  Dtype \n",
      "---  ------  --------------  ----- \n",
      " 0   시점      3696 non-null   object\n",
      " 1   항공사     3696 non-null   object\n",
      " 2   도착출발    3696 non-null   object\n",
      " 3   운항_편    3696 non-null   int64 \n",
      " 4   여객_명    3696 non-null   int64 \n",
      " 5   화물_톤    3696 non-null   int64 \n",
      " 6   연도      3696 non-null   int32 \n",
      "dtypes: int32(1), int64(3), object(3)\n",
      "memory usage: 187.8+ KB\n"
     ]
    }
   ],
   "source": [
    "df_airline[\"연도\"] = df_airline[\"시점\"].astype(str).str[:4].astype(int)\n",
    "df_airline.info()"
   ]
  },
  {
   "cell_type": "code",
   "execution_count": 18,
   "metadata": {
    "ExecuteTime": {
     "end_time": "2023-10-20T16:42:06.103304Z",
     "start_time": "2023-10-20T16:42:06.051814Z"
    },
    "colab": {
     "base_uri": "https://localhost:8080/"
    },
    "executionInfo": {
     "elapsed": 14,
     "status": "ok",
     "timestamp": 1697819808476,
     "user": {
      "displayName": "Sangkon Han (sigmadream)",
      "userId": "11611818706289122316"
     },
     "user_tz": -540
    },
    "id": "5Ul5CdTP6PgF",
    "outputId": "270a0c67-04c2-48d0-fdd6-1eadefaa86ba"
   },
   "outputs": [
    {
     "name": "stdout",
     "output_type": "stream",
     "text": [
      "<class 'pandas.core.frame.DataFrame'>\n",
      "RangeIndex: 3696 entries, 0 to 3695\n",
      "Data columns (total 8 columns):\n",
      " #   Column  Non-Null Count  Dtype \n",
      "---  ------  --------------  ----- \n",
      " 0   시점      3696 non-null   object\n",
      " 1   항공사     3696 non-null   object\n",
      " 2   도착출발    3696 non-null   object\n",
      " 3   운항_편    3696 non-null   int64 \n",
      " 4   여객_명    3696 non-null   int64 \n",
      " 5   화물_톤    3696 non-null   int64 \n",
      " 6   연도      3696 non-null   int32 \n",
      " 7   월       3696 non-null   int32 \n",
      "dtypes: int32(2), int64(3), object(3)\n",
      "memory usage: 202.3+ KB\n"
     ]
    }
   ],
   "source": [
    "df_airline[\"월\"] = df_airline[\"시점\"].astype(str).map(lambda x: x.split(\".\")[1][:2]).astype(int)\n",
    "df_airline.info()"
   ]
  },
  {
   "cell_type": "code",
   "execution_count": 19,
   "metadata": {
    "ExecuteTime": {
     "end_time": "2023-10-20T16:42:07.471293Z",
     "start_time": "2023-10-20T16:42:07.381448Z"
    },
    "colab": {
     "base_uri": "https://localhost:8080/",
     "height": 677
    },
    "executionInfo": {
     "elapsed": 12,
     "status": "ok",
     "timestamp": 1697819808476,
     "user": {
      "displayName": "Sangkon Han (sigmadream)",
      "userId": "11611818706289122316"
     },
     "user_tz": -540
    },
    "id": "_QrmEejO6UdJ",
    "outputId": "0d7632bd-b4d2-4f63-d466-3b509ac2ed04"
   },
   "outputs": [
    {
     "data": {
      "text/html": [
       "<div>\n",
       "<style scoped>\n",
       "    .dataframe tbody tr th:only-of-type {\n",
       "        vertical-align: middle;\n",
       "    }\n",
       "\n",
       "    .dataframe tbody tr th {\n",
       "        vertical-align: top;\n",
       "    }\n",
       "\n",
       "    .dataframe thead th {\n",
       "        text-align: right;\n",
       "    }\n",
       "</style>\n",
       "<table border=\"1\" class=\"dataframe\">\n",
       "  <thead>\n",
       "    <tr style=\"text-align: right;\">\n",
       "      <th>월</th>\n",
       "      <th>1</th>\n",
       "      <th>2</th>\n",
       "      <th>3</th>\n",
       "      <th>4</th>\n",
       "      <th>5</th>\n",
       "      <th>6</th>\n",
       "      <th>7</th>\n",
       "      <th>8</th>\n",
       "      <th>9</th>\n",
       "      <th>11</th>\n",
       "      <th>12</th>\n",
       "    </tr>\n",
       "    <tr>\n",
       "      <th>연도</th>\n",
       "      <th></th>\n",
       "      <th></th>\n",
       "      <th></th>\n",
       "      <th></th>\n",
       "      <th></th>\n",
       "      <th></th>\n",
       "      <th></th>\n",
       "      <th></th>\n",
       "      <th></th>\n",
       "      <th></th>\n",
       "      <th></th>\n",
       "    </tr>\n",
       "  </thead>\n",
       "  <tbody>\n",
       "    <tr>\n",
       "      <th>2005</th>\n",
       "      <td>12</td>\n",
       "      <td>6</td>\n",
       "      <td>6</td>\n",
       "      <td>6</td>\n",
       "      <td>6</td>\n",
       "      <td>6</td>\n",
       "      <td>6</td>\n",
       "      <td>6</td>\n",
       "      <td>6</td>\n",
       "      <td>6</td>\n",
       "      <td>6</td>\n",
       "    </tr>\n",
       "    <tr>\n",
       "      <th>2006</th>\n",
       "      <td>14</td>\n",
       "      <td>6</td>\n",
       "      <td>6</td>\n",
       "      <td>6</td>\n",
       "      <td>6</td>\n",
       "      <td>8</td>\n",
       "      <td>8</td>\n",
       "      <td>8</td>\n",
       "      <td>8</td>\n",
       "      <td>8</td>\n",
       "      <td>8</td>\n",
       "    </tr>\n",
       "    <tr>\n",
       "      <th>2007</th>\n",
       "      <td>16</td>\n",
       "      <td>8</td>\n",
       "      <td>8</td>\n",
       "      <td>8</td>\n",
       "      <td>8</td>\n",
       "      <td>8</td>\n",
       "      <td>8</td>\n",
       "      <td>8</td>\n",
       "      <td>8</td>\n",
       "      <td>8</td>\n",
       "      <td>8</td>\n",
       "    </tr>\n",
       "    <tr>\n",
       "      <th>2008</th>\n",
       "      <td>20</td>\n",
       "      <td>8</td>\n",
       "      <td>8</td>\n",
       "      <td>8</td>\n",
       "      <td>8</td>\n",
       "      <td>8</td>\n",
       "      <td>10</td>\n",
       "      <td>10</td>\n",
       "      <td>10</td>\n",
       "      <td>12</td>\n",
       "      <td>12</td>\n",
       "    </tr>\n",
       "    <tr>\n",
       "      <th>2009</th>\n",
       "      <td>28</td>\n",
       "      <td>14</td>\n",
       "      <td>14</td>\n",
       "      <td>14</td>\n",
       "      <td>14</td>\n",
       "      <td>14</td>\n",
       "      <td>14</td>\n",
       "      <td>14</td>\n",
       "      <td>14</td>\n",
       "      <td>14</td>\n",
       "      <td>14</td>\n",
       "    </tr>\n",
       "    <tr>\n",
       "      <th>2010</th>\n",
       "      <td>30</td>\n",
       "      <td>14</td>\n",
       "      <td>14</td>\n",
       "      <td>14</td>\n",
       "      <td>14</td>\n",
       "      <td>14</td>\n",
       "      <td>14</td>\n",
       "      <td>14</td>\n",
       "      <td>16</td>\n",
       "      <td>16</td>\n",
       "      <td>16</td>\n",
       "    </tr>\n",
       "    <tr>\n",
       "      <th>2011</th>\n",
       "      <td>32</td>\n",
       "      <td>16</td>\n",
       "      <td>16</td>\n",
       "      <td>16</td>\n",
       "      <td>16</td>\n",
       "      <td>16</td>\n",
       "      <td>16</td>\n",
       "      <td>16</td>\n",
       "      <td>16</td>\n",
       "      <td>16</td>\n",
       "      <td>16</td>\n",
       "    </tr>\n",
       "    <tr>\n",
       "      <th>2012</th>\n",
       "      <td>32</td>\n",
       "      <td>16</td>\n",
       "      <td>16</td>\n",
       "      <td>16</td>\n",
       "      <td>16</td>\n",
       "      <td>16</td>\n",
       "      <td>16</td>\n",
       "      <td>16</td>\n",
       "      <td>16</td>\n",
       "      <td>16</td>\n",
       "      <td>16</td>\n",
       "    </tr>\n",
       "    <tr>\n",
       "      <th>2013</th>\n",
       "      <td>34</td>\n",
       "      <td>16</td>\n",
       "      <td>18</td>\n",
       "      <td>18</td>\n",
       "      <td>18</td>\n",
       "      <td>18</td>\n",
       "      <td>18</td>\n",
       "      <td>18</td>\n",
       "      <td>18</td>\n",
       "      <td>18</td>\n",
       "      <td>18</td>\n",
       "    </tr>\n",
       "    <tr>\n",
       "      <th>2014</th>\n",
       "      <td>36</td>\n",
       "      <td>18</td>\n",
       "      <td>18</td>\n",
       "      <td>18</td>\n",
       "      <td>18</td>\n",
       "      <td>18</td>\n",
       "      <td>18</td>\n",
       "      <td>18</td>\n",
       "      <td>18</td>\n",
       "      <td>18</td>\n",
       "      <td>18</td>\n",
       "    </tr>\n",
       "    <tr>\n",
       "      <th>2015</th>\n",
       "      <td>36</td>\n",
       "      <td>18</td>\n",
       "      <td>18</td>\n",
       "      <td>18</td>\n",
       "      <td>18</td>\n",
       "      <td>18</td>\n",
       "      <td>18</td>\n",
       "      <td>18</td>\n",
       "      <td>18</td>\n",
       "      <td>18</td>\n",
       "      <td>18</td>\n",
       "    </tr>\n",
       "    <tr>\n",
       "      <th>2016</th>\n",
       "      <td>38</td>\n",
       "      <td>18</td>\n",
       "      <td>18</td>\n",
       "      <td>18</td>\n",
       "      <td>18</td>\n",
       "      <td>18</td>\n",
       "      <td>20</td>\n",
       "      <td>20</td>\n",
       "      <td>20</td>\n",
       "      <td>20</td>\n",
       "      <td>20</td>\n",
       "    </tr>\n",
       "    <tr>\n",
       "      <th>2017</th>\n",
       "      <td>40</td>\n",
       "      <td>20</td>\n",
       "      <td>20</td>\n",
       "      <td>20</td>\n",
       "      <td>20</td>\n",
       "      <td>20</td>\n",
       "      <td>20</td>\n",
       "      <td>20</td>\n",
       "      <td>20</td>\n",
       "      <td>20</td>\n",
       "      <td>20</td>\n",
       "    </tr>\n",
       "    <tr>\n",
       "      <th>2018</th>\n",
       "      <td>40</td>\n",
       "      <td>20</td>\n",
       "      <td>20</td>\n",
       "      <td>20</td>\n",
       "      <td>20</td>\n",
       "      <td>20</td>\n",
       "      <td>20</td>\n",
       "      <td>20</td>\n",
       "      <td>20</td>\n",
       "      <td>20</td>\n",
       "      <td>20</td>\n",
       "    </tr>\n",
       "    <tr>\n",
       "      <th>2019</th>\n",
       "      <td>40</td>\n",
       "      <td>20</td>\n",
       "      <td>20</td>\n",
       "      <td>20</td>\n",
       "      <td>20</td>\n",
       "      <td>20</td>\n",
       "      <td>20</td>\n",
       "      <td>20</td>\n",
       "      <td>20</td>\n",
       "      <td>22</td>\n",
       "      <td>22</td>\n",
       "    </tr>\n",
       "    <tr>\n",
       "      <th>2020</th>\n",
       "      <td>42</td>\n",
       "      <td>22</td>\n",
       "      <td>22</td>\n",
       "      <td>20</td>\n",
       "      <td>22</td>\n",
       "      <td>20</td>\n",
       "      <td>20</td>\n",
       "      <td>20</td>\n",
       "      <td>20</td>\n",
       "      <td>20</td>\n",
       "      <td>20</td>\n",
       "    </tr>\n",
       "    <tr>\n",
       "      <th>2021</th>\n",
       "      <td>44</td>\n",
       "      <td>22</td>\n",
       "      <td>22</td>\n",
       "      <td>22</td>\n",
       "      <td>22</td>\n",
       "      <td>22</td>\n",
       "      <td>22</td>\n",
       "      <td>24</td>\n",
       "      <td>24</td>\n",
       "      <td>22</td>\n",
       "      <td>24</td>\n",
       "    </tr>\n",
       "    <tr>\n",
       "      <th>2022</th>\n",
       "      <td>48</td>\n",
       "      <td>24</td>\n",
       "      <td>24</td>\n",
       "      <td>24</td>\n",
       "      <td>24</td>\n",
       "      <td>24</td>\n",
       "      <td>24</td>\n",
       "      <td>24</td>\n",
       "      <td>24</td>\n",
       "      <td>24</td>\n",
       "      <td>24</td>\n",
       "    </tr>\n",
       "    <tr>\n",
       "      <th>2023</th>\n",
       "      <td>24</td>\n",
       "      <td>24</td>\n",
       "      <td>26</td>\n",
       "      <td>26</td>\n",
       "      <td>26</td>\n",
       "      <td>24</td>\n",
       "      <td>24</td>\n",
       "      <td>24</td>\n",
       "      <td>0</td>\n",
       "      <td>0</td>\n",
       "      <td>0</td>\n",
       "    </tr>\n",
       "  </tbody>\n",
       "</table>\n",
       "</div>"
      ],
      "text/plain": [
       "월     1   2   3   4   5   6   7   8   9   11  12\n",
       "연도                                              \n",
       "2005  12   6   6   6   6   6   6   6   6   6   6\n",
       "2006  14   6   6   6   6   8   8   8   8   8   8\n",
       "2007  16   8   8   8   8   8   8   8   8   8   8\n",
       "2008  20   8   8   8   8   8  10  10  10  12  12\n",
       "2009  28  14  14  14  14  14  14  14  14  14  14\n",
       "2010  30  14  14  14  14  14  14  14  16  16  16\n",
       "2011  32  16  16  16  16  16  16  16  16  16  16\n",
       "2012  32  16  16  16  16  16  16  16  16  16  16\n",
       "2013  34  16  18  18  18  18  18  18  18  18  18\n",
       "2014  36  18  18  18  18  18  18  18  18  18  18\n",
       "2015  36  18  18  18  18  18  18  18  18  18  18\n",
       "2016  38  18  18  18  18  18  20  20  20  20  20\n",
       "2017  40  20  20  20  20  20  20  20  20  20  20\n",
       "2018  40  20  20  20  20  20  20  20  20  20  20\n",
       "2019  40  20  20  20  20  20  20  20  20  22  22\n",
       "2020  42  22  22  20  22  20  20  20  20  20  20\n",
       "2021  44  22  22  22  22  22  22  24  24  22  24\n",
       "2022  48  24  24  24  24  24  24  24  24  24  24\n",
       "2023  24  24  26  26  26  24  24  24   0   0   0"
      ]
     },
     "execution_count": 19,
     "metadata": {},
     "output_type": "execute_result"
    }
   ],
   "source": [
    "# 데이터의 개수 => 통계치가 아님에 주의\n",
    "# 데이터 전처리가 잘 되었는지 확인하는 용도\n",
    "pd.crosstab(df_airline[\"연도\"], df_airline[\"월\"])"
   ]
  },
  {
   "cell_type": "code",
   "execution_count": 20,
   "metadata": {
    "ExecuteTime": {
     "end_time": "2023-10-20T16:42:44.203512Z",
     "start_time": "2023-10-20T16:42:44.166645Z"
    },
    "colab": {
     "base_uri": "https://localhost:8080/",
     "height": 677
    },
    "executionInfo": {
     "elapsed": 11,
     "status": "ok",
     "timestamp": 1697819808476,
     "user": {
      "displayName": "Sangkon Han (sigmadream)",
      "userId": "11611818706289122316"
     },
     "user_tz": -540
    },
    "id": "J3hytXK77nH0",
    "outputId": "5f917915-3e71-4e9d-9ea3-22ef7910b4d3"
   },
   "outputs": [
    {
     "data": {
      "text/html": [
       "<div>\n",
       "<style scoped>\n",
       "    .dataframe tbody tr th:only-of-type {\n",
       "        vertical-align: middle;\n",
       "    }\n",
       "\n",
       "    .dataframe tbody tr th {\n",
       "        vertical-align: top;\n",
       "    }\n",
       "\n",
       "    .dataframe thead th {\n",
       "        text-align: right;\n",
       "    }\n",
       "</style>\n",
       "<table border=\"1\" class=\"dataframe\">\n",
       "  <thead>\n",
       "    <tr style=\"text-align: right;\">\n",
       "      <th>항공사</th>\n",
       "      <th>대한항공</th>\n",
       "      <th>아시아나항공</th>\n",
       "      <th>에어로케이항공</th>\n",
       "      <th>에어부산</th>\n",
       "      <th>에어서울</th>\n",
       "      <th>에어인천</th>\n",
       "      <th>에어프레미아</th>\n",
       "      <th>외항사</th>\n",
       "      <th>이스타항공</th>\n",
       "      <th>제주항공</th>\n",
       "      <th>진에어</th>\n",
       "      <th>티웨이항공</th>\n",
       "      <th>플라이강원</th>\n",
       "    </tr>\n",
       "    <tr>\n",
       "      <th>연도</th>\n",
       "      <th></th>\n",
       "      <th></th>\n",
       "      <th></th>\n",
       "      <th></th>\n",
       "      <th></th>\n",
       "      <th></th>\n",
       "      <th></th>\n",
       "      <th></th>\n",
       "      <th></th>\n",
       "      <th></th>\n",
       "      <th></th>\n",
       "      <th></th>\n",
       "      <th></th>\n",
       "    </tr>\n",
       "  </thead>\n",
       "  <tbody>\n",
       "    <tr>\n",
       "      <th>2005</th>\n",
       "      <td>34721098.0</td>\n",
       "      <td>18535331.0</td>\n",
       "      <td>0.0</td>\n",
       "      <td>0.0</td>\n",
       "      <td>0.0</td>\n",
       "      <td>0.0</td>\n",
       "      <td>0.0</td>\n",
       "      <td>11319209.0</td>\n",
       "      <td>0.0</td>\n",
       "      <td>0.0</td>\n",
       "      <td>0.0</td>\n",
       "      <td>0.0</td>\n",
       "      <td>0.0</td>\n",
       "    </tr>\n",
       "    <tr>\n",
       "      <th>2006</th>\n",
       "      <td>34990013.0</td>\n",
       "      <td>19284957.0</td>\n",
       "      <td>0.0</td>\n",
       "      <td>0.0</td>\n",
       "      <td>0.0</td>\n",
       "      <td>0.0</td>\n",
       "      <td>0.0</td>\n",
       "      <td>12856097.0</td>\n",
       "      <td>0.0</td>\n",
       "      <td>508612.0</td>\n",
       "      <td>0.0</td>\n",
       "      <td>0.0</td>\n",
       "      <td>0.0</td>\n",
       "    </tr>\n",
       "    <tr>\n",
       "      <th>2007</th>\n",
       "      <td>34654664.0</td>\n",
       "      <td>19352387.0</td>\n",
       "      <td>0.0</td>\n",
       "      <td>0.0</td>\n",
       "      <td>0.0</td>\n",
       "      <td>0.0</td>\n",
       "      <td>0.0</td>\n",
       "      <td>15483064.0</td>\n",
       "      <td>0.0</td>\n",
       "      <td>1649508.0</td>\n",
       "      <td>0.0</td>\n",
       "      <td>0.0</td>\n",
       "      <td>0.0</td>\n",
       "    </tr>\n",
       "    <tr>\n",
       "      <th>2008</th>\n",
       "      <td>33096441.0</td>\n",
       "      <td>19786251.0</td>\n",
       "      <td>0.0</td>\n",
       "      <td>205580.0</td>\n",
       "      <td>0.0</td>\n",
       "      <td>0.0</td>\n",
       "      <td>0.0</td>\n",
       "      <td>14579456.0</td>\n",
       "      <td>0.0</td>\n",
       "      <td>1955455.0</td>\n",
       "      <td>329510.0</td>\n",
       "      <td>0.0</td>\n",
       "      <td>0.0</td>\n",
       "    </tr>\n",
       "    <tr>\n",
       "      <th>2009</th>\n",
       "      <td>30397856.0</td>\n",
       "      <td>18103278.0</td>\n",
       "      <td>0.0</td>\n",
       "      <td>2841444.0</td>\n",
       "      <td>0.0</td>\n",
       "      <td>0.0</td>\n",
       "      <td>0.0</td>\n",
       "      <td>11579865.0</td>\n",
       "      <td>1996549.0</td>\n",
       "      <td>2902584.0</td>\n",
       "      <td>2431545.0</td>\n",
       "      <td>0.0</td>\n",
       "      <td>0.0</td>\n",
       "    </tr>\n",
       "    <tr>\n",
       "      <th>2010</th>\n",
       "      <td>33095526.0</td>\n",
       "      <td>19470441.0</td>\n",
       "      <td>0.0</td>\n",
       "      <td>4134712.0</td>\n",
       "      <td>0.0</td>\n",
       "      <td>0.0</td>\n",
       "      <td>0.0</td>\n",
       "      <td>13495430.0</td>\n",
       "      <td>3726008.0</td>\n",
       "      <td>3960525.0</td>\n",
       "      <td>3009247.0</td>\n",
       "      <td>308876.0</td>\n",
       "      <td>0.0</td>\n",
       "    </tr>\n",
       "    <tr>\n",
       "      <th>2011</th>\n",
       "      <td>31644789.0</td>\n",
       "      <td>19692263.0</td>\n",
       "      <td>0.0</td>\n",
       "      <td>4632692.0</td>\n",
       "      <td>0.0</td>\n",
       "      <td>0.0</td>\n",
       "      <td>0.0</td>\n",
       "      <td>14590031.0</td>\n",
       "      <td>3366115.0</td>\n",
       "      <td>5365058.0</td>\n",
       "      <td>3096266.0</td>\n",
       "      <td>2999202.0</td>\n",
       "      <td>0.0</td>\n",
       "    </tr>\n",
       "    <tr>\n",
       "      <th>2012</th>\n",
       "      <td>32412913.0</td>\n",
       "      <td>20541440.0</td>\n",
       "      <td>0.0</td>\n",
       "      <td>4955130.0</td>\n",
       "      <td>0.0</td>\n",
       "      <td>0.0</td>\n",
       "      <td>0.0</td>\n",
       "      <td>15982369.0</td>\n",
       "      <td>3918272.0</td>\n",
       "      <td>6551702.0</td>\n",
       "      <td>3893786.0</td>\n",
       "      <td>3498629.0</td>\n",
       "      <td>0.0</td>\n",
       "    </tr>\n",
       "    <tr>\n",
       "      <th>2013</th>\n",
       "      <td>30837092.0</td>\n",
       "      <td>21158822.0</td>\n",
       "      <td>0.0</td>\n",
       "      <td>5855989.0</td>\n",
       "      <td>0.0</td>\n",
       "      <td>0.0</td>\n",
       "      <td>0.0</td>\n",
       "      <td>17819459.0</td>\n",
       "      <td>4639327.0</td>\n",
       "      <td>7567220.0</td>\n",
       "      <td>4655414.0</td>\n",
       "      <td>4106794.0</td>\n",
       "      <td>0.0</td>\n",
       "    </tr>\n",
       "    <tr>\n",
       "      <th>2014</th>\n",
       "      <td>30669527.0</td>\n",
       "      <td>23204116.0</td>\n",
       "      <td>0.0</td>\n",
       "      <td>7059223.0</td>\n",
       "      <td>0.0</td>\n",
       "      <td>0.0</td>\n",
       "      <td>0.0</td>\n",
       "      <td>21344930.0</td>\n",
       "      <td>4745594.0</td>\n",
       "      <td>9073573.0</td>\n",
       "      <td>5902809.0</td>\n",
       "      <td>5140221.0</td>\n",
       "      <td>0.0</td>\n",
       "    </tr>\n",
       "    <tr>\n",
       "      <th>2015</th>\n",
       "      <td>32775867.0</td>\n",
       "      <td>23626303.0</td>\n",
       "      <td>0.0</td>\n",
       "      <td>8178310.0</td>\n",
       "      <td>0.0</td>\n",
       "      <td>0.0</td>\n",
       "      <td>0.0</td>\n",
       "      <td>22132049.0</td>\n",
       "      <td>5486237.0</td>\n",
       "      <td>11488748.0</td>\n",
       "      <td>8666696.0</td>\n",
       "      <td>6291831.0</td>\n",
       "      <td>0.0</td>\n",
       "    </tr>\n",
       "    <tr>\n",
       "      <th>2016</th>\n",
       "      <td>35216314.0</td>\n",
       "      <td>25017768.0</td>\n",
       "      <td>0.0</td>\n",
       "      <td>9683768.0</td>\n",
       "      <td>315552.0</td>\n",
       "      <td>0.0</td>\n",
       "      <td>0.0</td>\n",
       "      <td>25933915.0</td>\n",
       "      <td>7220153.0</td>\n",
       "      <td>13380787.0</td>\n",
       "      <td>11785082.0</td>\n",
       "      <td>7731711.0</td>\n",
       "      <td>0.0</td>\n",
       "    </tr>\n",
       "    <tr>\n",
       "      <th>2017</th>\n",
       "      <td>35287835.0</td>\n",
       "      <td>25605946.0</td>\n",
       "      <td>0.0</td>\n",
       "      <td>11363466.0</td>\n",
       "      <td>826908.0</td>\n",
       "      <td>0.0</td>\n",
       "      <td>0.0</td>\n",
       "      <td>24513986.0</td>\n",
       "      <td>8633452.0</td>\n",
       "      <td>15318441.0</td>\n",
       "      <td>12511792.0</td>\n",
       "      <td>9269280.0</td>\n",
       "      <td>0.0</td>\n",
       "    </tr>\n",
       "    <tr>\n",
       "      <th>2018</th>\n",
       "      <td>34293250.0</td>\n",
       "      <td>26235035.0</td>\n",
       "      <td>0.0</td>\n",
       "      <td>12669496.0</td>\n",
       "      <td>1728032.0</td>\n",
       "      <td>0.0</td>\n",
       "      <td>0.0</td>\n",
       "      <td>27217444.0</td>\n",
       "      <td>9023563.0</td>\n",
       "      <td>16813548.0</td>\n",
       "      <td>12516682.0</td>\n",
       "      <td>10020367.0</td>\n",
       "      <td>0.0</td>\n",
       "    </tr>\n",
       "    <tr>\n",
       "      <th>2019</th>\n",
       "      <td>35495253.0</td>\n",
       "      <td>26749766.0</td>\n",
       "      <td>0.0</td>\n",
       "      <td>12253343.0</td>\n",
       "      <td>2008071.0</td>\n",
       "      <td>0.0</td>\n",
       "      <td>0.0</td>\n",
       "      <td>30041872.0</td>\n",
       "      <td>9360221.0</td>\n",
       "      <td>18277271.0</td>\n",
       "      <td>12376909.0</td>\n",
       "      <td>11065496.0</td>\n",
       "      <td>45242.0</td>\n",
       "    </tr>\n",
       "    <tr>\n",
       "      <th>2020</th>\n",
       "      <td>11759020.0</td>\n",
       "      <td>10999742.0</td>\n",
       "      <td>0.0</td>\n",
       "      <td>7187743.0</td>\n",
       "      <td>2111200.0</td>\n",
       "      <td>0.0</td>\n",
       "      <td>0.0</td>\n",
       "      <td>4719167.0</td>\n",
       "      <td>1555938.0</td>\n",
       "      <td>9843178.0</td>\n",
       "      <td>7972047.0</td>\n",
       "      <td>8578024.0</td>\n",
       "      <td>301004.0</td>\n",
       "    </tr>\n",
       "    <tr>\n",
       "      <th>2021</th>\n",
       "      <td>10748954.0</td>\n",
       "      <td>9673464.0</td>\n",
       "      <td>272786.0</td>\n",
       "      <td>9009003.0</td>\n",
       "      <td>3378124.0</td>\n",
       "      <td>0.0</td>\n",
       "      <td>163554.0</td>\n",
       "      <td>1374760.0</td>\n",
       "      <td>0.0</td>\n",
       "      <td>13056191.0</td>\n",
       "      <td>11731561.0</td>\n",
       "      <td>10321021.0</td>\n",
       "      <td>273708.0</td>\n",
       "    </tr>\n",
       "    <tr>\n",
       "      <th>2022</th>\n",
       "      <td>17638503.0</td>\n",
       "      <td>13457338.0</td>\n",
       "      <td>737614.0</td>\n",
       "      <td>10668189.0</td>\n",
       "      <td>3455976.0</td>\n",
       "      <td>0.0</td>\n",
       "      <td>98788.0</td>\n",
       "      <td>7022749.0</td>\n",
       "      <td>0.0</td>\n",
       "      <td>14533268.0</td>\n",
       "      <td>13168783.0</td>\n",
       "      <td>11344017.0</td>\n",
       "      <td>714657.0</td>\n",
       "    </tr>\n",
       "    <tr>\n",
       "      <th>2023</th>\n",
       "      <td>17031661.0</td>\n",
       "      <td>12412704.0</td>\n",
       "      <td>568135.0</td>\n",
       "      <td>7667456.0</td>\n",
       "      <td>2112401.0</td>\n",
       "      <td>0.0</td>\n",
       "      <td>420320.0</td>\n",
       "      <td>13227726.0</td>\n",
       "      <td>1607450.0</td>\n",
       "      <td>11451691.0</td>\n",
       "      <td>9821149.0</td>\n",
       "      <td>9793088.0</td>\n",
       "      <td>256654.0</td>\n",
       "    </tr>\n",
       "  </tbody>\n",
       "</table>\n",
       "</div>"
      ],
      "text/plain": [
       "항공사         대한항공      아시아나항공   에어로케이항공        에어부산       에어서울  에어인천    에어프레미아  \\\n",
       "연도                                                                              \n",
       "2005  34721098.0  18535331.0       0.0         0.0        0.0   0.0       0.0   \n",
       "2006  34990013.0  19284957.0       0.0         0.0        0.0   0.0       0.0   \n",
       "2007  34654664.0  19352387.0       0.0         0.0        0.0   0.0       0.0   \n",
       "2008  33096441.0  19786251.0       0.0    205580.0        0.0   0.0       0.0   \n",
       "2009  30397856.0  18103278.0       0.0   2841444.0        0.0   0.0       0.0   \n",
       "2010  33095526.0  19470441.0       0.0   4134712.0        0.0   0.0       0.0   \n",
       "2011  31644789.0  19692263.0       0.0   4632692.0        0.0   0.0       0.0   \n",
       "2012  32412913.0  20541440.0       0.0   4955130.0        0.0   0.0       0.0   \n",
       "2013  30837092.0  21158822.0       0.0   5855989.0        0.0   0.0       0.0   \n",
       "2014  30669527.0  23204116.0       0.0   7059223.0        0.0   0.0       0.0   \n",
       "2015  32775867.0  23626303.0       0.0   8178310.0        0.0   0.0       0.0   \n",
       "2016  35216314.0  25017768.0       0.0   9683768.0   315552.0   0.0       0.0   \n",
       "2017  35287835.0  25605946.0       0.0  11363466.0   826908.0   0.0       0.0   \n",
       "2018  34293250.0  26235035.0       0.0  12669496.0  1728032.0   0.0       0.0   \n",
       "2019  35495253.0  26749766.0       0.0  12253343.0  2008071.0   0.0       0.0   \n",
       "2020  11759020.0  10999742.0       0.0   7187743.0  2111200.0   0.0       0.0   \n",
       "2021  10748954.0   9673464.0  272786.0   9009003.0  3378124.0   0.0  163554.0   \n",
       "2022  17638503.0  13457338.0  737614.0  10668189.0  3455976.0   0.0   98788.0   \n",
       "2023  17031661.0  12412704.0  568135.0   7667456.0  2112401.0   0.0  420320.0   \n",
       "\n",
       "항공사          외항사      이스타항공        제주항공         진에어       티웨이항공     플라이강원  \n",
       "연도                                                                         \n",
       "2005  11319209.0        0.0         0.0         0.0         0.0       0.0  \n",
       "2006  12856097.0        0.0    508612.0         0.0         0.0       0.0  \n",
       "2007  15483064.0        0.0   1649508.0         0.0         0.0       0.0  \n",
       "2008  14579456.0        0.0   1955455.0    329510.0         0.0       0.0  \n",
       "2009  11579865.0  1996549.0   2902584.0   2431545.0         0.0       0.0  \n",
       "2010  13495430.0  3726008.0   3960525.0   3009247.0    308876.0       0.0  \n",
       "2011  14590031.0  3366115.0   5365058.0   3096266.0   2999202.0       0.0  \n",
       "2012  15982369.0  3918272.0   6551702.0   3893786.0   3498629.0       0.0  \n",
       "2013  17819459.0  4639327.0   7567220.0   4655414.0   4106794.0       0.0  \n",
       "2014  21344930.0  4745594.0   9073573.0   5902809.0   5140221.0       0.0  \n",
       "2015  22132049.0  5486237.0  11488748.0   8666696.0   6291831.0       0.0  \n",
       "2016  25933915.0  7220153.0  13380787.0  11785082.0   7731711.0       0.0  \n",
       "2017  24513986.0  8633452.0  15318441.0  12511792.0   9269280.0       0.0  \n",
       "2018  27217444.0  9023563.0  16813548.0  12516682.0  10020367.0       0.0  \n",
       "2019  30041872.0  9360221.0  18277271.0  12376909.0  11065496.0   45242.0  \n",
       "2020   4719167.0  1555938.0   9843178.0   7972047.0   8578024.0  301004.0  \n",
       "2021   1374760.0        0.0  13056191.0  11731561.0  10321021.0  273708.0  \n",
       "2022   7022749.0        0.0  14533268.0  13168783.0  11344017.0  714657.0  \n",
       "2023  13227726.0  1607450.0  11451691.0   9821149.0   9793088.0  256654.0  "
      ]
     },
     "execution_count": 20,
     "metadata": {},
     "output_type": "execute_result"
    }
   ],
   "source": [
    "year_comp = pd.crosstab(index=df_airline[\"연도\"], columns=df_airline[\"항공사\"], values=df_airline[\"여객_명\"], aggfunc=\"sum\").fillna(0)\n",
    "year_comp.style.background_gradient(axis=None).format(\"{:,.0f}\")\n",
    "year_comp"
   ]
  },
  {
   "cell_type": "code",
   "execution_count": 21,
   "metadata": {
    "ExecuteTime": {
     "end_time": "2023-10-20T16:42:10.742591Z",
     "start_time": "2023-10-20T16:42:10.714978Z"
    },
    "colab": {
     "base_uri": "https://localhost:8080/"
    },
    "executionInfo": {
     "elapsed": 10,
     "status": "ok",
     "timestamp": 1697819808476,
     "user": {
      "displayName": "Sangkon Han (sigmadream)",
      "userId": "11611818706289122316"
     },
     "user_tz": -540
    },
    "id": "6G6ZKSda7xFy",
    "outputId": "66c392df-7ea8-4b84-d886-6a036dec4486"
   },
   "outputs": [
    {
     "data": {
      "text/plain": [
       "array(['아시아나항공', '대한항공', '외항사', '제주항공', '진에어', '에어부산', '이스타항공', '티웨이항공',\n",
       "       '에어인천', '에어서울', '플라이강원', '에어로케이항공', '에어프레미아'], dtype=object)"
      ]
     },
     "execution_count": 21,
     "metadata": {},
     "output_type": "execute_result"
    }
   ],
   "source": [
    "df_airline[\"항공사\"].unique()"
   ]
  },
  {
   "cell_type": "code",
   "execution_count": 22,
   "metadata": {
    "ExecuteTime": {
     "end_time": "2023-10-20T16:42:12.098674Z",
     "start_time": "2023-10-20T16:42:11.803170Z"
    },
    "colab": {
     "base_uri": "https://localhost:8080/",
     "height": 348
    },
    "executionInfo": {
     "elapsed": 868,
     "status": "ok",
     "timestamp": 1697819809336,
     "user": {
      "displayName": "Sangkon Han (sigmadream)",
      "userId": "11611818706289122316"
     },
     "user_tz": -540
    },
    "id": "RnmcBatU75W8",
    "outputId": "22820704-3339-4453-d658-b927bc49886e"
   },
   "outputs": [
    {
     "data": {
      "text/plain": [
       "<Axes: title={'center': '저가항공 연도별 여객 수'}, xlabel='연도'>"
      ]
     },
     "execution_count": 22,
     "metadata": {},
     "output_type": "execute_result"
    },
    {
     "data": {
      "image/png": "[encoded data removed]",
      "text/plain": [
       "<Figure size 1200x300 with 1 Axes>"
      ]
     },
     "metadata": {},
     "output_type": "display_data"
    }
   ],
   "source": [
    "year_comp[['제주항공', '진에어', '에어부산', '이스타항공', '티웨이항공', '에어인천', '에어서울', '플라이강원', '에어로케이항공']].plot(figsize=(12, 3), title=\"저가항공 연도별 여객 수\")"
   ]
  },
  {
   "cell_type": "code",
   "execution_count": 23,
   "metadata": {
    "ExecuteTime": {
     "end_time": "2023-10-20T16:42:14.265223Z",
     "start_time": "2023-10-20T16:42:13.053022Z"
    },
    "colab": {
     "base_uri": "https://localhost:8080/",
     "height": 861
    },
    "executionInfo": {
     "elapsed": 1988,
     "status": "ok",
     "timestamp": 1697819811321,
     "user": {
      "displayName": "Sangkon Han (sigmadream)",
      "userId": "11611818706289122316"
     },
     "user_tz": -540
    },
    "id": "SQnLnhKt7-4l",
    "outputId": "6428c531-64af-4528-f8a4-04e66f428e52"
   },
   "outputs": [
    {
     "data": {
      "image/png": "[encoded data removed]",
      "text/plain": [
       "<Figure size 1200x900 with 9 Axes>"
      ]
     },
     "metadata": {},
     "output_type": "display_data"
    }
   ],
   "source": [
    "year_comp[['제주항공', '진에어', '에어부산', '이스타항공', '티웨이항공', '에어인천', '에어서울', '플라이강원', '에어로케이항공']].plot(figsize=(12, 9), title=\"저가항공 연도별 여객 수\", subplots=True);"
   ]
  },
  {
   "cell_type": "code",
   "execution_count": 24,
   "metadata": {
    "ExecuteTime": {
     "end_time": "2023-10-20T16:42:37.554543Z",
     "start_time": "2023-10-20T16:42:37.500823Z"
    },
    "colab": {
     "base_uri": "https://localhost:8080/",
     "height": 677
    },
    "executionInfo": {
     "elapsed": 7,
     "status": "ok",
     "timestamp": 1697819811321,
     "user": {
      "displayName": "Sangkon Han (sigmadream)",
      "userId": "11611818706289122316"
     },
     "user_tz": -540
    },
    "id": "_oJPqX9d8TT3",
    "outputId": "20a6ceb5-af05-4bec-81ff-d2876d3dc238"
   },
   "outputs": [
    {
     "data": {
      "text/html": [
       "<div>\n",
       "<style scoped>\n",
       "    .dataframe tbody tr th:only-of-type {\n",
       "        vertical-align: middle;\n",
       "    }\n",
       "\n",
       "    .dataframe tbody tr th {\n",
       "        vertical-align: top;\n",
       "    }\n",
       "\n",
       "    .dataframe thead th {\n",
       "        text-align: right;\n",
       "    }\n",
       "</style>\n",
       "<table border=\"1\" class=\"dataframe\">\n",
       "  <thead>\n",
       "    <tr style=\"text-align: right;\">\n",
       "      <th>항공사</th>\n",
       "      <th>대한항공</th>\n",
       "      <th>아시아나항공</th>\n",
       "      <th>에어로케이항공</th>\n",
       "      <th>에어부산</th>\n",
       "      <th>에어서울</th>\n",
       "      <th>에어인천</th>\n",
       "      <th>에어프레미아</th>\n",
       "      <th>외항사</th>\n",
       "      <th>이스타항공</th>\n",
       "      <th>제주항공</th>\n",
       "      <th>진에어</th>\n",
       "      <th>티웨이항공</th>\n",
       "      <th>플라이강원</th>\n",
       "    </tr>\n",
       "    <tr>\n",
       "      <th>연도</th>\n",
       "      <th></th>\n",
       "      <th></th>\n",
       "      <th></th>\n",
       "      <th></th>\n",
       "      <th></th>\n",
       "      <th></th>\n",
       "      <th></th>\n",
       "      <th></th>\n",
       "      <th></th>\n",
       "      <th></th>\n",
       "      <th></th>\n",
       "      <th></th>\n",
       "      <th></th>\n",
       "    </tr>\n",
       "  </thead>\n",
       "  <tbody>\n",
       "    <tr>\n",
       "      <th>2005</th>\n",
       "      <td>211868.0</td>\n",
       "      <td>149283.0</td>\n",
       "      <td>0.0</td>\n",
       "      <td>0.0</td>\n",
       "      <td>0.0</td>\n",
       "      <td>0.0</td>\n",
       "      <td>0.0</td>\n",
       "      <td>80798.0</td>\n",
       "      <td>0.0</td>\n",
       "      <td>0.0</td>\n",
       "      <td>0.0</td>\n",
       "      <td>0.0</td>\n",
       "      <td>0.0</td>\n",
       "    </tr>\n",
       "    <tr>\n",
       "      <th>2006</th>\n",
       "      <td>212738.0</td>\n",
       "      <td>146808.0</td>\n",
       "      <td>0.0</td>\n",
       "      <td>0.0</td>\n",
       "      <td>0.0</td>\n",
       "      <td>0.0</td>\n",
       "      <td>0.0</td>\n",
       "      <td>98587.0</td>\n",
       "      <td>0.0</td>\n",
       "      <td>9568.0</td>\n",
       "      <td>0.0</td>\n",
       "      <td>0.0</td>\n",
       "      <td>0.0</td>\n",
       "    </tr>\n",
       "    <tr>\n",
       "      <th>2007</th>\n",
       "      <td>220360.0</td>\n",
       "      <td>145843.0</td>\n",
       "      <td>0.0</td>\n",
       "      <td>0.0</td>\n",
       "      <td>0.0</td>\n",
       "      <td>0.0</td>\n",
       "      <td>0.0</td>\n",
       "      <td>126258.0</td>\n",
       "      <td>0.0</td>\n",
       "      <td>27152.0</td>\n",
       "      <td>0.0</td>\n",
       "      <td>0.0</td>\n",
       "      <td>0.0</td>\n",
       "    </tr>\n",
       "    <tr>\n",
       "      <th>2008</th>\n",
       "      <td>217270.0</td>\n",
       "      <td>156893.0</td>\n",
       "      <td>0.0</td>\n",
       "      <td>2988.0</td>\n",
       "      <td>0.0</td>\n",
       "      <td>0.0</td>\n",
       "      <td>0.0</td>\n",
       "      <td>122093.0</td>\n",
       "      <td>0.0</td>\n",
       "      <td>25850.0</td>\n",
       "      <td>4176.0</td>\n",
       "      <td>0.0</td>\n",
       "      <td>0.0</td>\n",
       "    </tr>\n",
       "    <tr>\n",
       "      <th>2009</th>\n",
       "      <td>205682.0</td>\n",
       "      <td>138039.0</td>\n",
       "      <td>0.0</td>\n",
       "      <td>29782.0</td>\n",
       "      <td>0.0</td>\n",
       "      <td>0.0</td>\n",
       "      <td>0.0</td>\n",
       "      <td>87488.0</td>\n",
       "      <td>16339.0</td>\n",
       "      <td>29684.0</td>\n",
       "      <td>20238.0</td>\n",
       "      <td>0.0</td>\n",
       "      <td>0.0</td>\n",
       "    </tr>\n",
       "    <tr>\n",
       "      <th>2010</th>\n",
       "      <td>205596.0</td>\n",
       "      <td>134779.0</td>\n",
       "      <td>0.0</td>\n",
       "      <td>37230.0</td>\n",
       "      <td>0.0</td>\n",
       "      <td>0.0</td>\n",
       "      <td>0.0</td>\n",
       "      <td>95422.0</td>\n",
       "      <td>28387.0</td>\n",
       "      <td>26449.0</td>\n",
       "      <td>18761.0</td>\n",
       "      <td>3286.0</td>\n",
       "      <td>0.0</td>\n",
       "    </tr>\n",
       "    <tr>\n",
       "      <th>2011</th>\n",
       "      <td>204322.0</td>\n",
       "      <td>138614.0</td>\n",
       "      <td>0.0</td>\n",
       "      <td>38162.0</td>\n",
       "      <td>0.0</td>\n",
       "      <td>0.0</td>\n",
       "      <td>0.0</td>\n",
       "      <td>103867.0</td>\n",
       "      <td>26739.0</td>\n",
       "      <td>32030.0</td>\n",
       "      <td>20072.0</td>\n",
       "      <td>19789.0</td>\n",
       "      <td>0.0</td>\n",
       "    </tr>\n",
       "    <tr>\n",
       "      <th>2012</th>\n",
       "      <td>214577.0</td>\n",
       "      <td>141423.0</td>\n",
       "      <td>0.0</td>\n",
       "      <td>39710.0</td>\n",
       "      <td>0.0</td>\n",
       "      <td>0.0</td>\n",
       "      <td>0.0</td>\n",
       "      <td>113579.0</td>\n",
       "      <td>30227.0</td>\n",
       "      <td>39696.0</td>\n",
       "      <td>24249.0</td>\n",
       "      <td>21502.0</td>\n",
       "      <td>0.0</td>\n",
       "    </tr>\n",
       "    <tr>\n",
       "      <th>2013</th>\n",
       "      <td>210492.0</td>\n",
       "      <td>147175.0</td>\n",
       "      <td>0.0</td>\n",
       "      <td>46911.0</td>\n",
       "      <td>0.0</td>\n",
       "      <td>416.0</td>\n",
       "      <td>0.0</td>\n",
       "      <td>125595.0</td>\n",
       "      <td>33275.0</td>\n",
       "      <td>45558.0</td>\n",
       "      <td>29018.0</td>\n",
       "      <td>24049.0</td>\n",
       "      <td>0.0</td>\n",
       "    </tr>\n",
       "    <tr>\n",
       "      <th>2014</th>\n",
       "      <td>204659.0</td>\n",
       "      <td>151960.0</td>\n",
       "      <td>0.0</td>\n",
       "      <td>51948.0</td>\n",
       "      <td>0.0</td>\n",
       "      <td>850.0</td>\n",
       "      <td>0.0</td>\n",
       "      <td>145538.0</td>\n",
       "      <td>33107.0</td>\n",
       "      <td>53503.0</td>\n",
       "      <td>34650.0</td>\n",
       "      <td>30472.0</td>\n",
       "      <td>0.0</td>\n",
       "    </tr>\n",
       "    <tr>\n",
       "      <th>2015</th>\n",
       "      <td>208521.0</td>\n",
       "      <td>148074.0</td>\n",
       "      <td>0.0</td>\n",
       "      <td>55362.0</td>\n",
       "      <td>0.0</td>\n",
       "      <td>1256.0</td>\n",
       "      <td>0.0</td>\n",
       "      <td>150111.0</td>\n",
       "      <td>36688.0</td>\n",
       "      <td>67843.0</td>\n",
       "      <td>46513.0</td>\n",
       "      <td>38812.0</td>\n",
       "      <td>0.0</td>\n",
       "    </tr>\n",
       "    <tr>\n",
       "      <th>2016</th>\n",
       "      <td>214252.0</td>\n",
       "      <td>148352.0</td>\n",
       "      <td>0.0</td>\n",
       "      <td>60480.0</td>\n",
       "      <td>2254.0</td>\n",
       "      <td>1428.0</td>\n",
       "      <td>0.0</td>\n",
       "      <td>165364.0</td>\n",
       "      <td>45692.0</td>\n",
       "      <td>78120.0</td>\n",
       "      <td>59771.0</td>\n",
       "      <td>45145.0</td>\n",
       "      <td>0.0</td>\n",
       "    </tr>\n",
       "    <tr>\n",
       "      <th>2017</th>\n",
       "      <td>216078.0</td>\n",
       "      <td>144611.0</td>\n",
       "      <td>0.0</td>\n",
       "      <td>69098.0</td>\n",
       "      <td>5837.0</td>\n",
       "      <td>942.0</td>\n",
       "      <td>0.0</td>\n",
       "      <td>156448.0</td>\n",
       "      <td>52594.0</td>\n",
       "      <td>86379.0</td>\n",
       "      <td>64084.0</td>\n",
       "      <td>54143.0</td>\n",
       "      <td>0.0</td>\n",
       "    </tr>\n",
       "    <tr>\n",
       "      <th>2018</th>\n",
       "      <td>215871.0</td>\n",
       "      <td>140680.0</td>\n",
       "      <td>0.0</td>\n",
       "      <td>76649.0</td>\n",
       "      <td>10171.0</td>\n",
       "      <td>1537.0</td>\n",
       "      <td>0.0</td>\n",
       "      <td>166833.0</td>\n",
       "      <td>52216.0</td>\n",
       "      <td>96533.0</td>\n",
       "      <td>66635.0</td>\n",
       "      <td>58830.0</td>\n",
       "      <td>0.0</td>\n",
       "    </tr>\n",
       "    <tr>\n",
       "      <th>2019</th>\n",
       "      <td>213665.0</td>\n",
       "      <td>139456.0</td>\n",
       "      <td>0.0</td>\n",
       "      <td>76887.0</td>\n",
       "      <td>11572.0</td>\n",
       "      <td>1268.0</td>\n",
       "      <td>0.0</td>\n",
       "      <td>181481.0</td>\n",
       "      <td>54851.0</td>\n",
       "      <td>107661.0</td>\n",
       "      <td>65029.0</td>\n",
       "      <td>66711.0</td>\n",
       "      <td>360.0</td>\n",
       "    </tr>\n",
       "    <tr>\n",
       "      <th>2020</th>\n",
       "      <td>112677.0</td>\n",
       "      <td>85125.0</td>\n",
       "      <td>0.0</td>\n",
       "      <td>50208.0</td>\n",
       "      <td>11991.0</td>\n",
       "      <td>1381.0</td>\n",
       "      <td>0.0</td>\n",
       "      <td>64229.0</td>\n",
       "      <td>10122.0</td>\n",
       "      <td>63560.0</td>\n",
       "      <td>53580.0</td>\n",
       "      <td>56083.0</td>\n",
       "      <td>3024.0</td>\n",
       "    </tr>\n",
       "    <tr>\n",
       "      <th>2021</th>\n",
       "      <td>115097.0</td>\n",
       "      <td>80680.0</td>\n",
       "      <td>2834.0</td>\n",
       "      <td>57286.0</td>\n",
       "      <td>17922.0</td>\n",
       "      <td>2384.0</td>\n",
       "      <td>657.0</td>\n",
       "      <td>58625.0</td>\n",
       "      <td>0.0</td>\n",
       "      <td>78587.0</td>\n",
       "      <td>77488.0</td>\n",
       "      <td>62672.0</td>\n",
       "      <td>2598.0</td>\n",
       "    </tr>\n",
       "    <tr>\n",
       "      <th>2022</th>\n",
       "      <td>131688.0</td>\n",
       "      <td>89486.0</td>\n",
       "      <td>4264.0</td>\n",
       "      <td>60409.0</td>\n",
       "      <td>17574.0</td>\n",
       "      <td>3337.0</td>\n",
       "      <td>680.0</td>\n",
       "      <td>73244.0</td>\n",
       "      <td>0.0</td>\n",
       "      <td>85160.0</td>\n",
       "      <td>81461.0</td>\n",
       "      <td>63088.0</td>\n",
       "      <td>5261.0</td>\n",
       "    </tr>\n",
       "    <tr>\n",
       "      <th>2023</th>\n",
       "      <td>104158.0</td>\n",
       "      <td>71968.0</td>\n",
       "      <td>3368.0</td>\n",
       "      <td>43340.0</td>\n",
       "      <td>10697.0</td>\n",
       "      <td>2442.0</td>\n",
       "      <td>1514.0</td>\n",
       "      <td>86568.0</td>\n",
       "      <td>8878.0</td>\n",
       "      <td>66255.0</td>\n",
       "      <td>55088.0</td>\n",
       "      <td>53897.0</td>\n",
       "      <td>1803.0</td>\n",
       "    </tr>\n",
       "  </tbody>\n",
       "</table>\n",
       "</div>"
      ],
      "text/plain": [
       "항공사       대한항공    아시아나항공  에어로케이항공     에어부산     에어서울    에어인천  에어프레미아       외항사  \\\n",
       "연도                                                                              \n",
       "2005  211868.0  149283.0      0.0      0.0      0.0     0.0     0.0   80798.0   \n",
       "2006  212738.0  146808.0      0.0      0.0      0.0     0.0     0.0   98587.0   \n",
       "2007  220360.0  145843.0      0.0      0.0      0.0     0.0     0.0  126258.0   \n",
       "2008  217270.0  156893.0      0.0   2988.0      0.0     0.0     0.0  122093.0   \n",
       "2009  205682.0  138039.0      0.0  29782.0      0.0     0.0     0.0   87488.0   \n",
       "2010  205596.0  134779.0      0.0  37230.0      0.0     0.0     0.0   95422.0   \n",
       "2011  204322.0  138614.0      0.0  38162.0      0.0     0.0     0.0  103867.0   \n",
       "2012  214577.0  141423.0      0.0  39710.0      0.0     0.0     0.0  113579.0   \n",
       "2013  210492.0  147175.0      0.0  46911.0      0.0   416.0     0.0  125595.0   \n",
       "2014  204659.0  151960.0      0.0  51948.0      0.0   850.0     0.0  145538.0   \n",
       "2015  208521.0  148074.0      0.0  55362.0      0.0  1256.0     0.0  150111.0   \n",
       "2016  214252.0  148352.0      0.0  60480.0   2254.0  1428.0     0.0  165364.0   \n",
       "2017  216078.0  144611.0      0.0  69098.0   5837.0   942.0     0.0  156448.0   \n",
       "2018  215871.0  140680.0      0.0  76649.0  10171.0  1537.0     0.0  166833.0   \n",
       "2019  213665.0  139456.0      0.0  76887.0  11572.0  1268.0     0.0  181481.0   \n",
       "2020  112677.0   85125.0      0.0  50208.0  11991.0  1381.0     0.0   64229.0   \n",
       "2021  115097.0   80680.0   2834.0  57286.0  17922.0  2384.0   657.0   58625.0   \n",
       "2022  131688.0   89486.0   4264.0  60409.0  17574.0  3337.0   680.0   73244.0   \n",
       "2023  104158.0   71968.0   3368.0  43340.0  10697.0  2442.0  1514.0   86568.0   \n",
       "\n",
       "항공사     이스타항공      제주항공      진에어    티웨이항공   플라이강원  \n",
       "연도                                                 \n",
       "2005      0.0       0.0      0.0      0.0     0.0  \n",
       "2006      0.0    9568.0      0.0      0.0     0.0  \n",
       "2007      0.0   27152.0      0.0      0.0     0.0  \n",
       "2008      0.0   25850.0   4176.0      0.0     0.0  \n",
       "2009  16339.0   29684.0  20238.0      0.0     0.0  \n",
       "2010  28387.0   26449.0  18761.0   3286.0     0.0  \n",
       "2011  26739.0   32030.0  20072.0  19789.0     0.0  \n",
       "2012  30227.0   39696.0  24249.0  21502.0     0.0  \n",
       "2013  33275.0   45558.0  29018.0  24049.0     0.0  \n",
       "2014  33107.0   53503.0  34650.0  30472.0     0.0  \n",
       "2015  36688.0   67843.0  46513.0  38812.0     0.0  \n",
       "2016  45692.0   78120.0  59771.0  45145.0     0.0  \n",
       "2017  52594.0   86379.0  64084.0  54143.0     0.0  \n",
       "2018  52216.0   96533.0  66635.0  58830.0     0.0  \n",
       "2019  54851.0  107661.0  65029.0  66711.0   360.0  \n",
       "2020  10122.0   63560.0  53580.0  56083.0  3024.0  \n",
       "2021      0.0   78587.0  77488.0  62672.0  2598.0  \n",
       "2022      0.0   85160.0  81461.0  63088.0  5261.0  \n",
       "2023   8878.0   66255.0  55088.0  53897.0  1803.0  "
      ]
     },
     "execution_count": 24,
     "metadata": {},
     "output_type": "execute_result"
    }
   ],
   "source": [
    "year_comp = pd.crosstab(index=df_airline[\"연도\"], columns=df_airline[\"항공사\"], values=df_airline[\"운항_편\"], aggfunc=\"sum\").fillna(0)\n",
    "year_comp.style.background_gradient(axis=None, cmap=\"Greens\").format(\"{:,.0f}\")\n",
    "year_comp"
   ]
  }
 ],
 "metadata": {
  "colab": {
   "provenance": []
  },
  "kernelspec": {
   "display_name": "Python 3 (ipykernel)",
   "language": "python",
   "name": "python3"
  },
  "language_info": {
   "codemirror_mode": {
    "name": "ipython",
    "version": 3
   },
   "file_extension": ".py",
   "mimetype": "text/x-python",
   "name": "python",
   "nbconvert_exporter": "python",
   "pygments_lexer": "ipython3",
   "version": "3.11.6"
  }
 },
 "nbformat": 4,
 "nbformat_minor": 0
}
