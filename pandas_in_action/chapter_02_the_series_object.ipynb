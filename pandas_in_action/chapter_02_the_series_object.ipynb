{
 "cells": [
  {
   "cell_type": "markdown",
   "metadata": {},
   "source": [
    "# Overview of a Series"
   ]
  },
  {
   "cell_type": "code",
   "execution_count": 1,
   "metadata": {
    "ExecuteTime": {
     "end_time": "2023-10-20T16:44:31.930278Z",
     "start_time": "2023-10-20T16:44:30.179264Z"
    }
   },
   "outputs": [],
   "source": [
    "import pandas as pd\n",
    "import numpy as np"
   ]
  },
  {
   "cell_type": "code",
   "execution_count": 2,
   "metadata": {
    "ExecuteTime": {
     "end_time": "2023-10-20T16:44:31.930711Z",
     "start_time": "2023-10-20T16:44:30.485391Z"
    }
   },
   "outputs": [
    {
     "data": {
      "text/plain": "'2.1.1'"
     },
     "execution_count": 2,
     "metadata": {},
     "output_type": "execute_result"
    }
   ],
   "source": [
    "pd.__version__"
   ]
  },
  {
   "cell_type": "code",
   "execution_count": 3,
   "metadata": {
    "ExecuteTime": {
     "end_time": "2023-10-20T16:44:31.930975Z",
     "start_time": "2023-10-20T16:44:30.489868Z"
    }
   },
   "outputs": [
    {
     "data": {
      "text/plain": "'1.26.1'"
     },
     "execution_count": 3,
     "metadata": {},
     "output_type": "execute_result"
    }
   ],
   "source": [
    "np.__version__"
   ]
  },
  {
   "cell_type": "markdown",
   "metadata": {},
   "source": [
    "## Creating a Series\n",
    "### Populating the Series with Values"
   ]
  },
  {
   "cell_type": "code",
   "execution_count": 4,
   "metadata": {
    "ExecuteTime": {
     "end_time": "2023-10-20T16:44:31.931235Z",
     "start_time": "2023-10-20T16:44:30.496205Z"
    }
   },
   "outputs": [
    {
     "data": {
      "text/plain": "0     Chocolate\n1       Vanilla\n2    Strawberry\n3    Rum Raisin\ndtype: object"
     },
     "execution_count": 4,
     "metadata": {},
     "output_type": "execute_result"
    }
   ],
   "source": [
    "ice_cream_flavors = [\n",
    "    \"Chocolate\",\n",
    "    \"Vanilla\",\n",
    "    \"Strawberry\",\n",
    "    \"Rum Raisin\",\n",
    "]\n",
    "pd.Series(ice_cream_flavors)"
   ]
  },
  {
   "cell_type": "code",
   "execution_count": 5,
   "metadata": {
    "ExecuteTime": {
     "end_time": "2023-10-20T16:44:31.931500Z",
     "start_time": "2023-10-20T16:44:30.503350Z"
    }
   },
   "outputs": [
    {
     "data": {
      "text/plain": "0     Chocolate\n1       Vanilla\n2    Strawberry\n3    Rum Raisin\ndtype: object"
     },
     "execution_count": 5,
     "metadata": {},
     "output_type": "execute_result"
    }
   ],
   "source": [
    "# The two lines below are equivalent\n",
    "pd.Series(ice_cream_flavors)\n",
    "pd.Series(data = ice_cream_flavors)"
   ]
  },
  {
   "cell_type": "markdown",
   "metadata": {},
   "source": [
    "### Customizing the Series Index"
   ]
  },
  {
   "cell_type": "code",
   "execution_count": 6,
   "metadata": {
    "ExecuteTime": {
     "end_time": "2023-10-20T16:44:31.931795Z",
     "start_time": "2023-10-20T16:44:30.509743Z"
    }
   },
   "outputs": [
    {
     "data": {
      "text/plain": "Monday        Chocolate\nWednesday       Vanilla\nFriday       Strawberry\nSaturday     Rum Raisin\ndtype: object"
     },
     "execution_count": 6,
     "metadata": {},
     "output_type": "execute_result"
    }
   ],
   "source": [
    "ice_cream_flavors = [\n",
    "    \"Chocolate\",\n",
    "    \"Vanilla\",\n",
    "    \"Strawberry\",\n",
    "    \"Rum Raisin\",\n",
    "]\n",
    "days_of_week = (\"Monday\", \"Wednesday\", \"Friday\", \"Saturday\")\n",
    "# The two lines below are equivalent\n",
    "pd.Series(ice_cream_flavors, days_of_week)\n",
    "pd.Series(data = ice_cream_flavors, index = days_of_week)"
   ]
  },
  {
   "cell_type": "code",
   "execution_count": 7,
   "metadata": {
    "ExecuteTime": {
     "end_time": "2023-10-20T16:44:31.932476Z",
     "start_time": "2023-10-20T16:44:30.518090Z"
    }
   },
   "outputs": [
    {
     "data": {
      "text/plain": "Monday        Chocolate\nWednesday       Vanilla\nFriday       Strawberry\nWednesday    Rum Raisin\ndtype: object"
     },
     "execution_count": 7,
     "metadata": {},
     "output_type": "execute_result"
    }
   ],
   "source": [
    "ice_cream_flavors = [\n",
    "    \"Chocolate\",\n",
    "    \"Vanilla\",\n",
    "    \"Strawberry\",\n",
    "    \"Rum Raisin\",\n",
    "]\n",
    "\n",
    "days_of_week = (\"Monday\", \"Wednesday\", \"Friday\", \"Wednesday\")\n",
    "\n",
    "# The two lines below are equivalent\n",
    "pd.Series(ice_cream_flavors, days_of_week)\n",
    "pd.Series(data = ice_cream_flavors, index = days_of_week)"
   ]
  },
  {
   "cell_type": "code",
   "execution_count": 8,
   "metadata": {
    "ExecuteTime": {
     "end_time": "2023-10-20T16:44:31.933280Z",
     "start_time": "2023-10-20T16:44:30.523977Z"
    }
   },
   "outputs": [
    {
     "data": {
      "text/plain": "Monday        Chocolate\nWednesday       Vanilla\nFriday       Strawberry\nWednesday    Rum Raisin\ndtype: object"
     },
     "execution_count": 8,
     "metadata": {},
     "output_type": "execute_result"
    }
   ],
   "source": [
    "pd.Series(index = days_of_week, data = ice_cream_flavors)"
   ]
  },
  {
   "cell_type": "code",
   "execution_count": 9,
   "metadata": {
    "ExecuteTime": {
     "end_time": "2023-10-20T16:44:31.933547Z",
     "start_time": "2023-10-20T16:44:30.529906Z"
    }
   },
   "outputs": [
    {
     "data": {
      "text/plain": "0     True\n1    False\n2    False\ndtype: bool"
     },
     "execution_count": 9,
     "metadata": {},
     "output_type": "execute_result"
    }
   ],
   "source": [
    "bunch_of_bools = [True, False, False]\n",
    "pd.Series(bunch_of_bools)"
   ]
  },
  {
   "cell_type": "code",
   "execution_count": 10,
   "metadata": {
    "ExecuteTime": {
     "end_time": "2023-10-20T16:44:31.933981Z",
     "start_time": "2023-10-20T16:44:30.537353Z"
    }
   },
   "outputs": [
    {
     "data": {
      "text/plain": "Open     985.32\nClose    950.44\ndtype: float64"
     },
     "execution_count": 10,
     "metadata": {},
     "output_type": "execute_result"
    }
   ],
   "source": [
    "stock_prices = [985.32, 950.44]\n",
    "time_of_day = [\"Open\", \"Close\"]\n",
    "pd.Series(data = stock_prices, index = time_of_day)"
   ]
  },
  {
   "cell_type": "code",
   "execution_count": 11,
   "metadata": {
    "ExecuteTime": {
     "end_time": "2023-10-20T16:44:31.934251Z",
     "start_time": "2023-10-20T16:44:30.539822Z"
    }
   },
   "outputs": [
    {
     "data": {
      "text/plain": "0     4\n1     8\n2    15\n3    16\n4    23\n5    42\ndtype: int64"
     },
     "execution_count": 11,
     "metadata": {},
     "output_type": "execute_result"
    }
   ],
   "source": [
    "lucky_numbers = [4, 8, 15, 16, 23, 42]\n",
    "pd.Series(lucky_numbers)"
   ]
  },
  {
   "cell_type": "code",
   "execution_count": 12,
   "metadata": {
    "ExecuteTime": {
     "end_time": "2023-10-20T16:44:31.934512Z",
     "start_time": "2023-10-20T16:44:30.548495Z"
    }
   },
   "outputs": [
    {
     "data": {
      "text/plain": "0     4.0\n1     8.0\n2    15.0\n3    16.0\n4    23.0\n5    42.0\ndtype: float64"
     },
     "execution_count": 12,
     "metadata": {},
     "output_type": "execute_result"
    }
   ],
   "source": [
    "lucky_numbers = [4, 8, 15, 16, 23, 42]\n",
    "pd.Series(lucky_numbers, dtype = \"float\")"
   ]
  },
  {
   "cell_type": "markdown",
   "metadata": {},
   "source": [
    "### Creating a Series with Missing Values"
   ]
  },
  {
   "cell_type": "code",
   "execution_count": 13,
   "metadata": {
    "ExecuteTime": {
     "end_time": "2023-10-20T16:44:31.934765Z",
     "start_time": "2023-10-20T16:44:30.556793Z"
    }
   },
   "outputs": [
    {
     "data": {
      "text/plain": "0    94.0\n1    88.0\n2     NaN\n3    91.0\ndtype: float64"
     },
     "execution_count": 13,
     "metadata": {},
     "output_type": "execute_result"
    }
   ],
   "source": [
    "temperatures = [94, 88, np.nan, 91]\n",
    "pd.Series(data = temperatures)"
   ]
  },
  {
   "cell_type": "markdown",
   "metadata": {},
   "source": [
    "## Create a Series from Python Objects"
   ]
  },
  {
   "cell_type": "code",
   "execution_count": 14,
   "metadata": {
    "ExecuteTime": {
     "end_time": "2023-10-20T16:44:31.935056Z",
     "start_time": "2023-10-20T16:44:30.568128Z"
    }
   },
   "outputs": [
    {
     "data": {
      "text/plain": "Cereal              125\nChocolate Bar       406\nIce Cream Sundae    342\ndtype: int64"
     },
     "execution_count": 14,
     "metadata": {},
     "output_type": "execute_result"
    }
   ],
   "source": [
    "calorie_info = {\n",
    "    \"Cereal\": 125,\n",
    "    \"Chocolate Bar\": 406,\n",
    "    \"Ice Cream Sundae\": 342,\n",
    "}\n",
    "\n",
    "diet = pd.Series(calorie_info)\n",
    "diet"
   ]
  },
  {
   "cell_type": "code",
   "execution_count": 15,
   "metadata": {
    "ExecuteTime": {
     "end_time": "2023-10-20T16:44:31.935312Z",
     "start_time": "2023-10-20T16:44:30.573539Z"
    }
   },
   "outputs": [
    {
     "data": {
      "text/plain": "0      Red\n1    Green\n2     Blue\ndtype: object"
     },
     "execution_count": 15,
     "metadata": {},
     "output_type": "execute_result"
    }
   ],
   "source": [
    "pd.Series(data = (\"Red\", \"Green\", \"Blue\"))"
   ]
  },
  {
   "cell_type": "code",
   "execution_count": 16,
   "metadata": {
    "ExecuteTime": {
     "end_time": "2023-10-20T16:44:31.935563Z",
     "start_time": "2023-10-20T16:44:30.579022Z"
    }
   },
   "outputs": [
    {
     "data": {
      "text/plain": "0     (120, 41, 26)\n1    (196, 165, 45)\ndtype: object"
     },
     "execution_count": 16,
     "metadata": {},
     "output_type": "execute_result"
    }
   ],
   "source": [
    "rgb_colors = [(120, 41, 26), (196, 165, 45)]\n",
    "pd.Series(data = rgb_colors)"
   ]
  },
  {
   "cell_type": "code",
   "execution_count": 17,
   "metadata": {
    "ExecuteTime": {
     "end_time": "2023-10-20T16:44:31.935684Z",
     "start_time": "2023-10-20T16:44:30.582196Z"
    }
   },
   "outputs": [],
   "source": [
    "my_set = {\"Ricky\", \"Bobby\"}\n",
    "# pd.Series(my_set) <- Error, why?"
   ]
  },
  {
   "cell_type": "code",
   "execution_count": 18,
   "metadata": {
    "ExecuteTime": {
     "end_time": "2023-10-20T16:44:31.935928Z",
     "start_time": "2023-10-20T16:44:30.588159Z"
    }
   },
   "outputs": [
    {
     "data": {
      "text/plain": "0    Bobby\n1    Ricky\ndtype: object"
     },
     "execution_count": 18,
     "metadata": {},
     "output_type": "execute_result"
    }
   ],
   "source": [
    "pd.Series(list(my_set))"
   ]
  },
  {
   "cell_type": "code",
   "execution_count": 19,
   "metadata": {
    "ExecuteTime": {
     "end_time": "2023-10-20T16:44:31.949415Z",
     "start_time": "2023-10-20T16:44:30.592731Z"
    }
   },
   "outputs": [
    {
     "data": {
      "text/plain": "array([73, 13, 23, 23, 53, 58,  3, 54, 98, 72])"
     },
     "execution_count": 19,
     "metadata": {},
     "output_type": "execute_result"
    }
   ],
   "source": [
    "random_data = np.random.randint(1, 101, 10)\n",
    "random_data"
   ]
  },
  {
   "cell_type": "code",
   "execution_count": 20,
   "metadata": {
    "ExecuteTime": {
     "end_time": "2023-10-20T16:44:31.949854Z",
     "start_time": "2023-10-20T16:44:30.597391Z"
    }
   },
   "outputs": [
    {
     "data": {
      "text/plain": "0    73\n1    13\n2    23\n3    23\n4    53\n5    58\n6     3\n7    54\n8    98\n9    72\ndtype: int64"
     },
     "execution_count": 20,
     "metadata": {},
     "output_type": "execute_result"
    }
   ],
   "source": [
    "pd.Series(random_data)"
   ]
  },
  {
   "cell_type": "markdown",
   "metadata": {},
   "source": [
    "## Series Attributes"
   ]
  },
  {
   "cell_type": "code",
   "execution_count": 21,
   "metadata": {
    "ExecuteTime": {
     "end_time": "2023-10-20T16:44:31.950131Z",
     "start_time": "2023-10-20T16:44:30.600355Z"
    }
   },
   "outputs": [
    {
     "data": {
      "text/plain": "array([125, 406, 342])"
     },
     "execution_count": 21,
     "metadata": {},
     "output_type": "execute_result"
    }
   ],
   "source": [
    "diet.values"
   ]
  },
  {
   "cell_type": "code",
   "execution_count": 22,
   "metadata": {
    "ExecuteTime": {
     "end_time": "2023-10-20T16:44:31.950399Z",
     "start_time": "2023-10-20T16:44:30.607452Z"
    }
   },
   "outputs": [
    {
     "data": {
      "text/plain": "numpy.ndarray"
     },
     "execution_count": 22,
     "metadata": {},
     "output_type": "execute_result"
    }
   ],
   "source": [
    "type(diet.values)"
   ]
  },
  {
   "cell_type": "code",
   "execution_count": 23,
   "metadata": {
    "ExecuteTime": {
     "end_time": "2023-10-20T16:44:31.950657Z",
     "start_time": "2023-10-20T16:44:30.612335Z"
    }
   },
   "outputs": [
    {
     "data": {
      "text/plain": "Index(['Cereal', 'Chocolate Bar', 'Ice Cream Sundae'], dtype='object')"
     },
     "execution_count": 23,
     "metadata": {},
     "output_type": "execute_result"
    }
   ],
   "source": [
    "diet.index"
   ]
  },
  {
   "cell_type": "code",
   "execution_count": 24,
   "metadata": {
    "ExecuteTime": {
     "end_time": "2023-10-20T16:44:31.950911Z",
     "start_time": "2023-10-20T16:44:30.616940Z"
    }
   },
   "outputs": [
    {
     "data": {
      "text/plain": "pandas.core.indexes.base.Index"
     },
     "execution_count": 24,
     "metadata": {},
     "output_type": "execute_result"
    }
   ],
   "source": [
    "type(diet.index)"
   ]
  },
  {
   "cell_type": "code",
   "execution_count": 25,
   "metadata": {
    "ExecuteTime": {
     "end_time": "2023-10-20T16:44:31.951161Z",
     "start_time": "2023-10-20T16:44:30.621401Z"
    }
   },
   "outputs": [
    {
     "data": {
      "text/plain": "dtype('int64')"
     },
     "execution_count": 25,
     "metadata": {},
     "output_type": "execute_result"
    }
   ],
   "source": [
    "diet.dtype"
   ]
  },
  {
   "cell_type": "code",
   "execution_count": 26,
   "metadata": {
    "ExecuteTime": {
     "end_time": "2023-10-20T16:44:31.951408Z",
     "start_time": "2023-10-20T16:44:30.626127Z"
    }
   },
   "outputs": [
    {
     "data": {
      "text/plain": "3"
     },
     "execution_count": 26,
     "metadata": {},
     "output_type": "execute_result"
    }
   ],
   "source": [
    "diet.size"
   ]
  },
  {
   "cell_type": "code",
   "execution_count": 27,
   "metadata": {
    "ExecuteTime": {
     "end_time": "2023-10-20T16:44:31.951655Z",
     "start_time": "2023-10-20T16:44:30.630956Z"
    }
   },
   "outputs": [
    {
     "data": {
      "text/plain": "(3,)"
     },
     "execution_count": 27,
     "metadata": {},
     "output_type": "execute_result"
    }
   ],
   "source": [
    "diet.shape"
   ]
  },
  {
   "cell_type": "code",
   "execution_count": 28,
   "metadata": {
    "ExecuteTime": {
     "end_time": "2023-10-20T16:44:31.951914Z",
     "start_time": "2023-10-20T16:44:30.635314Z"
    }
   },
   "outputs": [
    {
     "data": {
      "text/plain": "True"
     },
     "execution_count": 28,
     "metadata": {},
     "output_type": "execute_result"
    }
   ],
   "source": [
    "diet.is_unique"
   ]
  },
  {
   "cell_type": "code",
   "execution_count": 29,
   "metadata": {
    "ExecuteTime": {
     "end_time": "2023-10-20T16:44:31.952168Z",
     "start_time": "2023-10-20T16:44:30.640615Z"
    }
   },
   "outputs": [
    {
     "data": {
      "text/plain": "False"
     },
     "execution_count": 29,
     "metadata": {},
     "output_type": "execute_result"
    }
   ],
   "source": [
    "pd.Series(data = [3, 3]).is_unique"
   ]
  },
  {
   "cell_type": "code",
   "execution_count": 30,
   "metadata": {
    "ExecuteTime": {
     "end_time": "2023-10-20T16:44:31.952405Z",
     "start_time": "2023-10-20T16:44:30.646370Z"
    }
   },
   "outputs": [
    {
     "data": {
      "text/plain": "True"
     },
     "execution_count": 30,
     "metadata": {},
     "output_type": "execute_result"
    }
   ],
   "source": [
    "pd.Series(data = [1, 3, 6]).is_monotonic_increasing"
   ]
  },
  {
   "cell_type": "code",
   "execution_count": 31,
   "metadata": {
    "ExecuteTime": {
     "end_time": "2023-10-20T16:44:31.952640Z",
     "start_time": "2023-10-20T16:44:30.651117Z"
    }
   },
   "outputs": [
    {
     "data": {
      "text/plain": "False"
     },
     "execution_count": 31,
     "metadata": {},
     "output_type": "execute_result"
    }
   ],
   "source": [
    "pd.Series(data = [1, 6, 3]).is_monotonic_increasing"
   ]
  },
  {
   "cell_type": "markdown",
   "metadata": {},
   "source": [
    "## 2.4 Retrieving the First and Last Rows"
   ]
  },
  {
   "cell_type": "code",
   "execution_count": 32,
   "metadata": {
    "ExecuteTime": {
     "end_time": "2023-10-20T16:44:31.952899Z",
     "start_time": "2023-10-20T16:44:30.657054Z"
    }
   },
   "outputs": [
    {
     "data": {
      "text/plain": "0       0\n1       5\n2      10\n3      15\n4      20\n     ... \n95    475\n96    480\n97    485\n98    490\n99    495\nLength: 100, dtype: int64"
     },
     "execution_count": 32,
     "metadata": {},
     "output_type": "execute_result"
    }
   ],
   "source": [
    "values = range(0, 500, 5)\n",
    "nums = pd.Series(data = values)\n",
    "nums"
   ]
  },
  {
   "cell_type": "code",
   "execution_count": 33,
   "metadata": {
    "ExecuteTime": {
     "end_time": "2023-10-20T16:44:31.953249Z",
     "start_time": "2023-10-20T16:44:30.662137Z"
    }
   },
   "outputs": [
    {
     "data": {
      "text/plain": "0     0\n1     5\n2    10\ndtype: int64"
     },
     "execution_count": 33,
     "metadata": {},
     "output_type": "execute_result"
    }
   ],
   "source": [
    "nums.head(3)"
   ]
  },
  {
   "cell_type": "code",
   "execution_count": 34,
   "metadata": {
    "ExecuteTime": {
     "end_time": "2023-10-20T16:44:31.953524Z",
     "start_time": "2023-10-20T16:44:30.667062Z"
    }
   },
   "outputs": [
    {
     "data": {
      "text/plain": "0     0\n1     5\n2    10\ndtype: int64"
     },
     "execution_count": 34,
     "metadata": {},
     "output_type": "execute_result"
    }
   ],
   "source": [
    "nums.head(n = 3)"
   ]
  },
  {
   "cell_type": "code",
   "execution_count": 35,
   "metadata": {
    "ExecuteTime": {
     "end_time": "2023-10-20T16:44:31.953785Z",
     "start_time": "2023-10-20T16:44:30.673565Z"
    }
   },
   "outputs": [
    {
     "data": {
      "text/plain": "0     0\n1     5\n2    10\n3    15\n4    20\ndtype: int64"
     },
     "execution_count": 35,
     "metadata": {},
     "output_type": "execute_result"
    }
   ],
   "source": [
    "nums.head()"
   ]
  },
  {
   "cell_type": "code",
   "execution_count": 36,
   "metadata": {
    "ExecuteTime": {
     "end_time": "2023-10-20T16:44:31.954190Z",
     "start_time": "2023-10-20T16:44:30.678546Z"
    }
   },
   "outputs": [
    {
     "data": {
      "text/plain": "94    470\n95    475\n96    480\n97    485\n98    490\n99    495\ndtype: int64"
     },
     "execution_count": 36,
     "metadata": {},
     "output_type": "execute_result"
    }
   ],
   "source": [
    "nums.tail(6)"
   ]
  },
  {
   "cell_type": "code",
   "execution_count": 37,
   "metadata": {
    "ExecuteTime": {
     "end_time": "2023-10-20T16:44:31.954444Z",
     "start_time": "2023-10-20T16:44:30.684118Z"
    }
   },
   "outputs": [
    {
     "data": {
      "text/plain": "95    475\n96    480\n97    485\n98    490\n99    495\ndtype: int64"
     },
     "execution_count": 37,
     "metadata": {},
     "output_type": "execute_result"
    }
   ],
   "source": [
    "nums.tail()"
   ]
  },
  {
   "cell_type": "markdown",
   "metadata": {},
   "source": [
    "## Mathematical Operations"
   ]
  },
  {
   "cell_type": "markdown",
   "metadata": {},
   "source": [
    "### Statistical Operations"
   ]
  },
  {
   "cell_type": "code",
   "execution_count": 38,
   "metadata": {
    "ExecuteTime": {
     "end_time": "2023-10-20T16:44:31.954696Z",
     "start_time": "2023-10-20T16:44:30.689875Z"
    }
   },
   "outputs": [
    {
     "data": {
      "text/plain": "0    1.0\n1    2.0\n2    3.0\n3    NaN\n4    4.0\n5    5.0\ndtype: float64"
     },
     "execution_count": 38,
     "metadata": {},
     "output_type": "execute_result"
    }
   ],
   "source": [
    "numbers = pd.Series([1, 2, 3, np.nan, 4, 5])\n",
    "numbers"
   ]
  },
  {
   "cell_type": "code",
   "execution_count": 39,
   "metadata": {
    "ExecuteTime": {
     "end_time": "2023-10-20T16:44:31.954988Z",
     "start_time": "2023-10-20T16:44:30.694811Z"
    }
   },
   "outputs": [
    {
     "data": {
      "text/plain": "5"
     },
     "execution_count": 39,
     "metadata": {},
     "output_type": "execute_result"
    }
   ],
   "source": [
    "numbers.count()"
   ]
  },
  {
   "cell_type": "code",
   "execution_count": 40,
   "metadata": {
    "ExecuteTime": {
     "end_time": "2023-10-20T16:44:31.961856Z",
     "start_time": "2023-10-20T16:44:30.698504Z"
    }
   },
   "outputs": [
    {
     "data": {
      "text/plain": "15.0"
     },
     "execution_count": 40,
     "metadata": {},
     "output_type": "execute_result"
    }
   ],
   "source": [
    "numbers.sum()"
   ]
  },
  {
   "cell_type": "code",
   "execution_count": 41,
   "metadata": {
    "ExecuteTime": {
     "end_time": "2023-10-20T16:44:31.962248Z",
     "start_time": "2023-10-20T16:44:30.713995Z"
    }
   },
   "outputs": [
    {
     "data": {
      "text/plain": "nan"
     },
     "execution_count": 41,
     "metadata": {},
     "output_type": "execute_result"
    }
   ],
   "source": [
    "numbers.sum(skipna = False)"
   ]
  },
  {
   "cell_type": "code",
   "execution_count": 42,
   "metadata": {
    "ExecuteTime": {
     "end_time": "2023-10-20T16:44:31.962545Z",
     "start_time": "2023-10-20T16:44:30.718884Z"
    }
   },
   "outputs": [
    {
     "data": {
      "text/plain": "15.0"
     },
     "execution_count": 42,
     "metadata": {},
     "output_type": "execute_result"
    }
   ],
   "source": [
    "numbers.sum(min_count = 3)"
   ]
  },
  {
   "cell_type": "code",
   "execution_count": 43,
   "metadata": {
    "ExecuteTime": {
     "end_time": "2023-10-20T16:44:31.962831Z",
     "start_time": "2023-10-20T16:44:30.722401Z"
    }
   },
   "outputs": [
    {
     "data": {
      "text/plain": "nan"
     },
     "execution_count": 43,
     "metadata": {},
     "output_type": "execute_result"
    }
   ],
   "source": [
    "numbers.sum(min_count = 6)"
   ]
  },
  {
   "cell_type": "code",
   "execution_count": 44,
   "metadata": {
    "ExecuteTime": {
     "end_time": "2023-10-20T16:44:31.963230Z",
     "start_time": "2023-10-20T16:44:30.729239Z"
    }
   },
   "outputs": [
    {
     "data": {
      "text/plain": "120.0"
     },
     "execution_count": 44,
     "metadata": {},
     "output_type": "execute_result"
    }
   ],
   "source": [
    "numbers.product()"
   ]
  },
  {
   "cell_type": "code",
   "execution_count": 45,
   "metadata": {
    "ExecuteTime": {
     "end_time": "2023-10-20T16:44:31.963529Z",
     "start_time": "2023-10-20T16:44:30.733512Z"
    }
   },
   "outputs": [
    {
     "data": {
      "text/plain": "nan"
     },
     "execution_count": 45,
     "metadata": {},
     "output_type": "execute_result"
    }
   ],
   "source": [
    "numbers.product(skipna = False)"
   ]
  },
  {
   "cell_type": "code",
   "execution_count": 46,
   "metadata": {
    "ExecuteTime": {
     "end_time": "2023-10-20T16:44:31.963810Z",
     "start_time": "2023-10-20T16:44:30.755438Z"
    }
   },
   "outputs": [
    {
     "data": {
      "text/plain": "120.0"
     },
     "execution_count": 46,
     "metadata": {},
     "output_type": "execute_result"
    }
   ],
   "source": [
    "numbers.product(min_count = 3)"
   ]
  },
  {
   "cell_type": "code",
   "execution_count": 47,
   "metadata": {
    "ExecuteTime": {
     "end_time": "2023-10-20T16:44:31.964132Z",
     "start_time": "2023-10-20T16:44:30.760807Z"
    }
   },
   "outputs": [
    {
     "data": {
      "text/plain": "0    1.0\n1    2.0\n2    3.0\n3    NaN\n4    4.0\n5    5.0\ndtype: float64"
     },
     "execution_count": 47,
     "metadata": {},
     "output_type": "execute_result"
    }
   ],
   "source": [
    "numbers"
   ]
  },
  {
   "cell_type": "code",
   "execution_count": 48,
   "metadata": {
    "ExecuteTime": {
     "end_time": "2023-10-20T16:44:31.964432Z",
     "start_time": "2023-10-20T16:44:30.763683Z"
    }
   },
   "outputs": [
    {
     "data": {
      "text/plain": "0     1.0\n1     3.0\n2     6.0\n3     NaN\n4    10.0\n5    15.0\ndtype: float64"
     },
     "execution_count": 48,
     "metadata": {},
     "output_type": "execute_result"
    }
   ],
   "source": [
    "numbers.cumsum()"
   ]
  },
  {
   "cell_type": "code",
   "execution_count": 49,
   "metadata": {
    "ExecuteTime": {
     "end_time": "2023-10-20T16:44:31.964747Z",
     "start_time": "2023-10-20T16:44:30.769377Z"
    }
   },
   "outputs": [
    {
     "data": {
      "text/plain": "0    1.0\n1    3.0\n2    6.0\n3    NaN\n4    NaN\n5    NaN\ndtype: float64"
     },
     "execution_count": 49,
     "metadata": {},
     "output_type": "execute_result"
    }
   ],
   "source": [
    "numbers.cumsum(skipna = False)"
   ]
  },
  {
   "cell_type": "code",
   "execution_count": 50,
   "metadata": {
    "ExecuteTime": {
     "end_time": "2023-10-20T16:44:31.965056Z",
     "start_time": "2023-10-20T16:44:30.777528Z"
    }
   },
   "outputs": [
    {
     "data": {
      "text/plain": "0    1.0\n1    2.0\n2    3.0\n3    NaN\n4    4.0\n5    5.0\ndtype: float64"
     },
     "execution_count": 50,
     "metadata": {},
     "output_type": "execute_result"
    }
   ],
   "source": [
    "numbers"
   ]
  },
  {
   "cell_type": "code",
   "execution_count": 51,
   "metadata": {
    "ExecuteTime": {
     "end_time": "2023-10-20T16:44:31.965502Z",
     "start_time": "2023-10-20T16:44:30.784386Z"
    }
   },
   "outputs": [
    {
     "name": "stderr",
     "output_type": "stream",
     "text": [
      "/var/folders/yz/4x62zkms4z95zw8bq3d15hvc0000gn/T/ipykernel_20241/463408457.py:1: FutureWarning: The default fill_method='pad' in Series.pct_change is deprecated and will be removed in a future version. Call ffill before calling pct_change to retain current behavior and silence this warning.\n",
      "  numbers.pct_change()\n"
     ]
    },
    {
     "data": {
      "text/plain": "0         NaN\n1    1.000000\n2    0.500000\n3    0.000000\n4    0.333333\n5    0.250000\ndtype: float64"
     },
     "execution_count": 51,
     "metadata": {},
     "output_type": "execute_result"
    }
   ],
   "source": [
    "numbers.pct_change()"
   ]
  },
  {
   "cell_type": "code",
   "execution_count": 52,
   "metadata": {
    "ExecuteTime": {
     "end_time": "2023-10-20T16:44:31.965802Z",
     "start_time": "2023-10-20T16:44:30.791005Z"
    }
   },
   "outputs": [
    {
     "data": {
      "text/plain": "0         NaN\n1    1.000000\n2    0.500000\n3    0.000000\n4    0.333333\n5    0.250000\ndtype: float64"
     },
     "execution_count": 52,
     "metadata": {},
     "output_type": "execute_result"
    }
   ],
   "source": [
    "# The three lines below are equivalent\n",
    "numbers.ffill().pct_change()\n"
   ]
  },
  {
   "cell_type": "code",
   "execution_count": 53,
   "metadata": {
    "ExecuteTime": {
     "end_time": "2023-10-20T16:44:31.966099Z",
     "start_time": "2023-10-20T16:44:30.796732Z"
    }
   },
   "outputs": [
    {
     "data": {
      "text/plain": "0         NaN\n1    1.000000\n2    0.500000\n3    0.333333\n4    0.000000\n5    0.250000\ndtype: float64"
     },
     "execution_count": 53,
     "metadata": {},
     "output_type": "execute_result"
    }
   ],
   "source": [
    "# The two lines below are equivalent\n",
    "numbers.bfill().pct_change()"
   ]
  },
  {
   "cell_type": "code",
   "execution_count": 54,
   "metadata": {
    "ExecuteTime": {
     "end_time": "2023-10-20T16:44:31.966373Z",
     "start_time": "2023-10-20T16:44:30.801266Z"
    }
   },
   "outputs": [
    {
     "data": {
      "text/plain": "3.0"
     },
     "execution_count": 54,
     "metadata": {},
     "output_type": "execute_result"
    }
   ],
   "source": [
    "numbers.mean()"
   ]
  },
  {
   "cell_type": "code",
   "execution_count": 55,
   "metadata": {
    "ExecuteTime": {
     "end_time": "2023-10-20T16:44:31.966645Z",
     "start_time": "2023-10-20T16:44:30.804640Z"
    }
   },
   "outputs": [
    {
     "data": {
      "text/plain": "3.0"
     },
     "execution_count": 55,
     "metadata": {},
     "output_type": "execute_result"
    }
   ],
   "source": [
    "numbers.median()"
   ]
  },
  {
   "cell_type": "code",
   "execution_count": 56,
   "metadata": {
    "ExecuteTime": {
     "end_time": "2023-10-20T16:44:31.966930Z",
     "start_time": "2023-10-20T16:44:30.811582Z"
    }
   },
   "outputs": [
    {
     "data": {
      "text/plain": "1.5811388300841898"
     },
     "execution_count": 56,
     "metadata": {},
     "output_type": "execute_result"
    }
   ],
   "source": [
    "numbers.std()"
   ]
  },
  {
   "cell_type": "code",
   "execution_count": 57,
   "metadata": {
    "ExecuteTime": {
     "end_time": "2023-10-20T16:44:31.967355Z",
     "start_time": "2023-10-20T16:44:30.816503Z"
    }
   },
   "outputs": [
    {
     "data": {
      "text/plain": "5.0"
     },
     "execution_count": 57,
     "metadata": {},
     "output_type": "execute_result"
    }
   ],
   "source": [
    "numbers.max()"
   ]
  },
  {
   "cell_type": "code",
   "execution_count": 58,
   "metadata": {
    "ExecuteTime": {
     "end_time": "2023-10-20T16:44:31.967643Z",
     "start_time": "2023-10-20T16:44:30.819362Z"
    }
   },
   "outputs": [
    {
     "data": {
      "text/plain": "1.0"
     },
     "execution_count": 58,
     "metadata": {},
     "output_type": "execute_result"
    }
   ],
   "source": [
    "numbers.min()"
   ]
  },
  {
   "cell_type": "code",
   "execution_count": 59,
   "metadata": {
    "ExecuteTime": {
     "end_time": "2023-10-20T16:44:31.967965Z",
     "start_time": "2023-10-20T16:44:30.827119Z"
    }
   },
   "outputs": [
    {
     "data": {
      "text/plain": "0       koala\n1    aardvark\n2       zebra\ndtype: object"
     },
     "execution_count": 59,
     "metadata": {},
     "output_type": "execute_result"
    }
   ],
   "source": [
    "animals = pd.Series([\"koala\", \"aardvark\", \"zebra\"])\n",
    "animals"
   ]
  },
  {
   "cell_type": "code",
   "execution_count": 60,
   "metadata": {
    "ExecuteTime": {
     "end_time": "2023-10-20T16:44:31.968254Z",
     "start_time": "2023-10-20T16:44:30.831960Z"
    }
   },
   "outputs": [
    {
     "data": {
      "text/plain": "'zebra'"
     },
     "execution_count": 60,
     "metadata": {},
     "output_type": "execute_result"
    }
   ],
   "source": [
    "animals.max()"
   ]
  },
  {
   "cell_type": "code",
   "execution_count": 61,
   "metadata": {
    "ExecuteTime": {
     "end_time": "2023-10-20T16:44:31.968541Z",
     "start_time": "2023-10-20T16:44:30.836395Z"
    }
   },
   "outputs": [
    {
     "data": {
      "text/plain": "'aardvark'"
     },
     "execution_count": 61,
     "metadata": {},
     "output_type": "execute_result"
    }
   ],
   "source": [
    "animals.min()"
   ]
  },
  {
   "cell_type": "code",
   "execution_count": 62,
   "metadata": {
    "ExecuteTime": {
     "end_time": "2023-10-20T16:44:31.968833Z",
     "start_time": "2023-10-20T16:44:30.841533Z"
    }
   },
   "outputs": [
    {
     "data": {
      "text/plain": "count    5.000000\nmean     3.000000\nstd      1.581139\nmin      1.000000\n25%      2.000000\n50%      3.000000\n75%      4.000000\nmax      5.000000\ndtype: float64"
     },
     "execution_count": 62,
     "metadata": {},
     "output_type": "execute_result"
    }
   ],
   "source": [
    "numbers.describe()"
   ]
  },
  {
   "cell_type": "code",
   "execution_count": 63,
   "metadata": {
    "ExecuteTime": {
     "end_time": "2023-10-20T16:44:31.969155Z",
     "start_time": "2023-10-20T16:44:30.849271Z"
    }
   },
   "outputs": [
    {
     "data": {
      "text/plain": "2    3.0\n1    2.0\n5    5.0\ndtype: float64"
     },
     "execution_count": 63,
     "metadata": {},
     "output_type": "execute_result"
    }
   ],
   "source": [
    "numbers.sample(3)"
   ]
  },
  {
   "cell_type": "code",
   "execution_count": 64,
   "metadata": {
    "ExecuteTime": {
     "end_time": "2023-10-20T16:44:31.969531Z",
     "start_time": "2023-10-20T16:44:30.854725Z"
    }
   },
   "outputs": [
    {
     "data": {
      "text/plain": "array(['Hemingway', 'Orwell', 'Dostoevsky', 'Fitzgerald'], dtype=object)"
     },
     "execution_count": 64,
     "metadata": {},
     "output_type": "execute_result"
    }
   ],
   "source": [
    "authors = pd.Series(\n",
    "    [\"Hemingway\", \"Orwell\", \"Dostoevsky\", \"Fitzgerald\", \"Orwell\"]\n",
    ")\n",
    "\n",
    "authors.unique()"
   ]
  },
  {
   "cell_type": "code",
   "execution_count": 65,
   "metadata": {
    "ExecuteTime": {
     "end_time": "2023-10-20T16:44:31.969813Z",
     "start_time": "2023-10-20T16:44:30.860171Z"
    }
   },
   "outputs": [
    {
     "data": {
      "text/plain": "4"
     },
     "execution_count": 65,
     "metadata": {},
     "output_type": "execute_result"
    }
   ],
   "source": [
    "authors.nunique()"
   ]
  },
  {
   "cell_type": "markdown",
   "metadata": {},
   "source": [
    "### Arithmetic Operations"
   ]
  },
  {
   "cell_type": "code",
   "execution_count": 66,
   "metadata": {
    "ExecuteTime": {
     "end_time": "2023-10-20T16:44:31.970110Z",
     "start_time": "2023-10-20T16:44:30.863454Z"
    }
   },
   "outputs": [
    {
     "data": {
      "text/plain": "A     5.0\nB     NaN\nC    15.0\ndtype: float64"
     },
     "execution_count": 66,
     "metadata": {},
     "output_type": "execute_result"
    }
   ],
   "source": [
    "s1 = pd.Series(data = [5, np.nan, 15], index = [\"A\", \"B\", \"C\"])\n",
    "s1"
   ]
  },
  {
   "cell_type": "code",
   "execution_count": 67,
   "metadata": {
    "ExecuteTime": {
     "end_time": "2023-10-20T16:44:31.970393Z",
     "start_time": "2023-10-20T16:44:30.869757Z"
    }
   },
   "outputs": [
    {
     "data": {
      "text/plain": "A     8.0\nB     NaN\nC    18.0\ndtype: float64"
     },
     "execution_count": 67,
     "metadata": {},
     "output_type": "execute_result"
    }
   ],
   "source": [
    "s1 + 3"
   ]
  },
  {
   "cell_type": "code",
   "execution_count": 68,
   "metadata": {
    "ExecuteTime": {
     "end_time": "2023-10-20T16:44:31.970734Z",
     "start_time": "2023-10-20T16:44:30.877620Z"
    }
   },
   "outputs": [
    {
     "data": {
      "text/plain": "A     8.0\nB     NaN\nC    18.0\ndtype: float64"
     },
     "execution_count": 68,
     "metadata": {},
     "output_type": "execute_result"
    }
   ],
   "source": [
    "s1.add(3)"
   ]
  },
  {
   "cell_type": "code",
   "execution_count": 69,
   "metadata": {
    "ExecuteTime": {
     "end_time": "2023-10-20T16:44:31.971019Z",
     "start_time": "2023-10-20T16:44:30.882140Z"
    }
   },
   "outputs": [
    {
     "data": {
      "text/plain": "A     0.0\nB     NaN\nC    10.0\ndtype: float64"
     },
     "execution_count": 69,
     "metadata": {},
     "output_type": "execute_result"
    }
   ],
   "source": [
    "# The three lines below are equivalent\n",
    "s1 - 5\n",
    "s1.sub(5)\n",
    "s1.subtract(5)"
   ]
  },
  {
   "cell_type": "code",
   "execution_count": 70,
   "metadata": {
    "ExecuteTime": {
     "end_time": "2023-10-20T16:44:31.971293Z",
     "start_time": "2023-10-20T16:44:30.891452Z"
    }
   },
   "outputs": [
    {
     "data": {
      "text/plain": "A    10.0\nB     NaN\nC    30.0\ndtype: float64"
     },
     "execution_count": 70,
     "metadata": {},
     "output_type": "execute_result"
    }
   ],
   "source": [
    "# The three lines below are equivalent\n",
    "s1 * 2\n",
    "s1.mul(2)\n",
    "s1.multiply(2)"
   ]
  },
  {
   "cell_type": "code",
   "execution_count": 71,
   "metadata": {
    "ExecuteTime": {
     "end_time": "2023-10-20T16:44:31.971619Z",
     "start_time": "2023-10-20T16:44:30.898015Z"
    }
   },
   "outputs": [
    {
     "data": {
      "text/plain": "A    2.5\nB    NaN\nC    7.5\ndtype: float64"
     },
     "execution_count": 71,
     "metadata": {},
     "output_type": "execute_result"
    }
   ],
   "source": [
    "# The three lines below are equivalent\n",
    "s1 / 2\n",
    "s1.div(2)\n",
    "s1.divide(2)"
   ]
  },
  {
   "cell_type": "code",
   "execution_count": 72,
   "metadata": {
    "ExecuteTime": {
     "end_time": "2023-10-20T16:44:31.971896Z",
     "start_time": "2023-10-20T16:44:30.901405Z"
    }
   },
   "outputs": [
    {
     "data": {
      "text/plain": "A    1.0\nB    NaN\nC    3.0\ndtype: float64"
     },
     "execution_count": 72,
     "metadata": {},
     "output_type": "execute_result"
    }
   ],
   "source": [
    "# The two lines below are equivalent\n",
    "s1 // 4\n",
    "s1.floordiv(4)"
   ]
  },
  {
   "cell_type": "code",
   "execution_count": 73,
   "metadata": {
    "ExecuteTime": {
     "end_time": "2023-10-20T16:44:31.972212Z",
     "start_time": "2023-10-20T16:44:30.909465Z"
    }
   },
   "outputs": [
    {
     "data": {
      "text/plain": "A    2.0\nB    NaN\nC    0.0\ndtype: float64"
     },
     "execution_count": 73,
     "metadata": {},
     "output_type": "execute_result"
    }
   ],
   "source": [
    "# The two lines below are equivalent\n",
    "s1 % 3\n",
    "s1.mod(3)"
   ]
  },
  {
   "cell_type": "markdown",
   "metadata": {},
   "source": [
    "### Broadcasting"
   ]
  },
  {
   "cell_type": "code",
   "execution_count": 74,
   "metadata": {
    "ExecuteTime": {
     "end_time": "2023-10-20T16:44:31.972331Z",
     "start_time": "2023-10-20T16:44:30.914384Z"
    }
   },
   "outputs": [],
   "source": [
    "s1 = pd.Series([1, 2, 3], index = [\"A\", \"B\", \"C\"])\n",
    "s2 = pd.Series([4, 5, 6], index = [\"A\", \"B\", \"C\"])"
   ]
  },
  {
   "cell_type": "code",
   "execution_count": 75,
   "metadata": {
    "ExecuteTime": {
     "end_time": "2023-10-20T16:44:31.972576Z",
     "start_time": "2023-10-20T16:44:30.919763Z"
    }
   },
   "outputs": [
    {
     "data": {
      "text/plain": "A    5\nB    7\nC    9\ndtype: int64"
     },
     "execution_count": 75,
     "metadata": {},
     "output_type": "execute_result"
    }
   ],
   "source": [
    "s1 + s2"
   ]
  },
  {
   "cell_type": "code",
   "execution_count": 76,
   "metadata": {
    "ExecuteTime": {
     "end_time": "2023-10-20T16:44:31.972693Z",
     "start_time": "2023-10-20T16:44:30.924809Z"
    }
   },
   "outputs": [],
   "source": [
    "s1 = pd.Series(data = [3, 6, np.nan, 12])\n",
    "s2 = pd.Series(data = [2, 6, np.nan, 12])"
   ]
  },
  {
   "cell_type": "code",
   "execution_count": 77,
   "metadata": {
    "ExecuteTime": {
     "end_time": "2023-10-20T16:44:31.972930Z",
     "start_time": "2023-10-20T16:44:30.926884Z"
    }
   },
   "outputs": [
    {
     "data": {
      "text/plain": "0    False\n1     True\n2    False\n3     True\ndtype: bool"
     },
     "execution_count": 77,
     "metadata": {},
     "output_type": "execute_result"
    }
   ],
   "source": [
    "# The two lines below are equivalent\n",
    "s1 == s2\n",
    "s1.eq(s2)"
   ]
  },
  {
   "cell_type": "code",
   "execution_count": 78,
   "metadata": {
    "ExecuteTime": {
     "end_time": "2023-10-20T16:44:31.973271Z",
     "start_time": "2023-10-20T16:44:30.935108Z"
    }
   },
   "outputs": [
    {
     "data": {
      "text/plain": "0     True\n1    False\n2     True\n3    False\ndtype: bool"
     },
     "execution_count": 78,
     "metadata": {},
     "output_type": "execute_result"
    }
   ],
   "source": [
    "# The two lines below are equivalent\n",
    "s1 != s2\n",
    "s1.ne(s2)"
   ]
  },
  {
   "cell_type": "code",
   "execution_count": 79,
   "metadata": {
    "ExecuteTime": {
     "end_time": "2023-10-20T16:44:31.973384Z",
     "start_time": "2023-10-20T16:44:30.939906Z"
    }
   },
   "outputs": [],
   "source": [
    "s1 = pd.Series(\n",
    "    data = [5, 10, 15], index = [\"A\", \"B\", \"C\"]\n",
    ")\n",
    "\n",
    "s2 = pd.Series(\n",
    "    data = [4, 8, 12, 14], index = [\"B\", \"C\", \"D\", \"E\"]\n",
    ")"
   ]
  },
  {
   "cell_type": "code",
   "execution_count": 80,
   "metadata": {
    "ExecuteTime": {
     "end_time": "2023-10-20T16:44:31.973616Z",
     "start_time": "2023-10-20T16:44:30.945301Z"
    }
   },
   "outputs": [
    {
     "data": {
      "text/plain": "A     NaN\nB    14.0\nC    23.0\nD     NaN\nE     NaN\ndtype: float64"
     },
     "execution_count": 80,
     "metadata": {},
     "output_type": "execute_result"
    }
   ],
   "source": [
    "s1 + s2"
   ]
  },
  {
   "cell_type": "markdown",
   "metadata": {},
   "source": [
    "## Passing the Series to Python's Built-In Functions"
   ]
  },
  {
   "cell_type": "code",
   "execution_count": 81,
   "metadata": {
    "ExecuteTime": {
     "end_time": "2023-10-20T16:44:31.973731Z",
     "start_time": "2023-10-20T16:44:30.949430Z"
    }
   },
   "outputs": [],
   "source": [
    "cities = pd.Series(\n",
    "    data = [\"San Francisco\", \"Los Angeles\", \"Las  Vegas\", np.nan]\n",
    ")"
   ]
  },
  {
   "cell_type": "code",
   "execution_count": 82,
   "metadata": {
    "ExecuteTime": {
     "end_time": "2023-10-20T16:44:31.973971Z",
     "start_time": "2023-10-20T16:44:30.953813Z"
    }
   },
   "outputs": [
    {
     "data": {
      "text/plain": "4"
     },
     "execution_count": 82,
     "metadata": {},
     "output_type": "execute_result"
    }
   ],
   "source": [
    "len(cities)"
   ]
  },
  {
   "cell_type": "code",
   "execution_count": 83,
   "metadata": {
    "ExecuteTime": {
     "end_time": "2023-10-20T16:44:31.974196Z",
     "start_time": "2023-10-20T16:44:30.956954Z"
    }
   },
   "outputs": [
    {
     "data": {
      "text/plain": "pandas.core.series.Series"
     },
     "execution_count": 83,
     "metadata": {},
     "output_type": "execute_result"
    }
   ],
   "source": [
    "type(cities)"
   ]
  },
  {
   "cell_type": "code",
   "execution_count": 84,
   "metadata": {
    "ExecuteTime": {
     "end_time": "2023-10-20T16:44:31.974847Z",
     "start_time": "2023-10-20T16:44:30.966345Z"
    }
   },
   "outputs": [
    {
     "data": {
      "text/plain": "['T',\n '_AXIS_LEN',\n '_AXIS_ORDERS',\n '_AXIS_TO_AXIS_NUMBER',\n '_HANDLED_TYPES',\n '__abs__',\n '__add__',\n '__and__',\n '__annotations__',\n '__array__',\n '__array_priority__',\n '__array_ufunc__',\n '__bool__',\n '__class__',\n '__column_consortium_standard__',\n '__contains__',\n '__copy__',\n '__deepcopy__',\n '__delattr__',\n '__delitem__',\n '__dict__',\n '__dir__',\n '__divmod__',\n '__doc__',\n '__eq__',\n '__finalize__',\n '__float__',\n '__floordiv__',\n '__format__',\n '__ge__',\n '__getattr__',\n '__getattribute__',\n '__getitem__',\n '__getstate__',\n '__gt__',\n '__hash__',\n '__iadd__',\n '__iand__',\n '__ifloordiv__',\n '__imod__',\n '__imul__',\n '__init__',\n '__init_subclass__',\n '__int__',\n '__invert__',\n '__ior__',\n '__ipow__',\n '__isub__',\n '__iter__',\n '__itruediv__',\n '__ixor__',\n '__le__',\n '__len__',\n '__lt__',\n '__matmul__',\n '__mod__',\n '__module__',\n '__mul__',\n '__ne__',\n '__neg__',\n '__new__',\n '__nonzero__',\n '__or__',\n '__pandas_priority__',\n '__pos__',\n '__pow__',\n '__radd__',\n '__rand__',\n '__rdivmod__',\n '__reduce__',\n '__reduce_ex__',\n '__repr__',\n '__rfloordiv__',\n '__rmatmul__',\n '__rmod__',\n '__rmul__',\n '__ror__',\n '__round__',\n '__rpow__',\n '__rsub__',\n '__rtruediv__',\n '__rxor__',\n '__setattr__',\n '__setitem__',\n '__setstate__',\n '__sizeof__',\n '__str__',\n '__sub__',\n '__subclasshook__',\n '__truediv__',\n '__weakref__',\n '__xor__',\n '_accessors',\n '_accum_func',\n '_agg_examples_doc',\n '_agg_see_also_doc',\n '_align_for_op',\n '_align_frame',\n '_align_series',\n '_append',\n '_arith_method',\n '_as_manager',\n '_attrs',\n '_binop',\n '_can_hold_na',\n '_check_inplace_and_allows_duplicate_labels',\n '_check_is_chained_assignment_possible',\n '_check_label_or_level_ambiguity',\n '_check_setitem_copy',\n '_clear_item_cache',\n '_clip_with_one_bound',\n '_clip_with_scalar',\n '_cmp_method',\n '_consolidate',\n '_consolidate_inplace',\n '_construct_axes_dict',\n '_construct_result',\n '_constructor',\n '_constructor_expanddim',\n '_constructor_expanddim_from_mgr',\n '_constructor_from_mgr',\n '_convert_dtypes',\n '_data',\n '_deprecate_downcast',\n '_dir_additions',\n '_dir_deletions',\n '_drop_axis',\n '_drop_labels_or_levels',\n '_duplicated',\n '_expanddim_from_mgr',\n '_find_valid_index',\n '_flags',\n '_flex_method',\n '_from_mgr',\n '_get_axis',\n '_get_axis_name',\n '_get_axis_number',\n '_get_axis_resolvers',\n '_get_block_manager_axis',\n '_get_bool_data',\n '_get_cacher',\n '_get_cleaned_column_resolvers',\n '_get_index_resolvers',\n '_get_label_or_level_values',\n '_get_numeric_data',\n '_get_rows_with_mask',\n '_get_value',\n '_get_values_tuple',\n '_get_with',\n '_getitem_slice',\n '_gotitem',\n '_hidden_attrs',\n '_indexed_same',\n '_info_axis',\n '_info_axis_name',\n '_info_axis_number',\n '_init_dict',\n '_init_mgr',\n '_inplace_method',\n '_internal_names',\n '_internal_names_set',\n '_is_cached',\n '_is_copy',\n '_is_label_or_level_reference',\n '_is_label_reference',\n '_is_level_reference',\n '_is_mixed_type',\n '_is_view',\n '_item_cache',\n '_ixs',\n '_logical_func',\n '_logical_method',\n '_map_values',\n '_maybe_update_cacher',\n '_memory_usage',\n '_metadata',\n '_mgr',\n '_min_count_stat_function',\n '_name',\n '_needs_reindex_multi',\n '_pad_or_backfill',\n '_protect_consolidate',\n '_reduce',\n '_references',\n '_reindex_axes',\n '_reindex_indexer',\n '_reindex_multi',\n '_reindex_with_indexers',\n '_rename',\n '_replace_single',\n '_repr_data_resource_',\n '_repr_latex_',\n '_reset_cache',\n '_reset_cacher',\n '_set_as_cached',\n '_set_axis',\n '_set_axis_name',\n '_set_axis_nocheck',\n '_set_is_copy',\n '_set_labels',\n '_set_name',\n '_set_value',\n '_set_values',\n '_set_with',\n '_set_with_engine',\n '_shift_with_freq',\n '_slice',\n '_stat_function',\n '_stat_function_ddof',\n '_take_with_is_copy',\n '_to_latex_via_styler',\n '_typ',\n '_update_inplace',\n '_validate_dtype',\n '_values',\n '_where',\n 'abs',\n 'add',\n 'add_prefix',\n 'add_suffix',\n 'agg',\n 'aggregate',\n 'align',\n 'all',\n 'any',\n 'apply',\n 'argmax',\n 'argmin',\n 'argsort',\n 'array',\n 'asfreq',\n 'asof',\n 'astype',\n 'at',\n 'at_time',\n 'attrs',\n 'autocorr',\n 'axes',\n 'backfill',\n 'between',\n 'between_time',\n 'bfill',\n 'bool',\n 'clip',\n 'combine',\n 'combine_first',\n 'compare',\n 'convert_dtypes',\n 'copy',\n 'corr',\n 'count',\n 'cov',\n 'cummax',\n 'cummin',\n 'cumprod',\n 'cumsum',\n 'describe',\n 'diff',\n 'div',\n 'divide',\n 'divmod',\n 'dot',\n 'drop',\n 'drop_duplicates',\n 'droplevel',\n 'dropna',\n 'dtype',\n 'dtypes',\n 'duplicated',\n 'empty',\n 'eq',\n 'equals',\n 'ewm',\n 'expanding',\n 'explode',\n 'factorize',\n 'ffill',\n 'fillna',\n 'filter',\n 'first',\n 'first_valid_index',\n 'flags',\n 'floordiv',\n 'ge',\n 'get',\n 'groupby',\n 'gt',\n 'hasnans',\n 'head',\n 'hist',\n 'iat',\n 'idxmax',\n 'idxmin',\n 'iloc',\n 'index',\n 'infer_objects',\n 'info',\n 'interpolate',\n 'is_monotonic_decreasing',\n 'is_monotonic_increasing',\n 'is_unique',\n 'isin',\n 'isna',\n 'isnull',\n 'item',\n 'items',\n 'keys',\n 'kurt',\n 'kurtosis',\n 'last',\n 'last_valid_index',\n 'le',\n 'loc',\n 'lt',\n 'map',\n 'mask',\n 'max',\n 'mean',\n 'median',\n 'memory_usage',\n 'min',\n 'mod',\n 'mode',\n 'mul',\n 'multiply',\n 'name',\n 'nbytes',\n 'ndim',\n 'ne',\n 'nlargest',\n 'notna',\n 'notnull',\n 'nsmallest',\n 'nunique',\n 'pad',\n 'pct_change',\n 'pipe',\n 'plot',\n 'pop',\n 'pow',\n 'prod',\n 'product',\n 'quantile',\n 'radd',\n 'rank',\n 'ravel',\n 'rdiv',\n 'rdivmod',\n 'reindex',\n 'reindex_like',\n 'rename',\n 'rename_axis',\n 'reorder_levels',\n 'repeat',\n 'replace',\n 'resample',\n 'reset_index',\n 'rfloordiv',\n 'rmod',\n 'rmul',\n 'rolling',\n 'round',\n 'rpow',\n 'rsub',\n 'rtruediv',\n 'sample',\n 'searchsorted',\n 'sem',\n 'set_axis',\n 'set_flags',\n 'shape',\n 'shift',\n 'size',\n 'skew',\n 'sort_index',\n 'sort_values',\n 'squeeze',\n 'std',\n 'str',\n 'sub',\n 'subtract',\n 'sum',\n 'swapaxes',\n 'swaplevel',\n 'tail',\n 'take',\n 'to_clipboard',\n 'to_csv',\n 'to_dict',\n 'to_excel',\n 'to_frame',\n 'to_hdf',\n 'to_json',\n 'to_latex',\n 'to_list',\n 'to_markdown',\n 'to_numpy',\n 'to_period',\n 'to_pickle',\n 'to_sql',\n 'to_string',\n 'to_timestamp',\n 'to_xarray',\n 'transform',\n 'transpose',\n 'truediv',\n 'truncate',\n 'tz_convert',\n 'tz_localize',\n 'unique',\n 'unstack',\n 'update',\n 'value_counts',\n 'values',\n 'var',\n 'view',\n 'where',\n 'xs']"
     },
     "execution_count": 84,
     "metadata": {},
     "output_type": "execute_result"
    }
   ],
   "source": [
    "dir(cities)"
   ]
  },
  {
   "cell_type": "code",
   "execution_count": 85,
   "metadata": {
    "ExecuteTime": {
     "end_time": "2023-10-20T16:44:31.975090Z",
     "start_time": "2023-10-20T16:44:30.971195Z"
    }
   },
   "outputs": [
    {
     "data": {
      "text/plain": "['San Francisco', 'Los Angeles', 'Las  Vegas', nan]"
     },
     "execution_count": 85,
     "metadata": {},
     "output_type": "execute_result"
    }
   ],
   "source": [
    "list(cities)"
   ]
  },
  {
   "cell_type": "code",
   "execution_count": 86,
   "metadata": {
    "ExecuteTime": {
     "end_time": "2023-10-20T16:44:31.975319Z",
     "start_time": "2023-10-20T16:44:30.976403Z"
    }
   },
   "outputs": [
    {
     "data": {
      "text/plain": "{0: 'San Francisco', 1: 'Los Angeles', 2: 'Las  Vegas', 3: nan}"
     },
     "execution_count": 86,
     "metadata": {},
     "output_type": "execute_result"
    }
   ],
   "source": [
    "dict(cities)"
   ]
  },
  {
   "cell_type": "code",
   "execution_count": 87,
   "metadata": {
    "ExecuteTime": {
     "end_time": "2023-10-20T16:44:31.975570Z",
     "start_time": "2023-10-20T16:44:30.981586Z"
    }
   },
   "outputs": [
    {
     "data": {
      "text/plain": "0    San Francisco\n1      Los Angeles\n2       Las  Vegas\n3              NaN\ndtype: object"
     },
     "execution_count": 87,
     "metadata": {},
     "output_type": "execute_result"
    }
   ],
   "source": [
    "cities"
   ]
  },
  {
   "cell_type": "code",
   "execution_count": 88,
   "metadata": {
    "ExecuteTime": {
     "end_time": "2023-10-20T16:44:31.975795Z",
     "start_time": "2023-10-20T16:44:30.985783Z"
    }
   },
   "outputs": [
    {
     "data": {
      "text/plain": "False"
     },
     "execution_count": 88,
     "metadata": {},
     "output_type": "execute_result"
    }
   ],
   "source": [
    "\"Las Vegas\" in cities"
   ]
  },
  {
   "cell_type": "code",
   "execution_count": 89,
   "metadata": {
    "ExecuteTime": {
     "end_time": "2023-10-20T16:44:31.976037Z",
     "start_time": "2023-10-20T16:44:30.990425Z"
    }
   },
   "outputs": [
    {
     "data": {
      "text/plain": "True"
     },
     "execution_count": 89,
     "metadata": {},
     "output_type": "execute_result"
    }
   ],
   "source": [
    "2 in cities"
   ]
  },
  {
   "cell_type": "code",
   "execution_count": 90,
   "metadata": {
    "ExecuteTime": {
     "end_time": "2023-10-20T16:44:31.976259Z",
     "start_time": "2023-10-20T16:44:30.994839Z"
    }
   },
   "outputs": [
    {
     "data": {
      "text/plain": "False"
     },
     "execution_count": 90,
     "metadata": {},
     "output_type": "execute_result"
    }
   ],
   "source": [
    "\"Las Vegas\" in cities.values"
   ]
  },
  {
   "cell_type": "code",
   "execution_count": 91,
   "metadata": {
    "ExecuteTime": {
     "end_time": "2023-10-20T16:44:31.976483Z",
     "start_time": "2023-10-20T16:44:30.999641Z"
    }
   },
   "outputs": [
    {
     "data": {
      "text/plain": "True"
     },
     "execution_count": 91,
     "metadata": {},
     "output_type": "execute_result"
    }
   ],
   "source": [
    "100 not in cities"
   ]
  },
  {
   "cell_type": "code",
   "execution_count": 92,
   "metadata": {
    "ExecuteTime": {
     "end_time": "2023-10-20T16:44:31.976706Z",
     "start_time": "2023-10-20T16:44:31.003958Z"
    }
   },
   "outputs": [
    {
     "data": {
      "text/plain": "True"
     },
     "execution_count": 92,
     "metadata": {},
     "output_type": "execute_result"
    }
   ],
   "source": [
    "\"Paris\" not in cities.values"
   ]
  },
  {
   "cell_type": "markdown",
   "metadata": {},
   "source": [
    "## Coding Challenge"
   ]
  },
  {
   "cell_type": "code",
   "execution_count": 93,
   "metadata": {
    "ExecuteTime": {
     "end_time": "2023-10-20T16:44:31.976814Z",
     "start_time": "2023-10-20T16:44:31.008319Z"
    }
   },
   "outputs": [],
   "source": [
    "superheroes = [\n",
    "    \"Batman\",\n",
    "    \"Superman\",\n",
    "    \"Spider-Man\",\n",
    "    \"Iron Man\",\n",
    "    \"Captain America\",\n",
    "    \"Wonder Woman\"\n",
    "]"
   ]
  },
  {
   "cell_type": "code",
   "execution_count": 94,
   "metadata": {
    "ExecuteTime": {
     "end_time": "2023-10-20T16:44:31.976920Z",
     "start_time": "2023-10-20T16:44:31.011971Z"
    }
   },
   "outputs": [],
   "source": [
    "strength_levels = (100, 120, 90, 95, 110, 120)"
   ]
  },
  {
   "cell_type": "code",
   "execution_count": 95,
   "metadata": {
    "ExecuteTime": {
     "end_time": "2023-10-20T16:44:31.977157Z",
     "start_time": "2023-10-20T16:44:31.016086Z"
    }
   },
   "outputs": [
    {
     "data": {
      "text/plain": "0             Batman\n1           Superman\n2         Spider-Man\n3           Iron Man\n4    Captain America\n5       Wonder Woman\ndtype: object"
     },
     "execution_count": 95,
     "metadata": {},
     "output_type": "execute_result"
    }
   ],
   "source": [
    "pd.Series(superheroes)"
   ]
  },
  {
   "cell_type": "code",
   "execution_count": 96,
   "metadata": {
    "ExecuteTime": {
     "end_time": "2023-10-20T16:44:31.977392Z",
     "start_time": "2023-10-20T16:44:31.018508Z"
    }
   },
   "outputs": [
    {
     "data": {
      "text/plain": "0    100\n1    120\n2     90\n3     95\n4    110\n5    120\ndtype: int64"
     },
     "execution_count": 96,
     "metadata": {},
     "output_type": "execute_result"
    }
   ],
   "source": [
    "pd.Series(data = strength_levels)"
   ]
  },
  {
   "cell_type": "code",
   "execution_count": 97,
   "metadata": {
    "ExecuteTime": {
     "end_time": "2023-10-20T16:44:31.977639Z",
     "start_time": "2023-10-20T16:44:31.025721Z"
    }
   },
   "outputs": [
    {
     "data": {
      "text/plain": "Batman             100\nSuperman           120\nSpider-Man          90\nIron Man            95\nCaptain America    110\nWonder Woman       120\ndtype: int64"
     },
     "execution_count": 97,
     "metadata": {},
     "output_type": "execute_result"
    }
   ],
   "source": [
    "heroes = pd.Series(\n",
    "    data = strength_levels, index = superheroes\n",
    ")\n",
    "\n",
    "heroes"
   ]
  },
  {
   "cell_type": "code",
   "execution_count": 98,
   "metadata": {
    "ExecuteTime": {
     "end_time": "2023-10-20T16:44:31.977871Z",
     "start_time": "2023-10-20T16:44:31.031288Z"
    }
   },
   "outputs": [
    {
     "data": {
      "text/plain": "Batman      100\nSuperman    120\ndtype: int64"
     },
     "execution_count": 98,
     "metadata": {},
     "output_type": "execute_result"
    }
   ],
   "source": [
    "heroes.head(2)"
   ]
  },
  {
   "cell_type": "code",
   "execution_count": 99,
   "metadata": {
    "ExecuteTime": {
     "end_time": "2023-10-20T16:44:31.978105Z",
     "start_time": "2023-10-20T16:44:31.036501Z"
    }
   },
   "outputs": [
    {
     "data": {
      "text/plain": "Spider-Man          90\nIron Man            95\nCaptain America    110\nWonder Woman       120\ndtype: int64"
     },
     "execution_count": 99,
     "metadata": {},
     "output_type": "execute_result"
    }
   ],
   "source": [
    "heroes.tail(4)"
   ]
  },
  {
   "cell_type": "code",
   "execution_count": 100,
   "metadata": {
    "ExecuteTime": {
     "end_time": "2023-10-20T16:44:31.978331Z",
     "start_time": "2023-10-20T16:44:31.040956Z"
    }
   },
   "outputs": [
    {
     "data": {
      "text/plain": "5"
     },
     "execution_count": 100,
     "metadata": {},
     "output_type": "execute_result"
    }
   ],
   "source": [
    "heroes.nunique()"
   ]
  },
  {
   "cell_type": "code",
   "execution_count": 101,
   "metadata": {
    "ExecuteTime": {
     "end_time": "2023-10-20T16:44:31.978596Z",
     "start_time": "2023-10-20T16:44:31.043909Z"
    }
   },
   "outputs": [
    {
     "data": {
      "text/plain": "105.83333333333333"
     },
     "execution_count": 101,
     "metadata": {},
     "output_type": "execute_result"
    }
   ],
   "source": [
    "heroes.mean()"
   ]
  },
  {
   "cell_type": "code",
   "execution_count": 102,
   "metadata": {
    "ExecuteTime": {
     "end_time": "2023-10-20T16:44:31.978939Z",
     "start_time": "2023-10-20T16:44:31.050080Z"
    }
   },
   "outputs": [
    {
     "data": {
      "text/plain": "120"
     },
     "execution_count": 102,
     "metadata": {},
     "output_type": "execute_result"
    }
   ],
   "source": [
    "heroes.max()"
   ]
  },
  {
   "cell_type": "code",
   "execution_count": 103,
   "metadata": {
    "ExecuteTime": {
     "end_time": "2023-10-20T16:44:31.979253Z",
     "start_time": "2023-10-20T16:44:31.054854Z"
    }
   },
   "outputs": [
    {
     "data": {
      "text/plain": "90"
     },
     "execution_count": 103,
     "metadata": {},
     "output_type": "execute_result"
    }
   ],
   "source": [
    "heroes.min()"
   ]
  },
  {
   "cell_type": "code",
   "execution_count": 104,
   "metadata": {
    "ExecuteTime": {
     "end_time": "2023-10-20T16:44:31.979507Z",
     "start_time": "2023-10-20T16:44:31.060184Z"
    }
   },
   "outputs": [
    {
     "data": {
      "text/plain": "Batman             200\nSuperman           240\nSpider-Man         180\nIron Man           190\nCaptain America    220\nWonder Woman       240\ndtype: int64"
     },
     "execution_count": 104,
     "metadata": {},
     "output_type": "execute_result"
    }
   ],
   "source": [
    "heroes * 2"
   ]
  },
  {
   "cell_type": "code",
   "execution_count": 105,
   "metadata": {
    "ExecuteTime": {
     "end_time": "2023-10-20T16:44:31.980209Z",
     "start_time": "2023-10-20T16:44:31.065170Z"
    }
   },
   "outputs": [
    {
     "data": {
      "text/plain": "{'Batman': 100,\n 'Superman': 120,\n 'Spider-Man': 90,\n 'Iron Man': 95,\n 'Captain America': 110,\n 'Wonder Woman': 120}"
     },
     "execution_count": 105,
     "metadata": {},
     "output_type": "execute_result"
    }
   ],
   "source": [
    "dict(heroes)"
   ]
  }
 ],
 "metadata": {
  "kernelspec": {
   "display_name": "Python 3",
   "language": "python",
   "name": "python3"
  },
  "language_info": {
   "codemirror_mode": {
    "name": "ipython",
    "version": 3
   },
   "file_extension": ".py",
   "mimetype": "text/x-python",
   "name": "python",
   "nbconvert_exporter": "python",
   "pygments_lexer": "ipython3",
   "version": "3.11.6"
  }
 },
 "nbformat": 4,
 "nbformat_minor": 2
}
