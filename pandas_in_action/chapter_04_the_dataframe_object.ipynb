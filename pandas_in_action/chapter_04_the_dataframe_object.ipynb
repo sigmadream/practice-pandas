{
 "cells": [
  {
   "cell_type": "markdown",
   "metadata": {},
   "source": [
    "## Overview of a DataFrame"
   ]
  },
  {
   "cell_type": "code",
   "execution_count": 112,
   "metadata": {
    "ExecuteTime": {
     "end_time": "2023-10-20T16:55:15.651628Z",
     "start_time": "2023-10-20T16:55:15.000825Z"
    }
   },
   "outputs": [],
   "source": [
    "import pandas as pd\n",
    "import numpy as np"
   ]
  },
  {
   "cell_type": "markdown",
   "metadata": {},
   "source": [
    "### Creating DataFrame from Dictionary"
   ]
  },
  {
   "cell_type": "code",
   "execution_count": 113,
   "metadata": {
    "ExecuteTime": {
     "end_time": "2023-10-20T16:55:16.399763Z",
     "start_time": "2023-10-20T16:55:15.021813Z"
    }
   },
   "outputs": [
    {
     "data": {
      "text/plain": "            City        Country  Population\n0  New York City  United States     8600000\n1          Paris         France     2141000\n2      Barcelona          Spain     5515000\n3           Rome          Italy     2873000",
      "text/html": "<div>\n<style scoped>\n    .dataframe tbody tr th:only-of-type {\n        vertical-align: middle;\n    }\n\n    .dataframe tbody tr th {\n        vertical-align: top;\n    }\n\n    .dataframe thead th {\n        text-align: right;\n    }\n</style>\n<table border=\"1\" class=\"dataframe\">\n  <thead>\n    <tr style=\"text-align: right;\">\n      <th></th>\n      <th>City</th>\n      <th>Country</th>\n      <th>Population</th>\n    </tr>\n  </thead>\n  <tbody>\n    <tr>\n      <th>0</th>\n      <td>New York City</td>\n      <td>United States</td>\n      <td>8600000</td>\n    </tr>\n    <tr>\n      <th>1</th>\n      <td>Paris</td>\n      <td>France</td>\n      <td>2141000</td>\n    </tr>\n    <tr>\n      <th>2</th>\n      <td>Barcelona</td>\n      <td>Spain</td>\n      <td>5515000</td>\n    </tr>\n    <tr>\n      <th>3</th>\n      <td>Rome</td>\n      <td>Italy</td>\n      <td>2873000</td>\n    </tr>\n  </tbody>\n</table>\n</div>"
     },
     "execution_count": 113,
     "metadata": {},
     "output_type": "execute_result"
    }
   ],
   "source": [
    "city_data = {\n",
    "    \"City\": [\"New York City\", \"Paris\", \"Barcelona\", \"Rome\"],\n",
    "    \"Country\": [\"United States\", \"France\", \"Spain\", \"Italy\"],\n",
    "    \"Population\": pd.Series([8600000, 2141000, 5515000, 2873000])\n",
    "}\n",
    "\n",
    "cities = pd.DataFrame(city_data)\n",
    "cities"
   ]
  },
  {
   "cell_type": "code",
   "execution_count": 114,
   "metadata": {
    "ExecuteTime": {
     "end_time": "2023-10-20T16:55:16.513121Z",
     "start_time": "2023-10-20T16:55:15.030501Z"
    }
   },
   "outputs": [
    {
     "data": {
      "text/plain": "                        0        1          2        3\nCity        New York City    Paris  Barcelona     Rome\nCountry     United States   France      Spain    Italy\nPopulation        8600000  2141000    5515000  2873000",
      "text/html": "<div>\n<style scoped>\n    .dataframe tbody tr th:only-of-type {\n        vertical-align: middle;\n    }\n\n    .dataframe tbody tr th {\n        vertical-align: top;\n    }\n\n    .dataframe thead th {\n        text-align: right;\n    }\n</style>\n<table border=\"1\" class=\"dataframe\">\n  <thead>\n    <tr style=\"text-align: right;\">\n      <th></th>\n      <th>0</th>\n      <th>1</th>\n      <th>2</th>\n      <th>3</th>\n    </tr>\n  </thead>\n  <tbody>\n    <tr>\n      <th>City</th>\n      <td>New York City</td>\n      <td>Paris</td>\n      <td>Barcelona</td>\n      <td>Rome</td>\n    </tr>\n    <tr>\n      <th>Country</th>\n      <td>United States</td>\n      <td>France</td>\n      <td>Spain</td>\n      <td>Italy</td>\n    </tr>\n    <tr>\n      <th>Population</th>\n      <td>8600000</td>\n      <td>2141000</td>\n      <td>5515000</td>\n      <td>2873000</td>\n    </tr>\n  </tbody>\n</table>\n</div>"
     },
     "execution_count": 114,
     "metadata": {},
     "output_type": "execute_result"
    }
   ],
   "source": [
    "# The two lines below are equivalent\n",
    "cities.transpose()\n",
    "cities.T"
   ]
  },
  {
   "cell_type": "markdown",
   "metadata": {},
   "source": [
    "### Creating a DataFrame from a NumPy ndarray"
   ]
  },
  {
   "cell_type": "code",
   "execution_count": 115,
   "metadata": {
    "ExecuteTime": {
     "end_time": "2023-10-20T16:55:16.513490Z",
     "start_time": "2023-10-20T16:55:15.037186Z"
    }
   },
   "outputs": [
    {
     "data": {
      "text/plain": "array([[69, 49, 89,  4, 32],\n       [46, 89, 42, 67, 33],\n       [59,  2, 18, 79, 77]])"
     },
     "execution_count": 115,
     "metadata": {},
     "output_type": "execute_result"
    }
   ],
   "source": [
    "random_data = np.random.randint(1, 101, [3, 5])\n",
    "random_data"
   ]
  },
  {
   "cell_type": "code",
   "execution_count": 116,
   "metadata": {
    "ExecuteTime": {
     "end_time": "2023-10-20T16:55:16.513921Z",
     "start_time": "2023-10-20T16:55:15.044699Z"
    }
   },
   "outputs": [
    {
     "data": {
      "text/plain": "    0   1   2   3   4\n0  69  49  89   4  32\n1  46  89  42  67  33\n2  59   2  18  79  77",
      "text/html": "<div>\n<style scoped>\n    .dataframe tbody tr th:only-of-type {\n        vertical-align: middle;\n    }\n\n    .dataframe tbody tr th {\n        vertical-align: top;\n    }\n\n    .dataframe thead th {\n        text-align: right;\n    }\n</style>\n<table border=\"1\" class=\"dataframe\">\n  <thead>\n    <tr style=\"text-align: right;\">\n      <th></th>\n      <th>0</th>\n      <th>1</th>\n      <th>2</th>\n      <th>3</th>\n      <th>4</th>\n    </tr>\n  </thead>\n  <tbody>\n    <tr>\n      <th>0</th>\n      <td>69</td>\n      <td>49</td>\n      <td>89</td>\n      <td>4</td>\n      <td>32</td>\n    </tr>\n    <tr>\n      <th>1</th>\n      <td>46</td>\n      <td>89</td>\n      <td>42</td>\n      <td>67</td>\n      <td>33</td>\n    </tr>\n    <tr>\n      <th>2</th>\n      <td>59</td>\n      <td>2</td>\n      <td>18</td>\n      <td>79</td>\n      <td>77</td>\n    </tr>\n  </tbody>\n</table>\n</div>"
     },
     "execution_count": 116,
     "metadata": {},
     "output_type": "execute_result"
    }
   ],
   "source": [
    "pd.DataFrame(data=random_data)"
   ]
  },
  {
   "cell_type": "code",
   "execution_count": 117,
   "metadata": {
    "ExecuteTime": {
     "end_time": "2023-10-20T16:55:16.520048Z",
     "start_time": "2023-10-20T16:55:15.047721Z"
    }
   },
   "outputs": [
    {
     "data": {
      "text/plain": "            0   1   2   3   4\nMorning    69  49  89   4  32\nAfternoon  46  89  42  67  33\nEvening    59   2  18  79  77",
      "text/html": "<div>\n<style scoped>\n    .dataframe tbody tr th:only-of-type {\n        vertical-align: middle;\n    }\n\n    .dataframe tbody tr th {\n        vertical-align: top;\n    }\n\n    .dataframe thead th {\n        text-align: right;\n    }\n</style>\n<table border=\"1\" class=\"dataframe\">\n  <thead>\n    <tr style=\"text-align: right;\">\n      <th></th>\n      <th>0</th>\n      <th>1</th>\n      <th>2</th>\n      <th>3</th>\n      <th>4</th>\n    </tr>\n  </thead>\n  <tbody>\n    <tr>\n      <th>Morning</th>\n      <td>69</td>\n      <td>49</td>\n      <td>89</td>\n      <td>4</td>\n      <td>32</td>\n    </tr>\n    <tr>\n      <th>Afternoon</th>\n      <td>46</td>\n      <td>89</td>\n      <td>42</td>\n      <td>67</td>\n      <td>33</td>\n    </tr>\n    <tr>\n      <th>Evening</th>\n      <td>59</td>\n      <td>2</td>\n      <td>18</td>\n      <td>79</td>\n      <td>77</td>\n    </tr>\n  </tbody>\n</table>\n</div>"
     },
     "execution_count": 117,
     "metadata": {},
     "output_type": "execute_result"
    }
   ],
   "source": [
    "row_labels = [\"Morning\", \"Afternoon\", \"Evening\"]\n",
    "temperatures = pd.DataFrame(\n",
    "    data=random_data, index=row_labels\n",
    ")\n",
    "temperatures"
   ]
  },
  {
   "cell_type": "code",
   "execution_count": 118,
   "metadata": {
    "ExecuteTime": {
     "end_time": "2023-10-20T16:55:16.555939Z",
     "start_time": "2023-10-20T16:55:15.059563Z"
    }
   },
   "outputs": [
    {
     "data": {
      "text/plain": "           Monday  Tuesday  Wednesday  Thursday  Friday\nMorning        69       49         89         4      32\nAfternoon      46       89         42        67      33\nEvening        59        2         18        79      77",
      "text/html": "<div>\n<style scoped>\n    .dataframe tbody tr th:only-of-type {\n        vertical-align: middle;\n    }\n\n    .dataframe tbody tr th {\n        vertical-align: top;\n    }\n\n    .dataframe thead th {\n        text-align: right;\n    }\n</style>\n<table border=\"1\" class=\"dataframe\">\n  <thead>\n    <tr style=\"text-align: right;\">\n      <th></th>\n      <th>Monday</th>\n      <th>Tuesday</th>\n      <th>Wednesday</th>\n      <th>Thursday</th>\n      <th>Friday</th>\n    </tr>\n  </thead>\n  <tbody>\n    <tr>\n      <th>Morning</th>\n      <td>69</td>\n      <td>49</td>\n      <td>89</td>\n      <td>4</td>\n      <td>32</td>\n    </tr>\n    <tr>\n      <th>Afternoon</th>\n      <td>46</td>\n      <td>89</td>\n      <td>42</td>\n      <td>67</td>\n      <td>33</td>\n    </tr>\n    <tr>\n      <th>Evening</th>\n      <td>59</td>\n      <td>2</td>\n      <td>18</td>\n      <td>79</td>\n      <td>77</td>\n    </tr>\n  </tbody>\n</table>\n</div>"
     },
     "execution_count": 118,
     "metadata": {},
     "output_type": "execute_result"
    }
   ],
   "source": [
    "row_labels = [\"Morning\", \"Afternoon\", \"Evening\"]\n",
    "column_labels = (\n",
    "    \"Monday\",\n",
    "    \"Tuesday\",\n",
    "    \"Wednesday\",\n",
    "    \"Thursday\",\n",
    "    \"Friday\"\n",
    ")\n",
    "\n",
    "pd.DataFrame(\n",
    "    data=random_data,\n",
    "    index=row_labels,\n",
    "    columns=column_labels,\n",
    ")"
   ]
  },
  {
   "cell_type": "code",
   "execution_count": 119,
   "metadata": {
    "ExecuteTime": {
     "end_time": "2023-10-20T16:55:16.557551Z",
     "start_time": "2023-10-20T16:55:15.068402Z"
    }
   },
   "outputs": [
    {
     "data": {
      "text/plain": "           Monday  Tuesday  Wednesday  Thursday  Friday\nMorning        69       49         89         4      32\nAfternoon      46       89         42        67      33\nMorning        59        2         18        79      77",
      "text/html": "<div>\n<style scoped>\n    .dataframe tbody tr th:only-of-type {\n        vertical-align: middle;\n    }\n\n    .dataframe tbody tr th {\n        vertical-align: top;\n    }\n\n    .dataframe thead th {\n        text-align: right;\n    }\n</style>\n<table border=\"1\" class=\"dataframe\">\n  <thead>\n    <tr style=\"text-align: right;\">\n      <th></th>\n      <th>Monday</th>\n      <th>Tuesday</th>\n      <th>Wednesday</th>\n      <th>Thursday</th>\n      <th>Friday</th>\n    </tr>\n  </thead>\n  <tbody>\n    <tr>\n      <th>Morning</th>\n      <td>69</td>\n      <td>49</td>\n      <td>89</td>\n      <td>4</td>\n      <td>32</td>\n    </tr>\n    <tr>\n      <th>Afternoon</th>\n      <td>46</td>\n      <td>89</td>\n      <td>42</td>\n      <td>67</td>\n      <td>33</td>\n    </tr>\n    <tr>\n      <th>Morning</th>\n      <td>59</td>\n      <td>2</td>\n      <td>18</td>\n      <td>79</td>\n      <td>77</td>\n    </tr>\n  </tbody>\n</table>\n</div>"
     },
     "execution_count": 119,
     "metadata": {},
     "output_type": "execute_result"
    }
   ],
   "source": [
    "row_labels = [\"Morning\", \"Afternoon\", \"Morning\"]\n",
    "column_lables = [\n",
    "    \"Monday\",\n",
    "    \"Tuesday\",\n",
    "    \"Wednesday\",\n",
    "    \"Tuesday\",\n",
    "    \"Friday\"\n",
    "]\n",
    "\n",
    "pd.DataFrame(\n",
    "    data=random_data,\n",
    "    index=row_labels,\n",
    "    columns=column_labels,\n",
    ")\n"
   ]
  },
  {
   "cell_type": "markdown",
   "metadata": {},
   "source": [
    "## Similarities between Series and DataFrames"
   ]
  },
  {
   "cell_type": "markdown",
   "metadata": {},
   "source": [
    "### Importing a DataFrame with the read_csv Function"
   ]
  },
  {
   "cell_type": "code",
   "execution_count": 120,
   "metadata": {
    "ExecuteTime": {
     "end_time": "2023-10-20T16:55:16.801452Z",
     "start_time": "2023-10-20T16:55:15.072864Z"
    }
   },
   "outputs": [
    {
     "data": {
      "text/plain": "               Name                 Team Position  Birthday    Salary\n0      Shake Milton   Philadelphia 76ers       SG   9/26/96   1445697\n1    Christian Wood      Detroit Pistons       PF   9/27/95   1645357\n2     PJ Washington    Charlotte Hornets       PF   8/23/98   3831840\n3      Derrick Rose      Detroit Pistons       PG   10/4/88   7317074\n4     Marial Shayok   Philadelphia 76ers        G   7/26/95     79568\n..              ...                  ...      ...       ...       ...\n445   Austin Rivers      Houston Rockets       PG    8/1/92   2174310\n446     Harry Giles     Sacramento Kings       PF   4/22/98   2578800\n447     Robin Lopez      Milwaukee Bucks        C    4/1/88   4767000\n448   Collin Sexton  Cleveland Cavaliers       PG    1/4/99   4764960\n449     Ricky Rubio         Phoenix Suns       PG  10/21/90  16200000\n\n[450 rows x 5 columns]",
      "text/html": "<div>\n<style scoped>\n    .dataframe tbody tr th:only-of-type {\n        vertical-align: middle;\n    }\n\n    .dataframe tbody tr th {\n        vertical-align: top;\n    }\n\n    .dataframe thead th {\n        text-align: right;\n    }\n</style>\n<table border=\"1\" class=\"dataframe\">\n  <thead>\n    <tr style=\"text-align: right;\">\n      <th></th>\n      <th>Name</th>\n      <th>Team</th>\n      <th>Position</th>\n      <th>Birthday</th>\n      <th>Salary</th>\n    </tr>\n  </thead>\n  <tbody>\n    <tr>\n      <th>0</th>\n      <td>Shake Milton</td>\n      <td>Philadelphia 76ers</td>\n      <td>SG</td>\n      <td>9/26/96</td>\n      <td>1445697</td>\n    </tr>\n    <tr>\n      <th>1</th>\n      <td>Christian Wood</td>\n      <td>Detroit Pistons</td>\n      <td>PF</td>\n      <td>9/27/95</td>\n      <td>1645357</td>\n    </tr>\n    <tr>\n      <th>2</th>\n      <td>PJ Washington</td>\n      <td>Charlotte Hornets</td>\n      <td>PF</td>\n      <td>8/23/98</td>\n      <td>3831840</td>\n    </tr>\n    <tr>\n      <th>3</th>\n      <td>Derrick Rose</td>\n      <td>Detroit Pistons</td>\n      <td>PG</td>\n      <td>10/4/88</td>\n      <td>7317074</td>\n    </tr>\n    <tr>\n      <th>4</th>\n      <td>Marial Shayok</td>\n      <td>Philadelphia 76ers</td>\n      <td>G</td>\n      <td>7/26/95</td>\n      <td>79568</td>\n    </tr>\n    <tr>\n      <th>...</th>\n      <td>...</td>\n      <td>...</td>\n      <td>...</td>\n      <td>...</td>\n      <td>...</td>\n    </tr>\n    <tr>\n      <th>445</th>\n      <td>Austin Rivers</td>\n      <td>Houston Rockets</td>\n      <td>PG</td>\n      <td>8/1/92</td>\n      <td>2174310</td>\n    </tr>\n    <tr>\n      <th>446</th>\n      <td>Harry Giles</td>\n      <td>Sacramento Kings</td>\n      <td>PF</td>\n      <td>4/22/98</td>\n      <td>2578800</td>\n    </tr>\n    <tr>\n      <th>447</th>\n      <td>Robin Lopez</td>\n      <td>Milwaukee Bucks</td>\n      <td>C</td>\n      <td>4/1/88</td>\n      <td>4767000</td>\n    </tr>\n    <tr>\n      <th>448</th>\n      <td>Collin Sexton</td>\n      <td>Cleveland Cavaliers</td>\n      <td>PG</td>\n      <td>1/4/99</td>\n      <td>4764960</td>\n    </tr>\n    <tr>\n      <th>449</th>\n      <td>Ricky Rubio</td>\n      <td>Phoenix Suns</td>\n      <td>PG</td>\n      <td>10/21/90</td>\n      <td>16200000</td>\n    </tr>\n  </tbody>\n</table>\n<p>450 rows × 5 columns</p>\n</div>"
     },
     "execution_count": 120,
     "metadata": {},
     "output_type": "execute_result"
    }
   ],
   "source": [
    "pd.read_csv(\"data/nba.csv\")"
   ]
  },
  {
   "cell_type": "code",
   "execution_count": 121,
   "metadata": {
    "ExecuteTime": {
     "end_time": "2023-10-20T16:55:17.038043Z",
     "start_time": "2023-10-20T16:55:15.084944Z"
    }
   },
   "outputs": [
    {
     "name": "stdout",
     "output_type": "stream",
     "text": [
      "<class 'pandas.core.frame.DataFrame'>\n",
      "RangeIndex: 450 entries, 0 to 449\n",
      "Data columns (total 5 columns):\n",
      " #   Column    Non-Null Count  Dtype \n",
      "---  ------    --------------  ----- \n",
      " 0   Name      450 non-null    object\n",
      " 1   Team      450 non-null    object\n",
      " 2   Position  450 non-null    object\n",
      " 3   Birthday  450 non-null    object\n",
      " 4   Salary    450 non-null    int64 \n",
      "dtypes: int64(1), object(4)\n",
      "memory usage: 17.7+ KB\n"
     ]
    }
   ],
   "source": [
    "nba = pd.read_csv(\"data/nba.csv\")\n",
    "nba.info()"
   ]
  },
  {
   "cell_type": "markdown",
   "metadata": {},
   "source": [
    "### Shared and Exclusive Attributes between Series and DataFrames"
   ]
  },
  {
   "cell_type": "code",
   "execution_count": 122,
   "metadata": {
    "ExecuteTime": {
     "end_time": "2023-10-20T16:55:17.038467Z",
     "start_time": "2023-10-20T16:55:15.096015Z"
    }
   },
   "outputs": [
    {
     "data": {
      "text/plain": "dtype('int64')"
     },
     "execution_count": 122,
     "metadata": {},
     "output_type": "execute_result"
    }
   ],
   "source": [
    "pd.Series([1, 2, 3]).dtype"
   ]
  },
  {
   "cell_type": "code",
   "execution_count": 123,
   "metadata": {
    "ExecuteTime": {
     "end_time": "2023-10-20T16:55:17.038835Z",
     "start_time": "2023-10-20T16:55:15.109391Z"
    }
   },
   "outputs": [
    {
     "data": {
      "text/plain": "Name        object\nTeam        object\nPosition    object\nBirthday    object\nSalary       int64\ndtype: object"
     },
     "execution_count": 123,
     "metadata": {},
     "output_type": "execute_result"
    }
   ],
   "source": [
    "nba.dtypes"
   ]
  },
  {
   "cell_type": "code",
   "execution_count": 124,
   "metadata": {
    "ExecuteTime": {
     "end_time": "2023-10-20T16:55:17.039142Z",
     "start_time": "2023-10-20T16:55:15.112739Z"
    }
   },
   "outputs": [
    {
     "data": {
      "text/plain": "object    4\nint64     1\nName: count, dtype: int64"
     },
     "execution_count": 124,
     "metadata": {},
     "output_type": "execute_result"
    }
   ],
   "source": [
    "nba.dtypes.value_counts()"
   ]
  },
  {
   "cell_type": "code",
   "execution_count": 125,
   "metadata": {
    "ExecuteTime": {
     "end_time": "2023-10-20T16:55:17.039414Z",
     "start_time": "2023-10-20T16:55:15.119198Z"
    }
   },
   "outputs": [
    {
     "data": {
      "text/plain": "RangeIndex(start=0, stop=450, step=1)"
     },
     "execution_count": 125,
     "metadata": {},
     "output_type": "execute_result"
    }
   ],
   "source": [
    "nba.index"
   ]
  },
  {
   "cell_type": "code",
   "execution_count": 126,
   "metadata": {
    "ExecuteTime": {
     "end_time": "2023-10-20T16:55:17.039666Z",
     "start_time": "2023-10-20T16:55:15.127188Z"
    }
   },
   "outputs": [
    {
     "data": {
      "text/plain": "Index(['Name', 'Team', 'Position', 'Birthday', 'Salary'], dtype='object')"
     },
     "execution_count": 126,
     "metadata": {},
     "output_type": "execute_result"
    }
   ],
   "source": [
    "nba.columns"
   ]
  },
  {
   "cell_type": "code",
   "execution_count": 127,
   "metadata": {
    "ExecuteTime": {
     "end_time": "2023-10-20T16:55:17.039932Z",
     "start_time": "2023-10-20T16:55:15.131475Z"
    }
   },
   "outputs": [
    {
     "data": {
      "text/plain": "2"
     },
     "execution_count": 127,
     "metadata": {},
     "output_type": "execute_result"
    }
   ],
   "source": [
    "nba.ndim"
   ]
  },
  {
   "cell_type": "code",
   "execution_count": 128,
   "metadata": {
    "ExecuteTime": {
     "end_time": "2023-10-20T16:55:17.040239Z",
     "start_time": "2023-10-20T16:55:15.136536Z"
    }
   },
   "outputs": [
    {
     "data": {
      "text/plain": "(450, 5)"
     },
     "execution_count": 128,
     "metadata": {},
     "output_type": "execute_result"
    }
   ],
   "source": [
    "nba.shape"
   ]
  },
  {
   "cell_type": "code",
   "execution_count": 129,
   "metadata": {
    "ExecuteTime": {
     "end_time": "2023-10-20T16:55:17.098568Z",
     "start_time": "2023-10-20T16:55:15.144312Z"
    }
   },
   "outputs": [
    {
     "data": {
      "text/plain": "2250"
     },
     "execution_count": 129,
     "metadata": {},
     "output_type": "execute_result"
    }
   ],
   "source": [
    "nba.size"
   ]
  },
  {
   "cell_type": "code",
   "execution_count": 130,
   "metadata": {
    "ExecuteTime": {
     "end_time": "2023-10-20T16:55:17.098894Z",
     "start_time": "2023-10-20T16:55:15.147760Z"
    }
   },
   "outputs": [
    {
     "data": {
      "text/plain": "Name        450\nTeam        450\nPosition    450\nBirthday    450\nSalary      450\ndtype: int64"
     },
     "execution_count": 130,
     "metadata": {},
     "output_type": "execute_result"
    }
   ],
   "source": [
    "nba.count()"
   ]
  },
  {
   "cell_type": "code",
   "execution_count": 131,
   "metadata": {
    "ExecuteTime": {
     "end_time": "2023-10-20T16:55:17.123757Z",
     "start_time": "2023-10-20T16:55:15.154681Z"
    }
   },
   "outputs": [
    {
     "data": {
      "text/plain": "2250"
     },
     "execution_count": 131,
     "metadata": {},
     "output_type": "execute_result"
    }
   ],
   "source": [
    "nba.count().sum()"
   ]
  },
  {
   "cell_type": "code",
   "execution_count": 132,
   "metadata": {
    "ExecuteTime": {
     "end_time": "2023-10-20T16:55:17.168175Z",
     "start_time": "2023-10-20T16:55:15.157343Z"
    }
   },
   "outputs": [
    {
     "data": {
      "text/plain": "     A  B\n0  1.0  2\n1  NaN  3",
      "text/html": "<div>\n<style scoped>\n    .dataframe tbody tr th:only-of-type {\n        vertical-align: middle;\n    }\n\n    .dataframe tbody tr th {\n        vertical-align: top;\n    }\n\n    .dataframe thead th {\n        text-align: right;\n    }\n</style>\n<table border=\"1\" class=\"dataframe\">\n  <thead>\n    <tr style=\"text-align: right;\">\n      <th></th>\n      <th>A</th>\n      <th>B</th>\n    </tr>\n  </thead>\n  <tbody>\n    <tr>\n      <th>0</th>\n      <td>1.0</td>\n      <td>2</td>\n    </tr>\n    <tr>\n      <th>1</th>\n      <td>NaN</td>\n      <td>3</td>\n    </tr>\n  </tbody>\n</table>\n</div>"
     },
     "execution_count": 132,
     "metadata": {},
     "output_type": "execute_result"
    }
   ],
   "source": [
    "data = {\n",
    "    \"A\": [1, np.nan],\n",
    "    \"B\": [2, 3]\n",
    "}\n",
    "\n",
    "df = pd.DataFrame(data)\n",
    "df"
   ]
  },
  {
   "cell_type": "code",
   "execution_count": 133,
   "metadata": {
    "ExecuteTime": {
     "end_time": "2023-10-20T16:55:17.168539Z",
     "start_time": "2023-10-20T16:55:15.165197Z"
    }
   },
   "outputs": [
    {
     "data": {
      "text/plain": "4"
     },
     "execution_count": 133,
     "metadata": {},
     "output_type": "execute_result"
    }
   ],
   "source": [
    "df.size"
   ]
  },
  {
   "cell_type": "code",
   "execution_count": 134,
   "metadata": {
    "ExecuteTime": {
     "end_time": "2023-10-20T16:55:17.186276Z",
     "start_time": "2023-10-20T16:55:15.170507Z"
    }
   },
   "outputs": [
    {
     "data": {
      "text/plain": "A    1\nB    2\ndtype: int64"
     },
     "execution_count": 134,
     "metadata": {},
     "output_type": "execute_result"
    }
   ],
   "source": [
    "df.count()"
   ]
  },
  {
   "cell_type": "code",
   "execution_count": 135,
   "metadata": {
    "ExecuteTime": {
     "end_time": "2023-10-20T16:55:17.186667Z",
     "start_time": "2023-10-20T16:55:15.176587Z"
    }
   },
   "outputs": [
    {
     "data": {
      "text/plain": "3"
     },
     "execution_count": 135,
     "metadata": {},
     "output_type": "execute_result"
    }
   ],
   "source": [
    "df.count().sum()"
   ]
  },
  {
   "cell_type": "markdown",
   "metadata": {},
   "source": [
    "### Shared Methods between Series and DataFrames"
   ]
  },
  {
   "cell_type": "code",
   "execution_count": 136,
   "metadata": {
    "ExecuteTime": {
     "end_time": "2023-10-20T16:55:17.187078Z",
     "start_time": "2023-10-20T16:55:15.184352Z"
    }
   },
   "outputs": [
    {
     "data": {
      "text/plain": "             Name                Team Position Birthday   Salary\n0    Shake Milton  Philadelphia 76ers       SG  9/26/96  1445697\n1  Christian Wood     Detroit Pistons       PF  9/27/95  1645357",
      "text/html": "<div>\n<style scoped>\n    .dataframe tbody tr th:only-of-type {\n        vertical-align: middle;\n    }\n\n    .dataframe tbody tr th {\n        vertical-align: top;\n    }\n\n    .dataframe thead th {\n        text-align: right;\n    }\n</style>\n<table border=\"1\" class=\"dataframe\">\n  <thead>\n    <tr style=\"text-align: right;\">\n      <th></th>\n      <th>Name</th>\n      <th>Team</th>\n      <th>Position</th>\n      <th>Birthday</th>\n      <th>Salary</th>\n    </tr>\n  </thead>\n  <tbody>\n    <tr>\n      <th>0</th>\n      <td>Shake Milton</td>\n      <td>Philadelphia 76ers</td>\n      <td>SG</td>\n      <td>9/26/96</td>\n      <td>1445697</td>\n    </tr>\n    <tr>\n      <th>1</th>\n      <td>Christian Wood</td>\n      <td>Detroit Pistons</td>\n      <td>PF</td>\n      <td>9/27/95</td>\n      <td>1645357</td>\n    </tr>\n  </tbody>\n</table>\n</div>"
     },
     "execution_count": 136,
     "metadata": {},
     "output_type": "execute_result"
    }
   ],
   "source": [
    "nba.head(2)"
   ]
  },
  {
   "cell_type": "code",
   "execution_count": 137,
   "metadata": {
    "ExecuteTime": {
     "end_time": "2023-10-20T16:55:17.188449Z",
     "start_time": "2023-10-20T16:55:15.188928Z"
    }
   },
   "outputs": [
    {
     "data": {
      "text/plain": "              Name                 Team Position  Birthday    Salary\n447    Robin Lopez      Milwaukee Bucks        C    4/1/88   4767000\n448  Collin Sexton  Cleveland Cavaliers       PG    1/4/99   4764960\n449    Ricky Rubio         Phoenix Suns       PG  10/21/90  16200000",
      "text/html": "<div>\n<style scoped>\n    .dataframe tbody tr th:only-of-type {\n        vertical-align: middle;\n    }\n\n    .dataframe tbody tr th {\n        vertical-align: top;\n    }\n\n    .dataframe thead th {\n        text-align: right;\n    }\n</style>\n<table border=\"1\" class=\"dataframe\">\n  <thead>\n    <tr style=\"text-align: right;\">\n      <th></th>\n      <th>Name</th>\n      <th>Team</th>\n      <th>Position</th>\n      <th>Birthday</th>\n      <th>Salary</th>\n    </tr>\n  </thead>\n  <tbody>\n    <tr>\n      <th>447</th>\n      <td>Robin Lopez</td>\n      <td>Milwaukee Bucks</td>\n      <td>C</td>\n      <td>4/1/88</td>\n      <td>4767000</td>\n    </tr>\n    <tr>\n      <th>448</th>\n      <td>Collin Sexton</td>\n      <td>Cleveland Cavaliers</td>\n      <td>PG</td>\n      <td>1/4/99</td>\n      <td>4764960</td>\n    </tr>\n    <tr>\n      <th>449</th>\n      <td>Ricky Rubio</td>\n      <td>Phoenix Suns</td>\n      <td>PG</td>\n      <td>10/21/90</td>\n      <td>16200000</td>\n    </tr>\n  </tbody>\n</table>\n</div>"
     },
     "execution_count": 137,
     "metadata": {},
     "output_type": "execute_result"
    }
   ],
   "source": [
    "nba.tail(n=3)"
   ]
  },
  {
   "cell_type": "code",
   "execution_count": 138,
   "metadata": {
    "ExecuteTime": {
     "end_time": "2023-10-20T16:55:17.242711Z",
     "start_time": "2023-10-20T16:55:15.201484Z"
    }
   },
   "outputs": [
    {
     "data": {
      "text/plain": "              Name                 Team Position  Birthday    Salary\n445  Austin Rivers      Houston Rockets       PG    8/1/92   2174310\n446    Harry Giles     Sacramento Kings       PF   4/22/98   2578800\n447    Robin Lopez      Milwaukee Bucks        C    4/1/88   4767000\n448  Collin Sexton  Cleveland Cavaliers       PG    1/4/99   4764960\n449    Ricky Rubio         Phoenix Suns       PG  10/21/90  16200000",
      "text/html": "<div>\n<style scoped>\n    .dataframe tbody tr th:only-of-type {\n        vertical-align: middle;\n    }\n\n    .dataframe tbody tr th {\n        vertical-align: top;\n    }\n\n    .dataframe thead th {\n        text-align: right;\n    }\n</style>\n<table border=\"1\" class=\"dataframe\">\n  <thead>\n    <tr style=\"text-align: right;\">\n      <th></th>\n      <th>Name</th>\n      <th>Team</th>\n      <th>Position</th>\n      <th>Birthday</th>\n      <th>Salary</th>\n    </tr>\n  </thead>\n  <tbody>\n    <tr>\n      <th>445</th>\n      <td>Austin Rivers</td>\n      <td>Houston Rockets</td>\n      <td>PG</td>\n      <td>8/1/92</td>\n      <td>2174310</td>\n    </tr>\n    <tr>\n      <th>446</th>\n      <td>Harry Giles</td>\n      <td>Sacramento Kings</td>\n      <td>PF</td>\n      <td>4/22/98</td>\n      <td>2578800</td>\n    </tr>\n    <tr>\n      <th>447</th>\n      <td>Robin Lopez</td>\n      <td>Milwaukee Bucks</td>\n      <td>C</td>\n      <td>4/1/88</td>\n      <td>4767000</td>\n    </tr>\n    <tr>\n      <th>448</th>\n      <td>Collin Sexton</td>\n      <td>Cleveland Cavaliers</td>\n      <td>PG</td>\n      <td>1/4/99</td>\n      <td>4764960</td>\n    </tr>\n    <tr>\n      <th>449</th>\n      <td>Ricky Rubio</td>\n      <td>Phoenix Suns</td>\n      <td>PG</td>\n      <td>10/21/90</td>\n      <td>16200000</td>\n    </tr>\n  </tbody>\n</table>\n</div>"
     },
     "execution_count": 138,
     "metadata": {},
     "output_type": "execute_result"
    }
   ],
   "source": [
    "nba.tail()"
   ]
  },
  {
   "cell_type": "code",
   "execution_count": 139,
   "metadata": {
    "ExecuteTime": {
     "end_time": "2023-10-20T16:55:17.243258Z",
     "start_time": "2023-10-20T16:55:15.210129Z"
    }
   },
   "outputs": [
    {
     "data": {
      "text/plain": "               Name           Team Position  Birthday    Salary\n117    Devin Booker   Phoenix Suns       SG  10/30/96  27285000\n167    Allen Crabbe  Atlanta Hawks       SG    4/9/92  18500000\n207  Daniel Gafford  Chicago Bulls        C   10/1/98    898310",
      "text/html": "<div>\n<style scoped>\n    .dataframe tbody tr th:only-of-type {\n        vertical-align: middle;\n    }\n\n    .dataframe tbody tr th {\n        vertical-align: top;\n    }\n\n    .dataframe thead th {\n        text-align: right;\n    }\n</style>\n<table border=\"1\" class=\"dataframe\">\n  <thead>\n    <tr style=\"text-align: right;\">\n      <th></th>\n      <th>Name</th>\n      <th>Team</th>\n      <th>Position</th>\n      <th>Birthday</th>\n      <th>Salary</th>\n    </tr>\n  </thead>\n  <tbody>\n    <tr>\n      <th>117</th>\n      <td>Devin Booker</td>\n      <td>Phoenix Suns</td>\n      <td>SG</td>\n      <td>10/30/96</td>\n      <td>27285000</td>\n    </tr>\n    <tr>\n      <th>167</th>\n      <td>Allen Crabbe</td>\n      <td>Atlanta Hawks</td>\n      <td>SG</td>\n      <td>4/9/92</td>\n      <td>18500000</td>\n    </tr>\n    <tr>\n      <th>207</th>\n      <td>Daniel Gafford</td>\n      <td>Chicago Bulls</td>\n      <td>C</td>\n      <td>10/1/98</td>\n      <td>898310</td>\n    </tr>\n  </tbody>\n</table>\n</div>"
     },
     "execution_count": 139,
     "metadata": {},
     "output_type": "execute_result"
    }
   ],
   "source": [
    "nba.sample(3)"
   ]
  },
  {
   "cell_type": "code",
   "execution_count": 140,
   "metadata": {
    "ExecuteTime": {
     "end_time": "2023-10-20T16:55:17.243617Z",
     "start_time": "2023-10-20T16:55:15.213444Z"
    }
   },
   "outputs": [
    {
     "data": {
      "text/plain": "Name        450\nTeam         30\nPosition      9\nBirthday    430\nSalary      269\ndtype: int64"
     },
     "execution_count": 140,
     "metadata": {},
     "output_type": "execute_result"
    }
   ],
   "source": [
    "nba.nunique()"
   ]
  },
  {
   "cell_type": "code",
   "execution_count": 141,
   "metadata": {
    "ExecuteTime": {
     "end_time": "2023-10-20T16:55:17.278131Z",
     "start_time": "2023-10-20T16:55:15.223390Z"
    }
   },
   "outputs": [
    {
     "data": {
      "text/plain": "Name            Zylan Cheatham\nTeam        Washington Wizards\nPosition                    SG\nBirthday                9/9/93\nSalary                40231758\ndtype: object"
     },
     "execution_count": 141,
     "metadata": {},
     "output_type": "execute_result"
    }
   ],
   "source": [
    "nba.max()"
   ]
  },
  {
   "cell_type": "code",
   "execution_count": 142,
   "metadata": {
    "ExecuteTime": {
     "end_time": "2023-10-20T16:55:17.278521Z",
     "start_time": "2023-10-20T16:55:15.229083Z"
    }
   },
   "outputs": [
    {
     "data": {
      "text/plain": "Name         Aaron Gordon\nTeam        Atlanta Hawks\nPosition                C\nBirthday          1/10/98\nSalary              79568\ndtype: object"
     },
     "execution_count": 142,
     "metadata": {},
     "output_type": "execute_result"
    }
   ],
   "source": [
    "nba.min()"
   ]
  },
  {
   "cell_type": "code",
   "execution_count": 143,
   "metadata": {
    "ExecuteTime": {
     "end_time": "2023-10-20T16:55:17.337186Z",
     "start_time": "2023-10-20T16:55:15.233287Z"
    }
   },
   "outputs": [
    {
     "data": {
      "text/plain": "                  Name                   Team Position  Birthday    Salary\n205      Stephen Curry  Golden State Warriors       PG   3/14/88  40231758\n38          Chris Paul  Oklahoma City Thunder       PG    5/6/85  38506482\n219  Russell Westbrook        Houston Rockets       PG  11/12/88  38506482\n251          John Wall     Washington Wizards       PG    9/6/90  38199000",
      "text/html": "<div>\n<style scoped>\n    .dataframe tbody tr th:only-of-type {\n        vertical-align: middle;\n    }\n\n    .dataframe tbody tr th {\n        vertical-align: top;\n    }\n\n    .dataframe thead th {\n        text-align: right;\n    }\n</style>\n<table border=\"1\" class=\"dataframe\">\n  <thead>\n    <tr style=\"text-align: right;\">\n      <th></th>\n      <th>Name</th>\n      <th>Team</th>\n      <th>Position</th>\n      <th>Birthday</th>\n      <th>Salary</th>\n    </tr>\n  </thead>\n  <tbody>\n    <tr>\n      <th>205</th>\n      <td>Stephen Curry</td>\n      <td>Golden State Warriors</td>\n      <td>PG</td>\n      <td>3/14/88</td>\n      <td>40231758</td>\n    </tr>\n    <tr>\n      <th>38</th>\n      <td>Chris Paul</td>\n      <td>Oklahoma City Thunder</td>\n      <td>PG</td>\n      <td>5/6/85</td>\n      <td>38506482</td>\n    </tr>\n    <tr>\n      <th>219</th>\n      <td>Russell Westbrook</td>\n      <td>Houston Rockets</td>\n      <td>PG</td>\n      <td>11/12/88</td>\n      <td>38506482</td>\n    </tr>\n    <tr>\n      <th>251</th>\n      <td>John Wall</td>\n      <td>Washington Wizards</td>\n      <td>PG</td>\n      <td>9/6/90</td>\n      <td>38199000</td>\n    </tr>\n  </tbody>\n</table>\n</div>"
     },
     "execution_count": 143,
     "metadata": {},
     "output_type": "execute_result"
    }
   ],
   "source": [
    "nba.nlargest(n=4, columns=\"Salary\")"
   ]
  },
  {
   "cell_type": "code",
   "execution_count": 144,
   "metadata": {
    "ExecuteTime": {
     "end_time": "2023-10-20T16:55:17.337535Z",
     "start_time": "2023-10-20T16:55:15.243513Z"
    }
   },
   "outputs": [
    {
     "data": {
      "text/plain": "Salary    3444112694\ndtype: int64"
     },
     "execution_count": 144,
     "metadata": {},
     "output_type": "execute_result"
    }
   ],
   "source": [
    "nba.sum(numeric_only=True)"
   ]
  },
  {
   "cell_type": "code",
   "execution_count": 145,
   "metadata": {
    "ExecuteTime": {
     "end_time": "2023-10-20T16:55:17.337818Z",
     "start_time": "2023-10-20T16:55:15.249062Z"
    }
   },
   "outputs": [
    {
     "data": {
      "text/plain": "Salary    7.653584e+06\ndtype: float64"
     },
     "execution_count": 145,
     "metadata": {},
     "output_type": "execute_result"
    }
   ],
   "source": [
    "nba.mean(numeric_only=True)"
   ]
  },
  {
   "cell_type": "code",
   "execution_count": 146,
   "metadata": {
    "ExecuteTime": {
     "end_time": "2023-10-20T16:55:17.338118Z",
     "start_time": "2023-10-20T16:55:15.253040Z"
    }
   },
   "outputs": [
    {
     "data": {
      "text/plain": "Salary    3303074.5\ndtype: float64"
     },
     "execution_count": 146,
     "metadata": {},
     "output_type": "execute_result"
    }
   ],
   "source": [
    "nba.median(numeric_only=True)"
   ]
  },
  {
   "cell_type": "code",
   "execution_count": 147,
   "metadata": {
    "ExecuteTime": {
     "end_time": "2023-10-20T16:55:17.338475Z",
     "start_time": "2023-10-20T16:55:15.260984Z"
    }
   },
   "outputs": [
    {
     "data": {
      "text/plain": "   Salary\n0   79568",
      "text/html": "<div>\n<style scoped>\n    .dataframe tbody tr th:only-of-type {\n        vertical-align: middle;\n    }\n\n    .dataframe tbody tr th {\n        vertical-align: top;\n    }\n\n    .dataframe thead th {\n        text-align: right;\n    }\n</style>\n<table border=\"1\" class=\"dataframe\">\n  <thead>\n    <tr style=\"text-align: right;\">\n      <th></th>\n      <th>Salary</th>\n    </tr>\n  </thead>\n  <tbody>\n    <tr>\n      <th>0</th>\n      <td>79568</td>\n    </tr>\n  </tbody>\n</table>\n</div>"
     },
     "execution_count": 147,
     "metadata": {},
     "output_type": "execute_result"
    }
   ],
   "source": [
    "nba.mode(numeric_only=True)"
   ]
  },
  {
   "cell_type": "code",
   "execution_count": 148,
   "metadata": {
    "ExecuteTime": {
     "end_time": "2023-10-20T16:55:17.373176Z",
     "start_time": "2023-10-20T16:55:15.266699Z"
    }
   },
   "outputs": [
    {
     "data": {
      "text/plain": "Salary    9.288810e+06\ndtype: float64"
     },
     "execution_count": 148,
     "metadata": {},
     "output_type": "execute_result"
    }
   ],
   "source": [
    "nba.std(numeric_only=True)"
   ]
  },
  {
   "cell_type": "markdown",
   "metadata": {},
   "source": [
    "## 4.3 Sorting a DataFrame"
   ]
  },
  {
   "cell_type": "markdown",
   "metadata": {},
   "source": [
    "### Sorting by Single Column"
   ]
  },
  {
   "cell_type": "code",
   "execution_count": 149,
   "metadata": {
    "ExecuteTime": {
     "end_time": "2023-10-20T16:55:17.373860Z",
     "start_time": "2023-10-20T16:55:15.277236Z"
    }
   },
   "outputs": [
    {
     "data": {
      "text/plain": "                  Name                   Team Position  Birthday    Salary\n52        Aaron Gordon          Orlando Magic       PF   9/16/95  19863636\n101      Aaron Holiday         Indiana Pacers       PG   9/30/96   2239200\n437        Abdel Nader  Oklahoma City Thunder       SF   9/25/93   1618520\n81         Adam Mokoka          Chicago Bulls        G   7/18/98     79568\n399  Admiral Schofield     Washington Wizards       SF   3/30/97   1000000\n..                 ...                    ...      ...       ...       ...\n159        Zach LaVine          Chicago Bulls       PG   3/10/95  19500000\n302       Zach Norvell     Los Angeles Lakers       SG   12/9/97     79568\n312       Zhaire Smith     Philadelphia 76ers       SG    6/4/99   3058800\n137    Zion Williamson   New Orleans Pelicans        F    7/6/00   9757440\n248     Zylan Cheatham   New Orleans Pelicans       SF  11/17/95     79568\n\n[450 rows x 5 columns]",
      "text/html": "<div>\n<style scoped>\n    .dataframe tbody tr th:only-of-type {\n        vertical-align: middle;\n    }\n\n    .dataframe tbody tr th {\n        vertical-align: top;\n    }\n\n    .dataframe thead th {\n        text-align: right;\n    }\n</style>\n<table border=\"1\" class=\"dataframe\">\n  <thead>\n    <tr style=\"text-align: right;\">\n      <th></th>\n      <th>Name</th>\n      <th>Team</th>\n      <th>Position</th>\n      <th>Birthday</th>\n      <th>Salary</th>\n    </tr>\n  </thead>\n  <tbody>\n    <tr>\n      <th>52</th>\n      <td>Aaron Gordon</td>\n      <td>Orlando Magic</td>\n      <td>PF</td>\n      <td>9/16/95</td>\n      <td>19863636</td>\n    </tr>\n    <tr>\n      <th>101</th>\n      <td>Aaron Holiday</td>\n      <td>Indiana Pacers</td>\n      <td>PG</td>\n      <td>9/30/96</td>\n      <td>2239200</td>\n    </tr>\n    <tr>\n      <th>437</th>\n      <td>Abdel Nader</td>\n      <td>Oklahoma City Thunder</td>\n      <td>SF</td>\n      <td>9/25/93</td>\n      <td>1618520</td>\n    </tr>\n    <tr>\n      <th>81</th>\n      <td>Adam Mokoka</td>\n      <td>Chicago Bulls</td>\n      <td>G</td>\n      <td>7/18/98</td>\n      <td>79568</td>\n    </tr>\n    <tr>\n      <th>399</th>\n      <td>Admiral Schofield</td>\n      <td>Washington Wizards</td>\n      <td>SF</td>\n      <td>3/30/97</td>\n      <td>1000000</td>\n    </tr>\n    <tr>\n      <th>...</th>\n      <td>...</td>\n      <td>...</td>\n      <td>...</td>\n      <td>...</td>\n      <td>...</td>\n    </tr>\n    <tr>\n      <th>159</th>\n      <td>Zach LaVine</td>\n      <td>Chicago Bulls</td>\n      <td>PG</td>\n      <td>3/10/95</td>\n      <td>19500000</td>\n    </tr>\n    <tr>\n      <th>302</th>\n      <td>Zach Norvell</td>\n      <td>Los Angeles Lakers</td>\n      <td>SG</td>\n      <td>12/9/97</td>\n      <td>79568</td>\n    </tr>\n    <tr>\n      <th>312</th>\n      <td>Zhaire Smith</td>\n      <td>Philadelphia 76ers</td>\n      <td>SG</td>\n      <td>6/4/99</td>\n      <td>3058800</td>\n    </tr>\n    <tr>\n      <th>137</th>\n      <td>Zion Williamson</td>\n      <td>New Orleans Pelicans</td>\n      <td>F</td>\n      <td>7/6/00</td>\n      <td>9757440</td>\n    </tr>\n    <tr>\n      <th>248</th>\n      <td>Zylan Cheatham</td>\n      <td>New Orleans Pelicans</td>\n      <td>SF</td>\n      <td>11/17/95</td>\n      <td>79568</td>\n    </tr>\n  </tbody>\n</table>\n<p>450 rows × 5 columns</p>\n</div>"
     },
     "execution_count": 149,
     "metadata": {},
     "output_type": "execute_result"
    }
   ],
   "source": [
    "# The two lines below are equivalent\n",
    "nba.sort_values(\"Name\")\n",
    "nba.sort_values(by=\"Name\")"
   ]
  },
  {
   "cell_type": "code",
   "execution_count": 150,
   "metadata": {
    "ExecuteTime": {
     "end_time": "2023-10-20T16:55:17.379760Z",
     "start_time": "2023-10-20T16:55:15.290047Z"
    }
   },
   "outputs": [
    {
     "data": {
      "text/plain": "                Name                  Team Position  Birthday    Salary\n248   Zylan Cheatham  New Orleans Pelicans       SF  11/17/95     79568\n137  Zion Williamson  New Orleans Pelicans        F    7/6/00   9757440\n312     Zhaire Smith    Philadelphia 76ers       SG    6/4/99   3058800\n302     Zach Norvell    Los Angeles Lakers       SG   12/9/97     79568\n159      Zach LaVine         Chicago Bulls       PG   3/10/95  19500000",
      "text/html": "<div>\n<style scoped>\n    .dataframe tbody tr th:only-of-type {\n        vertical-align: middle;\n    }\n\n    .dataframe tbody tr th {\n        vertical-align: top;\n    }\n\n    .dataframe thead th {\n        text-align: right;\n    }\n</style>\n<table border=\"1\" class=\"dataframe\">\n  <thead>\n    <tr style=\"text-align: right;\">\n      <th></th>\n      <th>Name</th>\n      <th>Team</th>\n      <th>Position</th>\n      <th>Birthday</th>\n      <th>Salary</th>\n    </tr>\n  </thead>\n  <tbody>\n    <tr>\n      <th>248</th>\n      <td>Zylan Cheatham</td>\n      <td>New Orleans Pelicans</td>\n      <td>SF</td>\n      <td>11/17/95</td>\n      <td>79568</td>\n    </tr>\n    <tr>\n      <th>137</th>\n      <td>Zion Williamson</td>\n      <td>New Orleans Pelicans</td>\n      <td>F</td>\n      <td>7/6/00</td>\n      <td>9757440</td>\n    </tr>\n    <tr>\n      <th>312</th>\n      <td>Zhaire Smith</td>\n      <td>Philadelphia 76ers</td>\n      <td>SG</td>\n      <td>6/4/99</td>\n      <td>3058800</td>\n    </tr>\n    <tr>\n      <th>302</th>\n      <td>Zach Norvell</td>\n      <td>Los Angeles Lakers</td>\n      <td>SG</td>\n      <td>12/9/97</td>\n      <td>79568</td>\n    </tr>\n    <tr>\n      <th>159</th>\n      <td>Zach LaVine</td>\n      <td>Chicago Bulls</td>\n      <td>PG</td>\n      <td>3/10/95</td>\n      <td>19500000</td>\n    </tr>\n  </tbody>\n</table>\n</div>"
     },
     "execution_count": 150,
     "metadata": {},
     "output_type": "execute_result"
    }
   ],
   "source": [
    "nba.sort_values(\"Name\", ascending=False).head()"
   ]
  },
  {
   "cell_type": "code",
   "execution_count": 151,
   "metadata": {
    "ExecuteTime": {
     "end_time": "2023-10-20T16:55:17.449727Z",
     "start_time": "2023-10-20T16:55:15.298469Z"
    }
   },
   "outputs": [
    {
     "data": {
      "text/plain": "                    Name                  Team Position Birthday    Salary\n383            Josh Gray  New Orleans Pelicans       PG   9/9/93     79568\n310  Matthew Dellavedova   Cleveland Cavaliers       PG   9/8/90   9607500\n376     Donovan Mitchell             Utah Jazz       SG   9/7/96   3635760\n71            Kevin Love   Cleveland Cavaliers        C   9/7/88  28942830\n89            Joe Harris         Brooklyn Nets       SF   9/6/91   7666667",
      "text/html": "<div>\n<style scoped>\n    .dataframe tbody tr th:only-of-type {\n        vertical-align: middle;\n    }\n\n    .dataframe tbody tr th {\n        vertical-align: top;\n    }\n\n    .dataframe thead th {\n        text-align: right;\n    }\n</style>\n<table border=\"1\" class=\"dataframe\">\n  <thead>\n    <tr style=\"text-align: right;\">\n      <th></th>\n      <th>Name</th>\n      <th>Team</th>\n      <th>Position</th>\n      <th>Birthday</th>\n      <th>Salary</th>\n    </tr>\n  </thead>\n  <tbody>\n    <tr>\n      <th>383</th>\n      <td>Josh Gray</td>\n      <td>New Orleans Pelicans</td>\n      <td>PG</td>\n      <td>9/9/93</td>\n      <td>79568</td>\n    </tr>\n    <tr>\n      <th>310</th>\n      <td>Matthew Dellavedova</td>\n      <td>Cleveland Cavaliers</td>\n      <td>PG</td>\n      <td>9/8/90</td>\n      <td>9607500</td>\n    </tr>\n    <tr>\n      <th>376</th>\n      <td>Donovan Mitchell</td>\n      <td>Utah Jazz</td>\n      <td>SG</td>\n      <td>9/7/96</td>\n      <td>3635760</td>\n    </tr>\n    <tr>\n      <th>71</th>\n      <td>Kevin Love</td>\n      <td>Cleveland Cavaliers</td>\n      <td>C</td>\n      <td>9/7/88</td>\n      <td>28942830</td>\n    </tr>\n    <tr>\n      <th>89</th>\n      <td>Joe Harris</td>\n      <td>Brooklyn Nets</td>\n      <td>SF</td>\n      <td>9/6/91</td>\n      <td>7666667</td>\n    </tr>\n  </tbody>\n</table>\n</div>"
     },
     "execution_count": 151,
     "metadata": {},
     "output_type": "execute_result"
    }
   ],
   "source": [
    "nba.sort_values(\"Birthday\", ascending=False).head()"
   ]
  },
  {
   "cell_type": "markdown",
   "metadata": {},
   "source": [
    "### 4.3.2 Sorting by Multiple Columns"
   ]
  },
  {
   "cell_type": "code",
   "execution_count": 152,
   "metadata": {
    "ExecuteTime": {
     "end_time": "2023-10-20T16:55:17.450355Z",
     "start_time": "2023-10-20T16:55:15.303874Z"
    }
   },
   "outputs": [
    {
     "data": {
      "text/plain": "                Name                Team Position  Birthday    Salary\n359         Alex Len       Atlanta Hawks        C   6/16/93   4160000\n167     Allen Crabbe       Atlanta Hawks       SG    4/9/92  18500000\n276  Brandon Goodwin       Atlanta Hawks       PG   10/2/95     79568\n438   Bruno Fernando       Atlanta Hawks        C   8/15/98   1400000\n194      Cam Reddish       Atlanta Hawks       SF    9/1/99   4245720\n..               ...                 ...      ...       ...       ...\n418     Jordan McRae  Washington Wizards       PG   3/28/91   1645357\n273  Justin Robinson  Washington Wizards       PG  10/12/97    898310\n428    Moritz Wagner  Washington Wizards        C   4/26/97   2063520\n21     Rui Hachimura  Washington Wizards       PF    2/8/98   4469160\n36     Thomas Bryant  Washington Wizards        C   7/31/97   8000000\n\n[450 rows x 5 columns]",
      "text/html": "<div>\n<style scoped>\n    .dataframe tbody tr th:only-of-type {\n        vertical-align: middle;\n    }\n\n    .dataframe tbody tr th {\n        vertical-align: top;\n    }\n\n    .dataframe thead th {\n        text-align: right;\n    }\n</style>\n<table border=\"1\" class=\"dataframe\">\n  <thead>\n    <tr style=\"text-align: right;\">\n      <th></th>\n      <th>Name</th>\n      <th>Team</th>\n      <th>Position</th>\n      <th>Birthday</th>\n      <th>Salary</th>\n    </tr>\n  </thead>\n  <tbody>\n    <tr>\n      <th>359</th>\n      <td>Alex Len</td>\n      <td>Atlanta Hawks</td>\n      <td>C</td>\n      <td>6/16/93</td>\n      <td>4160000</td>\n    </tr>\n    <tr>\n      <th>167</th>\n      <td>Allen Crabbe</td>\n      <td>Atlanta Hawks</td>\n      <td>SG</td>\n      <td>4/9/92</td>\n      <td>18500000</td>\n    </tr>\n    <tr>\n      <th>276</th>\n      <td>Brandon Goodwin</td>\n      <td>Atlanta Hawks</td>\n      <td>PG</td>\n      <td>10/2/95</td>\n      <td>79568</td>\n    </tr>\n    <tr>\n      <th>438</th>\n      <td>Bruno Fernando</td>\n      <td>Atlanta Hawks</td>\n      <td>C</td>\n      <td>8/15/98</td>\n      <td>1400000</td>\n    </tr>\n    <tr>\n      <th>194</th>\n      <td>Cam Reddish</td>\n      <td>Atlanta Hawks</td>\n      <td>SF</td>\n      <td>9/1/99</td>\n      <td>4245720</td>\n    </tr>\n    <tr>\n      <th>...</th>\n      <td>...</td>\n      <td>...</td>\n      <td>...</td>\n      <td>...</td>\n      <td>...</td>\n    </tr>\n    <tr>\n      <th>418</th>\n      <td>Jordan McRae</td>\n      <td>Washington Wizards</td>\n      <td>PG</td>\n      <td>3/28/91</td>\n      <td>1645357</td>\n    </tr>\n    <tr>\n      <th>273</th>\n      <td>Justin Robinson</td>\n      <td>Washington Wizards</td>\n      <td>PG</td>\n      <td>10/12/97</td>\n      <td>898310</td>\n    </tr>\n    <tr>\n      <th>428</th>\n      <td>Moritz Wagner</td>\n      <td>Washington Wizards</td>\n      <td>C</td>\n      <td>4/26/97</td>\n      <td>2063520</td>\n    </tr>\n    <tr>\n      <th>21</th>\n      <td>Rui Hachimura</td>\n      <td>Washington Wizards</td>\n      <td>PF</td>\n      <td>2/8/98</td>\n      <td>4469160</td>\n    </tr>\n    <tr>\n      <th>36</th>\n      <td>Thomas Bryant</td>\n      <td>Washington Wizards</td>\n      <td>C</td>\n      <td>7/31/97</td>\n      <td>8000000</td>\n    </tr>\n  </tbody>\n</table>\n<p>450 rows × 5 columns</p>\n</div>"
     },
     "execution_count": 152,
     "metadata": {},
     "output_type": "execute_result"
    }
   ],
   "source": [
    "nba.sort_values(by=[\"Team\", \"Name\"])"
   ]
  },
  {
   "cell_type": "code",
   "execution_count": 153,
   "metadata": {
    "ExecuteTime": {
     "end_time": "2023-10-20T16:55:17.450921Z",
     "start_time": "2023-10-20T16:55:15.314078Z"
    }
   },
   "outputs": [
    {
     "data": {
      "text/plain": "                Name                Team Position  Birthday    Salary\n36     Thomas Bryant  Washington Wizards        C   7/31/97   8000000\n21     Rui Hachimura  Washington Wizards       PF    2/8/98   4469160\n428    Moritz Wagner  Washington Wizards        C   4/26/97   2063520\n273  Justin Robinson  Washington Wizards       PG  10/12/97    898310\n418     Jordan McRae  Washington Wizards       PG   3/28/91   1645357\n..               ...                 ...      ...       ...       ...\n194      Cam Reddish       Atlanta Hawks       SF    9/1/99   4245720\n438   Bruno Fernando       Atlanta Hawks        C   8/15/98   1400000\n276  Brandon Goodwin       Atlanta Hawks       PG   10/2/95     79568\n167     Allen Crabbe       Atlanta Hawks       SG    4/9/92  18500000\n359         Alex Len       Atlanta Hawks        C   6/16/93   4160000\n\n[450 rows x 5 columns]",
      "text/html": "<div>\n<style scoped>\n    .dataframe tbody tr th:only-of-type {\n        vertical-align: middle;\n    }\n\n    .dataframe tbody tr th {\n        vertical-align: top;\n    }\n\n    .dataframe thead th {\n        text-align: right;\n    }\n</style>\n<table border=\"1\" class=\"dataframe\">\n  <thead>\n    <tr style=\"text-align: right;\">\n      <th></th>\n      <th>Name</th>\n      <th>Team</th>\n      <th>Position</th>\n      <th>Birthday</th>\n      <th>Salary</th>\n    </tr>\n  </thead>\n  <tbody>\n    <tr>\n      <th>36</th>\n      <td>Thomas Bryant</td>\n      <td>Washington Wizards</td>\n      <td>C</td>\n      <td>7/31/97</td>\n      <td>8000000</td>\n    </tr>\n    <tr>\n      <th>21</th>\n      <td>Rui Hachimura</td>\n      <td>Washington Wizards</td>\n      <td>PF</td>\n      <td>2/8/98</td>\n      <td>4469160</td>\n    </tr>\n    <tr>\n      <th>428</th>\n      <td>Moritz Wagner</td>\n      <td>Washington Wizards</td>\n      <td>C</td>\n      <td>4/26/97</td>\n      <td>2063520</td>\n    </tr>\n    <tr>\n      <th>273</th>\n      <td>Justin Robinson</td>\n      <td>Washington Wizards</td>\n      <td>PG</td>\n      <td>10/12/97</td>\n      <td>898310</td>\n    </tr>\n    <tr>\n      <th>418</th>\n      <td>Jordan McRae</td>\n      <td>Washington Wizards</td>\n      <td>PG</td>\n      <td>3/28/91</td>\n      <td>1645357</td>\n    </tr>\n    <tr>\n      <th>...</th>\n      <td>...</td>\n      <td>...</td>\n      <td>...</td>\n      <td>...</td>\n      <td>...</td>\n    </tr>\n    <tr>\n      <th>194</th>\n      <td>Cam Reddish</td>\n      <td>Atlanta Hawks</td>\n      <td>SF</td>\n      <td>9/1/99</td>\n      <td>4245720</td>\n    </tr>\n    <tr>\n      <th>438</th>\n      <td>Bruno Fernando</td>\n      <td>Atlanta Hawks</td>\n      <td>C</td>\n      <td>8/15/98</td>\n      <td>1400000</td>\n    </tr>\n    <tr>\n      <th>276</th>\n      <td>Brandon Goodwin</td>\n      <td>Atlanta Hawks</td>\n      <td>PG</td>\n      <td>10/2/95</td>\n      <td>79568</td>\n    </tr>\n    <tr>\n      <th>167</th>\n      <td>Allen Crabbe</td>\n      <td>Atlanta Hawks</td>\n      <td>SG</td>\n      <td>4/9/92</td>\n      <td>18500000</td>\n    </tr>\n    <tr>\n      <th>359</th>\n      <td>Alex Len</td>\n      <td>Atlanta Hawks</td>\n      <td>C</td>\n      <td>6/16/93</td>\n      <td>4160000</td>\n    </tr>\n  </tbody>\n</table>\n<p>450 rows × 5 columns</p>\n</div>"
     },
     "execution_count": 153,
     "metadata": {},
     "output_type": "execute_result"
    }
   ],
   "source": [
    "nba.sort_values([\"Team\", \"Name\"], ascending=False)"
   ]
  },
  {
   "cell_type": "code",
   "execution_count": 154,
   "metadata": {
    "ExecuteTime": {
     "end_time": "2023-10-20T16:55:17.572065Z",
     "start_time": "2023-10-20T16:55:15.324808Z"
    }
   },
   "outputs": [
    {
     "data": {
      "text/plain": "                  Name                Team Position  Birthday    Salary\n111   Chandler Parsons       Atlanta Hawks       SF  10/25/88  25102512\n28         Evan Turner       Atlanta Hawks       PG  10/27/88  18606556\n167       Allen Crabbe       Atlanta Hawks       SG    4/9/92  18500000\n213    De'Andre Hunter       Atlanta Hawks       SF   12/2/97   7068360\n339      Jabari Parker       Atlanta Hawks       PF   3/15/95   6500000\n..                 ...                 ...      ...       ...       ...\n80         Isaac Bonga  Washington Wizards       PG   11/8/99   1416852\n399  Admiral Schofield  Washington Wizards       SF   3/30/97   1000000\n273    Justin Robinson  Washington Wizards       PG  10/12/97    898310\n283   Garrison Mathews  Washington Wizards       SG  10/24/96     79568\n353      Chris Chiozza  Washington Wizards       PG  11/21/95     79568\n\n[450 rows x 5 columns]",
      "text/html": "<div>\n<style scoped>\n    .dataframe tbody tr th:only-of-type {\n        vertical-align: middle;\n    }\n\n    .dataframe tbody tr th {\n        vertical-align: top;\n    }\n\n    .dataframe thead th {\n        text-align: right;\n    }\n</style>\n<table border=\"1\" class=\"dataframe\">\n  <thead>\n    <tr style=\"text-align: right;\">\n      <th></th>\n      <th>Name</th>\n      <th>Team</th>\n      <th>Position</th>\n      <th>Birthday</th>\n      <th>Salary</th>\n    </tr>\n  </thead>\n  <tbody>\n    <tr>\n      <th>111</th>\n      <td>Chandler Parsons</td>\n      <td>Atlanta Hawks</td>\n      <td>SF</td>\n      <td>10/25/88</td>\n      <td>25102512</td>\n    </tr>\n    <tr>\n      <th>28</th>\n      <td>Evan Turner</td>\n      <td>Atlanta Hawks</td>\n      <td>PG</td>\n      <td>10/27/88</td>\n      <td>18606556</td>\n    </tr>\n    <tr>\n      <th>167</th>\n      <td>Allen Crabbe</td>\n      <td>Atlanta Hawks</td>\n      <td>SG</td>\n      <td>4/9/92</td>\n      <td>18500000</td>\n    </tr>\n    <tr>\n      <th>213</th>\n      <td>De'Andre Hunter</td>\n      <td>Atlanta Hawks</td>\n      <td>SF</td>\n      <td>12/2/97</td>\n      <td>7068360</td>\n    </tr>\n    <tr>\n      <th>339</th>\n      <td>Jabari Parker</td>\n      <td>Atlanta Hawks</td>\n      <td>PF</td>\n      <td>3/15/95</td>\n      <td>6500000</td>\n    </tr>\n    <tr>\n      <th>...</th>\n      <td>...</td>\n      <td>...</td>\n      <td>...</td>\n      <td>...</td>\n      <td>...</td>\n    </tr>\n    <tr>\n      <th>80</th>\n      <td>Isaac Bonga</td>\n      <td>Washington Wizards</td>\n      <td>PG</td>\n      <td>11/8/99</td>\n      <td>1416852</td>\n    </tr>\n    <tr>\n      <th>399</th>\n      <td>Admiral Schofield</td>\n      <td>Washington Wizards</td>\n      <td>SF</td>\n      <td>3/30/97</td>\n      <td>1000000</td>\n    </tr>\n    <tr>\n      <th>273</th>\n      <td>Justin Robinson</td>\n      <td>Washington Wizards</td>\n      <td>PG</td>\n      <td>10/12/97</td>\n      <td>898310</td>\n    </tr>\n    <tr>\n      <th>283</th>\n      <td>Garrison Mathews</td>\n      <td>Washington Wizards</td>\n      <td>SG</td>\n      <td>10/24/96</td>\n      <td>79568</td>\n    </tr>\n    <tr>\n      <th>353</th>\n      <td>Chris Chiozza</td>\n      <td>Washington Wizards</td>\n      <td>PG</td>\n      <td>11/21/95</td>\n      <td>79568</td>\n    </tr>\n  </tbody>\n</table>\n<p>450 rows × 5 columns</p>\n</div>"
     },
     "execution_count": 154,
     "metadata": {},
     "output_type": "execute_result"
    }
   ],
   "source": [
    "nba.sort_values(\n",
    "    by=[\"Team\", \"Salary\"], ascending=[True, False]\n",
    ")"
   ]
  },
  {
   "cell_type": "code",
   "execution_count": 155,
   "metadata": {
    "ExecuteTime": {
     "end_time": "2023-10-20T16:55:17.572243Z",
     "start_time": "2023-10-20T16:55:15.335732Z"
    }
   },
   "outputs": [],
   "source": [
    "nba = nba.sort_values(\n",
    "    by=[\"Team\", \"Salary\"],\n",
    "    ascending=[True, False]\n",
    ")"
   ]
  },
  {
   "cell_type": "markdown",
   "metadata": {},
   "source": [
    "## Sorting by Index"
   ]
  },
  {
   "cell_type": "code",
   "execution_count": 156,
   "metadata": {
    "ExecuteTime": {
     "end_time": "2023-10-20T16:55:17.690746Z",
     "start_time": "2023-10-20T16:55:15.338667Z"
    }
   },
   "outputs": [
    {
     "data": {
      "text/plain": "                 Name           Team Position  Birthday    Salary\n111  Chandler Parsons  Atlanta Hawks       SF  10/25/88  25102512\n28        Evan Turner  Atlanta Hawks       PG  10/27/88  18606556\n167      Allen Crabbe  Atlanta Hawks       SG    4/9/92  18500000\n213   De'Andre Hunter  Atlanta Hawks       SF   12/2/97   7068360\n339     Jabari Parker  Atlanta Hawks       PF   3/15/95   6500000",
      "text/html": "<div>\n<style scoped>\n    .dataframe tbody tr th:only-of-type {\n        vertical-align: middle;\n    }\n\n    .dataframe tbody tr th {\n        vertical-align: top;\n    }\n\n    .dataframe thead th {\n        text-align: right;\n    }\n</style>\n<table border=\"1\" class=\"dataframe\">\n  <thead>\n    <tr style=\"text-align: right;\">\n      <th></th>\n      <th>Name</th>\n      <th>Team</th>\n      <th>Position</th>\n      <th>Birthday</th>\n      <th>Salary</th>\n    </tr>\n  </thead>\n  <tbody>\n    <tr>\n      <th>111</th>\n      <td>Chandler Parsons</td>\n      <td>Atlanta Hawks</td>\n      <td>SF</td>\n      <td>10/25/88</td>\n      <td>25102512</td>\n    </tr>\n    <tr>\n      <th>28</th>\n      <td>Evan Turner</td>\n      <td>Atlanta Hawks</td>\n      <td>PG</td>\n      <td>10/27/88</td>\n      <td>18606556</td>\n    </tr>\n    <tr>\n      <th>167</th>\n      <td>Allen Crabbe</td>\n      <td>Atlanta Hawks</td>\n      <td>SG</td>\n      <td>4/9/92</td>\n      <td>18500000</td>\n    </tr>\n    <tr>\n      <th>213</th>\n      <td>De'Andre Hunter</td>\n      <td>Atlanta Hawks</td>\n      <td>SF</td>\n      <td>12/2/97</td>\n      <td>7068360</td>\n    </tr>\n    <tr>\n      <th>339</th>\n      <td>Jabari Parker</td>\n      <td>Atlanta Hawks</td>\n      <td>PF</td>\n      <td>3/15/95</td>\n      <td>6500000</td>\n    </tr>\n  </tbody>\n</table>\n</div>"
     },
     "execution_count": 156,
     "metadata": {},
     "output_type": "execute_result"
    }
   ],
   "source": [
    "nba.head()"
   ]
  },
  {
   "cell_type": "markdown",
   "metadata": {},
   "source": [
    "### Sorting by Row Index"
   ]
  },
  {
   "cell_type": "code",
   "execution_count": 157,
   "metadata": {
    "ExecuteTime": {
     "end_time": "2023-10-20T16:55:17.691291Z",
     "start_time": "2023-10-20T16:55:15.348108Z"
    }
   },
   "outputs": [
    {
     "data": {
      "text/plain": "             Name                Team Position Birthday   Salary\n0    Shake Milton  Philadelphia 76ers       SG  9/26/96  1445697\n1  Christian Wood     Detroit Pistons       PF  9/27/95  1645357\n2   PJ Washington   Charlotte Hornets       PF  8/23/98  3831840\n3    Derrick Rose     Detroit Pistons       PG  10/4/88  7317074\n4   Marial Shayok  Philadelphia 76ers        G  7/26/95    79568",
      "text/html": "<div>\n<style scoped>\n    .dataframe tbody tr th:only-of-type {\n        vertical-align: middle;\n    }\n\n    .dataframe tbody tr th {\n        vertical-align: top;\n    }\n\n    .dataframe thead th {\n        text-align: right;\n    }\n</style>\n<table border=\"1\" class=\"dataframe\">\n  <thead>\n    <tr style=\"text-align: right;\">\n      <th></th>\n      <th>Name</th>\n      <th>Team</th>\n      <th>Position</th>\n      <th>Birthday</th>\n      <th>Salary</th>\n    </tr>\n  </thead>\n  <tbody>\n    <tr>\n      <th>0</th>\n      <td>Shake Milton</td>\n      <td>Philadelphia 76ers</td>\n      <td>SG</td>\n      <td>9/26/96</td>\n      <td>1445697</td>\n    </tr>\n    <tr>\n      <th>1</th>\n      <td>Christian Wood</td>\n      <td>Detroit Pistons</td>\n      <td>PF</td>\n      <td>9/27/95</td>\n      <td>1645357</td>\n    </tr>\n    <tr>\n      <th>2</th>\n      <td>PJ Washington</td>\n      <td>Charlotte Hornets</td>\n      <td>PF</td>\n      <td>8/23/98</td>\n      <td>3831840</td>\n    </tr>\n    <tr>\n      <th>3</th>\n      <td>Derrick Rose</td>\n      <td>Detroit Pistons</td>\n      <td>PG</td>\n      <td>10/4/88</td>\n      <td>7317074</td>\n    </tr>\n    <tr>\n      <th>4</th>\n      <td>Marial Shayok</td>\n      <td>Philadelphia 76ers</td>\n      <td>G</td>\n      <td>7/26/95</td>\n      <td>79568</td>\n    </tr>\n  </tbody>\n</table>\n</div>"
     },
     "execution_count": 157,
     "metadata": {},
     "output_type": "execute_result"
    }
   ],
   "source": [
    "# The two lines below are equivalent\n",
    "nba.sort_index().head()\n",
    "nba.sort_index(ascending=True).head()"
   ]
  },
  {
   "cell_type": "code",
   "execution_count": 158,
   "metadata": {
    "ExecuteTime": {
     "end_time": "2023-10-20T16:55:17.908Z",
     "start_time": "2023-10-20T16:55:15.355157Z"
    }
   },
   "outputs": [
    {
     "data": {
      "text/plain": "              Name                 Team Position  Birthday    Salary\n449    Ricky Rubio         Phoenix Suns       PG  10/21/90  16200000\n448  Collin Sexton  Cleveland Cavaliers       PG    1/4/99   4764960\n447    Robin Lopez      Milwaukee Bucks        C    4/1/88   4767000\n446    Harry Giles     Sacramento Kings       PF   4/22/98   2578800\n445  Austin Rivers      Houston Rockets       PG    8/1/92   2174310",
      "text/html": "<div>\n<style scoped>\n    .dataframe tbody tr th:only-of-type {\n        vertical-align: middle;\n    }\n\n    .dataframe tbody tr th {\n        vertical-align: top;\n    }\n\n    .dataframe thead th {\n        text-align: right;\n    }\n</style>\n<table border=\"1\" class=\"dataframe\">\n  <thead>\n    <tr style=\"text-align: right;\">\n      <th></th>\n      <th>Name</th>\n      <th>Team</th>\n      <th>Position</th>\n      <th>Birthday</th>\n      <th>Salary</th>\n    </tr>\n  </thead>\n  <tbody>\n    <tr>\n      <th>449</th>\n      <td>Ricky Rubio</td>\n      <td>Phoenix Suns</td>\n      <td>PG</td>\n      <td>10/21/90</td>\n      <td>16200000</td>\n    </tr>\n    <tr>\n      <th>448</th>\n      <td>Collin Sexton</td>\n      <td>Cleveland Cavaliers</td>\n      <td>PG</td>\n      <td>1/4/99</td>\n      <td>4764960</td>\n    </tr>\n    <tr>\n      <th>447</th>\n      <td>Robin Lopez</td>\n      <td>Milwaukee Bucks</td>\n      <td>C</td>\n      <td>4/1/88</td>\n      <td>4767000</td>\n    </tr>\n    <tr>\n      <th>446</th>\n      <td>Harry Giles</td>\n      <td>Sacramento Kings</td>\n      <td>PF</td>\n      <td>4/22/98</td>\n      <td>2578800</td>\n    </tr>\n    <tr>\n      <th>445</th>\n      <td>Austin Rivers</td>\n      <td>Houston Rockets</td>\n      <td>PG</td>\n      <td>8/1/92</td>\n      <td>2174310</td>\n    </tr>\n  </tbody>\n</table>\n</div>"
     },
     "execution_count": 158,
     "metadata": {},
     "output_type": "execute_result"
    }
   ],
   "source": [
    "nba.sort_index(ascending=False).head()"
   ]
  },
  {
   "cell_type": "code",
   "execution_count": 159,
   "metadata": {
    "ExecuteTime": {
     "end_time": "2023-10-20T16:55:17.908211Z",
     "start_time": "2023-10-20T16:55:15.366216Z"
    }
   },
   "outputs": [],
   "source": [
    "nba = nba.sort_index()"
   ]
  },
  {
   "cell_type": "markdown",
   "metadata": {},
   "source": [
    "### Sorting by Column Index"
   ]
  },
  {
   "cell_type": "code",
   "execution_count": 160,
   "metadata": {
    "ExecuteTime": {
     "end_time": "2023-10-20T16:55:17.977255Z",
     "start_time": "2023-10-20T16:55:15.371646Z"
    }
   },
   "outputs": [
    {
     "data": {
      "text/plain": "  Birthday            Name Position   Salary                Team\n0  9/26/96    Shake Milton       SG  1445697  Philadelphia 76ers\n1  9/27/95  Christian Wood       PF  1645357     Detroit Pistons\n2  8/23/98   PJ Washington       PF  3831840   Charlotte Hornets\n3  10/4/88    Derrick Rose       PG  7317074     Detroit Pistons\n4  7/26/95   Marial Shayok        G    79568  Philadelphia 76ers",
      "text/html": "<div>\n<style scoped>\n    .dataframe tbody tr th:only-of-type {\n        vertical-align: middle;\n    }\n\n    .dataframe tbody tr th {\n        vertical-align: top;\n    }\n\n    .dataframe thead th {\n        text-align: right;\n    }\n</style>\n<table border=\"1\" class=\"dataframe\">\n  <thead>\n    <tr style=\"text-align: right;\">\n      <th></th>\n      <th>Birthday</th>\n      <th>Name</th>\n      <th>Position</th>\n      <th>Salary</th>\n      <th>Team</th>\n    </tr>\n  </thead>\n  <tbody>\n    <tr>\n      <th>0</th>\n      <td>9/26/96</td>\n      <td>Shake Milton</td>\n      <td>SG</td>\n      <td>1445697</td>\n      <td>Philadelphia 76ers</td>\n    </tr>\n    <tr>\n      <th>1</th>\n      <td>9/27/95</td>\n      <td>Christian Wood</td>\n      <td>PF</td>\n      <td>1645357</td>\n      <td>Detroit Pistons</td>\n    </tr>\n    <tr>\n      <th>2</th>\n      <td>8/23/98</td>\n      <td>PJ Washington</td>\n      <td>PF</td>\n      <td>3831840</td>\n      <td>Charlotte Hornets</td>\n    </tr>\n    <tr>\n      <th>3</th>\n      <td>10/4/88</td>\n      <td>Derrick Rose</td>\n      <td>PG</td>\n      <td>7317074</td>\n      <td>Detroit Pistons</td>\n    </tr>\n    <tr>\n      <th>4</th>\n      <td>7/26/95</td>\n      <td>Marial Shayok</td>\n      <td>G</td>\n      <td>79568</td>\n      <td>Philadelphia 76ers</td>\n    </tr>\n  </tbody>\n</table>\n</div>"
     },
     "execution_count": 160,
     "metadata": {},
     "output_type": "execute_result"
    }
   ],
   "source": [
    "# The two lines below are equivalent\n",
    "nba.sort_index(axis=\"columns\").head()\n",
    "nba.sort_index(axis=1).head()"
   ]
  },
  {
   "cell_type": "code",
   "execution_count": 161,
   "metadata": {
    "ExecuteTime": {
     "end_time": "2023-10-20T16:55:17.977878Z",
     "start_time": "2023-10-20T16:55:15.379838Z"
    }
   },
   "outputs": [
    {
     "data": {
      "text/plain": "                 Team   Salary Position            Name Birthday\n0  Philadelphia 76ers  1445697       SG    Shake Milton  9/26/96\n1     Detroit Pistons  1645357       PF  Christian Wood  9/27/95\n2   Charlotte Hornets  3831840       PF   PJ Washington  8/23/98\n3     Detroit Pistons  7317074       PG    Derrick Rose  10/4/88\n4  Philadelphia 76ers    79568        G   Marial Shayok  7/26/95",
      "text/html": "<div>\n<style scoped>\n    .dataframe tbody tr th:only-of-type {\n        vertical-align: middle;\n    }\n\n    .dataframe tbody tr th {\n        vertical-align: top;\n    }\n\n    .dataframe thead th {\n        text-align: right;\n    }\n</style>\n<table border=\"1\" class=\"dataframe\">\n  <thead>\n    <tr style=\"text-align: right;\">\n      <th></th>\n      <th>Team</th>\n      <th>Salary</th>\n      <th>Position</th>\n      <th>Name</th>\n      <th>Birthday</th>\n    </tr>\n  </thead>\n  <tbody>\n    <tr>\n      <th>0</th>\n      <td>Philadelphia 76ers</td>\n      <td>1445697</td>\n      <td>SG</td>\n      <td>Shake Milton</td>\n      <td>9/26/96</td>\n    </tr>\n    <tr>\n      <th>1</th>\n      <td>Detroit Pistons</td>\n      <td>1645357</td>\n      <td>PF</td>\n      <td>Christian Wood</td>\n      <td>9/27/95</td>\n    </tr>\n    <tr>\n      <th>2</th>\n      <td>Charlotte Hornets</td>\n      <td>3831840</td>\n      <td>PF</td>\n      <td>PJ Washington</td>\n      <td>8/23/98</td>\n    </tr>\n    <tr>\n      <th>3</th>\n      <td>Detroit Pistons</td>\n      <td>7317074</td>\n      <td>PG</td>\n      <td>Derrick Rose</td>\n      <td>10/4/88</td>\n    </tr>\n    <tr>\n      <th>4</th>\n      <td>Philadelphia 76ers</td>\n      <td>79568</td>\n      <td>G</td>\n      <td>Marial Shayok</td>\n      <td>7/26/95</td>\n    </tr>\n  </tbody>\n</table>\n</div>"
     },
     "execution_count": 161,
     "metadata": {},
     "output_type": "execute_result"
    }
   ],
   "source": [
    "nba.sort_index(axis=\"columns\", ascending=False).head()"
   ]
  },
  {
   "cell_type": "markdown",
   "metadata": {},
   "source": [
    "## Setting a New Index"
   ]
  },
  {
   "cell_type": "code",
   "execution_count": 162,
   "metadata": {
    "ExecuteTime": {
     "end_time": "2023-10-20T16:55:18.092384Z",
     "start_time": "2023-10-20T16:55:15.390486Z"
    }
   },
   "outputs": [
    {
     "data": {
      "text/plain": "                               Team Position  Birthday    Salary\nName                                                            \nShake Milton     Philadelphia 76ers       SG   9/26/96   1445697\nChristian Wood      Detroit Pistons       PF   9/27/95   1645357\nPJ Washington     Charlotte Hornets       PF   8/23/98   3831840\nDerrick Rose        Detroit Pistons       PG   10/4/88   7317074\nMarial Shayok    Philadelphia 76ers        G   7/26/95     79568\n...                             ...      ...       ...       ...\nAustin Rivers       Houston Rockets       PG    8/1/92   2174310\nHarry Giles        Sacramento Kings       PF   4/22/98   2578800\nRobin Lopez         Milwaukee Bucks        C    4/1/88   4767000\nCollin Sexton   Cleveland Cavaliers       PG    1/4/99   4764960\nRicky Rubio            Phoenix Suns       PG  10/21/90  16200000\n\n[450 rows x 4 columns]",
      "text/html": "<div>\n<style scoped>\n    .dataframe tbody tr th:only-of-type {\n        vertical-align: middle;\n    }\n\n    .dataframe tbody tr th {\n        vertical-align: top;\n    }\n\n    .dataframe thead th {\n        text-align: right;\n    }\n</style>\n<table border=\"1\" class=\"dataframe\">\n  <thead>\n    <tr style=\"text-align: right;\">\n      <th></th>\n      <th>Team</th>\n      <th>Position</th>\n      <th>Birthday</th>\n      <th>Salary</th>\n    </tr>\n    <tr>\n      <th>Name</th>\n      <th></th>\n      <th></th>\n      <th></th>\n      <th></th>\n    </tr>\n  </thead>\n  <tbody>\n    <tr>\n      <th>Shake Milton</th>\n      <td>Philadelphia 76ers</td>\n      <td>SG</td>\n      <td>9/26/96</td>\n      <td>1445697</td>\n    </tr>\n    <tr>\n      <th>Christian Wood</th>\n      <td>Detroit Pistons</td>\n      <td>PF</td>\n      <td>9/27/95</td>\n      <td>1645357</td>\n    </tr>\n    <tr>\n      <th>PJ Washington</th>\n      <td>Charlotte Hornets</td>\n      <td>PF</td>\n      <td>8/23/98</td>\n      <td>3831840</td>\n    </tr>\n    <tr>\n      <th>Derrick Rose</th>\n      <td>Detroit Pistons</td>\n      <td>PG</td>\n      <td>10/4/88</td>\n      <td>7317074</td>\n    </tr>\n    <tr>\n      <th>Marial Shayok</th>\n      <td>Philadelphia 76ers</td>\n      <td>G</td>\n      <td>7/26/95</td>\n      <td>79568</td>\n    </tr>\n    <tr>\n      <th>...</th>\n      <td>...</td>\n      <td>...</td>\n      <td>...</td>\n      <td>...</td>\n    </tr>\n    <tr>\n      <th>Austin Rivers</th>\n      <td>Houston Rockets</td>\n      <td>PG</td>\n      <td>8/1/92</td>\n      <td>2174310</td>\n    </tr>\n    <tr>\n      <th>Harry Giles</th>\n      <td>Sacramento Kings</td>\n      <td>PF</td>\n      <td>4/22/98</td>\n      <td>2578800</td>\n    </tr>\n    <tr>\n      <th>Robin Lopez</th>\n      <td>Milwaukee Bucks</td>\n      <td>C</td>\n      <td>4/1/88</td>\n      <td>4767000</td>\n    </tr>\n    <tr>\n      <th>Collin Sexton</th>\n      <td>Cleveland Cavaliers</td>\n      <td>PG</td>\n      <td>1/4/99</td>\n      <td>4764960</td>\n    </tr>\n    <tr>\n      <th>Ricky Rubio</th>\n      <td>Phoenix Suns</td>\n      <td>PG</td>\n      <td>10/21/90</td>\n      <td>16200000</td>\n    </tr>\n  </tbody>\n</table>\n<p>450 rows × 4 columns</p>\n</div>"
     },
     "execution_count": 162,
     "metadata": {},
     "output_type": "execute_result"
    }
   ],
   "source": [
    "# The two lines below are equivalent\n",
    "nba.set_index(keys=\"Name\")\n",
    "nba.set_index(\"Name\")"
   ]
  },
  {
   "cell_type": "code",
   "execution_count": 163,
   "metadata": {
    "ExecuteTime": {
     "end_time": "2023-10-20T16:55:18.092560Z",
     "start_time": "2023-10-20T16:55:15.393837Z"
    }
   },
   "outputs": [],
   "source": [
    "nba = nba.set_index(keys=\"Name\")"
   ]
  },
  {
   "cell_type": "code",
   "execution_count": 164,
   "metadata": {
    "ExecuteTime": {
     "end_time": "2023-10-20T16:55:18.159379Z",
     "start_time": "2023-10-20T16:55:15.396628Z"
    }
   },
   "outputs": [],
   "source": [
    "nba = pd.read_csv(\"data/nba.csv\", index_col=\"Name\")\n",
    "nba[\"Birthday\"] = pd.to_datetime(nba[\"Birthday\"], format=\"mixed\")"
   ]
  },
  {
   "cell_type": "markdown",
   "metadata": {},
   "source": [
    "## Selecting Columns and Rows from a DataFrame"
   ]
  },
  {
   "cell_type": "markdown",
   "metadata": {},
   "source": [
    "### Selecting a Single Column from a DataFrame"
   ]
  },
  {
   "cell_type": "code",
   "execution_count": 165,
   "metadata": {
    "ExecuteTime": {
     "end_time": "2023-10-20T16:55:18.159782Z",
     "start_time": "2023-10-20T16:55:15.425968Z"
    }
   },
   "outputs": [
    {
     "data": {
      "text/plain": "Name\nShake Milton       1445697\nChristian Wood     1645357\nPJ Washington      3831840\nDerrick Rose       7317074\nMarial Shayok        79568\n                    ...   \nAustin Rivers      2174310\nHarry Giles        2578800\nRobin Lopez        4767000\nCollin Sexton      4764960\nRicky Rubio       16200000\nName: Salary, Length: 450, dtype: int64"
     },
     "execution_count": 165,
     "metadata": {},
     "output_type": "execute_result"
    }
   ],
   "source": [
    "nba.Salary"
   ]
  },
  {
   "cell_type": "code",
   "execution_count": 166,
   "metadata": {
    "ExecuteTime": {
     "end_time": "2023-10-20T16:55:18.160073Z",
     "start_time": "2023-10-20T16:55:15.430941Z"
    }
   },
   "outputs": [
    {
     "data": {
      "text/plain": "Name\nShake Milton      SG\nChristian Wood    PF\nPJ Washington     PF\nDerrick Rose      PG\nMarial Shayok      G\n                  ..\nAustin Rivers     PG\nHarry Giles       PF\nRobin Lopez        C\nCollin Sexton     PG\nRicky Rubio       PG\nName: Position, Length: 450, dtype: object"
     },
     "execution_count": 166,
     "metadata": {},
     "output_type": "execute_result"
    }
   ],
   "source": [
    "nba[\"Position\"]"
   ]
  },
  {
   "cell_type": "markdown",
   "metadata": {},
   "source": [
    "### Selecting Multiple Columns from a DataFrame"
   ]
  },
  {
   "cell_type": "code",
   "execution_count": 167,
   "metadata": {
    "scrolled": true,
    "ExecuteTime": {
     "end_time": "2023-10-20T16:55:18.351319Z",
     "start_time": "2023-10-20T16:55:15.443691Z"
    }
   },
   "outputs": [
    {
     "data": {
      "text/plain": "                 Salary   Birthday\nName                              \nShake Milton    1445697 1996-09-26\nChristian Wood  1645357 1995-09-27\nPJ Washington   3831840 1998-08-23\nDerrick Rose    7317074 1988-10-04\nMarial Shayok     79568 1995-07-26",
      "text/html": "<div>\n<style scoped>\n    .dataframe tbody tr th:only-of-type {\n        vertical-align: middle;\n    }\n\n    .dataframe tbody tr th {\n        vertical-align: top;\n    }\n\n    .dataframe thead th {\n        text-align: right;\n    }\n</style>\n<table border=\"1\" class=\"dataframe\">\n  <thead>\n    <tr style=\"text-align: right;\">\n      <th></th>\n      <th>Salary</th>\n      <th>Birthday</th>\n    </tr>\n    <tr>\n      <th>Name</th>\n      <th></th>\n      <th></th>\n    </tr>\n  </thead>\n  <tbody>\n    <tr>\n      <th>Shake Milton</th>\n      <td>1445697</td>\n      <td>1996-09-26</td>\n    </tr>\n    <tr>\n      <th>Christian Wood</th>\n      <td>1645357</td>\n      <td>1995-09-27</td>\n    </tr>\n    <tr>\n      <th>PJ Washington</th>\n      <td>3831840</td>\n      <td>1998-08-23</td>\n    </tr>\n    <tr>\n      <th>Derrick Rose</th>\n      <td>7317074</td>\n      <td>1988-10-04</td>\n    </tr>\n    <tr>\n      <th>Marial Shayok</th>\n      <td>79568</td>\n      <td>1995-07-26</td>\n    </tr>\n  </tbody>\n</table>\n</div>"
     },
     "execution_count": 167,
     "metadata": {},
     "output_type": "execute_result"
    }
   ],
   "source": [
    "nba[[\"Salary\", \"Birthday\"]].head()"
   ]
  },
  {
   "cell_type": "code",
   "execution_count": 168,
   "metadata": {
    "ExecuteTime": {
     "end_time": "2023-10-20T16:55:18.358639Z",
     "start_time": "2023-10-20T16:55:15.450592Z"
    }
   },
   "outputs": [
    {
     "data": {
      "text/plain": "                 Birthday   Salary\nName                              \nShake Milton   1996-09-26  1445697\nChristian Wood 1995-09-27  1645357\nPJ Washington  1998-08-23  3831840\nDerrick Rose   1988-10-04  7317074\nMarial Shayok  1995-07-26    79568",
      "text/html": "<div>\n<style scoped>\n    .dataframe tbody tr th:only-of-type {\n        vertical-align: middle;\n    }\n\n    .dataframe tbody tr th {\n        vertical-align: top;\n    }\n\n    .dataframe thead th {\n        text-align: right;\n    }\n</style>\n<table border=\"1\" class=\"dataframe\">\n  <thead>\n    <tr style=\"text-align: right;\">\n      <th></th>\n      <th>Birthday</th>\n      <th>Salary</th>\n    </tr>\n    <tr>\n      <th>Name</th>\n      <th></th>\n      <th></th>\n    </tr>\n  </thead>\n  <tbody>\n    <tr>\n      <th>Shake Milton</th>\n      <td>1996-09-26</td>\n      <td>1445697</td>\n    </tr>\n    <tr>\n      <th>Christian Wood</th>\n      <td>1995-09-27</td>\n      <td>1645357</td>\n    </tr>\n    <tr>\n      <th>PJ Washington</th>\n      <td>1998-08-23</td>\n      <td>3831840</td>\n    </tr>\n    <tr>\n      <th>Derrick Rose</th>\n      <td>1988-10-04</td>\n      <td>7317074</td>\n    </tr>\n    <tr>\n      <th>Marial Shayok</th>\n      <td>1995-07-26</td>\n      <td>79568</td>\n    </tr>\n  </tbody>\n</table>\n</div>"
     },
     "execution_count": 168,
     "metadata": {},
     "output_type": "execute_result"
    }
   ],
   "source": [
    "nba[[\"Birthday\", \"Salary\"]].head()"
   ]
  },
  {
   "cell_type": "code",
   "execution_count": 169,
   "metadata": {
    "ExecuteTime": {
     "end_time": "2023-10-20T16:55:18.359143Z",
     "start_time": "2023-10-20T16:55:15.459776Z"
    }
   },
   "outputs": [
    {
     "data": {
      "text/plain": "                               Team Position\nName                                        \nShake Milton     Philadelphia 76ers       SG\nChristian Wood      Detroit Pistons       PF\nPJ Washington     Charlotte Hornets       PF\nDerrick Rose        Detroit Pistons       PG\nMarial Shayok    Philadelphia 76ers        G\n...                             ...      ...\nAustin Rivers       Houston Rockets       PG\nHarry Giles        Sacramento Kings       PF\nRobin Lopez         Milwaukee Bucks        C\nCollin Sexton   Cleveland Cavaliers       PG\nRicky Rubio            Phoenix Suns       PG\n\n[450 rows x 2 columns]",
      "text/html": "<div>\n<style scoped>\n    .dataframe tbody tr th:only-of-type {\n        vertical-align: middle;\n    }\n\n    .dataframe tbody tr th {\n        vertical-align: top;\n    }\n\n    .dataframe thead th {\n        text-align: right;\n    }\n</style>\n<table border=\"1\" class=\"dataframe\">\n  <thead>\n    <tr style=\"text-align: right;\">\n      <th></th>\n      <th>Team</th>\n      <th>Position</th>\n    </tr>\n    <tr>\n      <th>Name</th>\n      <th></th>\n      <th></th>\n    </tr>\n  </thead>\n  <tbody>\n    <tr>\n      <th>Shake Milton</th>\n      <td>Philadelphia 76ers</td>\n      <td>SG</td>\n    </tr>\n    <tr>\n      <th>Christian Wood</th>\n      <td>Detroit Pistons</td>\n      <td>PF</td>\n    </tr>\n    <tr>\n      <th>PJ Washington</th>\n      <td>Charlotte Hornets</td>\n      <td>PF</td>\n    </tr>\n    <tr>\n      <th>Derrick Rose</th>\n      <td>Detroit Pistons</td>\n      <td>PG</td>\n    </tr>\n    <tr>\n      <th>Marial Shayok</th>\n      <td>Philadelphia 76ers</td>\n      <td>G</td>\n    </tr>\n    <tr>\n      <th>...</th>\n      <td>...</td>\n      <td>...</td>\n    </tr>\n    <tr>\n      <th>Austin Rivers</th>\n      <td>Houston Rockets</td>\n      <td>PG</td>\n    </tr>\n    <tr>\n      <th>Harry Giles</th>\n      <td>Sacramento Kings</td>\n      <td>PF</td>\n    </tr>\n    <tr>\n      <th>Robin Lopez</th>\n      <td>Milwaukee Bucks</td>\n      <td>C</td>\n    </tr>\n    <tr>\n      <th>Collin Sexton</th>\n      <td>Cleveland Cavaliers</td>\n      <td>PG</td>\n    </tr>\n    <tr>\n      <th>Ricky Rubio</th>\n      <td>Phoenix Suns</td>\n      <td>PG</td>\n    </tr>\n  </tbody>\n</table>\n<p>450 rows × 2 columns</p>\n</div>"
     },
     "execution_count": 169,
     "metadata": {},
     "output_type": "execute_result"
    }
   ],
   "source": [
    "nba.select_dtypes(include=\"object\")"
   ]
  },
  {
   "cell_type": "code",
   "execution_count": 170,
   "metadata": {
    "ExecuteTime": {
     "end_time": "2023-10-20T16:55:18.359616Z",
     "start_time": "2023-10-20T16:55:15.468367Z"
    }
   },
   "outputs": [
    {
     "data": {
      "text/plain": "                 Birthday\nName                     \nShake Milton   1996-09-26\nChristian Wood 1995-09-27\nPJ Washington  1998-08-23\nDerrick Rose   1988-10-04\nMarial Shayok  1995-07-26\n...                   ...\nAustin Rivers  1992-08-01\nHarry Giles    1998-04-22\nRobin Lopez    1988-04-01\nCollin Sexton  1999-01-04\nRicky Rubio    1990-10-21\n\n[450 rows x 1 columns]",
      "text/html": "<div>\n<style scoped>\n    .dataframe tbody tr th:only-of-type {\n        vertical-align: middle;\n    }\n\n    .dataframe tbody tr th {\n        vertical-align: top;\n    }\n\n    .dataframe thead th {\n        text-align: right;\n    }\n</style>\n<table border=\"1\" class=\"dataframe\">\n  <thead>\n    <tr style=\"text-align: right;\">\n      <th></th>\n      <th>Birthday</th>\n    </tr>\n    <tr>\n      <th>Name</th>\n      <th></th>\n    </tr>\n  </thead>\n  <tbody>\n    <tr>\n      <th>Shake Milton</th>\n      <td>1996-09-26</td>\n    </tr>\n    <tr>\n      <th>Christian Wood</th>\n      <td>1995-09-27</td>\n    </tr>\n    <tr>\n      <th>PJ Washington</th>\n      <td>1998-08-23</td>\n    </tr>\n    <tr>\n      <th>Derrick Rose</th>\n      <td>1988-10-04</td>\n    </tr>\n    <tr>\n      <th>Marial Shayok</th>\n      <td>1995-07-26</td>\n    </tr>\n    <tr>\n      <th>...</th>\n      <td>...</td>\n    </tr>\n    <tr>\n      <th>Austin Rivers</th>\n      <td>1992-08-01</td>\n    </tr>\n    <tr>\n      <th>Harry Giles</th>\n      <td>1998-04-22</td>\n    </tr>\n    <tr>\n      <th>Robin Lopez</th>\n      <td>1988-04-01</td>\n    </tr>\n    <tr>\n      <th>Collin Sexton</th>\n      <td>1999-01-04</td>\n    </tr>\n    <tr>\n      <th>Ricky Rubio</th>\n      <td>1990-10-21</td>\n    </tr>\n  </tbody>\n</table>\n<p>450 rows × 1 columns</p>\n</div>"
     },
     "execution_count": 170,
     "metadata": {},
     "output_type": "execute_result"
    }
   ],
   "source": [
    "nba.select_dtypes(exclude=[\"object\", \"int\"])"
   ]
  },
  {
   "cell_type": "markdown",
   "metadata": {},
   "source": [
    "## Selecting Rows from a DataFrame"
   ]
  },
  {
   "cell_type": "markdown",
   "metadata": {},
   "source": [
    "### Extracting Rows by Index Label"
   ]
  },
  {
   "cell_type": "code",
   "execution_count": 171,
   "metadata": {
    "ExecuteTime": {
     "end_time": "2023-10-20T16:55:18.359950Z",
     "start_time": "2023-10-20T16:55:15.474168Z"
    }
   },
   "outputs": [
    {
     "data": {
      "text/plain": "Team         Los Angeles Lakers\nPosition                     PF\nBirthday    1984-12-30 00:00:00\nSalary                 37436858\nName: LeBron James, dtype: object"
     },
     "execution_count": 171,
     "metadata": {},
     "output_type": "execute_result"
    }
   ],
   "source": [
    "nba.loc[\"LeBron James\"]"
   ]
  },
  {
   "cell_type": "code",
   "execution_count": 172,
   "metadata": {
    "ExecuteTime": {
     "end_time": "2023-10-20T16:55:18.360472Z",
     "start_time": "2023-10-20T16:55:15.482032Z"
    }
   },
   "outputs": [
    {
     "data": {
      "text/plain": "                               Team Position   Birthday    Salary\nName                                                             \nKawhi Leonard  Los Angeles Clippers       SF 1991-06-29  32742000\nPaul George    Los Angeles Clippers       SF 1990-05-02  33005556",
      "text/html": "<div>\n<style scoped>\n    .dataframe tbody tr th:only-of-type {\n        vertical-align: middle;\n    }\n\n    .dataframe tbody tr th {\n        vertical-align: top;\n    }\n\n    .dataframe thead th {\n        text-align: right;\n    }\n</style>\n<table border=\"1\" class=\"dataframe\">\n  <thead>\n    <tr style=\"text-align: right;\">\n      <th></th>\n      <th>Team</th>\n      <th>Position</th>\n      <th>Birthday</th>\n      <th>Salary</th>\n    </tr>\n    <tr>\n      <th>Name</th>\n      <th></th>\n      <th></th>\n      <th></th>\n      <th></th>\n    </tr>\n  </thead>\n  <tbody>\n    <tr>\n      <th>Kawhi Leonard</th>\n      <td>Los Angeles Clippers</td>\n      <td>SF</td>\n      <td>1991-06-29</td>\n      <td>32742000</td>\n    </tr>\n    <tr>\n      <th>Paul George</th>\n      <td>Los Angeles Clippers</td>\n      <td>SF</td>\n      <td>1990-05-02</td>\n      <td>33005556</td>\n    </tr>\n  </tbody>\n</table>\n</div>"
     },
     "execution_count": 172,
     "metadata": {},
     "output_type": "execute_result"
    }
   ],
   "source": [
    "nba.loc[[\"Kawhi Leonard\", \"Paul George\"]]"
   ]
  },
  {
   "cell_type": "code",
   "execution_count": 173,
   "metadata": {
    "ExecuteTime": {
     "end_time": "2023-10-20T16:55:18.360890Z",
     "start_time": "2023-10-20T16:55:15.489303Z"
    }
   },
   "outputs": [
    {
     "data": {
      "text/plain": "                               Team Position   Birthday    Salary\nName                                                             \nPaul George    Los Angeles Clippers       SF 1990-05-02  33005556\nKawhi Leonard  Los Angeles Clippers       SF 1991-06-29  32742000",
      "text/html": "<div>\n<style scoped>\n    .dataframe tbody tr th:only-of-type {\n        vertical-align: middle;\n    }\n\n    .dataframe tbody tr th {\n        vertical-align: top;\n    }\n\n    .dataframe thead th {\n        text-align: right;\n    }\n</style>\n<table border=\"1\" class=\"dataframe\">\n  <thead>\n    <tr style=\"text-align: right;\">\n      <th></th>\n      <th>Team</th>\n      <th>Position</th>\n      <th>Birthday</th>\n      <th>Salary</th>\n    </tr>\n    <tr>\n      <th>Name</th>\n      <th></th>\n      <th></th>\n      <th></th>\n      <th></th>\n    </tr>\n  </thead>\n  <tbody>\n    <tr>\n      <th>Paul George</th>\n      <td>Los Angeles Clippers</td>\n      <td>SF</td>\n      <td>1990-05-02</td>\n      <td>33005556</td>\n    </tr>\n    <tr>\n      <th>Kawhi Leonard</th>\n      <td>Los Angeles Clippers</td>\n      <td>SF</td>\n      <td>1991-06-29</td>\n      <td>32742000</td>\n    </tr>\n  </tbody>\n</table>\n</div>"
     },
     "execution_count": 173,
     "metadata": {},
     "output_type": "execute_result"
    }
   ],
   "source": [
    "nba.loc[[\"Paul George\", \"Kawhi Leonard\"]]"
   ]
  },
  {
   "cell_type": "code",
   "execution_count": 174,
   "metadata": {
    "ExecuteTime": {
     "end_time": "2023-10-20T16:55:18.361294Z",
     "start_time": "2023-10-20T16:55:15.494836Z"
    }
   },
   "outputs": [
    {
     "data": {
      "text/plain": "                                  Team Position   Birthday    Salary\nName                                                                \nOtto Porter              Chicago Bulls       SF 1993-06-03  27250576\nPJ Dozier               Denver Nuggets       PG 1996-10-25     79568\nPJ Washington        Charlotte Hornets       PF 1998-08-23   3831840\nPascal Siakam          Toronto Raptors       PF 1994-04-02   2351838\nPat Connaughton        Milwaukee Bucks       SG 1993-01-06   1723050\nPatrick Beverley  Los Angeles Clippers       PG 1988-07-12  12345680",
      "text/html": "<div>\n<style scoped>\n    .dataframe tbody tr th:only-of-type {\n        vertical-align: middle;\n    }\n\n    .dataframe tbody tr th {\n        vertical-align: top;\n    }\n\n    .dataframe thead th {\n        text-align: right;\n    }\n</style>\n<table border=\"1\" class=\"dataframe\">\n  <thead>\n    <tr style=\"text-align: right;\">\n      <th></th>\n      <th>Team</th>\n      <th>Position</th>\n      <th>Birthday</th>\n      <th>Salary</th>\n    </tr>\n    <tr>\n      <th>Name</th>\n      <th></th>\n      <th></th>\n      <th></th>\n      <th></th>\n    </tr>\n  </thead>\n  <tbody>\n    <tr>\n      <th>Otto Porter</th>\n      <td>Chicago Bulls</td>\n      <td>SF</td>\n      <td>1993-06-03</td>\n      <td>27250576</td>\n    </tr>\n    <tr>\n      <th>PJ Dozier</th>\n      <td>Denver Nuggets</td>\n      <td>PG</td>\n      <td>1996-10-25</td>\n      <td>79568</td>\n    </tr>\n    <tr>\n      <th>PJ Washington</th>\n      <td>Charlotte Hornets</td>\n      <td>PF</td>\n      <td>1998-08-23</td>\n      <td>3831840</td>\n    </tr>\n    <tr>\n      <th>Pascal Siakam</th>\n      <td>Toronto Raptors</td>\n      <td>PF</td>\n      <td>1994-04-02</td>\n      <td>2351838</td>\n    </tr>\n    <tr>\n      <th>Pat Connaughton</th>\n      <td>Milwaukee Bucks</td>\n      <td>SG</td>\n      <td>1993-01-06</td>\n      <td>1723050</td>\n    </tr>\n    <tr>\n      <th>Patrick Beverley</th>\n      <td>Los Angeles Clippers</td>\n      <td>PG</td>\n      <td>1988-07-12</td>\n      <td>12345680</td>\n    </tr>\n  </tbody>\n</table>\n</div>"
     },
     "execution_count": 174,
     "metadata": {},
     "output_type": "execute_result"
    }
   ],
   "source": [
    "nba.sort_index().loc[\"Otto Porter\":\"Patrick Beverley\"]"
   ]
  },
  {
   "cell_type": "code",
   "execution_count": 175,
   "metadata": {
    "ExecuteTime": {
     "end_time": "2023-10-20T16:55:18.361606Z",
     "start_time": "2023-10-20T16:55:15.502545Z"
    }
   },
   "outputs": [
    {
     "data": {
      "text/plain": "['Otto Porter', 'PJ Dozier']"
     },
     "execution_count": 175,
     "metadata": {},
     "output_type": "execute_result"
    }
   ],
   "source": [
    "players = [\"Otto Porter\", \"PJ Dozier\", \"PJ Washington\"]\n",
    "players[0:2]"
   ]
  },
  {
   "cell_type": "code",
   "execution_count": 176,
   "metadata": {
    "ExecuteTime": {
     "end_time": "2023-10-20T16:55:18.362077Z",
     "start_time": "2023-10-20T16:55:15.507210Z"
    }
   },
   "outputs": [
    {
     "data": {
      "text/plain": "                                   Team Position   Birthday    Salary\nName                                                                 \nZach Collins     Portland Trail Blazers        C 1997-11-19   4240200\nZach LaVine               Chicago Bulls       PG 1995-03-10  19500000\nZach Norvell         Los Angeles Lakers       SG 1997-12-09     79568\nZhaire Smith         Philadelphia 76ers       SG 1999-06-04   3058800\nZion Williamson    New Orleans Pelicans        F 2000-07-06   9757440\nZylan Cheatham     New Orleans Pelicans       SF 1995-11-17     79568",
      "text/html": "<div>\n<style scoped>\n    .dataframe tbody tr th:only-of-type {\n        vertical-align: middle;\n    }\n\n    .dataframe tbody tr th {\n        vertical-align: top;\n    }\n\n    .dataframe thead th {\n        text-align: right;\n    }\n</style>\n<table border=\"1\" class=\"dataframe\">\n  <thead>\n    <tr style=\"text-align: right;\">\n      <th></th>\n      <th>Team</th>\n      <th>Position</th>\n      <th>Birthday</th>\n      <th>Salary</th>\n    </tr>\n    <tr>\n      <th>Name</th>\n      <th></th>\n      <th></th>\n      <th></th>\n      <th></th>\n    </tr>\n  </thead>\n  <tbody>\n    <tr>\n      <th>Zach Collins</th>\n      <td>Portland Trail Blazers</td>\n      <td>C</td>\n      <td>1997-11-19</td>\n      <td>4240200</td>\n    </tr>\n    <tr>\n      <th>Zach LaVine</th>\n      <td>Chicago Bulls</td>\n      <td>PG</td>\n      <td>1995-03-10</td>\n      <td>19500000</td>\n    </tr>\n    <tr>\n      <th>Zach Norvell</th>\n      <td>Los Angeles Lakers</td>\n      <td>SG</td>\n      <td>1997-12-09</td>\n      <td>79568</td>\n    </tr>\n    <tr>\n      <th>Zhaire Smith</th>\n      <td>Philadelphia 76ers</td>\n      <td>SG</td>\n      <td>1999-06-04</td>\n      <td>3058800</td>\n    </tr>\n    <tr>\n      <th>Zion Williamson</th>\n      <td>New Orleans Pelicans</td>\n      <td>F</td>\n      <td>2000-07-06</td>\n      <td>9757440</td>\n    </tr>\n    <tr>\n      <th>Zylan Cheatham</th>\n      <td>New Orleans Pelicans</td>\n      <td>SF</td>\n      <td>1995-11-17</td>\n      <td>79568</td>\n    </tr>\n  </tbody>\n</table>\n</div>"
     },
     "execution_count": 176,
     "metadata": {},
     "output_type": "execute_result"
    }
   ],
   "source": [
    "nba.sort_index().loc[\"Zach Collins\":]"
   ]
  },
  {
   "cell_type": "code",
   "execution_count": 177,
   "metadata": {
    "ExecuteTime": {
     "end_time": "2023-10-20T16:55:18.362550Z",
     "start_time": "2023-10-20T16:55:15.515656Z"
    }
   },
   "outputs": [
    {
     "data": {
      "text/plain": "                                    Team Position   Birthday    Salary\nName                                                                  \nAaron Gordon               Orlando Magic       PF 1995-09-16  19863636\nAaron Holiday             Indiana Pacers       PG 1996-09-30   2239200\nAbdel Nader        Oklahoma City Thunder       SF 1993-09-25   1618520\nAdam Mokoka                Chicago Bulls        G 1998-07-18     79568\nAdmiral Schofield     Washington Wizards       SF 1997-03-30   1000000\nAl Horford            Philadelphia 76ers        C 1986-06-03  28000000",
      "text/html": "<div>\n<style scoped>\n    .dataframe tbody tr th:only-of-type {\n        vertical-align: middle;\n    }\n\n    .dataframe tbody tr th {\n        vertical-align: top;\n    }\n\n    .dataframe thead th {\n        text-align: right;\n    }\n</style>\n<table border=\"1\" class=\"dataframe\">\n  <thead>\n    <tr style=\"text-align: right;\">\n      <th></th>\n      <th>Team</th>\n      <th>Position</th>\n      <th>Birthday</th>\n      <th>Salary</th>\n    </tr>\n    <tr>\n      <th>Name</th>\n      <th></th>\n      <th></th>\n      <th></th>\n      <th></th>\n    </tr>\n  </thead>\n  <tbody>\n    <tr>\n      <th>Aaron Gordon</th>\n      <td>Orlando Magic</td>\n      <td>PF</td>\n      <td>1995-09-16</td>\n      <td>19863636</td>\n    </tr>\n    <tr>\n      <th>Aaron Holiday</th>\n      <td>Indiana Pacers</td>\n      <td>PG</td>\n      <td>1996-09-30</td>\n      <td>2239200</td>\n    </tr>\n    <tr>\n      <th>Abdel Nader</th>\n      <td>Oklahoma City Thunder</td>\n      <td>SF</td>\n      <td>1993-09-25</td>\n      <td>1618520</td>\n    </tr>\n    <tr>\n      <th>Adam Mokoka</th>\n      <td>Chicago Bulls</td>\n      <td>G</td>\n      <td>1998-07-18</td>\n      <td>79568</td>\n    </tr>\n    <tr>\n      <th>Admiral Schofield</th>\n      <td>Washington Wizards</td>\n      <td>SF</td>\n      <td>1997-03-30</td>\n      <td>1000000</td>\n    </tr>\n    <tr>\n      <th>Al Horford</th>\n      <td>Philadelphia 76ers</td>\n      <td>C</td>\n      <td>1986-06-03</td>\n      <td>28000000</td>\n    </tr>\n  </tbody>\n</table>\n</div>"
     },
     "execution_count": 177,
     "metadata": {},
     "output_type": "execute_result"
    }
   ],
   "source": [
    "nba.sort_index().loc[:\"Al Horford\"]"
   ]
  },
  {
   "cell_type": "markdown",
   "metadata": {},
   "source": [
    "### Extracting Rows by Index Position"
   ]
  },
  {
   "cell_type": "code",
   "execution_count": 178,
   "metadata": {
    "ExecuteTime": {
     "end_time": "2023-10-20T16:55:18.362829Z",
     "start_time": "2023-10-20T16:55:15.524923Z"
    }
   },
   "outputs": [
    {
     "data": {
      "text/plain": "Team             Denver Nuggets\nPosition                     PF\nBirthday    1999-04-03 00:00:00\nSalary                  1416852\nName: Jarred Vanderbilt, dtype: object"
     },
     "execution_count": 178,
     "metadata": {},
     "output_type": "execute_result"
    }
   ],
   "source": [
    "nba.iloc[300]"
   ]
  },
  {
   "cell_type": "code",
   "execution_count": 179,
   "metadata": {
    "ExecuteTime": {
     "end_time": "2023-10-20T16:55:18.363228Z",
     "start_time": "2023-10-20T16:55:15.532835Z"
    }
   },
   "outputs": [
    {
     "data": {
      "text/plain": "                                Team Position   Birthday   Salary\nName                                                             \nBrian Bowen           Indiana Pacers       SG 1998-10-02    79568\nMarco Belinelli    San Antonio Spurs       SF 1986-03-25  5846154\nJarred Vanderbilt     Denver Nuggets       PF 1999-04-03  1416852\nLouis King           Detroit Pistons        F 1999-04-06    79568",
      "text/html": "<div>\n<style scoped>\n    .dataframe tbody tr th:only-of-type {\n        vertical-align: middle;\n    }\n\n    .dataframe tbody tr th {\n        vertical-align: top;\n    }\n\n    .dataframe thead th {\n        text-align: right;\n    }\n</style>\n<table border=\"1\" class=\"dataframe\">\n  <thead>\n    <tr style=\"text-align: right;\">\n      <th></th>\n      <th>Team</th>\n      <th>Position</th>\n      <th>Birthday</th>\n      <th>Salary</th>\n    </tr>\n    <tr>\n      <th>Name</th>\n      <th></th>\n      <th></th>\n      <th></th>\n      <th></th>\n    </tr>\n  </thead>\n  <tbody>\n    <tr>\n      <th>Brian Bowen</th>\n      <td>Indiana Pacers</td>\n      <td>SG</td>\n      <td>1998-10-02</td>\n      <td>79568</td>\n    </tr>\n    <tr>\n      <th>Marco Belinelli</th>\n      <td>San Antonio Spurs</td>\n      <td>SF</td>\n      <td>1986-03-25</td>\n      <td>5846154</td>\n    </tr>\n    <tr>\n      <th>Jarred Vanderbilt</th>\n      <td>Denver Nuggets</td>\n      <td>PF</td>\n      <td>1999-04-03</td>\n      <td>1416852</td>\n    </tr>\n    <tr>\n      <th>Louis King</th>\n      <td>Detroit Pistons</td>\n      <td>F</td>\n      <td>1999-04-06</td>\n      <td>79568</td>\n    </tr>\n  </tbody>\n</table>\n</div>"
     },
     "execution_count": 179,
     "metadata": {},
     "output_type": "execute_result"
    }
   ],
   "source": [
    "nba.iloc[[100, 200, 300, 400]]"
   ]
  },
  {
   "cell_type": "code",
   "execution_count": 180,
   "metadata": {
    "ExecuteTime": {
     "end_time": "2023-10-20T16:55:18.363636Z",
     "start_time": "2023-10-20T16:55:15.540605Z"
    }
   },
   "outputs": [
    {
     "data": {
      "text/plain": "                                    Team Position   Birthday    Salary\nName                                                                  \nLouis King               Detroit Pistons        F 1999-04-06     79568\nKostas Antetokounmpo  Los Angeles Lakers       PF 1997-11-20     79568\nRodions Kurucs             Brooklyn Nets       PF 1998-02-05   1699236\nSpencer Dinwiddie          Brooklyn Nets       PG 1993-04-06  10605600",
      "text/html": "<div>\n<style scoped>\n    .dataframe tbody tr th:only-of-type {\n        vertical-align: middle;\n    }\n\n    .dataframe tbody tr th {\n        vertical-align: top;\n    }\n\n    .dataframe thead th {\n        text-align: right;\n    }\n</style>\n<table border=\"1\" class=\"dataframe\">\n  <thead>\n    <tr style=\"text-align: right;\">\n      <th></th>\n      <th>Team</th>\n      <th>Position</th>\n      <th>Birthday</th>\n      <th>Salary</th>\n    </tr>\n    <tr>\n      <th>Name</th>\n      <th></th>\n      <th></th>\n      <th></th>\n      <th></th>\n    </tr>\n  </thead>\n  <tbody>\n    <tr>\n      <th>Louis King</th>\n      <td>Detroit Pistons</td>\n      <td>F</td>\n      <td>1999-04-06</td>\n      <td>79568</td>\n    </tr>\n    <tr>\n      <th>Kostas Antetokounmpo</th>\n      <td>Los Angeles Lakers</td>\n      <td>PF</td>\n      <td>1997-11-20</td>\n      <td>79568</td>\n    </tr>\n    <tr>\n      <th>Rodions Kurucs</th>\n      <td>Brooklyn Nets</td>\n      <td>PF</td>\n      <td>1998-02-05</td>\n      <td>1699236</td>\n    </tr>\n    <tr>\n      <th>Spencer Dinwiddie</th>\n      <td>Brooklyn Nets</td>\n      <td>PG</td>\n      <td>1993-04-06</td>\n      <td>10605600</td>\n    </tr>\n  </tbody>\n</table>\n</div>"
     },
     "execution_count": 180,
     "metadata": {},
     "output_type": "execute_result"
    }
   ],
   "source": [
    "nba.iloc[400:404]"
   ]
  },
  {
   "cell_type": "code",
   "execution_count": 181,
   "metadata": {
    "ExecuteTime": {
     "end_time": "2023-10-20T16:55:18.364007Z",
     "start_time": "2023-10-20T16:55:15.548146Z"
    }
   },
   "outputs": [
    {
     "data": {
      "text/plain": "                              Team Position   Birthday   Salary\nName                                                           \nShake Milton    Philadelphia 76ers       SG 1996-09-26  1445697\nChristian Wood     Detroit Pistons       PF 1995-09-27  1645357",
      "text/html": "<div>\n<style scoped>\n    .dataframe tbody tr th:only-of-type {\n        vertical-align: middle;\n    }\n\n    .dataframe tbody tr th {\n        vertical-align: top;\n    }\n\n    .dataframe thead th {\n        text-align: right;\n    }\n</style>\n<table border=\"1\" class=\"dataframe\">\n  <thead>\n    <tr style=\"text-align: right;\">\n      <th></th>\n      <th>Team</th>\n      <th>Position</th>\n      <th>Birthday</th>\n      <th>Salary</th>\n    </tr>\n    <tr>\n      <th>Name</th>\n      <th></th>\n      <th></th>\n      <th></th>\n      <th></th>\n    </tr>\n  </thead>\n  <tbody>\n    <tr>\n      <th>Shake Milton</th>\n      <td>Philadelphia 76ers</td>\n      <td>SG</td>\n      <td>1996-09-26</td>\n      <td>1445697</td>\n    </tr>\n    <tr>\n      <th>Christian Wood</th>\n      <td>Detroit Pistons</td>\n      <td>PF</td>\n      <td>1995-09-27</td>\n      <td>1645357</td>\n    </tr>\n  </tbody>\n</table>\n</div>"
     },
     "execution_count": 181,
     "metadata": {},
     "output_type": "execute_result"
    }
   ],
   "source": [
    "nba.iloc[:2]"
   ]
  },
  {
   "cell_type": "code",
   "execution_count": 182,
   "metadata": {
    "ExecuteTime": {
     "end_time": "2023-10-20T16:55:18.373778Z",
     "start_time": "2023-10-20T16:55:15.555559Z"
    }
   },
   "outputs": [
    {
     "data": {
      "text/plain": "                              Team Position   Birthday    Salary\nName                                                            \nRobin Lopez        Milwaukee Bucks        C 1988-04-01   4767000\nCollin Sexton  Cleveland Cavaliers       PG 1999-01-04   4764960\nRicky Rubio           Phoenix Suns       PG 1990-10-21  16200000",
      "text/html": "<div>\n<style scoped>\n    .dataframe tbody tr th:only-of-type {\n        vertical-align: middle;\n    }\n\n    .dataframe tbody tr th {\n        vertical-align: top;\n    }\n\n    .dataframe thead th {\n        text-align: right;\n    }\n</style>\n<table border=\"1\" class=\"dataframe\">\n  <thead>\n    <tr style=\"text-align: right;\">\n      <th></th>\n      <th>Team</th>\n      <th>Position</th>\n      <th>Birthday</th>\n      <th>Salary</th>\n    </tr>\n    <tr>\n      <th>Name</th>\n      <th></th>\n      <th></th>\n      <th></th>\n      <th></th>\n    </tr>\n  </thead>\n  <tbody>\n    <tr>\n      <th>Robin Lopez</th>\n      <td>Milwaukee Bucks</td>\n      <td>C</td>\n      <td>1988-04-01</td>\n      <td>4767000</td>\n    </tr>\n    <tr>\n      <th>Collin Sexton</th>\n      <td>Cleveland Cavaliers</td>\n      <td>PG</td>\n      <td>1999-01-04</td>\n      <td>4764960</td>\n    </tr>\n    <tr>\n      <th>Ricky Rubio</th>\n      <td>Phoenix Suns</td>\n      <td>PG</td>\n      <td>1990-10-21</td>\n      <td>16200000</td>\n    </tr>\n  </tbody>\n</table>\n</div>"
     },
     "execution_count": 182,
     "metadata": {},
     "output_type": "execute_result"
    }
   ],
   "source": [
    "nba.iloc[447:]"
   ]
  },
  {
   "cell_type": "code",
   "execution_count": 183,
   "metadata": {
    "ExecuteTime": {
     "end_time": "2023-10-20T16:55:18.374242Z",
     "start_time": "2023-10-20T16:55:15.563311Z"
    }
   },
   "outputs": [
    {
     "data": {
      "text/plain": "                                    Team Position   Birthday   Salary\nName                                                                 \nJared Dudley          Los Angeles Lakers       PF 1985-07-10  2564753\nMax Strus                  Chicago Bulls       SG 1996-03-28    79568\nKevon Looney       Golden State Warriors        C 1996-02-06  4464286\nWilly Hernangomez      Charlotte Hornets        C 1994-05-27  1557250",
      "text/html": "<div>\n<style scoped>\n    .dataframe tbody tr th:only-of-type {\n        vertical-align: middle;\n    }\n\n    .dataframe tbody tr th {\n        vertical-align: top;\n    }\n\n    .dataframe thead th {\n        text-align: right;\n    }\n</style>\n<table border=\"1\" class=\"dataframe\">\n  <thead>\n    <tr style=\"text-align: right;\">\n      <th></th>\n      <th>Team</th>\n      <th>Position</th>\n      <th>Birthday</th>\n      <th>Salary</th>\n    </tr>\n    <tr>\n      <th>Name</th>\n      <th></th>\n      <th></th>\n      <th></th>\n      <th></th>\n    </tr>\n  </thead>\n  <tbody>\n    <tr>\n      <th>Jared Dudley</th>\n      <td>Los Angeles Lakers</td>\n      <td>PF</td>\n      <td>1985-07-10</td>\n      <td>2564753</td>\n    </tr>\n    <tr>\n      <th>Max Strus</th>\n      <td>Chicago Bulls</td>\n      <td>SG</td>\n      <td>1996-03-28</td>\n      <td>79568</td>\n    </tr>\n    <tr>\n      <th>Kevon Looney</th>\n      <td>Golden State Warriors</td>\n      <td>C</td>\n      <td>1996-02-06</td>\n      <td>4464286</td>\n    </tr>\n    <tr>\n      <th>Willy Hernangomez</th>\n      <td>Charlotte Hornets</td>\n      <td>C</td>\n      <td>1994-05-27</td>\n      <td>1557250</td>\n    </tr>\n  </tbody>\n</table>\n</div>"
     },
     "execution_count": 183,
     "metadata": {},
     "output_type": "execute_result"
    }
   ],
   "source": [
    "nba.iloc[-10:-6]"
   ]
  },
  {
   "cell_type": "code",
   "execution_count": 184,
   "metadata": {
    "ExecuteTime": {
     "end_time": "2023-10-20T16:55:18.374643Z",
     "start_time": "2023-10-20T16:55:15.566557Z"
    }
   },
   "outputs": [
    {
     "data": {
      "text/plain": "                             Team Position   Birthday    Salary\nName                                                           \nShake Milton   Philadelphia 76ers       SG 1996-09-26   1445697\nPJ Washington   Charlotte Hornets       PF 1998-08-23   3831840\nMarial Shayok  Philadelphia 76ers        G 1995-07-26     79568\nKendrick Nunn          Miami Heat       SG 1995-08-03   1416852\nBrook Lopez       Milwaukee Bucks        C 1988-04-01  12093024",
      "text/html": "<div>\n<style scoped>\n    .dataframe tbody tr th:only-of-type {\n        vertical-align: middle;\n    }\n\n    .dataframe tbody tr th {\n        vertical-align: top;\n    }\n\n    .dataframe thead th {\n        text-align: right;\n    }\n</style>\n<table border=\"1\" class=\"dataframe\">\n  <thead>\n    <tr style=\"text-align: right;\">\n      <th></th>\n      <th>Team</th>\n      <th>Position</th>\n      <th>Birthday</th>\n      <th>Salary</th>\n    </tr>\n    <tr>\n      <th>Name</th>\n      <th></th>\n      <th></th>\n      <th></th>\n      <th></th>\n    </tr>\n  </thead>\n  <tbody>\n    <tr>\n      <th>Shake Milton</th>\n      <td>Philadelphia 76ers</td>\n      <td>SG</td>\n      <td>1996-09-26</td>\n      <td>1445697</td>\n    </tr>\n    <tr>\n      <th>PJ Washington</th>\n      <td>Charlotte Hornets</td>\n      <td>PF</td>\n      <td>1998-08-23</td>\n      <td>3831840</td>\n    </tr>\n    <tr>\n      <th>Marial Shayok</th>\n      <td>Philadelphia 76ers</td>\n      <td>G</td>\n      <td>1995-07-26</td>\n      <td>79568</td>\n    </tr>\n    <tr>\n      <th>Kendrick Nunn</th>\n      <td>Miami Heat</td>\n      <td>SG</td>\n      <td>1995-08-03</td>\n      <td>1416852</td>\n    </tr>\n    <tr>\n      <th>Brook Lopez</th>\n      <td>Milwaukee Bucks</td>\n      <td>C</td>\n      <td>1988-04-01</td>\n      <td>12093024</td>\n    </tr>\n  </tbody>\n</table>\n</div>"
     },
     "execution_count": 184,
     "metadata": {},
     "output_type": "execute_result"
    }
   ],
   "source": [
    "nba.iloc[0:10:2]"
   ]
  },
  {
   "cell_type": "markdown",
   "metadata": {},
   "source": [
    "### Extracting Values from Specific Columns"
   ]
  },
  {
   "cell_type": "code",
   "execution_count": 185,
   "metadata": {
    "ExecuteTime": {
     "end_time": "2023-10-20T16:55:18.374926Z",
     "start_time": "2023-10-20T16:55:15.578551Z"
    }
   },
   "outputs": [
    {
     "data": {
      "text/plain": "'Milwaukee Bucks'"
     },
     "execution_count": 185,
     "metadata": {},
     "output_type": "execute_result"
    }
   ],
   "source": [
    "nba.loc[\"Giannis Antetokounmpo\", \"Team\"]"
   ]
  },
  {
   "cell_type": "code",
   "execution_count": 186,
   "metadata": {
    "ExecuteTime": {
     "end_time": "2023-10-20T16:55:18.375791Z",
     "start_time": "2023-10-20T16:55:15.582925Z"
    }
   },
   "outputs": [
    {
     "data": {
      "text/plain": "Position                     PG\nBirthday    1989-08-26 00:00:00\nName: James Harden, dtype: object"
     },
     "execution_count": 186,
     "metadata": {},
     "output_type": "execute_result"
    }
   ],
   "source": [
    "nba.loc[\"James Harden\", [\"Position\", \"Birthday\"]]"
   ]
  },
  {
   "cell_type": "code",
   "execution_count": 187,
   "metadata": {
    "ExecuteTime": {
     "end_time": "2023-10-20T16:55:18.376148Z",
     "start_time": "2023-10-20T16:55:15.592881Z"
    }
   },
   "outputs": [
    {
     "data": {
      "text/plain": "                                 Team    Salary\nName                                           \nRussell Westbrook     Houston Rockets  38506482\nAnthony Davis      Los Angeles Lakers  27093019",
      "text/html": "<div>\n<style scoped>\n    .dataframe tbody tr th:only-of-type {\n        vertical-align: middle;\n    }\n\n    .dataframe tbody tr th {\n        vertical-align: top;\n    }\n\n    .dataframe thead th {\n        text-align: right;\n    }\n</style>\n<table border=\"1\" class=\"dataframe\">\n  <thead>\n    <tr style=\"text-align: right;\">\n      <th></th>\n      <th>Team</th>\n      <th>Salary</th>\n    </tr>\n    <tr>\n      <th>Name</th>\n      <th></th>\n      <th></th>\n    </tr>\n  </thead>\n  <tbody>\n    <tr>\n      <th>Russell Westbrook</th>\n      <td>Houston Rockets</td>\n      <td>38506482</td>\n    </tr>\n    <tr>\n      <th>Anthony Davis</th>\n      <td>Los Angeles Lakers</td>\n      <td>27093019</td>\n    </tr>\n  </tbody>\n</table>\n</div>"
     },
     "execution_count": 187,
     "metadata": {},
     "output_type": "execute_result"
    }
   ],
   "source": [
    "nba.loc[\n",
    "    [\"Russell Westbrook\", \"Anthony Davis\"],\n",
    "    [\"Team\", \"Salary\"]\n",
    "]"
   ]
  },
  {
   "cell_type": "code",
   "execution_count": 188,
   "metadata": {
    "ExecuteTime": {
     "end_time": "2023-10-20T16:55:18.376433Z",
     "start_time": "2023-10-20T16:55:15.599327Z"
    }
   },
   "outputs": [
    {
     "data": {
      "text/plain": "Position                      C\nBirthday    1994-03-16 00:00:00\nSalary                 27504630\nName: Joel Embiid, dtype: object"
     },
     "execution_count": 188,
     "metadata": {},
     "output_type": "execute_result"
    }
   ],
   "source": [
    "nba.loc[\"Joel Embiid\", \"Position\":\"Salary\"]"
   ]
  },
  {
   "cell_type": "code",
   "execution_count": 189,
   "metadata": {
    "ExecuteTime": {
     "end_time": "2023-10-20T16:55:18.376825Z",
     "start_time": "2023-10-20T16:55:15.619224Z"
    }
   },
   "outputs": [
    {
     "data": {
      "text/plain": "Series([], Name: Joel Embiid, dtype: object)"
     },
     "execution_count": 189,
     "metadata": {},
     "output_type": "execute_result"
    }
   ],
   "source": [
    "nba.loc[\"Joel Embiid\", \"Salary\":\"Position\"]"
   ]
  },
  {
   "cell_type": "code",
   "execution_count": 190,
   "metadata": {
    "ExecuteTime": {
     "end_time": "2023-10-20T16:55:18.377201Z",
     "start_time": "2023-10-20T16:55:15.619586Z"
    }
   },
   "outputs": [
    {
     "data": {
      "text/plain": "796806"
     },
     "execution_count": 190,
     "metadata": {},
     "output_type": "execute_result"
    }
   ],
   "source": [
    "nba.iloc[57, 3]"
   ]
  },
  {
   "cell_type": "code",
   "execution_count": 191,
   "metadata": {
    "ExecuteTime": {
     "end_time": "2023-10-20T16:55:18.377610Z",
     "start_time": "2023-10-20T16:55:15.619782Z"
    }
   },
   "outputs": [
    {
     "data": {
      "text/plain": "                             Team Position   Birthday\nName                                                 \nBrian Bowen        Indiana Pacers       SG 1998-10-02\nAaron Holiday      Indiana Pacers       PG 1996-09-30\nTroy Daniels   Los Angeles Lakers       SG 1991-07-15\nBuddy Hield      Sacramento Kings       SG 1992-12-17",
      "text/html": "<div>\n<style scoped>\n    .dataframe tbody tr th:only-of-type {\n        vertical-align: middle;\n    }\n\n    .dataframe tbody tr th {\n        vertical-align: top;\n    }\n\n    .dataframe thead th {\n        text-align: right;\n    }\n</style>\n<table border=\"1\" class=\"dataframe\">\n  <thead>\n    <tr style=\"text-align: right;\">\n      <th></th>\n      <th>Team</th>\n      <th>Position</th>\n      <th>Birthday</th>\n    </tr>\n    <tr>\n      <th>Name</th>\n      <th></th>\n      <th></th>\n      <th></th>\n    </tr>\n  </thead>\n  <tbody>\n    <tr>\n      <th>Brian Bowen</th>\n      <td>Indiana Pacers</td>\n      <td>SG</td>\n      <td>1998-10-02</td>\n    </tr>\n    <tr>\n      <th>Aaron Holiday</th>\n      <td>Indiana Pacers</td>\n      <td>PG</td>\n      <td>1996-09-30</td>\n    </tr>\n    <tr>\n      <th>Troy Daniels</th>\n      <td>Los Angeles Lakers</td>\n      <td>SG</td>\n      <td>1991-07-15</td>\n    </tr>\n    <tr>\n      <th>Buddy Hield</th>\n      <td>Sacramento Kings</td>\n      <td>SG</td>\n      <td>1992-12-17</td>\n    </tr>\n  </tbody>\n</table>\n</div>"
     },
     "execution_count": 191,
     "metadata": {},
     "output_type": "execute_result"
    }
   ],
   "source": [
    "nba.iloc[100:104, :3]"
   ]
  },
  {
   "cell_type": "code",
   "execution_count": 192,
   "metadata": {
    "ExecuteTime": {
     "end_time": "2023-10-20T16:55:18.377876Z",
     "start_time": "2023-10-20T16:55:15.630168Z"
    }
   },
   "outputs": [
    {
     "data": {
      "text/plain": "Timestamp('1992-08-01 00:00:00')"
     },
     "execution_count": 192,
     "metadata": {},
     "output_type": "execute_result"
    }
   ],
   "source": [
    "nba.at[\"Austin Rivers\", \"Birthday\"]"
   ]
  },
  {
   "cell_type": "code",
   "execution_count": 193,
   "metadata": {
    "ExecuteTime": {
     "end_time": "2023-10-20T16:55:18.382281Z",
     "start_time": "2023-10-20T16:55:15.634029Z"
    }
   },
   "outputs": [
    {
     "data": {
      "text/plain": "'PF'"
     },
     "execution_count": 193,
     "metadata": {},
     "output_type": "execute_result"
    }
   ],
   "source": [
    "nba.iat[263, 1]"
   ]
  },
  {
   "cell_type": "code",
   "execution_count": 194,
   "metadata": {
    "ExecuteTime": {
     "end_time": "2023-10-20T16:55:22.791271Z",
     "start_time": "2023-10-20T16:55:15.670362Z"
    }
   },
   "outputs": [
    {
     "name": "stdout",
     "output_type": "stream",
     "text": [
      "7.82 µs ± 668 ns per loop (mean ± std. dev. of 7 runs, 100,000 loops each)\n"
     ]
    }
   ],
   "source": [
    "%%timeit\n",
    "nba.at[\"Austin Rivers\", \"Birthday\"]"
   ]
  },
  {
   "cell_type": "code",
   "execution_count": 195,
   "metadata": {
    "ExecuteTime": {
     "end_time": "2023-10-20T16:55:31.518912Z",
     "start_time": "2023-10-20T16:55:21.973052Z"
    }
   },
   "outputs": [
    {
     "name": "stdout",
     "output_type": "stream",
     "text": [
      "11.7 µs ± 1.07 µs per loop (mean ± std. dev. of 7 runs, 100,000 loops each)\n"
     ]
    }
   ],
   "source": [
    "%%timeit\n",
    "nba.loc[\"Austin Rivers\", \"Birthday\"]"
   ]
  },
  {
   "cell_type": "code",
   "execution_count": 196,
   "metadata": {
    "ExecuteTime": {
     "end_time": "2023-10-20T16:55:41.790392Z",
     "start_time": "2023-10-20T16:55:31.557352Z"
    }
   },
   "outputs": [
    {
     "name": "stdout",
     "output_type": "stream",
     "text": [
      "12.6 µs ± 327 ns per loop (mean ± std. dev. of 7 runs, 100,000 loops each)\n"
     ]
    }
   ],
   "source": [
    "%%timeit\n",
    "nba.iat[263, 1]"
   ]
  },
  {
   "cell_type": "code",
   "execution_count": 197,
   "metadata": {
    "ExecuteTime": {
     "end_time": "2023-10-20T16:55:55.549840Z",
     "start_time": "2023-10-20T16:55:41.822054Z"
    }
   },
   "outputs": [
    {
     "name": "stdout",
     "output_type": "stream",
     "text": [
      "17 µs ± 550 ns per loop (mean ± std. dev. of 7 runs, 100,000 loops each)\n"
     ]
    }
   ],
   "source": [
    "%%timeit\n",
    "nba.iloc[263, 1]"
   ]
  },
  {
   "cell_type": "markdown",
   "metadata": {},
   "source": [
    "## Extracting Values from Series"
   ]
  },
  {
   "cell_type": "code",
   "execution_count": 198,
   "metadata": {
    "ExecuteTime": {
     "end_time": "2023-10-20T16:55:55.565538Z",
     "start_time": "2023-10-20T16:55:55.548178Z"
    }
   },
   "outputs": [
    {
     "data": {
      "text/plain": "29802321"
     },
     "execution_count": 198,
     "metadata": {},
     "output_type": "execute_result"
    }
   ],
   "source": [
    "nba[\"Salary\"].loc[\"Damian Lillard\"]"
   ]
  },
  {
   "cell_type": "code",
   "execution_count": 199,
   "metadata": {
    "ExecuteTime": {
     "end_time": "2023-10-20T16:55:55.566632Z",
     "start_time": "2023-10-20T16:55:55.552273Z"
    }
   },
   "outputs": [
    {
     "data": {
      "text/plain": "29802321"
     },
     "execution_count": 199,
     "metadata": {},
     "output_type": "execute_result"
    }
   ],
   "source": [
    "nba[\"Salary\"].at[\"Damian Lillard\"]"
   ]
  },
  {
   "cell_type": "code",
   "execution_count": 200,
   "metadata": {
    "ExecuteTime": {
     "end_time": "2023-10-20T16:55:55.566941Z",
     "start_time": "2023-10-20T16:55:55.556754Z"
    }
   },
   "outputs": [
    {
     "data": {
      "text/plain": "2033160"
     },
     "execution_count": 200,
     "metadata": {},
     "output_type": "execute_result"
    }
   ],
   "source": [
    "nba[\"Salary\"].iloc[234]"
   ]
  },
  {
   "cell_type": "code",
   "execution_count": 201,
   "metadata": {
    "ExecuteTime": {
     "end_time": "2023-10-20T16:55:55.567216Z",
     "start_time": "2023-10-20T16:55:55.560445Z"
    }
   },
   "outputs": [
    {
     "data": {
      "text/plain": "2033160"
     },
     "execution_count": 201,
     "metadata": {},
     "output_type": "execute_result"
    }
   ],
   "source": [
    "nba[\"Salary\"].iat[234]"
   ]
  },
  {
   "cell_type": "markdown",
   "metadata": {},
   "source": [
    "## Renaming Columns or Rows"
   ]
  },
  {
   "cell_type": "code",
   "execution_count": 202,
   "metadata": {
    "ExecuteTime": {
     "end_time": "2023-10-20T16:55:55.736226Z",
     "start_time": "2023-10-20T16:55:55.565429Z"
    }
   },
   "outputs": [
    {
     "data": {
      "text/plain": "Index(['Team', 'Position', 'Birthday', 'Salary'], dtype='object')"
     },
     "execution_count": 202,
     "metadata": {},
     "output_type": "execute_result"
    }
   ],
   "source": [
    "nba.columns"
   ]
  },
  {
   "cell_type": "code",
   "execution_count": 203,
   "metadata": {
    "ExecuteTime": {
     "end_time": "2023-10-20T16:55:55.737726Z",
     "start_time": "2023-10-20T16:55:55.572747Z"
    }
   },
   "outputs": [
    {
     "data": {
      "text/plain": "                            Team Position Date of Birth      Pay\nName                                                            \nShake Milton  Philadelphia 76ers       SG    1996-09-26  1445697",
      "text/html": "<div>\n<style scoped>\n    .dataframe tbody tr th:only-of-type {\n        vertical-align: middle;\n    }\n\n    .dataframe tbody tr th {\n        vertical-align: top;\n    }\n\n    .dataframe thead th {\n        text-align: right;\n    }\n</style>\n<table border=\"1\" class=\"dataframe\">\n  <thead>\n    <tr style=\"text-align: right;\">\n      <th></th>\n      <th>Team</th>\n      <th>Position</th>\n      <th>Date of Birth</th>\n      <th>Pay</th>\n    </tr>\n    <tr>\n      <th>Name</th>\n      <th></th>\n      <th></th>\n      <th></th>\n      <th></th>\n    </tr>\n  </thead>\n  <tbody>\n    <tr>\n      <th>Shake Milton</th>\n      <td>Philadelphia 76ers</td>\n      <td>SG</td>\n      <td>1996-09-26</td>\n      <td>1445697</td>\n    </tr>\n  </tbody>\n</table>\n</div>"
     },
     "execution_count": 203,
     "metadata": {},
     "output_type": "execute_result"
    }
   ],
   "source": [
    "nba.columns = [\"Team\", \"Position\", \"Date of Birth\", \"Pay\"]\n",
    "nba.head(1)"
   ]
  },
  {
   "cell_type": "code",
   "execution_count": 204,
   "metadata": {
    "ExecuteTime": {
     "end_time": "2023-10-20T16:55:55.739315Z",
     "start_time": "2023-10-20T16:55:55.582557Z"
    }
   },
   "outputs": [
    {
     "data": {
      "text/plain": "                               Team Position   Birthday       Pay\nName                                                             \nShake Milton     Philadelphia 76ers       SG 1996-09-26   1445697\nChristian Wood      Detroit Pistons       PF 1995-09-27   1645357\nPJ Washington     Charlotte Hornets       PF 1998-08-23   3831840\nDerrick Rose        Detroit Pistons       PG 1988-10-04   7317074\nMarial Shayok    Philadelphia 76ers        G 1995-07-26     79568\n...                             ...      ...        ...       ...\nAustin Rivers       Houston Rockets       PG 1992-08-01   2174310\nHarry Giles        Sacramento Kings       PF 1998-04-22   2578800\nRobin Lopez         Milwaukee Bucks        C 1988-04-01   4767000\nCollin Sexton   Cleveland Cavaliers       PG 1999-01-04   4764960\nRicky Rubio            Phoenix Suns       PG 1990-10-21  16200000\n\n[450 rows x 4 columns]",
      "text/html": "<div>\n<style scoped>\n    .dataframe tbody tr th:only-of-type {\n        vertical-align: middle;\n    }\n\n    .dataframe tbody tr th {\n        vertical-align: top;\n    }\n\n    .dataframe thead th {\n        text-align: right;\n    }\n</style>\n<table border=\"1\" class=\"dataframe\">\n  <thead>\n    <tr style=\"text-align: right;\">\n      <th></th>\n      <th>Team</th>\n      <th>Position</th>\n      <th>Birthday</th>\n      <th>Pay</th>\n    </tr>\n    <tr>\n      <th>Name</th>\n      <th></th>\n      <th></th>\n      <th></th>\n      <th></th>\n    </tr>\n  </thead>\n  <tbody>\n    <tr>\n      <th>Shake Milton</th>\n      <td>Philadelphia 76ers</td>\n      <td>SG</td>\n      <td>1996-09-26</td>\n      <td>1445697</td>\n    </tr>\n    <tr>\n      <th>Christian Wood</th>\n      <td>Detroit Pistons</td>\n      <td>PF</td>\n      <td>1995-09-27</td>\n      <td>1645357</td>\n    </tr>\n    <tr>\n      <th>PJ Washington</th>\n      <td>Charlotte Hornets</td>\n      <td>PF</td>\n      <td>1998-08-23</td>\n      <td>3831840</td>\n    </tr>\n    <tr>\n      <th>Derrick Rose</th>\n      <td>Detroit Pistons</td>\n      <td>PG</td>\n      <td>1988-10-04</td>\n      <td>7317074</td>\n    </tr>\n    <tr>\n      <th>Marial Shayok</th>\n      <td>Philadelphia 76ers</td>\n      <td>G</td>\n      <td>1995-07-26</td>\n      <td>79568</td>\n    </tr>\n    <tr>\n      <th>...</th>\n      <td>...</td>\n      <td>...</td>\n      <td>...</td>\n      <td>...</td>\n    </tr>\n    <tr>\n      <th>Austin Rivers</th>\n      <td>Houston Rockets</td>\n      <td>PG</td>\n      <td>1992-08-01</td>\n      <td>2174310</td>\n    </tr>\n    <tr>\n      <th>Harry Giles</th>\n      <td>Sacramento Kings</td>\n      <td>PF</td>\n      <td>1998-04-22</td>\n      <td>2578800</td>\n    </tr>\n    <tr>\n      <th>Robin Lopez</th>\n      <td>Milwaukee Bucks</td>\n      <td>C</td>\n      <td>1988-04-01</td>\n      <td>4767000</td>\n    </tr>\n    <tr>\n      <th>Collin Sexton</th>\n      <td>Cleveland Cavaliers</td>\n      <td>PG</td>\n      <td>1999-01-04</td>\n      <td>4764960</td>\n    </tr>\n    <tr>\n      <th>Ricky Rubio</th>\n      <td>Phoenix Suns</td>\n      <td>PG</td>\n      <td>1990-10-21</td>\n      <td>16200000</td>\n    </tr>\n  </tbody>\n</table>\n<p>450 rows × 4 columns</p>\n</div>"
     },
     "execution_count": 204,
     "metadata": {},
     "output_type": "execute_result"
    }
   ],
   "source": [
    "nba.rename(columns={\"Date of Birth\": \"Birthday\"})"
   ]
  },
  {
   "cell_type": "code",
   "execution_count": 205,
   "metadata": {
    "ExecuteTime": {
     "end_time": "2023-10-20T16:55:55.739520Z",
     "start_time": "2023-10-20T16:55:55.587482Z"
    }
   },
   "outputs": [],
   "source": [
    "nba = nba.rename(columns={\"Date of Birth\": \"Birthday\"})"
   ]
  },
  {
   "cell_type": "code",
   "execution_count": 206,
   "metadata": {
    "ExecuteTime": {
     "end_time": "2023-10-20T16:55:55.740215Z",
     "start_time": "2023-10-20T16:55:55.592337Z"
    }
   },
   "outputs": [
    {
     "data": {
      "text/plain": "Team            Milwaukee Bucks\nPosition                     PF\nBirthday    1994-12-06 00:00:00\nPay                    25842697\nName: Giannis Antetokounmpo, dtype: object"
     },
     "execution_count": 206,
     "metadata": {},
     "output_type": "execute_result"
    }
   ],
   "source": [
    "nba.loc[\"Giannis Antetokounmpo\"]"
   ]
  },
  {
   "cell_type": "code",
   "execution_count": 207,
   "metadata": {
    "ExecuteTime": {
     "end_time": "2023-10-20T16:55:55.740484Z",
     "start_time": "2023-10-20T16:55:55.598321Z"
    }
   },
   "outputs": [],
   "source": [
    "nba = nba.rename(\n",
    "    index={\"Giannis Antetokounmpo\": \"Greek Freak\"}\n",
    ")"
   ]
  },
  {
   "cell_type": "code",
   "execution_count": 208,
   "metadata": {
    "ExecuteTime": {
     "end_time": "2023-10-20T16:55:55.741369Z",
     "start_time": "2023-10-20T16:55:55.603926Z"
    }
   },
   "outputs": [
    {
     "data": {
      "text/plain": "Team            Milwaukee Bucks\nPosition                     PF\nBirthday    1994-12-06 00:00:00\nPay                    25842697\nName: Greek Freak, dtype: object"
     },
     "execution_count": 208,
     "metadata": {},
     "output_type": "execute_result"
    }
   ],
   "source": [
    "nba.loc[\"Greek Freak\"]"
   ]
  },
  {
   "cell_type": "markdown",
   "metadata": {},
   "source": [
    "## Resetting an Index"
   ]
  },
  {
   "cell_type": "code",
   "execution_count": 209,
   "metadata": {
    "ExecuteTime": {
     "end_time": "2023-10-20T16:55:55.742512Z",
     "start_time": "2023-10-20T16:55:55.644275Z"
    }
   },
   "outputs": [
    {
     "data": {
      "text/plain": "                   Position   Birthday      Pay\nTeam                                           \nPhiladelphia 76ers       SG 1996-09-26  1445697\nDetroit Pistons          PF 1995-09-27  1645357\nCharlotte Hornets        PF 1998-08-23  3831840\nDetroit Pistons          PG 1988-10-04  7317074\nPhiladelphia 76ers        G 1995-07-26    79568",
      "text/html": "<div>\n<style scoped>\n    .dataframe tbody tr th:only-of-type {\n        vertical-align: middle;\n    }\n\n    .dataframe tbody tr th {\n        vertical-align: top;\n    }\n\n    .dataframe thead th {\n        text-align: right;\n    }\n</style>\n<table border=\"1\" class=\"dataframe\">\n  <thead>\n    <tr style=\"text-align: right;\">\n      <th></th>\n      <th>Position</th>\n      <th>Birthday</th>\n      <th>Pay</th>\n    </tr>\n    <tr>\n      <th>Team</th>\n      <th></th>\n      <th></th>\n      <th></th>\n    </tr>\n  </thead>\n  <tbody>\n    <tr>\n      <th>Philadelphia 76ers</th>\n      <td>SG</td>\n      <td>1996-09-26</td>\n      <td>1445697</td>\n    </tr>\n    <tr>\n      <th>Detroit Pistons</th>\n      <td>PF</td>\n      <td>1995-09-27</td>\n      <td>1645357</td>\n    </tr>\n    <tr>\n      <th>Charlotte Hornets</th>\n      <td>PF</td>\n      <td>1998-08-23</td>\n      <td>3831840</td>\n    </tr>\n    <tr>\n      <th>Detroit Pistons</th>\n      <td>PG</td>\n      <td>1988-10-04</td>\n      <td>7317074</td>\n    </tr>\n    <tr>\n      <th>Philadelphia 76ers</th>\n      <td>G</td>\n      <td>1995-07-26</td>\n      <td>79568</td>\n    </tr>\n  </tbody>\n</table>\n</div>"
     },
     "execution_count": 209,
     "metadata": {},
     "output_type": "execute_result"
    }
   ],
   "source": [
    "nba.set_index(\"Team\").head()"
   ]
  },
  {
   "cell_type": "code",
   "execution_count": 210,
   "metadata": {
    "ExecuteTime": {
     "end_time": "2023-10-20T16:55:55.743043Z",
     "start_time": "2023-10-20T16:55:55.656828Z"
    }
   },
   "outputs": [
    {
     "data": {
      "text/plain": "             Name                Team Position   Birthday      Pay\n0    Shake Milton  Philadelphia 76ers       SG 1996-09-26  1445697\n1  Christian Wood     Detroit Pistons       PF 1995-09-27  1645357\n2   PJ Washington   Charlotte Hornets       PF 1998-08-23  3831840\n3    Derrick Rose     Detroit Pistons       PG 1988-10-04  7317074\n4   Marial Shayok  Philadelphia 76ers        G 1995-07-26    79568",
      "text/html": "<div>\n<style scoped>\n    .dataframe tbody tr th:only-of-type {\n        vertical-align: middle;\n    }\n\n    .dataframe tbody tr th {\n        vertical-align: top;\n    }\n\n    .dataframe thead th {\n        text-align: right;\n    }\n</style>\n<table border=\"1\" class=\"dataframe\">\n  <thead>\n    <tr style=\"text-align: right;\">\n      <th></th>\n      <th>Name</th>\n      <th>Team</th>\n      <th>Position</th>\n      <th>Birthday</th>\n      <th>Pay</th>\n    </tr>\n  </thead>\n  <tbody>\n    <tr>\n      <th>0</th>\n      <td>Shake Milton</td>\n      <td>Philadelphia 76ers</td>\n      <td>SG</td>\n      <td>1996-09-26</td>\n      <td>1445697</td>\n    </tr>\n    <tr>\n      <th>1</th>\n      <td>Christian Wood</td>\n      <td>Detroit Pistons</td>\n      <td>PF</td>\n      <td>1995-09-27</td>\n      <td>1645357</td>\n    </tr>\n    <tr>\n      <th>2</th>\n      <td>PJ Washington</td>\n      <td>Charlotte Hornets</td>\n      <td>PF</td>\n      <td>1998-08-23</td>\n      <td>3831840</td>\n    </tr>\n    <tr>\n      <th>3</th>\n      <td>Derrick Rose</td>\n      <td>Detroit Pistons</td>\n      <td>PG</td>\n      <td>1988-10-04</td>\n      <td>7317074</td>\n    </tr>\n    <tr>\n      <th>4</th>\n      <td>Marial Shayok</td>\n      <td>Philadelphia 76ers</td>\n      <td>G</td>\n      <td>1995-07-26</td>\n      <td>79568</td>\n    </tr>\n  </tbody>\n</table>\n</div>"
     },
     "execution_count": 210,
     "metadata": {},
     "output_type": "execute_result"
    }
   ],
   "source": [
    "nba.reset_index().head()"
   ]
  },
  {
   "cell_type": "code",
   "execution_count": 211,
   "metadata": {
    "ExecuteTime": {
     "end_time": "2023-10-20T16:55:55.743550Z",
     "start_time": "2023-10-20T16:55:55.667805Z"
    }
   },
   "outputs": [
    {
     "data": {
      "text/plain": "                              Name Position   Birthday      Pay\nTeam                                                           \nPhiladelphia 76ers    Shake Milton       SG 1996-09-26  1445697\nDetroit Pistons     Christian Wood       PF 1995-09-27  1645357\nCharlotte Hornets    PJ Washington       PF 1998-08-23  3831840\nDetroit Pistons       Derrick Rose       PG 1988-10-04  7317074\nPhiladelphia 76ers   Marial Shayok        G 1995-07-26    79568",
      "text/html": "<div>\n<style scoped>\n    .dataframe tbody tr th:only-of-type {\n        vertical-align: middle;\n    }\n\n    .dataframe tbody tr th {\n        vertical-align: top;\n    }\n\n    .dataframe thead th {\n        text-align: right;\n    }\n</style>\n<table border=\"1\" class=\"dataframe\">\n  <thead>\n    <tr style=\"text-align: right;\">\n      <th></th>\n      <th>Name</th>\n      <th>Position</th>\n      <th>Birthday</th>\n      <th>Pay</th>\n    </tr>\n    <tr>\n      <th>Team</th>\n      <th></th>\n      <th></th>\n      <th></th>\n      <th></th>\n    </tr>\n  </thead>\n  <tbody>\n    <tr>\n      <th>Philadelphia 76ers</th>\n      <td>Shake Milton</td>\n      <td>SG</td>\n      <td>1996-09-26</td>\n      <td>1445697</td>\n    </tr>\n    <tr>\n      <th>Detroit Pistons</th>\n      <td>Christian Wood</td>\n      <td>PF</td>\n      <td>1995-09-27</td>\n      <td>1645357</td>\n    </tr>\n    <tr>\n      <th>Charlotte Hornets</th>\n      <td>PJ Washington</td>\n      <td>PF</td>\n      <td>1998-08-23</td>\n      <td>3831840</td>\n    </tr>\n    <tr>\n      <th>Detroit Pistons</th>\n      <td>Derrick Rose</td>\n      <td>PG</td>\n      <td>1988-10-04</td>\n      <td>7317074</td>\n    </tr>\n    <tr>\n      <th>Philadelphia 76ers</th>\n      <td>Marial Shayok</td>\n      <td>G</td>\n      <td>1995-07-26</td>\n      <td>79568</td>\n    </tr>\n  </tbody>\n</table>\n</div>"
     },
     "execution_count": 211,
     "metadata": {},
     "output_type": "execute_result"
    }
   ],
   "source": [
    "nba.reset_index().set_index(\"Team\").head()"
   ]
  },
  {
   "cell_type": "code",
   "execution_count": 212,
   "metadata": {
    "ExecuteTime": {
     "end_time": "2023-10-20T16:55:55.755597Z",
     "start_time": "2023-10-20T16:55:55.673693Z"
    }
   },
   "outputs": [],
   "source": [
    "nba = nba.reset_index().set_index(\"Team\")"
   ]
  },
  {
   "cell_type": "markdown",
   "metadata": {},
   "source": [
    "## Coding Challenge"
   ]
  },
  {
   "cell_type": "code",
   "execution_count": 213,
   "metadata": {
    "scrolled": true,
    "ExecuteTime": {
     "end_time": "2023-10-20T16:55:55.843976Z",
     "start_time": "2023-10-20T16:55:55.677891Z"
    }
   },
   "outputs": [
    {
     "data": {
      "text/plain": "                    Name                  Team Position   Birthday   Salary\n0           Tremon Smith   Philadelphia Eagles       RB 1996-07-20   570000\n1         Shawn Williams    Cincinnati Bengals       SS 1991-05-13  3500000\n2            Adam Butler  New England Patriots       DT 1994-04-12   645000\n3            Derek Wolfe        Denver Broncos       DE 1990-02-24  8000000\n4              Jake Ryan  Jacksonville Jaguars      OLB 1992-02-27  1000000\n...                  ...                   ...      ...        ...      ...\n1650    Bashaud Breeland    Kansas City Chiefs       CB 1992-01-30   805000\n1651         Craig James   Philadelphia Eagles       CB 1996-04-29   570000\n1652  Jonotthan Harrison         New York Jets        C 1991-08-25  1500000\n1653         Chuma Edoga         New York Jets       OT 1997-05-25   495000\n1654        Tajae Sharpe      Tennessee Titans       WR 1994-12-23  2025000\n\n[1655 rows x 5 columns]",
      "text/html": "<div>\n<style scoped>\n    .dataframe tbody tr th:only-of-type {\n        vertical-align: middle;\n    }\n\n    .dataframe tbody tr th {\n        vertical-align: top;\n    }\n\n    .dataframe thead th {\n        text-align: right;\n    }\n</style>\n<table border=\"1\" class=\"dataframe\">\n  <thead>\n    <tr style=\"text-align: right;\">\n      <th></th>\n      <th>Name</th>\n      <th>Team</th>\n      <th>Position</th>\n      <th>Birthday</th>\n      <th>Salary</th>\n    </tr>\n  </thead>\n  <tbody>\n    <tr>\n      <th>0</th>\n      <td>Tremon Smith</td>\n      <td>Philadelphia Eagles</td>\n      <td>RB</td>\n      <td>1996-07-20</td>\n      <td>570000</td>\n    </tr>\n    <tr>\n      <th>1</th>\n      <td>Shawn Williams</td>\n      <td>Cincinnati Bengals</td>\n      <td>SS</td>\n      <td>1991-05-13</td>\n      <td>3500000</td>\n    </tr>\n    <tr>\n      <th>2</th>\n      <td>Adam Butler</td>\n      <td>New England Patriots</td>\n      <td>DT</td>\n      <td>1994-04-12</td>\n      <td>645000</td>\n    </tr>\n    <tr>\n      <th>3</th>\n      <td>Derek Wolfe</td>\n      <td>Denver Broncos</td>\n      <td>DE</td>\n      <td>1990-02-24</td>\n      <td>8000000</td>\n    </tr>\n    <tr>\n      <th>4</th>\n      <td>Jake Ryan</td>\n      <td>Jacksonville Jaguars</td>\n      <td>OLB</td>\n      <td>1992-02-27</td>\n      <td>1000000</td>\n    </tr>\n    <tr>\n      <th>...</th>\n      <td>...</td>\n      <td>...</td>\n      <td>...</td>\n      <td>...</td>\n      <td>...</td>\n    </tr>\n    <tr>\n      <th>1650</th>\n      <td>Bashaud Breeland</td>\n      <td>Kansas City Chiefs</td>\n      <td>CB</td>\n      <td>1992-01-30</td>\n      <td>805000</td>\n    </tr>\n    <tr>\n      <th>1651</th>\n      <td>Craig James</td>\n      <td>Philadelphia Eagles</td>\n      <td>CB</td>\n      <td>1996-04-29</td>\n      <td>570000</td>\n    </tr>\n    <tr>\n      <th>1652</th>\n      <td>Jonotthan Harrison</td>\n      <td>New York Jets</td>\n      <td>C</td>\n      <td>1991-08-25</td>\n      <td>1500000</td>\n    </tr>\n    <tr>\n      <th>1653</th>\n      <td>Chuma Edoga</td>\n      <td>New York Jets</td>\n      <td>OT</td>\n      <td>1997-05-25</td>\n      <td>495000</td>\n    </tr>\n    <tr>\n      <th>1654</th>\n      <td>Tajae Sharpe</td>\n      <td>Tennessee Titans</td>\n      <td>WR</td>\n      <td>1994-12-23</td>\n      <td>2025000</td>\n    </tr>\n  </tbody>\n</table>\n<p>1655 rows × 5 columns</p>\n</div>"
     },
     "execution_count": 213,
     "metadata": {},
     "output_type": "execute_result"
    }
   ],
   "source": [
    "nfl = pd.read_csv(\"data/nfl.csv\", parse_dates=[\"Birthday\"])\n",
    "nfl"
   ]
  },
  {
   "cell_type": "code",
   "execution_count": 214,
   "metadata": {
    "ExecuteTime": {
     "end_time": "2023-10-20T16:55:55.882590Z",
     "start_time": "2023-10-20T16:55:55.694654Z"
    }
   },
   "outputs": [
    {
     "data": {
      "text/plain": "                                    Team Position   Birthday   Salary\nName                                                                 \nTremon Smith         Philadelphia Eagles       RB 1996-07-20   570000\nShawn Williams        Cincinnati Bengals       SS 1991-05-13  3500000\nAdam Butler         New England Patriots       DT 1994-04-12   645000\nDerek Wolfe               Denver Broncos       DE 1990-02-24  8000000\nJake Ryan           Jacksonville Jaguars      OLB 1992-02-27  1000000\n...                                  ...      ...        ...      ...\nBashaud Breeland      Kansas City Chiefs       CB 1992-01-30   805000\nCraig James          Philadelphia Eagles       CB 1996-04-29   570000\nJonotthan Harrison         New York Jets        C 1991-08-25  1500000\nChuma Edoga                New York Jets       OT 1997-05-25   495000\nTajae Sharpe            Tennessee Titans       WR 1994-12-23  2025000\n\n[1655 rows x 4 columns]",
      "text/html": "<div>\n<style scoped>\n    .dataframe tbody tr th:only-of-type {\n        vertical-align: middle;\n    }\n\n    .dataframe tbody tr th {\n        vertical-align: top;\n    }\n\n    .dataframe thead th {\n        text-align: right;\n    }\n</style>\n<table border=\"1\" class=\"dataframe\">\n  <thead>\n    <tr style=\"text-align: right;\">\n      <th></th>\n      <th>Team</th>\n      <th>Position</th>\n      <th>Birthday</th>\n      <th>Salary</th>\n    </tr>\n    <tr>\n      <th>Name</th>\n      <th></th>\n      <th></th>\n      <th></th>\n      <th></th>\n    </tr>\n  </thead>\n  <tbody>\n    <tr>\n      <th>Tremon Smith</th>\n      <td>Philadelphia Eagles</td>\n      <td>RB</td>\n      <td>1996-07-20</td>\n      <td>570000</td>\n    </tr>\n    <tr>\n      <th>Shawn Williams</th>\n      <td>Cincinnati Bengals</td>\n      <td>SS</td>\n      <td>1991-05-13</td>\n      <td>3500000</td>\n    </tr>\n    <tr>\n      <th>Adam Butler</th>\n      <td>New England Patriots</td>\n      <td>DT</td>\n      <td>1994-04-12</td>\n      <td>645000</td>\n    </tr>\n    <tr>\n      <th>Derek Wolfe</th>\n      <td>Denver Broncos</td>\n      <td>DE</td>\n      <td>1990-02-24</td>\n      <td>8000000</td>\n    </tr>\n    <tr>\n      <th>Jake Ryan</th>\n      <td>Jacksonville Jaguars</td>\n      <td>OLB</td>\n      <td>1992-02-27</td>\n      <td>1000000</td>\n    </tr>\n    <tr>\n      <th>...</th>\n      <td>...</td>\n      <td>...</td>\n      <td>...</td>\n      <td>...</td>\n    </tr>\n    <tr>\n      <th>Bashaud Breeland</th>\n      <td>Kansas City Chiefs</td>\n      <td>CB</td>\n      <td>1992-01-30</td>\n      <td>805000</td>\n    </tr>\n    <tr>\n      <th>Craig James</th>\n      <td>Philadelphia Eagles</td>\n      <td>CB</td>\n      <td>1996-04-29</td>\n      <td>570000</td>\n    </tr>\n    <tr>\n      <th>Jonotthan Harrison</th>\n      <td>New York Jets</td>\n      <td>C</td>\n      <td>1991-08-25</td>\n      <td>1500000</td>\n    </tr>\n    <tr>\n      <th>Chuma Edoga</th>\n      <td>New York Jets</td>\n      <td>OT</td>\n      <td>1997-05-25</td>\n      <td>495000</td>\n    </tr>\n    <tr>\n      <th>Tajae Sharpe</th>\n      <td>Tennessee Titans</td>\n      <td>WR</td>\n      <td>1994-12-23</td>\n      <td>2025000</td>\n    </tr>\n  </tbody>\n</table>\n<p>1655 rows × 4 columns</p>\n</div>"
     },
     "execution_count": 214,
     "metadata": {},
     "output_type": "execute_result"
    }
   ],
   "source": [
    "nfl = nfl.set_index(\"Name\")\n",
    "nfl"
   ]
  },
  {
   "cell_type": "code",
   "execution_count": 215,
   "metadata": {
    "ExecuteTime": {
     "end_time": "2023-10-20T16:55:55.882767Z",
     "start_time": "2023-10-20T16:55:55.706655Z"
    }
   },
   "outputs": [],
   "source": [
    "nfl = pd.read_csv(\"data/nfl.csv\", index_col=\"Name\", parse_dates=[\"Birthday\"])"
   ]
  },
  {
   "cell_type": "code",
   "execution_count": 216,
   "metadata": {
    "ExecuteTime": {
     "end_time": "2023-10-20T16:55:55.883201Z",
     "start_time": "2023-10-20T16:55:55.721219Z"
    }
   },
   "outputs": [
    {
     "data": {
      "text/plain": "                                Team Position   Birthday   Salary\nName                                                             \nTremon Smith     Philadelphia Eagles       RB 1996-07-20   570000\nShawn Williams    Cincinnati Bengals       SS 1991-05-13  3500000\nAdam Butler     New England Patriots       DT 1994-04-12   645000\nDerek Wolfe           Denver Broncos       DE 1990-02-24  8000000\nJake Ryan       Jacksonville Jaguars      OLB 1992-02-27  1000000",
      "text/html": "<div>\n<style scoped>\n    .dataframe tbody tr th:only-of-type {\n        vertical-align: middle;\n    }\n\n    .dataframe tbody tr th {\n        vertical-align: top;\n    }\n\n    .dataframe thead th {\n        text-align: right;\n    }\n</style>\n<table border=\"1\" class=\"dataframe\">\n  <thead>\n    <tr style=\"text-align: right;\">\n      <th></th>\n      <th>Team</th>\n      <th>Position</th>\n      <th>Birthday</th>\n      <th>Salary</th>\n    </tr>\n    <tr>\n      <th>Name</th>\n      <th></th>\n      <th></th>\n      <th></th>\n      <th></th>\n    </tr>\n  </thead>\n  <tbody>\n    <tr>\n      <th>Tremon Smith</th>\n      <td>Philadelphia Eagles</td>\n      <td>RB</td>\n      <td>1996-07-20</td>\n      <td>570000</td>\n    </tr>\n    <tr>\n      <th>Shawn Williams</th>\n      <td>Cincinnati Bengals</td>\n      <td>SS</td>\n      <td>1991-05-13</td>\n      <td>3500000</td>\n    </tr>\n    <tr>\n      <th>Adam Butler</th>\n      <td>New England Patriots</td>\n      <td>DT</td>\n      <td>1994-04-12</td>\n      <td>645000</td>\n    </tr>\n    <tr>\n      <th>Derek Wolfe</th>\n      <td>Denver Broncos</td>\n      <td>DE</td>\n      <td>1990-02-24</td>\n      <td>8000000</td>\n    </tr>\n    <tr>\n      <th>Jake Ryan</th>\n      <td>Jacksonville Jaguars</td>\n      <td>OLB</td>\n      <td>1992-02-27</td>\n      <td>1000000</td>\n    </tr>\n  </tbody>\n</table>\n</div>"
     },
     "execution_count": 216,
     "metadata": {},
     "output_type": "execute_result"
    }
   ],
   "source": [
    "nfl.head()"
   ]
  },
  {
   "cell_type": "code",
   "execution_count": 217,
   "metadata": {
    "ExecuteTime": {
     "end_time": "2023-10-20T16:55:55.989956Z",
     "start_time": "2023-10-20T16:55:55.740558Z"
    }
   },
   "outputs": [
    {
     "data": {
      "text/plain": "Team\nNew York Jets          58\nKansas City Chiefs     56\nWashington Redskins    56\nNew Orleans Saints     55\nSan Francisco 49Ers    55\nName: count, dtype: int64"
     },
     "execution_count": 217,
     "metadata": {},
     "output_type": "execute_result"
    }
   ],
   "source": [
    "# The two lines below are equivalent\n",
    "nfl.Team.value_counts().head()\n",
    "nfl[\"Team\"].value_counts().head()"
   ]
  },
  {
   "cell_type": "code",
   "execution_count": 218,
   "metadata": {
    "ExecuteTime": {
     "end_time": "2023-10-20T16:55:55.995304Z",
     "start_time": "2023-10-20T16:55:55.743730Z"
    }
   },
   "outputs": [
    {
     "data": {
      "text/plain": "                                 Team Position   Birthday    Salary\nName                                                               \nKirk Cousins        Minnesota Vikings       QB 1988-08-19  27500000\nJameis Winston   Tampa Bay Buccaneers       QB 1994-01-06  20922000\nMarcus Mariota       Tennessee Titans       QB 1993-10-30  20922000\nDerek Carr            Oakland Raiders       QB 1991-03-28  19900000\nJimmy Garoppolo   San Francisco 49Ers       QB 1991-11-02  17200000",
      "text/html": "<div>\n<style scoped>\n    .dataframe tbody tr th:only-of-type {\n        vertical-align: middle;\n    }\n\n    .dataframe tbody tr th {\n        vertical-align: top;\n    }\n\n    .dataframe thead th {\n        text-align: right;\n    }\n</style>\n<table border=\"1\" class=\"dataframe\">\n  <thead>\n    <tr style=\"text-align: right;\">\n      <th></th>\n      <th>Team</th>\n      <th>Position</th>\n      <th>Birthday</th>\n      <th>Salary</th>\n    </tr>\n    <tr>\n      <th>Name</th>\n      <th></th>\n      <th></th>\n      <th></th>\n      <th></th>\n    </tr>\n  </thead>\n  <tbody>\n    <tr>\n      <th>Kirk Cousins</th>\n      <td>Minnesota Vikings</td>\n      <td>QB</td>\n      <td>1988-08-19</td>\n      <td>27500000</td>\n    </tr>\n    <tr>\n      <th>Jameis Winston</th>\n      <td>Tampa Bay Buccaneers</td>\n      <td>QB</td>\n      <td>1994-01-06</td>\n      <td>20922000</td>\n    </tr>\n    <tr>\n      <th>Marcus Mariota</th>\n      <td>Tennessee Titans</td>\n      <td>QB</td>\n      <td>1993-10-30</td>\n      <td>20922000</td>\n    </tr>\n    <tr>\n      <th>Derek Carr</th>\n      <td>Oakland Raiders</td>\n      <td>QB</td>\n      <td>1991-03-28</td>\n      <td>19900000</td>\n    </tr>\n    <tr>\n      <th>Jimmy Garoppolo</th>\n      <td>San Francisco 49Ers</td>\n      <td>QB</td>\n      <td>1991-11-02</td>\n      <td>17200000</td>\n    </tr>\n  </tbody>\n</table>\n</div>"
     },
     "execution_count": 218,
     "metadata": {},
     "output_type": "execute_result"
    }
   ],
   "source": [
    "nfl.sort_values(\"Salary\", ascending=False).head()"
   ]
  },
  {
   "cell_type": "code",
   "execution_count": 219,
   "metadata": {
    "ExecuteTime": {
     "end_time": "2023-10-20T16:55:56.009088Z",
     "start_time": "2023-10-20T16:55:55.753502Z"
    }
   },
   "outputs": [
    {
     "data": {
      "text/plain": "                                   Team Position   Birthday    Salary\nName                                                                 \nChandler Jones        Arizona Cardinals      OLB 1990-02-27  16500000\nPatrick Peterson      Arizona Cardinals       CB 1990-07-11  11000000\nLarry Fitzgerald      Arizona Cardinals       WR 1983-08-31  11000000\nDavid Johnson         Arizona Cardinals       RB 1991-12-16   5700000\nJustin Pugh           Arizona Cardinals        G 1990-08-15   5000000\n...                                 ...      ...        ...       ...\nRoss Pierschbacher  Washington Redskins        C 1995-05-05    495000\nKelvin Harmon       Washington Redskins       WR 1996-12-15    495000\nWes Martin          Washington Redskins        G 1996-05-09    495000\nJimmy Moreland      Washington Redskins       CB 1995-08-26    495000\nJeremy Reaves       Washington Redskins       SS 1996-08-29    495000\n\n[1655 rows x 4 columns]",
      "text/html": "<div>\n<style scoped>\n    .dataframe tbody tr th:only-of-type {\n        vertical-align: middle;\n    }\n\n    .dataframe tbody tr th {\n        vertical-align: top;\n    }\n\n    .dataframe thead th {\n        text-align: right;\n    }\n</style>\n<table border=\"1\" class=\"dataframe\">\n  <thead>\n    <tr style=\"text-align: right;\">\n      <th></th>\n      <th>Team</th>\n      <th>Position</th>\n      <th>Birthday</th>\n      <th>Salary</th>\n    </tr>\n    <tr>\n      <th>Name</th>\n      <th></th>\n      <th></th>\n      <th></th>\n      <th></th>\n    </tr>\n  </thead>\n  <tbody>\n    <tr>\n      <th>Chandler Jones</th>\n      <td>Arizona Cardinals</td>\n      <td>OLB</td>\n      <td>1990-02-27</td>\n      <td>16500000</td>\n    </tr>\n    <tr>\n      <th>Patrick Peterson</th>\n      <td>Arizona Cardinals</td>\n      <td>CB</td>\n      <td>1990-07-11</td>\n      <td>11000000</td>\n    </tr>\n    <tr>\n      <th>Larry Fitzgerald</th>\n      <td>Arizona Cardinals</td>\n      <td>WR</td>\n      <td>1983-08-31</td>\n      <td>11000000</td>\n    </tr>\n    <tr>\n      <th>David Johnson</th>\n      <td>Arizona Cardinals</td>\n      <td>RB</td>\n      <td>1991-12-16</td>\n      <td>5700000</td>\n    </tr>\n    <tr>\n      <th>Justin Pugh</th>\n      <td>Arizona Cardinals</td>\n      <td>G</td>\n      <td>1990-08-15</td>\n      <td>5000000</td>\n    </tr>\n    <tr>\n      <th>...</th>\n      <td>...</td>\n      <td>...</td>\n      <td>...</td>\n      <td>...</td>\n    </tr>\n    <tr>\n      <th>Ross Pierschbacher</th>\n      <td>Washington Redskins</td>\n      <td>C</td>\n      <td>1995-05-05</td>\n      <td>495000</td>\n    </tr>\n    <tr>\n      <th>Kelvin Harmon</th>\n      <td>Washington Redskins</td>\n      <td>WR</td>\n      <td>1996-12-15</td>\n      <td>495000</td>\n    </tr>\n    <tr>\n      <th>Wes Martin</th>\n      <td>Washington Redskins</td>\n      <td>G</td>\n      <td>1996-05-09</td>\n      <td>495000</td>\n    </tr>\n    <tr>\n      <th>Jimmy Moreland</th>\n      <td>Washington Redskins</td>\n      <td>CB</td>\n      <td>1995-08-26</td>\n      <td>495000</td>\n    </tr>\n    <tr>\n      <th>Jeremy Reaves</th>\n      <td>Washington Redskins</td>\n      <td>SS</td>\n      <td>1996-08-29</td>\n      <td>495000</td>\n    </tr>\n  </tbody>\n</table>\n<p>1655 rows × 4 columns</p>\n</div>"
     },
     "execution_count": 219,
     "metadata": {},
     "output_type": "execute_result"
    }
   ],
   "source": [
    "nfl.sort_values(\n",
    "    by=[\"Team\", \"Salary\"],\n",
    "    ascending=[True, False]\n",
    ")"
   ]
  },
  {
   "cell_type": "code",
   "execution_count": 220,
   "metadata": {
    "ExecuteTime": {
     "end_time": "2023-10-20T16:55:56.041408Z",
     "start_time": "2023-10-20T16:55:55.765915Z"
    }
   },
   "outputs": [
    {
     "data": {
      "text/plain": "                                Name Position   Birthday   Salary\nTeam                                                             \nPhiladelphia Eagles     Tremon Smith       RB 1996-07-20   570000\nCincinnati Bengals    Shawn Williams       SS 1991-05-13  3500000\nNew England Patriots     Adam Butler       DT 1994-04-12   645000",
      "text/html": "<div>\n<style scoped>\n    .dataframe tbody tr th:only-of-type {\n        vertical-align: middle;\n    }\n\n    .dataframe tbody tr th {\n        vertical-align: top;\n    }\n\n    .dataframe thead th {\n        text-align: right;\n    }\n</style>\n<table border=\"1\" class=\"dataframe\">\n  <thead>\n    <tr style=\"text-align: right;\">\n      <th></th>\n      <th>Name</th>\n      <th>Position</th>\n      <th>Birthday</th>\n      <th>Salary</th>\n    </tr>\n    <tr>\n      <th>Team</th>\n      <th></th>\n      <th></th>\n      <th></th>\n      <th></th>\n    </tr>\n  </thead>\n  <tbody>\n    <tr>\n      <th>Philadelphia Eagles</th>\n      <td>Tremon Smith</td>\n      <td>RB</td>\n      <td>1996-07-20</td>\n      <td>570000</td>\n    </tr>\n    <tr>\n      <th>Cincinnati Bengals</th>\n      <td>Shawn Williams</td>\n      <td>SS</td>\n      <td>1991-05-13</td>\n      <td>3500000</td>\n    </tr>\n    <tr>\n      <th>New England Patriots</th>\n      <td>Adam Butler</td>\n      <td>DT</td>\n      <td>1994-04-12</td>\n      <td>645000</td>\n    </tr>\n  </tbody>\n</table>\n</div>"
     },
     "execution_count": 220,
     "metadata": {},
     "output_type": "execute_result"
    }
   ],
   "source": [
    "nfl = nfl.reset_index().set_index(keys=\"Team\")\n",
    "nfl.head(3)"
   ]
  },
  {
   "cell_type": "code",
   "execution_count": 221,
   "metadata": {
    "ExecuteTime": {
     "end_time": "2023-10-20T16:55:56.042140Z",
     "start_time": "2023-10-20T16:55:55.780338Z"
    }
   },
   "outputs": [
    {
     "data": {
      "text/plain": "                           Name Position   Birthday   Salary\nTeam                                                        \nNew York Jets   Bronson Kaufusi       DE 1991-07-06   645000\nNew York Jets    Darryl Roberts       CB 1990-11-26  1000000\nNew York Jets     Jordan Willis       DE 1995-05-02   754750\nNew York Jets  Quinnen Williams       DE 1997-12-21   495000\nNew York Jets        Sam Ficken        K 1992-12-14   495000",
      "text/html": "<div>\n<style scoped>\n    .dataframe tbody tr th:only-of-type {\n        vertical-align: middle;\n    }\n\n    .dataframe tbody tr th {\n        vertical-align: top;\n    }\n\n    .dataframe thead th {\n        text-align: right;\n    }\n</style>\n<table border=\"1\" class=\"dataframe\">\n  <thead>\n    <tr style=\"text-align: right;\">\n      <th></th>\n      <th>Name</th>\n      <th>Position</th>\n      <th>Birthday</th>\n      <th>Salary</th>\n    </tr>\n    <tr>\n      <th>Team</th>\n      <th></th>\n      <th></th>\n      <th></th>\n      <th></th>\n    </tr>\n  </thead>\n  <tbody>\n    <tr>\n      <th>New York Jets</th>\n      <td>Bronson Kaufusi</td>\n      <td>DE</td>\n      <td>1991-07-06</td>\n      <td>645000</td>\n    </tr>\n    <tr>\n      <th>New York Jets</th>\n      <td>Darryl Roberts</td>\n      <td>CB</td>\n      <td>1990-11-26</td>\n      <td>1000000</td>\n    </tr>\n    <tr>\n      <th>New York Jets</th>\n      <td>Jordan Willis</td>\n      <td>DE</td>\n      <td>1995-05-02</td>\n      <td>754750</td>\n    </tr>\n    <tr>\n      <th>New York Jets</th>\n      <td>Quinnen Williams</td>\n      <td>DE</td>\n      <td>1997-12-21</td>\n      <td>495000</td>\n    </tr>\n    <tr>\n      <th>New York Jets</th>\n      <td>Sam Ficken</td>\n      <td>K</td>\n      <td>1992-12-14</td>\n      <td>495000</td>\n    </tr>\n  </tbody>\n</table>\n</div>"
     },
     "execution_count": 221,
     "metadata": {},
     "output_type": "execute_result"
    }
   ],
   "source": [
    "nfl.loc[\"New York Jets\"].head()"
   ]
  },
  {
   "cell_type": "code",
   "execution_count": 222,
   "metadata": {
    "ExecuteTime": {
     "end_time": "2023-10-20T16:55:56.042605Z",
     "start_time": "2023-10-20T16:55:55.785438Z"
    }
   },
   "outputs": [
    {
     "data": {
      "text/plain": "                     Name Position   Birthday   Salary\nTeam                                                  \nNew York Jets  Ryan Kalil        C 1985-03-29  2400000",
      "text/html": "<div>\n<style scoped>\n    .dataframe tbody tr th:only-of-type {\n        vertical-align: middle;\n    }\n\n    .dataframe tbody tr th {\n        vertical-align: top;\n    }\n\n    .dataframe thead th {\n        text-align: right;\n    }\n</style>\n<table border=\"1\" class=\"dataframe\">\n  <thead>\n    <tr style=\"text-align: right;\">\n      <th></th>\n      <th>Name</th>\n      <th>Position</th>\n      <th>Birthday</th>\n      <th>Salary</th>\n    </tr>\n    <tr>\n      <th>Team</th>\n      <th></th>\n      <th></th>\n      <th></th>\n      <th></th>\n    </tr>\n  </thead>\n  <tbody>\n    <tr>\n      <th>New York Jets</th>\n      <td>Ryan Kalil</td>\n      <td>C</td>\n      <td>1985-03-29</td>\n      <td>2400000</td>\n    </tr>\n  </tbody>\n</table>\n</div>"
     },
     "execution_count": 222,
     "metadata": {},
     "output_type": "execute_result"
    }
   ],
   "source": [
    "nfl.loc[\"New York Jets\"].sort_values(\"Birthday\").head(1)"
   ]
  },
  {
   "cell_type": "code",
   "execution_count": 222,
   "metadata": {
    "ExecuteTime": {
     "end_time": "2023-10-20T16:55:56.042797Z",
     "start_time": "2023-10-20T16:55:55.793195Z"
    }
   },
   "outputs": [],
   "source": []
  }
 ],
 "metadata": {
  "kernelspec": {
   "display_name": "Python 3",
   "language": "python",
   "name": "python3"
  },
  "language_info": {
   "codemirror_mode": {
    "name": "ipython",
    "version": 3
   },
   "file_extension": ".py",
   "mimetype": "text/x-python",
   "name": "python",
   "nbconvert_exporter": "python",
   "pygments_lexer": "ipython3",
   "version": "3.11.6"
  }
 },
 "nbformat": 4,
 "nbformat_minor": 2
}
