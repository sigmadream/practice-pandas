{
 "cells": [
  {
   "cell_type": "markdown",
   "metadata": {},
   "source": [
    "# Reshaping and Pivoting\n",
    "## Wide vs. Narrow Data\n",
    "## Creating a Pivot Table from a DataFrame"
   ]
  },
  {
   "cell_type": "code",
   "execution_count": 1,
   "metadata": {
    "ExecuteTime": {
     "end_time": "2023-10-19T17:03:13.451800Z",
     "start_time": "2023-10-19T17:03:13.131927Z"
    }
   },
   "outputs": [
    {
     "data": {
      "text/plain": "     Date   Name       Customer  Revenue  Expenses\n0  1/1/20  Oscar  Logistics XYZ     5250       531\n1  1/1/20  Oscar    Money Corp.     4406       661\n2  1/2/20  Oscar     PaperMaven     8661      1401\n3  1/3/20  Oscar    PaperGenius     7075       906\n4  1/4/20  Oscar    Paper Pound     2524      1767",
      "text/html": "<div>\n<style scoped>\n    .dataframe tbody tr th:only-of-type {\n        vertical-align: middle;\n    }\n\n    .dataframe tbody tr th {\n        vertical-align: top;\n    }\n\n    .dataframe thead th {\n        text-align: right;\n    }\n</style>\n<table border=\"1\" class=\"dataframe\">\n  <thead>\n    <tr style=\"text-align: right;\">\n      <th></th>\n      <th>Date</th>\n      <th>Name</th>\n      <th>Customer</th>\n      <th>Revenue</th>\n      <th>Expenses</th>\n    </tr>\n  </thead>\n  <tbody>\n    <tr>\n      <th>0</th>\n      <td>1/1/20</td>\n      <td>Oscar</td>\n      <td>Logistics XYZ</td>\n      <td>5250</td>\n      <td>531</td>\n    </tr>\n    <tr>\n      <th>1</th>\n      <td>1/1/20</td>\n      <td>Oscar</td>\n      <td>Money Corp.</td>\n      <td>4406</td>\n      <td>661</td>\n    </tr>\n    <tr>\n      <th>2</th>\n      <td>1/2/20</td>\n      <td>Oscar</td>\n      <td>PaperMaven</td>\n      <td>8661</td>\n      <td>1401</td>\n    </tr>\n    <tr>\n      <th>3</th>\n      <td>1/3/20</td>\n      <td>Oscar</td>\n      <td>PaperGenius</td>\n      <td>7075</td>\n      <td>906</td>\n    </tr>\n    <tr>\n      <th>4</th>\n      <td>1/4/20</td>\n      <td>Oscar</td>\n      <td>Paper Pound</td>\n      <td>2524</td>\n      <td>1767</td>\n    </tr>\n  </tbody>\n</table>\n</div>"
     },
     "execution_count": 1,
     "metadata": {},
     "output_type": "execute_result"
    }
   ],
   "source": [
    "import pandas as pd\n",
    "\n",
    "pd.read_csv(\"data/sales_by_employee.csv\").head()"
   ]
  },
  {
   "cell_type": "code",
   "execution_count": 11,
   "metadata": {
    "ExecuteTime": {
     "end_time": "2023-10-19T17:06:23.647672Z",
     "start_time": "2023-10-19T17:06:23.607028Z"
    }
   },
   "outputs": [
    {
     "data": {
      "text/plain": "         Date   Name           Customer  Revenue  Expenses\n21 2020-01-01  Creed        Money Corp.     4430       548\n22 2020-01-02  Creed  Average Paper Co.     8026      1906\n23 2020-01-02  Creed  Average Paper Co.     5188      1768\n24 2020-01-04  Creed         PaperMaven     3144      1314\n25 2020-01-05  Creed        Money Corp.      938      1053",
      "text/html": "<div>\n<style scoped>\n    .dataframe tbody tr th:only-of-type {\n        vertical-align: middle;\n    }\n\n    .dataframe tbody tr th {\n        vertical-align: top;\n    }\n\n    .dataframe thead th {\n        text-align: right;\n    }\n</style>\n<table border=\"1\" class=\"dataframe\">\n  <thead>\n    <tr style=\"text-align: right;\">\n      <th></th>\n      <th>Date</th>\n      <th>Name</th>\n      <th>Customer</th>\n      <th>Revenue</th>\n      <th>Expenses</th>\n    </tr>\n  </thead>\n  <tbody>\n    <tr>\n      <th>21</th>\n      <td>2020-01-01</td>\n      <td>Creed</td>\n      <td>Money Corp.</td>\n      <td>4430</td>\n      <td>548</td>\n    </tr>\n    <tr>\n      <th>22</th>\n      <td>2020-01-02</td>\n      <td>Creed</td>\n      <td>Average Paper Co.</td>\n      <td>8026</td>\n      <td>1906</td>\n    </tr>\n    <tr>\n      <th>23</th>\n      <td>2020-01-02</td>\n      <td>Creed</td>\n      <td>Average Paper Co.</td>\n      <td>5188</td>\n      <td>1768</td>\n    </tr>\n    <tr>\n      <th>24</th>\n      <td>2020-01-04</td>\n      <td>Creed</td>\n      <td>PaperMaven</td>\n      <td>3144</td>\n      <td>1314</td>\n    </tr>\n    <tr>\n      <th>25</th>\n      <td>2020-01-05</td>\n      <td>Creed</td>\n      <td>Money Corp.</td>\n      <td>938</td>\n      <td>1053</td>\n    </tr>\n  </tbody>\n</table>\n</div>"
     },
     "execution_count": 11,
     "metadata": {},
     "output_type": "execute_result"
    }
   ],
   "source": [
    "sales = pd.read_csv(\"data/sales_by_employee.csv\")\n",
    "sales[\"Date\"] = pd.to_datetime(sales[\"Date\"], format='mixed')\n",
    "sales.tail()"
   ]
  },
  {
   "cell_type": "markdown",
   "metadata": {},
   "source": [
    "### The pivot_table Method"
   ]
  },
  {
   "cell_type": "code",
   "execution_count": 15,
   "metadata": {
    "ExecuteTime": {
     "end_time": "2023-10-19T17:09:17.233304Z",
     "start_time": "2023-10-19T17:09:17.201307Z"
    }
   },
   "outputs": [
    {
     "data": {
      "text/plain": "               Expenses      Revenue\nDate                                \n2020-01-01   637.500000  4293.500000\n2020-01-02  1244.400000  7303.000000\n2020-01-03  1313.666667  4865.833333\n2020-01-04  1450.600000  3948.000000\n2020-01-05  1196.250000  4834.750000",
      "text/html": "<div>\n<style scoped>\n    .dataframe tbody tr th:only-of-type {\n        vertical-align: middle;\n    }\n\n    .dataframe tbody tr th {\n        vertical-align: top;\n    }\n\n    .dataframe thead th {\n        text-align: right;\n    }\n</style>\n<table border=\"1\" class=\"dataframe\">\n  <thead>\n    <tr style=\"text-align: right;\">\n      <th></th>\n      <th>Expenses</th>\n      <th>Revenue</th>\n    </tr>\n    <tr>\n      <th>Date</th>\n      <th></th>\n      <th></th>\n    </tr>\n  </thead>\n  <tbody>\n    <tr>\n      <th>2020-01-01</th>\n      <td>637.500000</td>\n      <td>4293.500000</td>\n    </tr>\n    <tr>\n      <th>2020-01-02</th>\n      <td>1244.400000</td>\n      <td>7303.000000</td>\n    </tr>\n    <tr>\n      <th>2020-01-03</th>\n      <td>1313.666667</td>\n      <td>4865.833333</td>\n    </tr>\n    <tr>\n      <th>2020-01-04</th>\n      <td>1450.600000</td>\n      <td>3948.000000</td>\n    </tr>\n    <tr>\n      <th>2020-01-05</th>\n      <td>1196.250000</td>\n      <td>4834.750000</td>\n    </tr>\n  </tbody>\n</table>\n</div>"
     },
     "execution_count": 15,
     "metadata": {},
     "output_type": "execute_result"
    }
   ],
   "source": [
    "sales.pivot_table(index=\"Date\", values=[\"Revenue\", \"Expenses\"])"
   ]
  },
  {
   "cell_type": "code",
   "execution_count": 16,
   "metadata": {
    "ExecuteTime": {
     "end_time": "2023-10-19T17:09:31.432848Z",
     "start_time": "2023-10-19T17:09:31.392108Z"
    }
   },
   "outputs": [
    {
     "data": {
      "text/plain": "               Expenses      Revenue\nDate                                \n2020-01-01   637.500000  4293.500000\n2020-01-02  1244.400000  7303.000000\n2020-01-03  1313.666667  4865.833333\n2020-01-04  1450.600000  3948.000000\n2020-01-05  1196.250000  4834.750000",
      "text/html": "<div>\n<style scoped>\n    .dataframe tbody tr th:only-of-type {\n        vertical-align: middle;\n    }\n\n    .dataframe tbody tr th {\n        vertical-align: top;\n    }\n\n    .dataframe thead th {\n        text-align: right;\n    }\n</style>\n<table border=\"1\" class=\"dataframe\">\n  <thead>\n    <tr style=\"text-align: right;\">\n      <th></th>\n      <th>Expenses</th>\n      <th>Revenue</th>\n    </tr>\n    <tr>\n      <th>Date</th>\n      <th></th>\n      <th></th>\n    </tr>\n  </thead>\n  <tbody>\n    <tr>\n      <th>2020-01-01</th>\n      <td>637.500000</td>\n      <td>4293.500000</td>\n    </tr>\n    <tr>\n      <th>2020-01-02</th>\n      <td>1244.400000</td>\n      <td>7303.000000</td>\n    </tr>\n    <tr>\n      <th>2020-01-03</th>\n      <td>1313.666667</td>\n      <td>4865.833333</td>\n    </tr>\n    <tr>\n      <th>2020-01-04</th>\n      <td>1450.600000</td>\n      <td>3948.000000</td>\n    </tr>\n    <tr>\n      <th>2020-01-05</th>\n      <td>1196.250000</td>\n      <td>4834.750000</td>\n    </tr>\n  </tbody>\n</table>\n</div>"
     },
     "execution_count": 16,
     "metadata": {},
     "output_type": "execute_result"
    }
   ],
   "source": [
    "sales.pivot_table(index=\"Date\", values=[\"Revenue\", \"Expenses\"], aggfunc=\"mean\")"
   ]
  },
  {
   "cell_type": "code",
   "execution_count": 17,
   "metadata": {
    "ExecuteTime": {
     "end_time": "2023-10-19T17:09:51.367645Z",
     "start_time": "2023-10-19T17:09:51.332528Z"
    }
   },
   "outputs": [
    {
     "data": {
      "text/plain": "            Expenses  Revenue\nDate                         \n2020-01-01      3825    25761\n2020-01-02      6222    36515\n2020-01-03      7882    29195\n2020-01-04      7253    19740\n2020-01-05      4785    19339",
      "text/html": "<div>\n<style scoped>\n    .dataframe tbody tr th:only-of-type {\n        vertical-align: middle;\n    }\n\n    .dataframe tbody tr th {\n        vertical-align: top;\n    }\n\n    .dataframe thead th {\n        text-align: right;\n    }\n</style>\n<table border=\"1\" class=\"dataframe\">\n  <thead>\n    <tr style=\"text-align: right;\">\n      <th></th>\n      <th>Expenses</th>\n      <th>Revenue</th>\n    </tr>\n    <tr>\n      <th>Date</th>\n      <th></th>\n      <th></th>\n    </tr>\n  </thead>\n  <tbody>\n    <tr>\n      <th>2020-01-01</th>\n      <td>3825</td>\n      <td>25761</td>\n    </tr>\n    <tr>\n      <th>2020-01-02</th>\n      <td>6222</td>\n      <td>36515</td>\n    </tr>\n    <tr>\n      <th>2020-01-03</th>\n      <td>7882</td>\n      <td>29195</td>\n    </tr>\n    <tr>\n      <th>2020-01-04</th>\n      <td>7253</td>\n      <td>19740</td>\n    </tr>\n    <tr>\n      <th>2020-01-05</th>\n      <td>4785</td>\n      <td>19339</td>\n    </tr>\n  </tbody>\n</table>\n</div>"
     },
     "execution_count": 17,
     "metadata": {},
     "output_type": "execute_result"
    }
   ],
   "source": [
    "sales.pivot_table(index=\"Date\", values=[\"Revenue\", \"Expenses\"], aggfunc=\"sum\")"
   ]
  },
  {
   "cell_type": "code",
   "execution_count": 20,
   "metadata": {
    "ExecuteTime": {
     "end_time": "2023-10-19T17:10:15.229523Z",
     "start_time": "2023-10-19T17:10:15.151158Z"
    }
   },
   "outputs": [
    {
     "data": {
      "text/plain": "            Revenue\nDate               \n2020-01-01    25761\n2020-01-02    36515\n2020-01-03    29195\n2020-01-04    19740\n2020-01-05    19339",
      "text/html": "<div>\n<style scoped>\n    .dataframe tbody tr th:only-of-type {\n        vertical-align: middle;\n    }\n\n    .dataframe tbody tr th {\n        vertical-align: top;\n    }\n\n    .dataframe thead th {\n        text-align: right;\n    }\n</style>\n<table border=\"1\" class=\"dataframe\">\n  <thead>\n    <tr style=\"text-align: right;\">\n      <th></th>\n      <th>Revenue</th>\n    </tr>\n    <tr>\n      <th>Date</th>\n      <th></th>\n    </tr>\n  </thead>\n  <tbody>\n    <tr>\n      <th>2020-01-01</th>\n      <td>25761</td>\n    </tr>\n    <tr>\n      <th>2020-01-02</th>\n      <td>36515</td>\n    </tr>\n    <tr>\n      <th>2020-01-03</th>\n      <td>29195</td>\n    </tr>\n    <tr>\n      <th>2020-01-04</th>\n      <td>19740</td>\n    </tr>\n    <tr>\n      <th>2020-01-05</th>\n      <td>19339</td>\n    </tr>\n  </tbody>\n</table>\n</div>"
     },
     "execution_count": 20,
     "metadata": {},
     "output_type": "execute_result"
    }
   ],
   "source": [
    "sales.pivot_table(index=\"Date\", values=\"Revenue\", aggfunc=\"sum\")"
   ]
  },
  {
   "cell_type": "code",
   "execution_count": 21,
   "metadata": {
    "scrolled": true,
    "ExecuteTime": {
     "end_time": "2023-10-19T17:10:18.545829Z",
     "start_time": "2023-10-19T17:10:18.500915Z"
    }
   },
   "outputs": [
    {
     "data": {
      "text/plain": "Name          Creed   Dwight     Jim  Michael   Oscar\nDate                                                 \n2020-01-01   4430.0   2639.0  1864.0   7172.0  9656.0\n2020-01-02  13214.0      NaN  8278.0   6362.0  8661.0\n2020-01-03      NaN  11912.0  4226.0   5982.0  7075.0\n2020-01-04   3144.0      NaN  6155.0   7917.0  2524.0\n2020-01-05    938.0   7771.0     NaN   7837.0  2793.0",
      "text/html": "<div>\n<style scoped>\n    .dataframe tbody tr th:only-of-type {\n        vertical-align: middle;\n    }\n\n    .dataframe tbody tr th {\n        vertical-align: top;\n    }\n\n    .dataframe thead th {\n        text-align: right;\n    }\n</style>\n<table border=\"1\" class=\"dataframe\">\n  <thead>\n    <tr style=\"text-align: right;\">\n      <th>Name</th>\n      <th>Creed</th>\n      <th>Dwight</th>\n      <th>Jim</th>\n      <th>Michael</th>\n      <th>Oscar</th>\n    </tr>\n    <tr>\n      <th>Date</th>\n      <th></th>\n      <th></th>\n      <th></th>\n      <th></th>\n      <th></th>\n    </tr>\n  </thead>\n  <tbody>\n    <tr>\n      <th>2020-01-01</th>\n      <td>4430.0</td>\n      <td>2639.0</td>\n      <td>1864.0</td>\n      <td>7172.0</td>\n      <td>9656.0</td>\n    </tr>\n    <tr>\n      <th>2020-01-02</th>\n      <td>13214.0</td>\n      <td>NaN</td>\n      <td>8278.0</td>\n      <td>6362.0</td>\n      <td>8661.0</td>\n    </tr>\n    <tr>\n      <th>2020-01-03</th>\n      <td>NaN</td>\n      <td>11912.0</td>\n      <td>4226.0</td>\n      <td>5982.0</td>\n      <td>7075.0</td>\n    </tr>\n    <tr>\n      <th>2020-01-04</th>\n      <td>3144.0</td>\n      <td>NaN</td>\n      <td>6155.0</td>\n      <td>7917.0</td>\n      <td>2524.0</td>\n    </tr>\n    <tr>\n      <th>2020-01-05</th>\n      <td>938.0</td>\n      <td>7771.0</td>\n      <td>NaN</td>\n      <td>7837.0</td>\n      <td>2793.0</td>\n    </tr>\n  </tbody>\n</table>\n</div>"
     },
     "execution_count": 21,
     "metadata": {},
     "output_type": "execute_result"
    }
   ],
   "source": [
    "sales.pivot_table(\n",
    "    index=\"Date\",\n",
    "    columns=\"Name\",\n",
    "    values=\"Revenue\",\n",
    "    aggfunc=\"sum\"\n",
    ")"
   ]
  },
  {
   "cell_type": "code",
   "execution_count": 22,
   "metadata": {
    "ExecuteTime": {
     "end_time": "2023-10-19T17:10:22.538414Z",
     "start_time": "2023-10-19T17:10:22.503820Z"
    }
   },
   "outputs": [
    {
     "data": {
      "text/plain": "Name        Creed  Dwight   Jim  Michael  Oscar\nDate                                           \n2020-01-01   4430    2639  1864     7172   9656\n2020-01-02  13214       0  8278     6362   8661\n2020-01-03      0   11912  4226     5982   7075\n2020-01-04   3144       0  6155     7917   2524\n2020-01-05    938    7771     0     7837   2793",
      "text/html": "<div>\n<style scoped>\n    .dataframe tbody tr th:only-of-type {\n        vertical-align: middle;\n    }\n\n    .dataframe tbody tr th {\n        vertical-align: top;\n    }\n\n    .dataframe thead th {\n        text-align: right;\n    }\n</style>\n<table border=\"1\" class=\"dataframe\">\n  <thead>\n    <tr style=\"text-align: right;\">\n      <th>Name</th>\n      <th>Creed</th>\n      <th>Dwight</th>\n      <th>Jim</th>\n      <th>Michael</th>\n      <th>Oscar</th>\n    </tr>\n    <tr>\n      <th>Date</th>\n      <th></th>\n      <th></th>\n      <th></th>\n      <th></th>\n      <th></th>\n    </tr>\n  </thead>\n  <tbody>\n    <tr>\n      <th>2020-01-01</th>\n      <td>4430</td>\n      <td>2639</td>\n      <td>1864</td>\n      <td>7172</td>\n      <td>9656</td>\n    </tr>\n    <tr>\n      <th>2020-01-02</th>\n      <td>13214</td>\n      <td>0</td>\n      <td>8278</td>\n      <td>6362</td>\n      <td>8661</td>\n    </tr>\n    <tr>\n      <th>2020-01-03</th>\n      <td>0</td>\n      <td>11912</td>\n      <td>4226</td>\n      <td>5982</td>\n      <td>7075</td>\n    </tr>\n    <tr>\n      <th>2020-01-04</th>\n      <td>3144</td>\n      <td>0</td>\n      <td>6155</td>\n      <td>7917</td>\n      <td>2524</td>\n    </tr>\n    <tr>\n      <th>2020-01-05</th>\n      <td>938</td>\n      <td>7771</td>\n      <td>0</td>\n      <td>7837</td>\n      <td>2793</td>\n    </tr>\n  </tbody>\n</table>\n</div>"
     },
     "execution_count": 22,
     "metadata": {},
     "output_type": "execute_result"
    }
   ],
   "source": [
    "sales.pivot_table(\n",
    "    index=\"Date\",\n",
    "    columns=\"Name\",\n",
    "    values=\"Revenue\",\n",
    "    aggfunc=\"sum\",\n",
    "    fill_value=0\n",
    ")"
   ]
  },
  {
   "cell_type": "code",
   "execution_count": 23,
   "metadata": {
    "ExecuteTime": {
     "end_time": "2023-10-19T17:10:24.626767Z",
     "start_time": "2023-10-19T17:10:24.584959Z"
    }
   },
   "outputs": [
    {
     "data": {
      "text/plain": "Name                 Creed  Dwight    Jim  Michael  Oscar     All\nDate                                                             \n2020-01-01 00:00:00   4430    2639   1864     7172   9656   25761\n2020-01-02 00:00:00  13214       0   8278     6362   8661   36515\n2020-01-03 00:00:00      0   11912   4226     5982   7075   29195\n2020-01-04 00:00:00   3144       0   6155     7917   2524   19740\n2020-01-05 00:00:00    938    7771      0     7837   2793   19339\nAll                  21726   22322  20523    35270  30709  130550",
      "text/html": "<div>\n<style scoped>\n    .dataframe tbody tr th:only-of-type {\n        vertical-align: middle;\n    }\n\n    .dataframe tbody tr th {\n        vertical-align: top;\n    }\n\n    .dataframe thead th {\n        text-align: right;\n    }\n</style>\n<table border=\"1\" class=\"dataframe\">\n  <thead>\n    <tr style=\"text-align: right;\">\n      <th>Name</th>\n      <th>Creed</th>\n      <th>Dwight</th>\n      <th>Jim</th>\n      <th>Michael</th>\n      <th>Oscar</th>\n      <th>All</th>\n    </tr>\n    <tr>\n      <th>Date</th>\n      <th></th>\n      <th></th>\n      <th></th>\n      <th></th>\n      <th></th>\n      <th></th>\n    </tr>\n  </thead>\n  <tbody>\n    <tr>\n      <th>2020-01-01 00:00:00</th>\n      <td>4430</td>\n      <td>2639</td>\n      <td>1864</td>\n      <td>7172</td>\n      <td>9656</td>\n      <td>25761</td>\n    </tr>\n    <tr>\n      <th>2020-01-02 00:00:00</th>\n      <td>13214</td>\n      <td>0</td>\n      <td>8278</td>\n      <td>6362</td>\n      <td>8661</td>\n      <td>36515</td>\n    </tr>\n    <tr>\n      <th>2020-01-03 00:00:00</th>\n      <td>0</td>\n      <td>11912</td>\n      <td>4226</td>\n      <td>5982</td>\n      <td>7075</td>\n      <td>29195</td>\n    </tr>\n    <tr>\n      <th>2020-01-04 00:00:00</th>\n      <td>3144</td>\n      <td>0</td>\n      <td>6155</td>\n      <td>7917</td>\n      <td>2524</td>\n      <td>19740</td>\n    </tr>\n    <tr>\n      <th>2020-01-05 00:00:00</th>\n      <td>938</td>\n      <td>7771</td>\n      <td>0</td>\n      <td>7837</td>\n      <td>2793</td>\n      <td>19339</td>\n    </tr>\n    <tr>\n      <th>All</th>\n      <td>21726</td>\n      <td>22322</td>\n      <td>20523</td>\n      <td>35270</td>\n      <td>30709</td>\n      <td>130550</td>\n    </tr>\n  </tbody>\n</table>\n</div>"
     },
     "execution_count": 23,
     "metadata": {},
     "output_type": "execute_result"
    }
   ],
   "source": [
    "sales.pivot_table(\n",
    "    index=\"Date\",\n",
    "    columns=\"Name\",\n",
    "    values=\"Revenue\",\n",
    "    aggfunc=\"sum\",\n",
    "    fill_value=0,\n",
    "    margins=True\n",
    ")"
   ]
  },
  {
   "cell_type": "code",
   "execution_count": 24,
   "metadata": {
    "ExecuteTime": {
     "end_time": "2023-10-19T17:10:26.194447Z",
     "start_time": "2023-10-19T17:10:26.131901Z"
    }
   },
   "outputs": [
    {
     "data": {
      "text/plain": "Name                 Creed  Dwight    Jim  Michael  Oscar   Total\nDate                                                             \n2020-01-01 00:00:00   4430    2639   1864     7172   9656   25761\n2020-01-02 00:00:00  13214       0   8278     6362   8661   36515\n2020-01-03 00:00:00      0   11912   4226     5982   7075   29195\n2020-01-04 00:00:00   3144       0   6155     7917   2524   19740\n2020-01-05 00:00:00    938    7771      0     7837   2793   19339\nTotal                21726   22322  20523    35270  30709  130550",
      "text/html": "<div>\n<style scoped>\n    .dataframe tbody tr th:only-of-type {\n        vertical-align: middle;\n    }\n\n    .dataframe tbody tr th {\n        vertical-align: top;\n    }\n\n    .dataframe thead th {\n        text-align: right;\n    }\n</style>\n<table border=\"1\" class=\"dataframe\">\n  <thead>\n    <tr style=\"text-align: right;\">\n      <th>Name</th>\n      <th>Creed</th>\n      <th>Dwight</th>\n      <th>Jim</th>\n      <th>Michael</th>\n      <th>Oscar</th>\n      <th>Total</th>\n    </tr>\n    <tr>\n      <th>Date</th>\n      <th></th>\n      <th></th>\n      <th></th>\n      <th></th>\n      <th></th>\n      <th></th>\n    </tr>\n  </thead>\n  <tbody>\n    <tr>\n      <th>2020-01-01 00:00:00</th>\n      <td>4430</td>\n      <td>2639</td>\n      <td>1864</td>\n      <td>7172</td>\n      <td>9656</td>\n      <td>25761</td>\n    </tr>\n    <tr>\n      <th>2020-01-02 00:00:00</th>\n      <td>13214</td>\n      <td>0</td>\n      <td>8278</td>\n      <td>6362</td>\n      <td>8661</td>\n      <td>36515</td>\n    </tr>\n    <tr>\n      <th>2020-01-03 00:00:00</th>\n      <td>0</td>\n      <td>11912</td>\n      <td>4226</td>\n      <td>5982</td>\n      <td>7075</td>\n      <td>29195</td>\n    </tr>\n    <tr>\n      <th>2020-01-04 00:00:00</th>\n      <td>3144</td>\n      <td>0</td>\n      <td>6155</td>\n      <td>7917</td>\n      <td>2524</td>\n      <td>19740</td>\n    </tr>\n    <tr>\n      <th>2020-01-05 00:00:00</th>\n      <td>938</td>\n      <td>7771</td>\n      <td>0</td>\n      <td>7837</td>\n      <td>2793</td>\n      <td>19339</td>\n    </tr>\n    <tr>\n      <th>Total</th>\n      <td>21726</td>\n      <td>22322</td>\n      <td>20523</td>\n      <td>35270</td>\n      <td>30709</td>\n      <td>130550</td>\n    </tr>\n  </tbody>\n</table>\n</div>"
     },
     "execution_count": 24,
     "metadata": {},
     "output_type": "execute_result"
    }
   ],
   "source": [
    "sales.pivot_table(\n",
    "    index=\"Date\",\n",
    "    columns=\"Name\",\n",
    "    values=\"Revenue\",\n",
    "    aggfunc=\"sum\",\n",
    "    fill_value=0,\n",
    "    margins=True,\n",
    "    margins_name=\"Total\"\n",
    ")"
   ]
  },
  {
   "cell_type": "markdown",
   "metadata": {},
   "source": [
    "### Additional Options for Pivot Tables"
   ]
  },
  {
   "cell_type": "code",
   "execution_count": 25,
   "metadata": {
    "ExecuteTime": {
     "end_time": "2023-10-19T17:10:32.318314Z",
     "start_time": "2023-10-19T17:10:32.267881Z"
    }
   },
   "outputs": [
    {
     "data": {
      "text/plain": "Name        Creed  Dwight  Jim  Michael  Oscar\nDate                                          \n2020-01-01    1.0     1.0  1.0      1.0    2.0\n2020-01-02    2.0     NaN  1.0      1.0    1.0\n2020-01-03    NaN     3.0  1.0      1.0    1.0\n2020-01-04    1.0     NaN  2.0      1.0    1.0\n2020-01-05    1.0     1.0  NaN      1.0    1.0",
      "text/html": "<div>\n<style scoped>\n    .dataframe tbody tr th:only-of-type {\n        vertical-align: middle;\n    }\n\n    .dataframe tbody tr th {\n        vertical-align: top;\n    }\n\n    .dataframe thead th {\n        text-align: right;\n    }\n</style>\n<table border=\"1\" class=\"dataframe\">\n  <thead>\n    <tr style=\"text-align: right;\">\n      <th>Name</th>\n      <th>Creed</th>\n      <th>Dwight</th>\n      <th>Jim</th>\n      <th>Michael</th>\n      <th>Oscar</th>\n    </tr>\n    <tr>\n      <th>Date</th>\n      <th></th>\n      <th></th>\n      <th></th>\n      <th></th>\n      <th></th>\n    </tr>\n  </thead>\n  <tbody>\n    <tr>\n      <th>2020-01-01</th>\n      <td>1.0</td>\n      <td>1.0</td>\n      <td>1.0</td>\n      <td>1.0</td>\n      <td>2.0</td>\n    </tr>\n    <tr>\n      <th>2020-01-02</th>\n      <td>2.0</td>\n      <td>NaN</td>\n      <td>1.0</td>\n      <td>1.0</td>\n      <td>1.0</td>\n    </tr>\n    <tr>\n      <th>2020-01-03</th>\n      <td>NaN</td>\n      <td>3.0</td>\n      <td>1.0</td>\n      <td>1.0</td>\n      <td>1.0</td>\n    </tr>\n    <tr>\n      <th>2020-01-04</th>\n      <td>1.0</td>\n      <td>NaN</td>\n      <td>2.0</td>\n      <td>1.0</td>\n      <td>1.0</td>\n    </tr>\n    <tr>\n      <th>2020-01-05</th>\n      <td>1.0</td>\n      <td>1.0</td>\n      <td>NaN</td>\n      <td>1.0</td>\n      <td>1.0</td>\n    </tr>\n  </tbody>\n</table>\n</div>"
     },
     "execution_count": 25,
     "metadata": {},
     "output_type": "execute_result"
    }
   ],
   "source": [
    "sales.pivot_table(\n",
    "    index=\"Date\",\n",
    "    columns=\"Name\",\n",
    "    values=\"Revenue\",\n",
    "    aggfunc=\"count\"\n",
    ")"
   ]
  },
  {
   "cell_type": "code",
   "execution_count": 26,
   "metadata": {
    "ExecuteTime": {
     "end_time": "2023-10-19T17:10:33.776989Z",
     "start_time": "2023-10-19T17:10:33.735639Z"
    }
   },
   "outputs": [
    {
     "data": {
      "text/plain": "              sum                            count                         \nName        Creed Dwight   Jim Michael Oscar Creed Dwight Jim Michael Oscar\nDate                                                                       \n2020-01-01   4430   2639  1864    7172  9656     1      1   1       1     2\n2020-01-02  13214      0  8278    6362  8661     2      0   1       1     1\n2020-01-03      0  11912  4226    5982  7075     0      3   1       1     1\n2020-01-04   3144      0  6155    7917  2524     1      0   2       1     1\n2020-01-05    938   7771     0    7837  2793     1      1   0       1     1",
      "text/html": "<div>\n<style scoped>\n    .dataframe tbody tr th:only-of-type {\n        vertical-align: middle;\n    }\n\n    .dataframe tbody tr th {\n        vertical-align: top;\n    }\n\n    .dataframe thead tr th {\n        text-align: left;\n    }\n\n    .dataframe thead tr:last-of-type th {\n        text-align: right;\n    }\n</style>\n<table border=\"1\" class=\"dataframe\">\n  <thead>\n    <tr>\n      <th></th>\n      <th colspan=\"5\" halign=\"left\">sum</th>\n      <th colspan=\"5\" halign=\"left\">count</th>\n    </tr>\n    <tr>\n      <th>Name</th>\n      <th>Creed</th>\n      <th>Dwight</th>\n      <th>Jim</th>\n      <th>Michael</th>\n      <th>Oscar</th>\n      <th>Creed</th>\n      <th>Dwight</th>\n      <th>Jim</th>\n      <th>Michael</th>\n      <th>Oscar</th>\n    </tr>\n    <tr>\n      <th>Date</th>\n      <th></th>\n      <th></th>\n      <th></th>\n      <th></th>\n      <th></th>\n      <th></th>\n      <th></th>\n      <th></th>\n      <th></th>\n      <th></th>\n    </tr>\n  </thead>\n  <tbody>\n    <tr>\n      <th>2020-01-01</th>\n      <td>4430</td>\n      <td>2639</td>\n      <td>1864</td>\n      <td>7172</td>\n      <td>9656</td>\n      <td>1</td>\n      <td>1</td>\n      <td>1</td>\n      <td>1</td>\n      <td>2</td>\n    </tr>\n    <tr>\n      <th>2020-01-02</th>\n      <td>13214</td>\n      <td>0</td>\n      <td>8278</td>\n      <td>6362</td>\n      <td>8661</td>\n      <td>2</td>\n      <td>0</td>\n      <td>1</td>\n      <td>1</td>\n      <td>1</td>\n    </tr>\n    <tr>\n      <th>2020-01-03</th>\n      <td>0</td>\n      <td>11912</td>\n      <td>4226</td>\n      <td>5982</td>\n      <td>7075</td>\n      <td>0</td>\n      <td>3</td>\n      <td>1</td>\n      <td>1</td>\n      <td>1</td>\n    </tr>\n    <tr>\n      <th>2020-01-04</th>\n      <td>3144</td>\n      <td>0</td>\n      <td>6155</td>\n      <td>7917</td>\n      <td>2524</td>\n      <td>1</td>\n      <td>0</td>\n      <td>2</td>\n      <td>1</td>\n      <td>1</td>\n    </tr>\n    <tr>\n      <th>2020-01-05</th>\n      <td>938</td>\n      <td>7771</td>\n      <td>0</td>\n      <td>7837</td>\n      <td>2793</td>\n      <td>1</td>\n      <td>1</td>\n      <td>0</td>\n      <td>1</td>\n      <td>1</td>\n    </tr>\n  </tbody>\n</table>\n</div>"
     },
     "execution_count": 26,
     "metadata": {},
     "output_type": "execute_result"
    }
   ],
   "source": [
    "sales.pivot_table(\n",
    "    index=\"Date\",\n",
    "    columns=\"Name\",\n",
    "    values=\"Revenue\",\n",
    "    aggfunc=[\"sum\", \"count\"],\n",
    "    fill_value=0\n",
    ")"
   ]
  },
  {
   "cell_type": "code",
   "execution_count": 27,
   "metadata": {
    "ExecuteTime": {
     "end_time": "2023-10-19T17:10:35.873733Z",
     "start_time": "2023-10-19T17:10:35.836122Z"
    }
   },
   "outputs": [
    {
     "data": {
      "text/plain": "           Expenses                            Revenue                       \\\nName          Creed Dwight   Jim Michael Oscar   Creed Dwight   Jim Michael   \nDate                                                                          \n2020-01-01      548    368  1305     412   531    4430   2639  1864    7172   \n2020-01-02     1768      0   462     685  1401    5188      0  8278    6362   \n2020-01-03        0    758  1923    1772   906       0   2703  4226    5982   \n2020-01-04     1314      0   426    1857  1767    3144      0  2287    7917   \n2020-01-05     1053   1475     0    1633   624     938   7771     0    7837   \n\n                  \nName       Oscar  \nDate              \n2020-01-01  4406  \n2020-01-02  8661  \n2020-01-03  7075  \n2020-01-04  2524  \n2020-01-05  2793  ",
      "text/html": "<div>\n<style scoped>\n    .dataframe tbody tr th:only-of-type {\n        vertical-align: middle;\n    }\n\n    .dataframe tbody tr th {\n        vertical-align: top;\n    }\n\n    .dataframe thead tr th {\n        text-align: left;\n    }\n\n    .dataframe thead tr:last-of-type th {\n        text-align: right;\n    }\n</style>\n<table border=\"1\" class=\"dataframe\">\n  <thead>\n    <tr>\n      <th></th>\n      <th colspan=\"5\" halign=\"left\">Expenses</th>\n      <th colspan=\"5\" halign=\"left\">Revenue</th>\n    </tr>\n    <tr>\n      <th>Name</th>\n      <th>Creed</th>\n      <th>Dwight</th>\n      <th>Jim</th>\n      <th>Michael</th>\n      <th>Oscar</th>\n      <th>Creed</th>\n      <th>Dwight</th>\n      <th>Jim</th>\n      <th>Michael</th>\n      <th>Oscar</th>\n    </tr>\n    <tr>\n      <th>Date</th>\n      <th></th>\n      <th></th>\n      <th></th>\n      <th></th>\n      <th></th>\n      <th></th>\n      <th></th>\n      <th></th>\n      <th></th>\n      <th></th>\n    </tr>\n  </thead>\n  <tbody>\n    <tr>\n      <th>2020-01-01</th>\n      <td>548</td>\n      <td>368</td>\n      <td>1305</td>\n      <td>412</td>\n      <td>531</td>\n      <td>4430</td>\n      <td>2639</td>\n      <td>1864</td>\n      <td>7172</td>\n      <td>4406</td>\n    </tr>\n    <tr>\n      <th>2020-01-02</th>\n      <td>1768</td>\n      <td>0</td>\n      <td>462</td>\n      <td>685</td>\n      <td>1401</td>\n      <td>5188</td>\n      <td>0</td>\n      <td>8278</td>\n      <td>6362</td>\n      <td>8661</td>\n    </tr>\n    <tr>\n      <th>2020-01-03</th>\n      <td>0</td>\n      <td>758</td>\n      <td>1923</td>\n      <td>1772</td>\n      <td>906</td>\n      <td>0</td>\n      <td>2703</td>\n      <td>4226</td>\n      <td>5982</td>\n      <td>7075</td>\n    </tr>\n    <tr>\n      <th>2020-01-04</th>\n      <td>1314</td>\n      <td>0</td>\n      <td>426</td>\n      <td>1857</td>\n      <td>1767</td>\n      <td>3144</td>\n      <td>0</td>\n      <td>2287</td>\n      <td>7917</td>\n      <td>2524</td>\n    </tr>\n    <tr>\n      <th>2020-01-05</th>\n      <td>1053</td>\n      <td>1475</td>\n      <td>0</td>\n      <td>1633</td>\n      <td>624</td>\n      <td>938</td>\n      <td>7771</td>\n      <td>0</td>\n      <td>7837</td>\n      <td>2793</td>\n    </tr>\n  </tbody>\n</table>\n</div>"
     },
     "execution_count": 27,
     "metadata": {},
     "output_type": "execute_result"
    }
   ],
   "source": [
    "sales.pivot_table(\n",
    "    index=\"Date\",\n",
    "    columns=\"Name\",\n",
    "    values=[\"Revenue\", \"Expenses\"],\n",
    "    fill_value=0,\n",
    "    aggfunc={\"Revenue\": \"min\", \"Expenses\": \"min\"}\n",
    ")"
   ]
  },
  {
   "cell_type": "code",
   "execution_count": 28,
   "metadata": {
    "ExecuteTime": {
     "end_time": "2023-10-19T17:10:42.934104Z",
     "start_time": "2023-10-19T17:10:42.899384Z"
    }
   },
   "outputs": [
    {
     "data": {
      "text/plain": "                   Revenue\nName   Date               \nCreed  2020-01-01     4430\n       2020-01-02    13214\n       2020-01-04     3144\n       2020-01-05      938\nDwight 2020-01-01     2639\n       2020-01-03    11912\n       2020-01-05     7771\nJim    2020-01-01     1864\n       2020-01-02     8278\n       2020-01-03     4226",
      "text/html": "<div>\n<style scoped>\n    .dataframe tbody tr th:only-of-type {\n        vertical-align: middle;\n    }\n\n    .dataframe tbody tr th {\n        vertical-align: top;\n    }\n\n    .dataframe thead th {\n        text-align: right;\n    }\n</style>\n<table border=\"1\" class=\"dataframe\">\n  <thead>\n    <tr style=\"text-align: right;\">\n      <th></th>\n      <th></th>\n      <th>Revenue</th>\n    </tr>\n    <tr>\n      <th>Name</th>\n      <th>Date</th>\n      <th></th>\n    </tr>\n  </thead>\n  <tbody>\n    <tr>\n      <th rowspan=\"4\" valign=\"top\">Creed</th>\n      <th>2020-01-01</th>\n      <td>4430</td>\n    </tr>\n    <tr>\n      <th>2020-01-02</th>\n      <td>13214</td>\n    </tr>\n    <tr>\n      <th>2020-01-04</th>\n      <td>3144</td>\n    </tr>\n    <tr>\n      <th>2020-01-05</th>\n      <td>938</td>\n    </tr>\n    <tr>\n      <th rowspan=\"3\" valign=\"top\">Dwight</th>\n      <th>2020-01-01</th>\n      <td>2639</td>\n    </tr>\n    <tr>\n      <th>2020-01-03</th>\n      <td>11912</td>\n    </tr>\n    <tr>\n      <th>2020-01-05</th>\n      <td>7771</td>\n    </tr>\n    <tr>\n      <th rowspan=\"3\" valign=\"top\">Jim</th>\n      <th>2020-01-01</th>\n      <td>1864</td>\n    </tr>\n    <tr>\n      <th>2020-01-02</th>\n      <td>8278</td>\n    </tr>\n    <tr>\n      <th>2020-01-03</th>\n      <td>4226</td>\n    </tr>\n  </tbody>\n</table>\n</div>"
     },
     "execution_count": 28,
     "metadata": {},
     "output_type": "execute_result"
    }
   ],
   "source": [
    "sales.pivot_table(index=[\"Name\", \"Date\"], values=\"Revenue\", aggfunc=\"sum\").head(10)"
   ]
  },
  {
   "cell_type": "code",
   "execution_count": 29,
   "metadata": {
    "ExecuteTime": {
     "end_time": "2023-10-19T17:10:50.619942Z",
     "start_time": "2023-10-19T17:10:50.539640Z"
    }
   },
   "outputs": [
    {
     "data": {
      "text/plain": "                    Revenue\nDate       Name            \n2020-01-01 Creed       4430\n           Dwight      2639\n           Jim         1864\n           Michael     7172\n           Oscar       9656\n2020-01-02 Creed      13214\n           Jim         8278\n           Michael     6362\n           Oscar       8661\n2020-01-03 Dwight     11912",
      "text/html": "<div>\n<style scoped>\n    .dataframe tbody tr th:only-of-type {\n        vertical-align: middle;\n    }\n\n    .dataframe tbody tr th {\n        vertical-align: top;\n    }\n\n    .dataframe thead th {\n        text-align: right;\n    }\n</style>\n<table border=\"1\" class=\"dataframe\">\n  <thead>\n    <tr style=\"text-align: right;\">\n      <th></th>\n      <th></th>\n      <th>Revenue</th>\n    </tr>\n    <tr>\n      <th>Date</th>\n      <th>Name</th>\n      <th></th>\n    </tr>\n  </thead>\n  <tbody>\n    <tr>\n      <th rowspan=\"5\" valign=\"top\">2020-01-01</th>\n      <th>Creed</th>\n      <td>4430</td>\n    </tr>\n    <tr>\n      <th>Dwight</th>\n      <td>2639</td>\n    </tr>\n    <tr>\n      <th>Jim</th>\n      <td>1864</td>\n    </tr>\n    <tr>\n      <th>Michael</th>\n      <td>7172</td>\n    </tr>\n    <tr>\n      <th>Oscar</th>\n      <td>9656</td>\n    </tr>\n    <tr>\n      <th rowspan=\"4\" valign=\"top\">2020-01-02</th>\n      <th>Creed</th>\n      <td>13214</td>\n    </tr>\n    <tr>\n      <th>Jim</th>\n      <td>8278</td>\n    </tr>\n    <tr>\n      <th>Michael</th>\n      <td>6362</td>\n    </tr>\n    <tr>\n      <th>Oscar</th>\n      <td>8661</td>\n    </tr>\n    <tr>\n      <th>2020-01-03</th>\n      <th>Dwight</th>\n      <td>11912</td>\n    </tr>\n  </tbody>\n</table>\n</div>"
     },
     "execution_count": 29,
     "metadata": {},
     "output_type": "execute_result"
    }
   ],
   "source": [
    "sales.pivot_table(index=[\"Date\", \"Name\"], values=\"Revenue\", aggfunc=\"sum\").head(10)"
   ]
  },
  {
   "cell_type": "markdown",
   "metadata": {},
   "source": [
    "## Stacking and Unstacking Index Levels"
   ]
  },
  {
   "cell_type": "code",
   "execution_count": 30,
   "metadata": {
    "ExecuteTime": {
     "end_time": "2023-10-19T17:10:56.505894Z",
     "start_time": "2023-10-19T17:10:56.468886Z"
    }
   },
   "outputs": [
    {
     "data": {
      "text/plain": "        Date   Name       Customer  Revenue  Expenses\n0 2020-01-01  Oscar  Logistics XYZ     5250       531\n1 2020-01-01  Oscar    Money Corp.     4406       661\n2 2020-01-02  Oscar     PaperMaven     8661      1401\n3 2020-01-03  Oscar    PaperGenius     7075       906\n4 2020-01-04  Oscar    Paper Pound     2524      1767",
      "text/html": "<div>\n<style scoped>\n    .dataframe tbody tr th:only-of-type {\n        vertical-align: middle;\n    }\n\n    .dataframe tbody tr th {\n        vertical-align: top;\n    }\n\n    .dataframe thead th {\n        text-align: right;\n    }\n</style>\n<table border=\"1\" class=\"dataframe\">\n  <thead>\n    <tr style=\"text-align: right;\">\n      <th></th>\n      <th>Date</th>\n      <th>Name</th>\n      <th>Customer</th>\n      <th>Revenue</th>\n      <th>Expenses</th>\n    </tr>\n  </thead>\n  <tbody>\n    <tr>\n      <th>0</th>\n      <td>2020-01-01</td>\n      <td>Oscar</td>\n      <td>Logistics XYZ</td>\n      <td>5250</td>\n      <td>531</td>\n    </tr>\n    <tr>\n      <th>1</th>\n      <td>2020-01-01</td>\n      <td>Oscar</td>\n      <td>Money Corp.</td>\n      <td>4406</td>\n      <td>661</td>\n    </tr>\n    <tr>\n      <th>2</th>\n      <td>2020-01-02</td>\n      <td>Oscar</td>\n      <td>PaperMaven</td>\n      <td>8661</td>\n      <td>1401</td>\n    </tr>\n    <tr>\n      <th>3</th>\n      <td>2020-01-03</td>\n      <td>Oscar</td>\n      <td>PaperGenius</td>\n      <td>7075</td>\n      <td>906</td>\n    </tr>\n    <tr>\n      <th>4</th>\n      <td>2020-01-04</td>\n      <td>Oscar</td>\n      <td>Paper Pound</td>\n      <td>2524</td>\n      <td>1767</td>\n    </tr>\n  </tbody>\n</table>\n</div>"
     },
     "execution_count": 30,
     "metadata": {},
     "output_type": "execute_result"
    }
   ],
   "source": [
    "sales.head()"
   ]
  },
  {
   "cell_type": "code",
   "execution_count": 31,
   "metadata": {
    "ExecuteTime": {
     "end_time": "2023-10-19T17:10:57.805062Z",
     "start_time": "2023-10-19T17:10:57.778245Z"
    }
   },
   "outputs": [
    {
     "data": {
      "text/plain": "Date    2020-01-01  2020-01-02  2020-01-03  2020-01-04  2020-01-05\nName                                                              \nCreed       4430.0     13214.0         NaN      3144.0       938.0\nDwight      2639.0         NaN     11912.0         NaN      7771.0",
      "text/html": "<div>\n<style scoped>\n    .dataframe tbody tr th:only-of-type {\n        vertical-align: middle;\n    }\n\n    .dataframe tbody tr th {\n        vertical-align: top;\n    }\n\n    .dataframe thead th {\n        text-align: right;\n    }\n</style>\n<table border=\"1\" class=\"dataframe\">\n  <thead>\n    <tr style=\"text-align: right;\">\n      <th>Date</th>\n      <th>2020-01-01</th>\n      <th>2020-01-02</th>\n      <th>2020-01-03</th>\n      <th>2020-01-04</th>\n      <th>2020-01-05</th>\n    </tr>\n    <tr>\n      <th>Name</th>\n      <th></th>\n      <th></th>\n      <th></th>\n      <th></th>\n      <th></th>\n    </tr>\n  </thead>\n  <tbody>\n    <tr>\n      <th>Creed</th>\n      <td>4430.0</td>\n      <td>13214.0</td>\n      <td>NaN</td>\n      <td>3144.0</td>\n      <td>938.0</td>\n    </tr>\n    <tr>\n      <th>Dwight</th>\n      <td>2639.0</td>\n      <td>NaN</td>\n      <td>11912.0</td>\n      <td>NaN</td>\n      <td>7771.0</td>\n    </tr>\n  </tbody>\n</table>\n</div>"
     },
     "execution_count": 31,
     "metadata": {},
     "output_type": "execute_result"
    }
   ],
   "source": [
    "by_name_and_date = sales.pivot_table(\n",
    "    index=\"Name\",\n",
    "    columns=\"Date\",\n",
    "    values=\"Revenue\",\n",
    "    aggfunc=\"sum\"\n",
    ")\n",
    "\n",
    "by_name_and_date.head(2)"
   ]
  },
  {
   "cell_type": "code",
   "execution_count": 32,
   "metadata": {
    "ExecuteTime": {
     "end_time": "2023-10-19T17:10:59.262768Z",
     "start_time": "2023-10-19T17:10:59.218322Z"
    }
   },
   "outputs": [
    {
     "data": {
      "text/plain": "Name    Date      \nCreed   2020-01-01     4430.0\n        2020-01-02    13214.0\n        2020-01-04     3144.0\n        2020-01-05      938.0\nDwight  2020-01-01     2639.0\n        2020-01-03    11912.0\n        2020-01-05     7771.0\ndtype: float64"
     },
     "execution_count": 32,
     "metadata": {},
     "output_type": "execute_result"
    }
   ],
   "source": [
    "by_name_and_date.stack().head(7)"
   ]
  },
  {
   "cell_type": "code",
   "execution_count": 33,
   "metadata": {
    "ExecuteTime": {
     "end_time": "2023-10-19T17:11:01.726247Z",
     "start_time": "2023-10-19T17:11:01.696031Z"
    }
   },
   "outputs": [
    {
     "data": {
      "text/plain": "                           Revenue\nCustomer          Name            \nAverage Paper Co. Creed      13214\n                  Jim         2287\nBest Paper Co.    Dwight      2703\n                  Michael    15754\nLogistics XYZ     Dwight      9209",
      "text/html": "<div>\n<style scoped>\n    .dataframe tbody tr th:only-of-type {\n        vertical-align: middle;\n    }\n\n    .dataframe tbody tr th {\n        vertical-align: top;\n    }\n\n    .dataframe thead th {\n        text-align: right;\n    }\n</style>\n<table border=\"1\" class=\"dataframe\">\n  <thead>\n    <tr style=\"text-align: right;\">\n      <th></th>\n      <th></th>\n      <th>Revenue</th>\n    </tr>\n    <tr>\n      <th>Customer</th>\n      <th>Name</th>\n      <th></th>\n    </tr>\n  </thead>\n  <tbody>\n    <tr>\n      <th rowspan=\"2\" valign=\"top\">Average Paper Co.</th>\n      <th>Creed</th>\n      <td>13214</td>\n    </tr>\n    <tr>\n      <th>Jim</th>\n      <td>2287</td>\n    </tr>\n    <tr>\n      <th rowspan=\"2\" valign=\"top\">Best Paper Co.</th>\n      <th>Dwight</th>\n      <td>2703</td>\n    </tr>\n    <tr>\n      <th>Michael</th>\n      <td>15754</td>\n    </tr>\n    <tr>\n      <th>Logistics XYZ</th>\n      <th>Dwight</th>\n      <td>9209</td>\n    </tr>\n  </tbody>\n</table>\n</div>"
     },
     "execution_count": 33,
     "metadata": {},
     "output_type": "execute_result"
    }
   ],
   "source": [
    "sales_by_customer = sales.pivot_table(\n",
    "    index=[\"Customer\", \"Name\"],\n",
    "    values=\"Revenue\",\n",
    "    aggfunc=\"sum\"\n",
    ")\n",
    "\n",
    "sales_by_customer.head()"
   ]
  },
  {
   "cell_type": "code",
   "execution_count": 34,
   "metadata": {
    "ExecuteTime": {
     "end_time": "2023-10-19T17:11:03.094093Z",
     "start_time": "2023-10-19T17:11:03.045055Z"
    }
   },
   "outputs": [
    {
     "data": {
      "text/plain": "                   Revenue                                 \nName                 Creed  Dwight     Jim  Michael   Oscar\nCustomer                                                   \nAverage Paper Co.  13214.0     NaN  2287.0      NaN     NaN\nBest Paper Co.         NaN  2703.0     NaN  15754.0     NaN\nLogistics XYZ          NaN  9209.0     NaN   7172.0  5250.0\nMoney Corp.         5368.0     NaN  8278.0      NaN  4406.0\nPaper Pound            NaN  7771.0  4226.0      NaN  5317.0\nPaperGenius            NaN  2639.0  1864.0  12344.0  7075.0\nPaperMaven          3144.0     NaN  3868.0      NaN  8661.0",
      "text/html": "<div>\n<style scoped>\n    .dataframe tbody tr th:only-of-type {\n        vertical-align: middle;\n    }\n\n    .dataframe tbody tr th {\n        vertical-align: top;\n    }\n\n    .dataframe thead tr th {\n        text-align: left;\n    }\n\n    .dataframe thead tr:last-of-type th {\n        text-align: right;\n    }\n</style>\n<table border=\"1\" class=\"dataframe\">\n  <thead>\n    <tr>\n      <th></th>\n      <th colspan=\"5\" halign=\"left\">Revenue</th>\n    </tr>\n    <tr>\n      <th>Name</th>\n      <th>Creed</th>\n      <th>Dwight</th>\n      <th>Jim</th>\n      <th>Michael</th>\n      <th>Oscar</th>\n    </tr>\n    <tr>\n      <th>Customer</th>\n      <th></th>\n      <th></th>\n      <th></th>\n      <th></th>\n      <th></th>\n    </tr>\n  </thead>\n  <tbody>\n    <tr>\n      <th>Average Paper Co.</th>\n      <td>13214.0</td>\n      <td>NaN</td>\n      <td>2287.0</td>\n      <td>NaN</td>\n      <td>NaN</td>\n    </tr>\n    <tr>\n      <th>Best Paper Co.</th>\n      <td>NaN</td>\n      <td>2703.0</td>\n      <td>NaN</td>\n      <td>15754.0</td>\n      <td>NaN</td>\n    </tr>\n    <tr>\n      <th>Logistics XYZ</th>\n      <td>NaN</td>\n      <td>9209.0</td>\n      <td>NaN</td>\n      <td>7172.0</td>\n      <td>5250.0</td>\n    </tr>\n    <tr>\n      <th>Money Corp.</th>\n      <td>5368.0</td>\n      <td>NaN</td>\n      <td>8278.0</td>\n      <td>NaN</td>\n      <td>4406.0</td>\n    </tr>\n    <tr>\n      <th>Paper Pound</th>\n      <td>NaN</td>\n      <td>7771.0</td>\n      <td>4226.0</td>\n      <td>NaN</td>\n      <td>5317.0</td>\n    </tr>\n    <tr>\n      <th>PaperGenius</th>\n      <td>NaN</td>\n      <td>2639.0</td>\n      <td>1864.0</td>\n      <td>12344.0</td>\n      <td>7075.0</td>\n    </tr>\n    <tr>\n      <th>PaperMaven</th>\n      <td>3144.0</td>\n      <td>NaN</td>\n      <td>3868.0</td>\n      <td>NaN</td>\n      <td>8661.0</td>\n    </tr>\n  </tbody>\n</table>\n</div>"
     },
     "execution_count": 34,
     "metadata": {},
     "output_type": "execute_result"
    }
   ],
   "source": [
    "sales_by_customer.unstack()"
   ]
  },
  {
   "cell_type": "markdown",
   "metadata": {},
   "source": [
    "## Melting a Data Set"
   ]
  },
  {
   "cell_type": "code",
   "execution_count": 35,
   "metadata": {
    "ExecuteTime": {
     "end_time": "2023-10-19T17:11:09.804151Z",
     "start_time": "2023-10-19T17:11:09.752036Z"
    }
   },
   "outputs": [
    {
     "data": {
      "text/plain": "        Date   Name       Customer  Revenue  Expenses\n0 2020-01-01  Oscar  Logistics XYZ     5250       531",
      "text/html": "<div>\n<style scoped>\n    .dataframe tbody tr th:only-of-type {\n        vertical-align: middle;\n    }\n\n    .dataframe tbody tr th {\n        vertical-align: top;\n    }\n\n    .dataframe thead th {\n        text-align: right;\n    }\n</style>\n<table border=\"1\" class=\"dataframe\">\n  <thead>\n    <tr style=\"text-align: right;\">\n      <th></th>\n      <th>Date</th>\n      <th>Name</th>\n      <th>Customer</th>\n      <th>Revenue</th>\n      <th>Expenses</th>\n    </tr>\n  </thead>\n  <tbody>\n    <tr>\n      <th>0</th>\n      <td>2020-01-01</td>\n      <td>Oscar</td>\n      <td>Logistics XYZ</td>\n      <td>5250</td>\n      <td>531</td>\n    </tr>\n  </tbody>\n</table>\n</div>"
     },
     "execution_count": 35,
     "metadata": {},
     "output_type": "execute_result"
    }
   ],
   "source": [
    "sales.head(1)"
   ]
  },
  {
   "cell_type": "code",
   "execution_count": 36,
   "metadata": {
    "ExecuteTime": {
     "end_time": "2023-10-19T17:11:17.309603Z",
     "start_time": "2023-10-19T17:11:17.213924Z"
    }
   },
   "outputs": [
    {
     "data": {
      "text/plain": "                       Name     NA     EU     JP  Other\n0                Wii Sports  41.49  29.02   3.77   8.46\n1         Super Mario Bros.  29.08   3.58   6.81   0.77\n2            Mario Kart Wii  15.85  12.88   3.79   3.31\n3         Wii Sports Resort  15.75  11.01   3.28   2.96\n4  Pokemon Red/Pokemon Blue  11.27   8.89  10.22   1.00",
      "text/html": "<div>\n<style scoped>\n    .dataframe tbody tr th:only-of-type {\n        vertical-align: middle;\n    }\n\n    .dataframe tbody tr th {\n        vertical-align: top;\n    }\n\n    .dataframe thead th {\n        text-align: right;\n    }\n</style>\n<table border=\"1\" class=\"dataframe\">\n  <thead>\n    <tr style=\"text-align: right;\">\n      <th></th>\n      <th>Name</th>\n      <th>NA</th>\n      <th>EU</th>\n      <th>JP</th>\n      <th>Other</th>\n    </tr>\n  </thead>\n  <tbody>\n    <tr>\n      <th>0</th>\n      <td>Wii Sports</td>\n      <td>41.49</td>\n      <td>29.02</td>\n      <td>3.77</td>\n      <td>8.46</td>\n    </tr>\n    <tr>\n      <th>1</th>\n      <td>Super Mario Bros.</td>\n      <td>29.08</td>\n      <td>3.58</td>\n      <td>6.81</td>\n      <td>0.77</td>\n    </tr>\n    <tr>\n      <th>2</th>\n      <td>Mario Kart Wii</td>\n      <td>15.85</td>\n      <td>12.88</td>\n      <td>3.79</td>\n      <td>3.31</td>\n    </tr>\n    <tr>\n      <th>3</th>\n      <td>Wii Sports Resort</td>\n      <td>15.75</td>\n      <td>11.01</td>\n      <td>3.28</td>\n      <td>2.96</td>\n    </tr>\n    <tr>\n      <th>4</th>\n      <td>Pokemon Red/Pokemon Blue</td>\n      <td>11.27</td>\n      <td>8.89</td>\n      <td>10.22</td>\n      <td>1.00</td>\n    </tr>\n  </tbody>\n</table>\n</div>"
     },
     "execution_count": 36,
     "metadata": {},
     "output_type": "execute_result"
    }
   ],
   "source": [
    "video_game_sales = pd.read_csv(\"data/video_game_sales.csv\")\n",
    "video_game_sales.head()"
   ]
  },
  {
   "cell_type": "code",
   "execution_count": 37,
   "metadata": {
    "ExecuteTime": {
     "end_time": "2023-10-19T17:11:19.226862Z",
     "start_time": "2023-10-19T17:11:19.198092Z"
    }
   },
   "outputs": [
    {
     "data": {
      "text/plain": "         Name     NA     EU    JP  Other\n0  Wii Sports  41.49  29.02  3.77   8.46",
      "text/html": "<div>\n<style scoped>\n    .dataframe tbody tr th:only-of-type {\n        vertical-align: middle;\n    }\n\n    .dataframe tbody tr th {\n        vertical-align: top;\n    }\n\n    .dataframe thead th {\n        text-align: right;\n    }\n</style>\n<table border=\"1\" class=\"dataframe\">\n  <thead>\n    <tr style=\"text-align: right;\">\n      <th></th>\n      <th>Name</th>\n      <th>NA</th>\n      <th>EU</th>\n      <th>JP</th>\n      <th>Other</th>\n    </tr>\n  </thead>\n  <tbody>\n    <tr>\n      <th>0</th>\n      <td>Wii Sports</td>\n      <td>41.49</td>\n      <td>29.02</td>\n      <td>3.77</td>\n      <td>8.46</td>\n    </tr>\n  </tbody>\n</table>\n</div>"
     },
     "execution_count": 37,
     "metadata": {},
     "output_type": "execute_result"
    }
   ],
   "source": [
    "video_game_sales.head(1)"
   ]
  },
  {
   "cell_type": "code",
   "execution_count": 38,
   "metadata": {
    "ExecuteTime": {
     "end_time": "2023-10-19T17:11:22.064572Z",
     "start_time": "2023-10-19T17:11:21.986400Z"
    }
   },
   "outputs": [
    {
     "data": {
      "text/plain": "                       Name variable  value\n0                Wii Sports       NA  41.49\n1         Super Mario Bros.       NA  29.08\n2            Mario Kart Wii       NA  15.85\n3         Wii Sports Resort       NA  15.75\n4  Pokemon Red/Pokemon Blue       NA  11.27",
      "text/html": "<div>\n<style scoped>\n    .dataframe tbody tr th:only-of-type {\n        vertical-align: middle;\n    }\n\n    .dataframe tbody tr th {\n        vertical-align: top;\n    }\n\n    .dataframe thead th {\n        text-align: right;\n    }\n</style>\n<table border=\"1\" class=\"dataframe\">\n  <thead>\n    <tr style=\"text-align: right;\">\n      <th></th>\n      <th>Name</th>\n      <th>variable</th>\n      <th>value</th>\n    </tr>\n  </thead>\n  <tbody>\n    <tr>\n      <th>0</th>\n      <td>Wii Sports</td>\n      <td>NA</td>\n      <td>41.49</td>\n    </tr>\n    <tr>\n      <th>1</th>\n      <td>Super Mario Bros.</td>\n      <td>NA</td>\n      <td>29.08</td>\n    </tr>\n    <tr>\n      <th>2</th>\n      <td>Mario Kart Wii</td>\n      <td>NA</td>\n      <td>15.85</td>\n    </tr>\n    <tr>\n      <th>3</th>\n      <td>Wii Sports Resort</td>\n      <td>NA</td>\n      <td>15.75</td>\n    </tr>\n    <tr>\n      <th>4</th>\n      <td>Pokemon Red/Pokemon Blue</td>\n      <td>NA</td>\n      <td>11.27</td>\n    </tr>\n  </tbody>\n</table>\n</div>"
     },
     "execution_count": 38,
     "metadata": {},
     "output_type": "execute_result"
    }
   ],
   "source": [
    "video_game_sales.melt(id_vars='Name', value_vars=\"NA\").head()"
   ]
  },
  {
   "cell_type": "code",
   "execution_count": 39,
   "metadata": {
    "ExecuteTime": {
     "end_time": "2023-10-19T17:11:31.399706Z",
     "start_time": "2023-10-19T17:11:31.364318Z"
    }
   },
   "outputs": [
    {
     "data": {
      "text/plain": "                                                   Name variable  value\n0                                            Wii Sports       NA  41.49\n1                                     Super Mario Bros.       NA  29.08\n2                                        Mario Kart Wii       NA  15.85\n3                                     Wii Sports Resort       NA  15.75\n4                              Pokemon Red/Pokemon Blue       NA  11.27\n...                                                 ...      ...    ...\n66259                Woody Woodpecker in Crazy Castle 5    Other   0.00\n66260                     Men in Black II: Alien Escape    Other   0.00\n66261  SCORE International Baja 1000: The Official Game    Other   0.00\n66262                                        Know How 2    Other   0.00\n66263                                  Spirits & Spells    Other   0.00\n\n[66264 rows x 3 columns]",
      "text/html": "<div>\n<style scoped>\n    .dataframe tbody tr th:only-of-type {\n        vertical-align: middle;\n    }\n\n    .dataframe tbody tr th {\n        vertical-align: top;\n    }\n\n    .dataframe thead th {\n        text-align: right;\n    }\n</style>\n<table border=\"1\" class=\"dataframe\">\n  <thead>\n    <tr style=\"text-align: right;\">\n      <th></th>\n      <th>Name</th>\n      <th>variable</th>\n      <th>value</th>\n    </tr>\n  </thead>\n  <tbody>\n    <tr>\n      <th>0</th>\n      <td>Wii Sports</td>\n      <td>NA</td>\n      <td>41.49</td>\n    </tr>\n    <tr>\n      <th>1</th>\n      <td>Super Mario Bros.</td>\n      <td>NA</td>\n      <td>29.08</td>\n    </tr>\n    <tr>\n      <th>2</th>\n      <td>Mario Kart Wii</td>\n      <td>NA</td>\n      <td>15.85</td>\n    </tr>\n    <tr>\n      <th>3</th>\n      <td>Wii Sports Resort</td>\n      <td>NA</td>\n      <td>15.75</td>\n    </tr>\n    <tr>\n      <th>4</th>\n      <td>Pokemon Red/Pokemon Blue</td>\n      <td>NA</td>\n      <td>11.27</td>\n    </tr>\n    <tr>\n      <th>...</th>\n      <td>...</td>\n      <td>...</td>\n      <td>...</td>\n    </tr>\n    <tr>\n      <th>66259</th>\n      <td>Woody Woodpecker in Crazy Castle 5</td>\n      <td>Other</td>\n      <td>0.00</td>\n    </tr>\n    <tr>\n      <th>66260</th>\n      <td>Men in Black II: Alien Escape</td>\n      <td>Other</td>\n      <td>0.00</td>\n    </tr>\n    <tr>\n      <th>66261</th>\n      <td>SCORE International Baja 1000: The Official Game</td>\n      <td>Other</td>\n      <td>0.00</td>\n    </tr>\n    <tr>\n      <th>66262</th>\n      <td>Know How 2</td>\n      <td>Other</td>\n      <td>0.00</td>\n    </tr>\n    <tr>\n      <th>66263</th>\n      <td>Spirits &amp; Spells</td>\n      <td>Other</td>\n      <td>0.00</td>\n    </tr>\n  </tbody>\n</table>\n<p>66264 rows × 3 columns</p>\n</div>"
     },
     "execution_count": 39,
     "metadata": {},
     "output_type": "execute_result"
    }
   ],
   "source": [
    "regional_sales_columns = [\"NA\", \"EU\", \"JP\", \"Other\"]\n",
    "video_game_sales.melt(id_vars=\"Name\", value_vars=regional_sales_columns)"
   ]
  },
  {
   "cell_type": "code",
   "execution_count": 40,
   "metadata": {
    "ExecuteTime": {
     "end_time": "2023-10-19T17:11:33.701386Z",
     "start_time": "2023-10-19T17:11:33.645085Z"
    }
   },
   "outputs": [
    {
     "data": {
      "text/plain": "                       Name Region  Sales\n0                Wii Sports     NA  41.49\n1         Super Mario Bros.     NA  29.08\n2            Mario Kart Wii     NA  15.85\n3         Wii Sports Resort     NA  15.75\n4  Pokemon Red/Pokemon Blue     NA  11.27",
      "text/html": "<div>\n<style scoped>\n    .dataframe tbody tr th:only-of-type {\n        vertical-align: middle;\n    }\n\n    .dataframe tbody tr th {\n        vertical-align: top;\n    }\n\n    .dataframe thead th {\n        text-align: right;\n    }\n</style>\n<table border=\"1\" class=\"dataframe\">\n  <thead>\n    <tr style=\"text-align: right;\">\n      <th></th>\n      <th>Name</th>\n      <th>Region</th>\n      <th>Sales</th>\n    </tr>\n  </thead>\n  <tbody>\n    <tr>\n      <th>0</th>\n      <td>Wii Sports</td>\n      <td>NA</td>\n      <td>41.49</td>\n    </tr>\n    <tr>\n      <th>1</th>\n      <td>Super Mario Bros.</td>\n      <td>NA</td>\n      <td>29.08</td>\n    </tr>\n    <tr>\n      <th>2</th>\n      <td>Mario Kart Wii</td>\n      <td>NA</td>\n      <td>15.85</td>\n    </tr>\n    <tr>\n      <th>3</th>\n      <td>Wii Sports Resort</td>\n      <td>NA</td>\n      <td>15.75</td>\n    </tr>\n    <tr>\n      <th>4</th>\n      <td>Pokemon Red/Pokemon Blue</td>\n      <td>NA</td>\n      <td>11.27</td>\n    </tr>\n  </tbody>\n</table>\n</div>"
     },
     "execution_count": 40,
     "metadata": {},
     "output_type": "execute_result"
    }
   ],
   "source": [
    "video_game_sales_by_region = video_game_sales.melt(\n",
    "    id_vars=\"Name\",\n",
    "    value_vars=regional_sales_columns,\n",
    "    var_name=\"Region\",\n",
    "    value_name=\"Sales\"\n",
    ")\n",
    "\n",
    "video_game_sales_by_region.head()"
   ]
  },
  {
   "cell_type": "code",
   "execution_count": 41,
   "metadata": {
    "ExecuteTime": {
     "end_time": "2023-10-19T17:11:38.736292Z",
     "start_time": "2023-10-19T17:11:38.646865Z"
    }
   },
   "outputs": [
    {
     "data": {
      "text/plain": "                               Sales\nName                                \n'98 Koshien                     0.40\n.hack//G.U. Vol.1//Rebirth      0.17\n.hack//G.U. Vol.2//Reminisce    0.23\n.hack//G.U. Vol.3//Redemption   0.17\n.hack//Infection Part 1         1.26",
      "text/html": "<div>\n<style scoped>\n    .dataframe tbody tr th:only-of-type {\n        vertical-align: middle;\n    }\n\n    .dataframe tbody tr th {\n        vertical-align: top;\n    }\n\n    .dataframe thead th {\n        text-align: right;\n    }\n</style>\n<table border=\"1\" class=\"dataframe\">\n  <thead>\n    <tr style=\"text-align: right;\">\n      <th></th>\n      <th>Sales</th>\n    </tr>\n    <tr>\n      <th>Name</th>\n      <th></th>\n    </tr>\n  </thead>\n  <tbody>\n    <tr>\n      <th>'98 Koshien</th>\n      <td>0.40</td>\n    </tr>\n    <tr>\n      <th>.hack//G.U. Vol.1//Rebirth</th>\n      <td>0.17</td>\n    </tr>\n    <tr>\n      <th>.hack//G.U. Vol.2//Reminisce</th>\n      <td>0.23</td>\n    </tr>\n    <tr>\n      <th>.hack//G.U. Vol.3//Redemption</th>\n      <td>0.17</td>\n    </tr>\n    <tr>\n      <th>.hack//Infection Part 1</th>\n      <td>1.26</td>\n    </tr>\n  </tbody>\n</table>\n</div>"
     },
     "execution_count": 41,
     "metadata": {},
     "output_type": "execute_result"
    }
   ],
   "source": [
    "video_game_sales_by_region.pivot_table(index=\"Name\", values=\"Sales\", aggfunc=\"sum\").head()"
   ]
  },
  {
   "cell_type": "markdown",
   "metadata": {},
   "source": [
    "## Exploding a List of Values"
   ]
  },
  {
   "cell_type": "code",
   "execution_count": 42,
   "metadata": {
    "ExecuteTime": {
     "end_time": "2023-10-19T17:11:48.943959Z",
     "start_time": "2023-10-19T17:11:48.890902Z"
    }
   },
   "outputs": [
    {
     "data": {
      "text/plain": "                    Recipe                                        Ingredients\n0   Cashew Crusted Chicken  Apricot preserves, Dijon mustard, curry powder...\n1      Tomato Basil Salmon  Salmon filets, basil, tomato, olive oil, Parme...\n2  Parmesan Cheese Chicken  Bread crumbs, Parmesan cheese, Italian seasoni...",
      "text/html": "<div>\n<style scoped>\n    .dataframe tbody tr th:only-of-type {\n        vertical-align: middle;\n    }\n\n    .dataframe tbody tr th {\n        vertical-align: top;\n    }\n\n    .dataframe thead th {\n        text-align: right;\n    }\n</style>\n<table border=\"1\" class=\"dataframe\">\n  <thead>\n    <tr style=\"text-align: right;\">\n      <th></th>\n      <th>Recipe</th>\n      <th>Ingredients</th>\n    </tr>\n  </thead>\n  <tbody>\n    <tr>\n      <th>0</th>\n      <td>Cashew Crusted Chicken</td>\n      <td>Apricot preserves, Dijon mustard, curry powder...</td>\n    </tr>\n    <tr>\n      <th>1</th>\n      <td>Tomato Basil Salmon</td>\n      <td>Salmon filets, basil, tomato, olive oil, Parme...</td>\n    </tr>\n    <tr>\n      <th>2</th>\n      <td>Parmesan Cheese Chicken</td>\n      <td>Bread crumbs, Parmesan cheese, Italian seasoni...</td>\n    </tr>\n  </tbody>\n</table>\n</div>"
     },
     "execution_count": 42,
     "metadata": {},
     "output_type": "execute_result"
    }
   ],
   "source": [
    "recipes = pd.read_csv(\"data/recipes.csv\")\n",
    "recipes"
   ]
  },
  {
   "cell_type": "code",
   "execution_count": 43,
   "metadata": {
    "ExecuteTime": {
     "end_time": "2023-10-19T17:11:51.739527Z",
     "start_time": "2023-10-19T17:11:51.712773Z"
    }
   },
   "outputs": [
    {
     "data": {
      "text/plain": "0    [Apricot preserves,  Dijon mustard,  curry pow...\n1    [Salmon filets,  basil,  tomato,  olive oil,  ...\n2    [Bread crumbs,  Parmesan cheese,  Italian seas...\nName: Ingredients, dtype: object"
     },
     "execution_count": 43,
     "metadata": {},
     "output_type": "execute_result"
    }
   ],
   "source": [
    "recipes[\"Ingredients\"].str.split(\",\")"
   ]
  },
  {
   "cell_type": "code",
   "execution_count": 44,
   "metadata": {
    "ExecuteTime": {
     "end_time": "2023-10-19T17:11:54.114295Z",
     "start_time": "2023-10-19T17:11:54.088037Z"
    }
   },
   "outputs": [
    {
     "data": {
      "text/plain": "                    Recipe                                        Ingredients\n0   Cashew Crusted Chicken  [Apricot preserves,  Dijon mustard,  curry pow...\n1      Tomato Basil Salmon  [Salmon filets,  basil,  tomato,  olive oil,  ...\n2  Parmesan Cheese Chicken  [Bread crumbs,  Parmesan cheese,  Italian seas...",
      "text/html": "<div>\n<style scoped>\n    .dataframe tbody tr th:only-of-type {\n        vertical-align: middle;\n    }\n\n    .dataframe tbody tr th {\n        vertical-align: top;\n    }\n\n    .dataframe thead th {\n        text-align: right;\n    }\n</style>\n<table border=\"1\" class=\"dataframe\">\n  <thead>\n    <tr style=\"text-align: right;\">\n      <th></th>\n      <th>Recipe</th>\n      <th>Ingredients</th>\n    </tr>\n  </thead>\n  <tbody>\n    <tr>\n      <th>0</th>\n      <td>Cashew Crusted Chicken</td>\n      <td>[Apricot preserves,  Dijon mustard,  curry pow...</td>\n    </tr>\n    <tr>\n      <th>1</th>\n      <td>Tomato Basil Salmon</td>\n      <td>[Salmon filets,  basil,  tomato,  olive oil,  ...</td>\n    </tr>\n    <tr>\n      <th>2</th>\n      <td>Parmesan Cheese Chicken</td>\n      <td>[Bread crumbs,  Parmesan cheese,  Italian seas...</td>\n    </tr>\n  </tbody>\n</table>\n</div>"
     },
     "execution_count": 44,
     "metadata": {},
     "output_type": "execute_result"
    }
   ],
   "source": [
    "recipes[\"Ingredients\"] = recipes[\"Ingredients\"].str.split(\",\")\n",
    "recipes"
   ]
  },
  {
   "cell_type": "code",
   "execution_count": 45,
   "metadata": {
    "ExecuteTime": {
     "end_time": "2023-10-19T17:11:56.736934Z",
     "start_time": "2023-10-19T17:11:56.668490Z"
    }
   },
   "outputs": [
    {
     "data": {
      "text/plain": "                    Recipe         Ingredients\n0   Cashew Crusted Chicken   Apricot preserves\n0   Cashew Crusted Chicken       Dijon mustard\n0   Cashew Crusted Chicken        curry powder\n0   Cashew Crusted Chicken     chicken breasts\n0   Cashew Crusted Chicken             cashews\n1      Tomato Basil Salmon       Salmon filets\n1      Tomato Basil Salmon               basil\n1      Tomato Basil Salmon              tomato\n1      Tomato Basil Salmon           olive oil\n1      Tomato Basil Salmon     Parmesan cheese\n2  Parmesan Cheese Chicken        Bread crumbs\n2  Parmesan Cheese Chicken     Parmesan cheese\n2  Parmesan Cheese Chicken   Italian seasoning\n2  Parmesan Cheese Chicken                 egg\n2  Parmesan Cheese Chicken     chicken breasts",
      "text/html": "<div>\n<style scoped>\n    .dataframe tbody tr th:only-of-type {\n        vertical-align: middle;\n    }\n\n    .dataframe tbody tr th {\n        vertical-align: top;\n    }\n\n    .dataframe thead th {\n        text-align: right;\n    }\n</style>\n<table border=\"1\" class=\"dataframe\">\n  <thead>\n    <tr style=\"text-align: right;\">\n      <th></th>\n      <th>Recipe</th>\n      <th>Ingredients</th>\n    </tr>\n  </thead>\n  <tbody>\n    <tr>\n      <th>0</th>\n      <td>Cashew Crusted Chicken</td>\n      <td>Apricot preserves</td>\n    </tr>\n    <tr>\n      <th>0</th>\n      <td>Cashew Crusted Chicken</td>\n      <td>Dijon mustard</td>\n    </tr>\n    <tr>\n      <th>0</th>\n      <td>Cashew Crusted Chicken</td>\n      <td>curry powder</td>\n    </tr>\n    <tr>\n      <th>0</th>\n      <td>Cashew Crusted Chicken</td>\n      <td>chicken breasts</td>\n    </tr>\n    <tr>\n      <th>0</th>\n      <td>Cashew Crusted Chicken</td>\n      <td>cashews</td>\n    </tr>\n    <tr>\n      <th>1</th>\n      <td>Tomato Basil Salmon</td>\n      <td>Salmon filets</td>\n    </tr>\n    <tr>\n      <th>1</th>\n      <td>Tomato Basil Salmon</td>\n      <td>basil</td>\n    </tr>\n    <tr>\n      <th>1</th>\n      <td>Tomato Basil Salmon</td>\n      <td>tomato</td>\n    </tr>\n    <tr>\n      <th>1</th>\n      <td>Tomato Basil Salmon</td>\n      <td>olive oil</td>\n    </tr>\n    <tr>\n      <th>1</th>\n      <td>Tomato Basil Salmon</td>\n      <td>Parmesan cheese</td>\n    </tr>\n    <tr>\n      <th>2</th>\n      <td>Parmesan Cheese Chicken</td>\n      <td>Bread crumbs</td>\n    </tr>\n    <tr>\n      <th>2</th>\n      <td>Parmesan Cheese Chicken</td>\n      <td>Parmesan cheese</td>\n    </tr>\n    <tr>\n      <th>2</th>\n      <td>Parmesan Cheese Chicken</td>\n      <td>Italian seasoning</td>\n    </tr>\n    <tr>\n      <th>2</th>\n      <td>Parmesan Cheese Chicken</td>\n      <td>egg</td>\n    </tr>\n    <tr>\n      <th>2</th>\n      <td>Parmesan Cheese Chicken</td>\n      <td>chicken breasts</td>\n    </tr>\n  </tbody>\n</table>\n</div>"
     },
     "execution_count": 45,
     "metadata": {},
     "output_type": "execute_result"
    }
   ],
   "source": [
    "recipes.explode(\"Ingredients\")"
   ]
  },
  {
   "cell_type": "markdown",
   "metadata": {},
   "source": [
    "## Coding Challenge"
   ]
  },
  {
   "cell_type": "code",
   "execution_count": 46,
   "metadata": {
    "ExecuteTime": {
     "end_time": "2023-10-19T17:12:15.669009Z",
     "start_time": "2023-10-19T17:12:15.438942Z"
    }
   },
   "outputs": [
    {
     "data": {
      "text/plain": "  Manufacturer  Year Fuel Transmission  Price\n0        Acura  2012  Gas    Automatic  10299\n1       Jaguar  2011  Gas    Automatic   9500\n2        Honda  2004  Gas    Automatic   3995\n3    Chevrolet  2016  Gas    Automatic  41988\n4          Kia  2015  Gas    Automatic  12995",
      "text/html": "<div>\n<style scoped>\n    .dataframe tbody tr th:only-of-type {\n        vertical-align: middle;\n    }\n\n    .dataframe tbody tr th {\n        vertical-align: top;\n    }\n\n    .dataframe thead th {\n        text-align: right;\n    }\n</style>\n<table border=\"1\" class=\"dataframe\">\n  <thead>\n    <tr style=\"text-align: right;\">\n      <th></th>\n      <th>Manufacturer</th>\n      <th>Year</th>\n      <th>Fuel</th>\n      <th>Transmission</th>\n      <th>Price</th>\n    </tr>\n  </thead>\n  <tbody>\n    <tr>\n      <th>0</th>\n      <td>Acura</td>\n      <td>2012</td>\n      <td>Gas</td>\n      <td>Automatic</td>\n      <td>10299</td>\n    </tr>\n    <tr>\n      <th>1</th>\n      <td>Jaguar</td>\n      <td>2011</td>\n      <td>Gas</td>\n      <td>Automatic</td>\n      <td>9500</td>\n    </tr>\n    <tr>\n      <th>2</th>\n      <td>Honda</td>\n      <td>2004</td>\n      <td>Gas</td>\n      <td>Automatic</td>\n      <td>3995</td>\n    </tr>\n    <tr>\n      <th>3</th>\n      <td>Chevrolet</td>\n      <td>2016</td>\n      <td>Gas</td>\n      <td>Automatic</td>\n      <td>41988</td>\n    </tr>\n    <tr>\n      <th>4</th>\n      <td>Kia</td>\n      <td>2015</td>\n      <td>Gas</td>\n      <td>Automatic</td>\n      <td>12995</td>\n    </tr>\n  </tbody>\n</table>\n</div>"
     },
     "execution_count": 46,
     "metadata": {},
     "output_type": "execute_result"
    }
   ],
   "source": [
    "cars = pd.read_csv(\"data/used_cars.csv\")\n",
    "cars.head()"
   ]
  },
  {
   "cell_type": "code",
   "execution_count": 47,
   "metadata": {
    "ExecuteTime": {
     "end_time": "2023-10-19T17:12:25.583312Z",
     "start_time": "2023-10-19T17:12:25.531167Z"
    }
   },
   "outputs": [
    {
     "data": {
      "text/plain": "        State  2010  2011  2012  2013  2014  2015   2016   2017\n0     Alabama  0.00  0.00  0.00  0.00  0.00  0.00   0.00   0.00\n1      Alaska  8.90  8.63  8.45  8.33  8.20  9.24  10.17  10.01\n2     Arizona  8.33  8.18  8.34  8.38  8.36  8.50   8.40  10.22\n3    Arkansas  7.18  6.96  6.82  6.72  6.61  7.92   8.35   8.68\n4  California  9.19  8.91  8.72  8.60  9.52  9.51  10.43  10.22",
      "text/html": "<div>\n<style scoped>\n    .dataframe tbody tr th:only-of-type {\n        vertical-align: middle;\n    }\n\n    .dataframe tbody tr th {\n        vertical-align: top;\n    }\n\n    .dataframe thead th {\n        text-align: right;\n    }\n</style>\n<table border=\"1\" class=\"dataframe\">\n  <thead>\n    <tr style=\"text-align: right;\">\n      <th></th>\n      <th>State</th>\n      <th>2010</th>\n      <th>2011</th>\n      <th>2012</th>\n      <th>2013</th>\n      <th>2014</th>\n      <th>2015</th>\n      <th>2016</th>\n      <th>2017</th>\n    </tr>\n  </thead>\n  <tbody>\n    <tr>\n      <th>0</th>\n      <td>Alabama</td>\n      <td>0.00</td>\n      <td>0.00</td>\n      <td>0.00</td>\n      <td>0.00</td>\n      <td>0.00</td>\n      <td>0.00</td>\n      <td>0.00</td>\n      <td>0.00</td>\n    </tr>\n    <tr>\n      <th>1</th>\n      <td>Alaska</td>\n      <td>8.90</td>\n      <td>8.63</td>\n      <td>8.45</td>\n      <td>8.33</td>\n      <td>8.20</td>\n      <td>9.24</td>\n      <td>10.17</td>\n      <td>10.01</td>\n    </tr>\n    <tr>\n      <th>2</th>\n      <td>Arizona</td>\n      <td>8.33</td>\n      <td>8.18</td>\n      <td>8.34</td>\n      <td>8.38</td>\n      <td>8.36</td>\n      <td>8.50</td>\n      <td>8.40</td>\n      <td>10.22</td>\n    </tr>\n    <tr>\n      <th>3</th>\n      <td>Arkansas</td>\n      <td>7.18</td>\n      <td>6.96</td>\n      <td>6.82</td>\n      <td>6.72</td>\n      <td>6.61</td>\n      <td>7.92</td>\n      <td>8.35</td>\n      <td>8.68</td>\n    </tr>\n    <tr>\n      <th>4</th>\n      <td>California</td>\n      <td>9.19</td>\n      <td>8.91</td>\n      <td>8.72</td>\n      <td>8.60</td>\n      <td>9.52</td>\n      <td>9.51</td>\n      <td>10.43</td>\n      <td>10.22</td>\n    </tr>\n  </tbody>\n</table>\n</div>"
     },
     "execution_count": 47,
     "metadata": {},
     "output_type": "execute_result"
    }
   ],
   "source": [
    "min_wage = pd.read_csv(\"data/minimum_wage.csv\")\n",
    "min_wage.head()"
   ]
  },
  {
   "cell_type": "markdown",
   "metadata": {},
   "source": [
    "### Solutions"
   ]
  },
  {
   "cell_type": "code",
   "execution_count": 48,
   "metadata": {
    "ExecuteTime": {
     "end_time": "2023-10-19T17:12:34.547966Z",
     "start_time": "2023-10-19T17:12:34.493827Z"
    }
   },
   "outputs": [
    {
     "data": {
      "text/plain": "                Price\nFuel                 \nDiesel      986177143\nElectric     18502957\nGas       86203853926\nHybrid       44926064\nOther       242096286",
      "text/html": "<div>\n<style scoped>\n    .dataframe tbody tr th:only-of-type {\n        vertical-align: middle;\n    }\n\n    .dataframe tbody tr th {\n        vertical-align: top;\n    }\n\n    .dataframe thead th {\n        text-align: right;\n    }\n</style>\n<table border=\"1\" class=\"dataframe\">\n  <thead>\n    <tr style=\"text-align: right;\">\n      <th></th>\n      <th>Price</th>\n    </tr>\n    <tr>\n      <th>Fuel</th>\n      <th></th>\n    </tr>\n  </thead>\n  <tbody>\n    <tr>\n      <th>Diesel</th>\n      <td>986177143</td>\n    </tr>\n    <tr>\n      <th>Electric</th>\n      <td>18502957</td>\n    </tr>\n    <tr>\n      <th>Gas</th>\n      <td>86203853926</td>\n    </tr>\n    <tr>\n      <th>Hybrid</th>\n      <td>44926064</td>\n    </tr>\n    <tr>\n      <th>Other</th>\n      <td>242096286</td>\n    </tr>\n  </tbody>\n</table>\n</div>"
     },
     "execution_count": 48,
     "metadata": {},
     "output_type": "execute_result"
    }
   ],
   "source": [
    "cars.pivot_table(values=\"Price\", index=\"Fuel\", aggfunc=\"sum\")"
   ]
  },
  {
   "cell_type": "code",
   "execution_count": 49,
   "metadata": {
    "ExecuteTime": {
     "end_time": "2023-10-19T17:12:37.014944Z",
     "start_time": "2023-10-19T17:12:36.784944Z"
    }
   },
   "outputs": [
    {
     "data": {
      "text/plain": "Transmission  Automatic   Manual    Other     All\nManufacturer                                     \nTesla             179.0      NaN     59.0     238\nToyota          31480.0   1367.0   2134.0   34981\nVolkswagen       7985.0   1286.0    236.0    9507\nVolvo            2665.0    155.0     50.0    2870\nAll            398428.0  21005.0  21738.0  441171",
      "text/html": "<div>\n<style scoped>\n    .dataframe tbody tr th:only-of-type {\n        vertical-align: middle;\n    }\n\n    .dataframe tbody tr th {\n        vertical-align: top;\n    }\n\n    .dataframe thead th {\n        text-align: right;\n    }\n</style>\n<table border=\"1\" class=\"dataframe\">\n  <thead>\n    <tr style=\"text-align: right;\">\n      <th>Transmission</th>\n      <th>Automatic</th>\n      <th>Manual</th>\n      <th>Other</th>\n      <th>All</th>\n    </tr>\n    <tr>\n      <th>Manufacturer</th>\n      <th></th>\n      <th></th>\n      <th></th>\n      <th></th>\n    </tr>\n  </thead>\n  <tbody>\n    <tr>\n      <th>Tesla</th>\n      <td>179.0</td>\n      <td>NaN</td>\n      <td>59.0</td>\n      <td>238</td>\n    </tr>\n    <tr>\n      <th>Toyota</th>\n      <td>31480.0</td>\n      <td>1367.0</td>\n      <td>2134.0</td>\n      <td>34981</td>\n    </tr>\n    <tr>\n      <th>Volkswagen</th>\n      <td>7985.0</td>\n      <td>1286.0</td>\n      <td>236.0</td>\n      <td>9507</td>\n    </tr>\n    <tr>\n      <th>Volvo</th>\n      <td>2665.0</td>\n      <td>155.0</td>\n      <td>50.0</td>\n      <td>2870</td>\n    </tr>\n    <tr>\n      <th>All</th>\n      <td>398428.0</td>\n      <td>21005.0</td>\n      <td>21738.0</td>\n      <td>441171</td>\n    </tr>\n  </tbody>\n</table>\n</div>"
     },
     "execution_count": 49,
     "metadata": {},
     "output_type": "execute_result"
    }
   ],
   "source": [
    "cars.pivot_table(\n",
    "    values=\"Price\",\n",
    "    index=\"Manufacturer\",\n",
    "    columns=\"Transmission\",\n",
    "    aggfunc=\"count\",\n",
    "    margins=True\n",
    ").tail()"
   ]
  },
  {
   "cell_type": "code",
   "execution_count": 50,
   "metadata": {
    "ExecuteTime": {
     "end_time": "2023-10-19T17:12:39.136554Z",
     "start_time": "2023-10-19T17:12:39.021777Z"
    }
   },
   "outputs": [
    {
     "data": {
      "text/plain": "Transmission      Automatic        Manual         Other\nYear Fuel                                              \n2000 Diesel    11326.176962  14010.164021  11075.000000\n     Electric   1500.000000           NaN           NaN\n     Gas        4314.675996   6226.140327   3203.538462\n     Hybrid     2600.000000   2400.000000           NaN\n     Other     16014.918919  11361.952381  12984.642857\n...                     ...           ...           ...\n2020 Diesel    63272.595930      1.000000   1234.000000\n     Electric   8015.166667   2200.000000  20247.500000\n     Gas       34925.857933  36007.270833  20971.045455\n     Hybrid    35753.200000           NaN   1234.000000\n     Other     22210.306452           NaN   2725.925926\n\n[102 rows x 3 columns]",
      "text/html": "<div>\n<style scoped>\n    .dataframe tbody tr th:only-of-type {\n        vertical-align: middle;\n    }\n\n    .dataframe tbody tr th {\n        vertical-align: top;\n    }\n\n    .dataframe thead th {\n        text-align: right;\n    }\n</style>\n<table border=\"1\" class=\"dataframe\">\n  <thead>\n    <tr style=\"text-align: right;\">\n      <th></th>\n      <th>Transmission</th>\n      <th>Automatic</th>\n      <th>Manual</th>\n      <th>Other</th>\n    </tr>\n    <tr>\n      <th>Year</th>\n      <th>Fuel</th>\n      <th></th>\n      <th></th>\n      <th></th>\n    </tr>\n  </thead>\n  <tbody>\n    <tr>\n      <th rowspan=\"5\" valign=\"top\">2000</th>\n      <th>Diesel</th>\n      <td>11326.176962</td>\n      <td>14010.164021</td>\n      <td>11075.000000</td>\n    </tr>\n    <tr>\n      <th>Electric</th>\n      <td>1500.000000</td>\n      <td>NaN</td>\n      <td>NaN</td>\n    </tr>\n    <tr>\n      <th>Gas</th>\n      <td>4314.675996</td>\n      <td>6226.140327</td>\n      <td>3203.538462</td>\n    </tr>\n    <tr>\n      <th>Hybrid</th>\n      <td>2600.000000</td>\n      <td>2400.000000</td>\n      <td>NaN</td>\n    </tr>\n    <tr>\n      <th>Other</th>\n      <td>16014.918919</td>\n      <td>11361.952381</td>\n      <td>12984.642857</td>\n    </tr>\n    <tr>\n      <th>...</th>\n      <th>...</th>\n      <td>...</td>\n      <td>...</td>\n      <td>...</td>\n    </tr>\n    <tr>\n      <th rowspan=\"5\" valign=\"top\">2020</th>\n      <th>Diesel</th>\n      <td>63272.595930</td>\n      <td>1.000000</td>\n      <td>1234.000000</td>\n    </tr>\n    <tr>\n      <th>Electric</th>\n      <td>8015.166667</td>\n      <td>2200.000000</td>\n      <td>20247.500000</td>\n    </tr>\n    <tr>\n      <th>Gas</th>\n      <td>34925.857933</td>\n      <td>36007.270833</td>\n      <td>20971.045455</td>\n    </tr>\n    <tr>\n      <th>Hybrid</th>\n      <td>35753.200000</td>\n      <td>NaN</td>\n      <td>1234.000000</td>\n    </tr>\n    <tr>\n      <th>Other</th>\n      <td>22210.306452</td>\n      <td>NaN</td>\n      <td>2725.925926</td>\n    </tr>\n  </tbody>\n</table>\n<p>102 rows × 3 columns</p>\n</div>"
     },
     "execution_count": 50,
     "metadata": {},
     "output_type": "execute_result"
    }
   ],
   "source": [
    "cars.pivot_table(\n",
    "    values=\"Price\",\n",
    "    index=[\"Year\", \"Fuel\"],\n",
    "    columns=[\"Transmission\"],\n",
    "    aggfunc=\"mean\"\n",
    ")"
   ]
  },
  {
   "cell_type": "code",
   "execution_count": 51,
   "metadata": {
    "ExecuteTime": {
     "end_time": "2023-10-19T17:12:40.527330Z",
     "start_time": "2023-10-19T17:12:40.423761Z"
    }
   },
   "outputs": [],
   "source": [
    "report = cars.pivot_table(\n",
    "    values=\"Price\",\n",
    "    index=[\"Year\", \"Fuel\"],\n",
    "    columns=[\"Transmission\"],\n",
    "    aggfunc=\"mean\"\n",
    ")"
   ]
  },
  {
   "cell_type": "code",
   "execution_count": 52,
   "metadata": {
    "ExecuteTime": {
     "end_time": "2023-10-19T17:12:43.066192Z",
     "start_time": "2023-10-19T17:12:43.043307Z"
    }
   },
   "outputs": [
    {
     "data": {
      "text/plain": "Year  Fuel      Transmission\n2000  Diesel    Automatic       11326.176962\n                Manual          14010.164021\n                Other           11075.000000\n      Electric  Automatic        1500.000000\n      Gas       Automatic        4314.675996\n                                    ...     \n2020  Gas       Other           20971.045455\n      Hybrid    Automatic       35753.200000\n                Other            1234.000000\n      Other     Automatic       22210.306452\n                Other            2725.925926\nLength: 274, dtype: float64"
     },
     "execution_count": 52,
     "metadata": {},
     "output_type": "execute_result"
    }
   ],
   "source": [
    "report.stack()"
   ]
  },
  {
   "cell_type": "code",
   "execution_count": 53,
   "metadata": {
    "ExecuteTime": {
     "end_time": "2023-10-19T17:12:44.356963Z",
     "start_time": "2023-10-19T17:12:44.265874Z"
    }
   },
   "outputs": [
    {
     "data": {
      "text/plain": "             State variable  value\n0          Alabama     2010   0.00\n1           Alaska     2010   8.90\n2          Arizona     2010   8.33\n3         Arkansas     2010   7.18\n4       California     2010   9.19\n..             ...      ...    ...\n435       Virginia     2017   7.41\n436     Washington     2017  11.24\n437  West Virginia     2017   8.94\n438      Wisconsin     2017   7.41\n439        Wyoming     2017   5.26\n\n[440 rows x 3 columns]",
      "text/html": "<div>\n<style scoped>\n    .dataframe tbody tr th:only-of-type {\n        vertical-align: middle;\n    }\n\n    .dataframe tbody tr th {\n        vertical-align: top;\n    }\n\n    .dataframe thead th {\n        text-align: right;\n    }\n</style>\n<table border=\"1\" class=\"dataframe\">\n  <thead>\n    <tr style=\"text-align: right;\">\n      <th></th>\n      <th>State</th>\n      <th>variable</th>\n      <th>value</th>\n    </tr>\n  </thead>\n  <tbody>\n    <tr>\n      <th>0</th>\n      <td>Alabama</td>\n      <td>2010</td>\n      <td>0.00</td>\n    </tr>\n    <tr>\n      <th>1</th>\n      <td>Alaska</td>\n      <td>2010</td>\n      <td>8.90</td>\n    </tr>\n    <tr>\n      <th>2</th>\n      <td>Arizona</td>\n      <td>2010</td>\n      <td>8.33</td>\n    </tr>\n    <tr>\n      <th>3</th>\n      <td>Arkansas</td>\n      <td>2010</td>\n      <td>7.18</td>\n    </tr>\n    <tr>\n      <th>4</th>\n      <td>California</td>\n      <td>2010</td>\n      <td>9.19</td>\n    </tr>\n    <tr>\n      <th>...</th>\n      <td>...</td>\n      <td>...</td>\n      <td>...</td>\n    </tr>\n    <tr>\n      <th>435</th>\n      <td>Virginia</td>\n      <td>2017</td>\n      <td>7.41</td>\n    </tr>\n    <tr>\n      <th>436</th>\n      <td>Washington</td>\n      <td>2017</td>\n      <td>11.24</td>\n    </tr>\n    <tr>\n      <th>437</th>\n      <td>West Virginia</td>\n      <td>2017</td>\n      <td>8.94</td>\n    </tr>\n    <tr>\n      <th>438</th>\n      <td>Wisconsin</td>\n      <td>2017</td>\n      <td>7.41</td>\n    </tr>\n    <tr>\n      <th>439</th>\n      <td>Wyoming</td>\n      <td>2017</td>\n      <td>5.26</td>\n    </tr>\n  </tbody>\n</table>\n<p>440 rows × 3 columns</p>\n</div>"
     },
     "execution_count": 53,
     "metadata": {},
     "output_type": "execute_result"
    }
   ],
   "source": [
    "year_columns = [\n",
    "    \"2010\", \"2011\", \"2012\", \"2013\",\n",
    "    \"2014\", \"2015\", \"2016\", \"2017\"\n",
    "]\n",
    "\n",
    "min_wage.melt(id_vars=\"State\", value_vars=year_columns)"
   ]
  },
  {
   "cell_type": "code",
   "execution_count": 54,
   "metadata": {
    "ExecuteTime": {
     "end_time": "2023-10-19T17:12:45.313788Z",
     "start_time": "2023-10-19T17:12:45.279492Z"
    }
   },
   "outputs": [
    {
     "data": {
      "text/plain": "             State variable  value\n0          Alabama     2010   0.00\n1           Alaska     2010   8.90\n2          Arizona     2010   8.33\n3         Arkansas     2010   7.18\n4       California     2010   9.19\n..             ...      ...    ...\n435       Virginia     2017   7.41\n436     Washington     2017  11.24\n437  West Virginia     2017   8.94\n438      Wisconsin     2017   7.41\n439        Wyoming     2017   5.26\n\n[440 rows x 3 columns]",
      "text/html": "<div>\n<style scoped>\n    .dataframe tbody tr th:only-of-type {\n        vertical-align: middle;\n    }\n\n    .dataframe tbody tr th {\n        vertical-align: top;\n    }\n\n    .dataframe thead th {\n        text-align: right;\n    }\n</style>\n<table border=\"1\" class=\"dataframe\">\n  <thead>\n    <tr style=\"text-align: right;\">\n      <th></th>\n      <th>State</th>\n      <th>variable</th>\n      <th>value</th>\n    </tr>\n  </thead>\n  <tbody>\n    <tr>\n      <th>0</th>\n      <td>Alabama</td>\n      <td>2010</td>\n      <td>0.00</td>\n    </tr>\n    <tr>\n      <th>1</th>\n      <td>Alaska</td>\n      <td>2010</td>\n      <td>8.90</td>\n    </tr>\n    <tr>\n      <th>2</th>\n      <td>Arizona</td>\n      <td>2010</td>\n      <td>8.33</td>\n    </tr>\n    <tr>\n      <th>3</th>\n      <td>Arkansas</td>\n      <td>2010</td>\n      <td>7.18</td>\n    </tr>\n    <tr>\n      <th>4</th>\n      <td>California</td>\n      <td>2010</td>\n      <td>9.19</td>\n    </tr>\n    <tr>\n      <th>...</th>\n      <td>...</td>\n      <td>...</td>\n      <td>...</td>\n    </tr>\n    <tr>\n      <th>435</th>\n      <td>Virginia</td>\n      <td>2017</td>\n      <td>7.41</td>\n    </tr>\n    <tr>\n      <th>436</th>\n      <td>Washington</td>\n      <td>2017</td>\n      <td>11.24</td>\n    </tr>\n    <tr>\n      <th>437</th>\n      <td>West Virginia</td>\n      <td>2017</td>\n      <td>8.94</td>\n    </tr>\n    <tr>\n      <th>438</th>\n      <td>Wisconsin</td>\n      <td>2017</td>\n      <td>7.41</td>\n    </tr>\n    <tr>\n      <th>439</th>\n      <td>Wyoming</td>\n      <td>2017</td>\n      <td>5.26</td>\n    </tr>\n  </tbody>\n</table>\n<p>440 rows × 3 columns</p>\n</div>"
     },
     "execution_count": 54,
     "metadata": {},
     "output_type": "execute_result"
    }
   ],
   "source": [
    "min_wage.melt(id_vars=\"State\")"
   ]
  },
  {
   "cell_type": "code",
   "execution_count": 55,
   "metadata": {
    "ExecuteTime": {
     "end_time": "2023-10-19T17:12:51.427559Z",
     "start_time": "2023-10-19T17:12:51.384434Z"
    }
   },
   "outputs": [
    {
     "data": {
      "text/plain": "             State  Year   Wage\n0          Alabama  2010   0.00\n1           Alaska  2010   8.90\n2          Arizona  2010   8.33\n3         Arkansas  2010   7.18\n4       California  2010   9.19\n..             ...   ...    ...\n435       Virginia  2017   7.41\n436     Washington  2017  11.24\n437  West Virginia  2017   8.94\n438      Wisconsin  2017   7.41\n439        Wyoming  2017   5.26\n\n[440 rows x 3 columns]",
      "text/html": "<div>\n<style scoped>\n    .dataframe tbody tr th:only-of-type {\n        vertical-align: middle;\n    }\n\n    .dataframe tbody tr th {\n        vertical-align: top;\n    }\n\n    .dataframe thead th {\n        text-align: right;\n    }\n</style>\n<table border=\"1\" class=\"dataframe\">\n  <thead>\n    <tr style=\"text-align: right;\">\n      <th></th>\n      <th>State</th>\n      <th>Year</th>\n      <th>Wage</th>\n    </tr>\n  </thead>\n  <tbody>\n    <tr>\n      <th>0</th>\n      <td>Alabama</td>\n      <td>2010</td>\n      <td>0.00</td>\n    </tr>\n    <tr>\n      <th>1</th>\n      <td>Alaska</td>\n      <td>2010</td>\n      <td>8.90</td>\n    </tr>\n    <tr>\n      <th>2</th>\n      <td>Arizona</td>\n      <td>2010</td>\n      <td>8.33</td>\n    </tr>\n    <tr>\n      <th>3</th>\n      <td>Arkansas</td>\n      <td>2010</td>\n      <td>7.18</td>\n    </tr>\n    <tr>\n      <th>4</th>\n      <td>California</td>\n      <td>2010</td>\n      <td>9.19</td>\n    </tr>\n    <tr>\n      <th>...</th>\n      <td>...</td>\n      <td>...</td>\n      <td>...</td>\n    </tr>\n    <tr>\n      <th>435</th>\n      <td>Virginia</td>\n      <td>2017</td>\n      <td>7.41</td>\n    </tr>\n    <tr>\n      <th>436</th>\n      <td>Washington</td>\n      <td>2017</td>\n      <td>11.24</td>\n    </tr>\n    <tr>\n      <th>437</th>\n      <td>West Virginia</td>\n      <td>2017</td>\n      <td>8.94</td>\n    </tr>\n    <tr>\n      <th>438</th>\n      <td>Wisconsin</td>\n      <td>2017</td>\n      <td>7.41</td>\n    </tr>\n    <tr>\n      <th>439</th>\n      <td>Wyoming</td>\n      <td>2017</td>\n      <td>5.26</td>\n    </tr>\n  </tbody>\n</table>\n<p>440 rows × 3 columns</p>\n</div>"
     },
     "execution_count": 55,
     "metadata": {},
     "output_type": "execute_result"
    }
   ],
   "source": [
    "min_wage.melt(id_vars=\"State\", var_name=\"Year\", value_name=\"Wage\")"
   ]
  }
 ],
 "metadata": {
  "kernelspec": {
   "display_name": "Python 3",
   "language": "python",
   "name": "python3"
  },
  "language_info": {
   "codemirror_mode": {
    "name": "ipython",
    "version": 3
   },
   "file_extension": ".py",
   "mimetype": "text/x-python",
   "name": "python",
   "nbconvert_exporter": "python",
   "pygments_lexer": "ipython3",
   "version": "3.9.2"
  }
 },
 "nbformat": 4,
 "nbformat_minor": 4
}
