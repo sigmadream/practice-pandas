{
 "cells": [
  {
   "cell_type": "markdown",
   "metadata": {},
   "source": [
    "# Series Methods\n",
    "## Importing a Data Set with the read_csv Function"
   ]
  },
  {
   "cell_type": "code",
   "execution_count": 21,
   "metadata": {
    "ExecuteTime": {
     "end_time": "2023-10-20T16:46:24.833108Z",
     "start_time": "2023-10-20T16:46:24.668836Z"
    }
   },
   "outputs": [],
   "source": [
    "import pandas as pd"
   ]
  },
  {
   "cell_type": "code",
   "execution_count": 22,
   "metadata": {
    "ExecuteTime": {
     "end_time": "2023-10-20T16:46:24.833673Z",
     "start_time": "2023-10-20T16:46:24.673484Z"
    }
   },
   "outputs": [
    {
     "data": {
      "text/plain": "'2.1.1'"
     },
     "execution_count": 22,
     "metadata": {},
     "output_type": "execute_result"
    }
   ],
   "source": [
    "pd.__version__"
   ]
  },
  {
   "cell_type": "code",
   "execution_count": 23,
   "metadata": {
    "ExecuteTime": {
     "end_time": "2023-10-20T16:46:25.115678Z",
     "start_time": "2023-10-20T16:46:24.677959Z"
    }
   },
   "outputs": [
    {
     "data": {
      "text/plain": "         Pokemon            Type\n0      Bulbasaur  Grass / Poison\n1        Ivysaur  Grass / Poison\n2       Venusaur  Grass / Poison\n3     Charmander            Fire\n4     Charmeleon            Fire\n..           ...             ...\n804    Stakataka    Rock / Steel\n805  Blacephalon    Fire / Ghost\n806      Zeraora        Electric\n807       Meltan           Steel\n808     Melmetal           Steel\n\n[809 rows x 2 columns]",
      "text/html": "<div>\n<style scoped>\n    .dataframe tbody tr th:only-of-type {\n        vertical-align: middle;\n    }\n\n    .dataframe tbody tr th {\n        vertical-align: top;\n    }\n\n    .dataframe thead th {\n        text-align: right;\n    }\n</style>\n<table border=\"1\" class=\"dataframe\">\n  <thead>\n    <tr style=\"text-align: right;\">\n      <th></th>\n      <th>Pokemon</th>\n      <th>Type</th>\n    </tr>\n  </thead>\n  <tbody>\n    <tr>\n      <th>0</th>\n      <td>Bulbasaur</td>\n      <td>Grass / Poison</td>\n    </tr>\n    <tr>\n      <th>1</th>\n      <td>Ivysaur</td>\n      <td>Grass / Poison</td>\n    </tr>\n    <tr>\n      <th>2</th>\n      <td>Venusaur</td>\n      <td>Grass / Poison</td>\n    </tr>\n    <tr>\n      <th>3</th>\n      <td>Charmander</td>\n      <td>Fire</td>\n    </tr>\n    <tr>\n      <th>4</th>\n      <td>Charmeleon</td>\n      <td>Fire</td>\n    </tr>\n    <tr>\n      <th>...</th>\n      <td>...</td>\n      <td>...</td>\n    </tr>\n    <tr>\n      <th>804</th>\n      <td>Stakataka</td>\n      <td>Rock / Steel</td>\n    </tr>\n    <tr>\n      <th>805</th>\n      <td>Blacephalon</td>\n      <td>Fire / Ghost</td>\n    </tr>\n    <tr>\n      <th>806</th>\n      <td>Zeraora</td>\n      <td>Electric</td>\n    </tr>\n    <tr>\n      <th>807</th>\n      <td>Meltan</td>\n      <td>Steel</td>\n    </tr>\n    <tr>\n      <th>808</th>\n      <td>Melmetal</td>\n      <td>Steel</td>\n    </tr>\n  </tbody>\n</table>\n<p>809 rows × 2 columns</p>\n</div>"
     },
     "execution_count": 23,
     "metadata": {},
     "output_type": "execute_result"
    }
   ],
   "source": [
    "# The two lines below are equivalent\n",
    "pd.read_csv(filepath_or_buffer = \"data/pokemon.csv\")\n",
    "pd.read_csv(\"data/pokemon.csv\")"
   ]
  },
  {
   "cell_type": "code",
   "execution_count": 24,
   "metadata": {
    "ExecuteTime": {
     "end_time": "2023-10-20T16:46:25.150013Z",
     "start_time": "2023-10-20T16:46:24.689399Z"
    }
   },
   "outputs": [
    {
     "data": {
      "text/plain": "Pokemon\nBulbasaur      Grass / Poison\nIvysaur        Grass / Poison\nVenusaur       Grass / Poison\nCharmander               Fire\nCharmeleon               Fire\n                    ...      \nStakataka        Rock / Steel\nBlacephalon      Fire / Ghost\nZeraora              Electric\nMeltan                  Steel\nMelmetal                Steel\nName: Type, Length: 809, dtype: object"
     },
     "execution_count": 24,
     "metadata": {},
     "output_type": "execute_result"
    }
   ],
   "source": [
    "pokemon = pd.read_csv(\"data/pokemon.csv\", index_col = \"Pokemon\").squeeze()\n",
    "pokemon"
   ]
  },
  {
   "cell_type": "code",
   "execution_count": 25,
   "metadata": {
    "ExecuteTime": {
     "end_time": "2023-10-20T16:46:25.505720Z",
     "start_time": "2023-10-20T16:46:24.698779Z"
    }
   },
   "outputs": [
    {
     "data": {
      "text/plain": "Date\n2004-08-19      49.98\n2004-08-20      53.95\n2004-08-23      54.50\n2004-08-24      52.24\n2004-08-25      52.80\n               ...   \n2019-10-21    1246.15\n2019-10-22    1242.80\n2019-10-23    1259.13\n2019-10-24    1260.99\n2019-10-25    1265.13\nName: Close, Length: 3824, dtype: float64"
     },
     "execution_count": 25,
     "metadata": {},
     "output_type": "execute_result"
    }
   ],
   "source": [
    "google = pd.read_csv(\"data/google_stocks.csv\", parse_dates = [\"Date\"], index_col = \"Date\",).squeeze()\n",
    "google"
   ]
  },
  {
   "cell_type": "code",
   "execution_count": 26,
   "metadata": {
    "ExecuteTime": {
     "end_time": "2023-10-20T16:46:25.603471Z",
     "start_time": "2023-10-20T16:46:24.716363Z"
    }
   },
   "outputs": [
    {
     "data": {
      "text/plain": "Start Date\n1774-09-01    Massachusetts\n1774-12-14    New Hampshire\n1775-04-19    Massachusetts\n1775-04-19    Massachusetts\n1775-04-20         Virginia\n                  ...      \n1782-09-11         Virginia\n1782-09-13              NaN\n1782-10-18              NaN\n1782-12-06              NaN\n1783-01-22         Virginia\nName: State, Length: 232, dtype: object"
     },
     "execution_count": 26,
     "metadata": {},
     "output_type": "execute_result"
    }
   ],
   "source": [
    "battles = pd.read_csv(\"data/revolutionary_war.csv\", index_col = \"Start Date\", parse_dates = [\"Start Date\"], usecols = [\"State\", \"Start Date\"]).squeeze()\n",
    "battles\n"
   ]
  },
  {
   "cell_type": "markdown",
   "metadata": {},
   "source": [
    "## Sorting a Series"
   ]
  },
  {
   "cell_type": "markdown",
   "metadata": {},
   "source": [
    "### Sorting by Values with the sort_values Method"
   ]
  },
  {
   "cell_type": "code",
   "execution_count": 27,
   "metadata": {
    "ExecuteTime": {
     "end_time": "2023-10-20T16:46:25.660198Z",
     "start_time": "2023-10-20T16:46:24.723426Z"
    }
   },
   "outputs": [
    {
     "data": {
      "text/plain": "Date\n2004-09-03      49.82\n2004-09-01      49.94\n2004-08-19      49.98\n2004-09-02      50.57\n2004-09-07      50.60\n               ...   \n2019-04-23    1264.55\n2019-10-25    1265.13\n2018-07-26    1268.33\n2019-04-26    1272.18\n2019-04-29    1287.58\nName: Close, Length: 3824, dtype: float64"
     },
     "execution_count": 27,
     "metadata": {},
     "output_type": "execute_result"
    }
   ],
   "source": [
    "google.sort_values()"
   ]
  },
  {
   "cell_type": "code",
   "execution_count": 28,
   "metadata": {
    "ExecuteTime": {
     "end_time": "2023-10-20T16:46:25.660913Z",
     "start_time": "2023-10-20T16:46:24.731046Z"
    }
   },
   "outputs": [
    {
     "data": {
      "text/plain": "Pokemon\nIllumise                Bug\nSilcoon                 Bug\nPinsir                  Bug\nBurmy                   Bug\nWurmple                 Bug\n                  ...      \nTirtouga       Water / Rock\nRelicanth      Water / Rock\nCorsola        Water / Rock\nCarracosta     Water / Rock\nEmpoleon      Water / Steel\nName: Type, Length: 809, dtype: object"
     },
     "execution_count": 28,
     "metadata": {},
     "output_type": "execute_result"
    }
   ],
   "source": [
    "pokemon.sort_values()"
   ]
  },
  {
   "cell_type": "code",
   "execution_count": 29,
   "metadata": {
    "ExecuteTime": {
     "end_time": "2023-10-20T16:46:25.663968Z",
     "start_time": "2023-10-20T16:46:24.736772Z"
    }
   },
   "outputs": [
    {
     "data": {
      "text/plain": "0    Adam\n2     Ben\n1    adam\ndtype: object"
     },
     "execution_count": 29,
     "metadata": {},
     "output_type": "execute_result"
    }
   ],
   "source": [
    "pd.Series(data = [\"Adam\", \"adam\", \"Ben\"]).sort_values()"
   ]
  },
  {
   "cell_type": "code",
   "execution_count": 30,
   "metadata": {
    "ExecuteTime": {
     "end_time": "2023-10-20T16:46:25.664634Z",
     "start_time": "2023-10-20T16:46:24.741659Z"
    }
   },
   "outputs": [
    {
     "data": {
      "text/plain": "Date\n2019-04-29    1287.58\n2019-04-26    1272.18\n2018-07-26    1268.33\n2019-10-25    1265.13\n2019-04-23    1264.55\nName: Close, dtype: float64"
     },
     "execution_count": 30,
     "metadata": {},
     "output_type": "execute_result"
    }
   ],
   "source": [
    "google.sort_values(ascending = False).head()"
   ]
  },
  {
   "cell_type": "code",
   "execution_count": 31,
   "metadata": {
    "ExecuteTime": {
     "end_time": "2023-10-20T16:46:25.664937Z",
     "start_time": "2023-10-20T16:46:24.750244Z"
    }
   },
   "outputs": [
    {
     "data": {
      "text/plain": "Pokemon\nEmpoleon      Water / Steel\nCorsola        Water / Rock\nRelicanth      Water / Rock\nCarracosta     Water / Rock\nTirtouga       Water / Rock\nName: Type, dtype: object"
     },
     "execution_count": 31,
     "metadata": {},
     "output_type": "execute_result"
    }
   ],
   "source": [
    "pokemon.sort_values(ascending = False).head()"
   ]
  },
  {
   "cell_type": "code",
   "execution_count": 32,
   "metadata": {
    "ExecuteTime": {
     "end_time": "2023-10-20T16:46:25.665155Z",
     "start_time": "2023-10-20T16:46:24.753720Z"
    }
   },
   "outputs": [
    {
     "data": {
      "text/plain": "Start Date\n1781-09-06    Connecticut\n1779-07-05    Connecticut\n1777-04-27    Connecticut\n1777-09-03       Delaware\n1777-05-17        Florida\n                 ...     \n1782-08-08            NaN\n1782-08-25            NaN\n1782-09-13            NaN\n1782-10-18            NaN\n1782-12-06            NaN\nName: State, Length: 232, dtype: object"
     },
     "execution_count": 32,
     "metadata": {},
     "output_type": "execute_result"
    }
   ],
   "source": [
    "# The two lines below are equivalent\n",
    "battles.sort_values()\n",
    "battles.sort_values(na_position = \"last\")"
   ]
  },
  {
   "cell_type": "code",
   "execution_count": 33,
   "metadata": {
    "ExecuteTime": {
     "end_time": "2023-10-20T16:46:25.665823Z",
     "start_time": "2023-10-20T16:46:24.766024Z"
    }
   },
   "outputs": [
    {
     "data": {
      "text/plain": "Start Date\n1775-09-17         NaN\n1775-12-31         NaN\n1776-03-03         NaN\n1776-03-25         NaN\n1776-05-18         NaN\n                ...   \n1781-07-06    Virginia\n1781-07-01    Virginia\n1781-06-26    Virginia\n1781-04-25    Virginia\n1783-01-22    Virginia\nName: State, Length: 232, dtype: object"
     },
     "execution_count": 33,
     "metadata": {},
     "output_type": "execute_result"
    }
   ],
   "source": [
    "battles.sort_values(na_position = \"first\")"
   ]
  },
  {
   "cell_type": "code",
   "execution_count": 34,
   "metadata": {
    "ExecuteTime": {
     "end_time": "2023-10-20T16:46:25.666046Z",
     "start_time": "2023-10-20T16:46:24.776298Z"
    }
   },
   "outputs": [
    {
     "data": {
      "text/plain": "Start Date\n1781-09-06    Connecticut\n1779-07-05    Connecticut\n1777-04-27    Connecticut\n1777-09-03       Delaware\n1777-05-17        Florida\n                 ...     \n1781-07-06       Virginia\n1781-07-01       Virginia\n1781-06-26       Virginia\n1781-04-25       Virginia\n1783-01-22       Virginia\nName: State, Length: 162, dtype: object"
     },
     "execution_count": 34,
     "metadata": {},
     "output_type": "execute_result"
    }
   ],
   "source": [
    "battles.dropna().sort_values()"
   ]
  },
  {
   "cell_type": "markdown",
   "metadata": {},
   "source": [
    "### Sorting by Index with the sort_index Method"
   ]
  },
  {
   "cell_type": "code",
   "execution_count": 35,
   "metadata": {
    "ExecuteTime": {
     "end_time": "2023-10-20T16:46:25.674955Z",
     "start_time": "2023-10-20T16:46:24.781807Z"
    }
   },
   "outputs": [
    {
     "data": {
      "text/plain": "Pokemon\nAbomasnow        Grass / Ice\nAbra                 Psychic\nAbsol                   Dark\nAccelgor                 Bug\nAegislash      Steel / Ghost\n                  ...       \nZoroark                 Dark\nZorua                   Dark\nZubat        Poison / Flying\nZweilous       Dark / Dragon\nZygarde      Dragon / Ground\nName: Type, Length: 809, dtype: object"
     },
     "execution_count": 35,
     "metadata": {},
     "output_type": "execute_result"
    }
   ],
   "source": [
    "# The two lines below are equivalent\n",
    "pokemon.sort_index()\n",
    "pokemon.sort_index(ascending = True)"
   ]
  },
  {
   "cell_type": "code",
   "execution_count": 36,
   "metadata": {
    "ExecuteTime": {
     "end_time": "2023-10-20T16:46:25.675223Z",
     "start_time": "2023-10-20T16:46:24.790193Z"
    }
   },
   "outputs": [
    {
     "data": {
      "text/plain": "Start Date\n1774-09-01    Massachusetts\n1774-12-14    New Hampshire\n1775-04-19    Massachusetts\n1775-04-19    Massachusetts\n1775-04-20         Virginia\n                  ...      \n1783-01-22         Virginia\nNaT              New Jersey\nNaT                Virginia\nNaT                     NaN\nNaT                     NaN\nName: State, Length: 232, dtype: object"
     },
     "execution_count": 36,
     "metadata": {},
     "output_type": "execute_result"
    }
   ],
   "source": [
    "battles.sort_index()"
   ]
  },
  {
   "cell_type": "code",
   "execution_count": 37,
   "metadata": {
    "ExecuteTime": {
     "end_time": "2023-10-20T16:46:25.675432Z",
     "start_time": "2023-10-20T16:46:24.796808Z"
    }
   },
   "outputs": [
    {
     "data": {
      "text/plain": "Start Date\nNaT              New Jersey\nNaT                Virginia\nNaT                     NaN\nNaT                     NaN\n1774-09-01    Massachusetts\nName: State, dtype: object"
     },
     "execution_count": 37,
     "metadata": {},
     "output_type": "execute_result"
    }
   ],
   "source": [
    "battles.sort_index(na_position = \"first\").head()"
   ]
  },
  {
   "cell_type": "code",
   "execution_count": 38,
   "metadata": {
    "ExecuteTime": {
     "end_time": "2023-10-20T16:46:25.675631Z",
     "start_time": "2023-10-20T16:46:24.803545Z"
    }
   },
   "outputs": [
    {
     "data": {
      "text/plain": "Start Date\n1783-01-22    Virginia\n1782-12-06         NaN\n1782-10-18         NaN\n1782-09-13         NaN\n1782-09-11    Virginia\nName: State, dtype: object"
     },
     "execution_count": 38,
     "metadata": {},
     "output_type": "execute_result"
    }
   ],
   "source": [
    "battles.sort_index(ascending = False).head()"
   ]
  },
  {
   "cell_type": "markdown",
   "metadata": {},
   "source": [
    "### Retrieving the Smallest and Largest Values with the nsmallest and nlargest Methods"
   ]
  },
  {
   "cell_type": "code",
   "execution_count": 39,
   "metadata": {
    "ExecuteTime": {
     "end_time": "2023-10-20T16:46:25.675825Z",
     "start_time": "2023-10-20T16:46:24.807758Z"
    }
   },
   "outputs": [
    {
     "data": {
      "text/plain": "Date\n2019-04-29    1287.58\n2019-04-26    1272.18\n2018-07-26    1268.33\n2019-10-25    1265.13\n2019-04-23    1264.55\nName: Close, dtype: float64"
     },
     "execution_count": 39,
     "metadata": {},
     "output_type": "execute_result"
    }
   ],
   "source": [
    "google.sort_values(ascending = False).head()"
   ]
  },
  {
   "cell_type": "code",
   "execution_count": 40,
   "metadata": {
    "ExecuteTime": {
     "end_time": "2023-10-20T16:46:25.676097Z",
     "start_time": "2023-10-20T16:46:24.816244Z"
    }
   },
   "outputs": [
    {
     "data": {
      "text/plain": "Date\n2019-04-29    1287.58\n2019-04-26    1272.18\n2018-07-26    1268.33\n2019-10-25    1265.13\n2019-04-23    1264.55\nName: Close, dtype: float64"
     },
     "execution_count": 40,
     "metadata": {},
     "output_type": "execute_result"
    }
   ],
   "source": [
    "# The two lines below are equivalent\n",
    "google.nlargest(n = 5)\n",
    "google.nlargest()"
   ]
  },
  {
   "cell_type": "code",
   "execution_count": 41,
   "metadata": {
    "ExecuteTime": {
     "end_time": "2023-10-20T16:46:25.676338Z",
     "start_time": "2023-10-20T16:46:24.823183Z"
    }
   },
   "outputs": [
    {
     "data": {
      "text/plain": "Date\n2004-09-03    49.82\n2004-09-01    49.94\n2004-08-19    49.98\n2004-09-02    50.57\n2004-09-07    50.60\nName: Close, dtype: float64"
     },
     "execution_count": 41,
     "metadata": {},
     "output_type": "execute_result"
    }
   ],
   "source": [
    "# The two lines below are equivalent\n",
    "google.nsmallest(n = 5)\n",
    "google.nsmallest(5)"
   ]
  },
  {
   "cell_type": "markdown",
   "metadata": {},
   "source": [
    "## Overwriting a Series with the inplace Parameter"
   ]
  },
  {
   "cell_type": "code",
   "execution_count": 42,
   "metadata": {
    "ExecuteTime": {
     "end_time": "2023-10-20T16:46:25.687907Z",
     "start_time": "2023-10-20T16:46:24.832767Z"
    }
   },
   "outputs": [
    {
     "data": {
      "text/plain": "Start Date\n1774-09-01    Massachusetts\n1774-12-14    New Hampshire\n1775-04-19    Massachusetts\nName: State, dtype: object"
     },
     "execution_count": 42,
     "metadata": {},
     "output_type": "execute_result"
    }
   ],
   "source": [
    "battles.head(3)"
   ]
  },
  {
   "cell_type": "code",
   "execution_count": 43,
   "metadata": {
    "ExecuteTime": {
     "end_time": "2023-10-20T16:46:25.688175Z",
     "start_time": "2023-10-20T16:46:24.836826Z"
    }
   },
   "outputs": [
    {
     "data": {
      "text/plain": "Start Date\n1781-09-06    Connecticut\n1779-07-05    Connecticut\n1777-04-27    Connecticut\nName: State, dtype: object"
     },
     "execution_count": 43,
     "metadata": {},
     "output_type": "execute_result"
    }
   ],
   "source": [
    "battles.sort_values().head(3)"
   ]
  },
  {
   "cell_type": "code",
   "execution_count": 44,
   "metadata": {
    "ExecuteTime": {
     "end_time": "2023-10-20T16:46:25.688375Z",
     "start_time": "2023-10-20T16:46:24.844965Z"
    }
   },
   "outputs": [
    {
     "data": {
      "text/plain": "Start Date\n1774-09-01    Massachusetts\n1774-12-14    New Hampshire\n1775-04-19    Massachusetts\nName: State, dtype: object"
     },
     "execution_count": 44,
     "metadata": {},
     "output_type": "execute_result"
    }
   ],
   "source": [
    "battles.head(3)"
   ]
  },
  {
   "cell_type": "code",
   "execution_count": 45,
   "metadata": {
    "ExecuteTime": {
     "end_time": "2023-10-20T16:46:25.688571Z",
     "start_time": "2023-10-20T16:46:24.851336Z"
    }
   },
   "outputs": [
    {
     "data": {
      "text/plain": "Start Date\n1774-09-01    Massachusetts\n1774-12-14    New Hampshire\n1775-04-19    Massachusetts\nName: State, dtype: object"
     },
     "execution_count": 45,
     "metadata": {},
     "output_type": "execute_result"
    }
   ],
   "source": [
    "battles.head(3)"
   ]
  },
  {
   "cell_type": "code",
   "execution_count": 46,
   "metadata": {
    "ExecuteTime": {
     "end_time": "2023-10-20T16:46:25.688656Z",
     "start_time": "2023-10-20T16:46:24.856315Z"
    }
   },
   "outputs": [],
   "source": [
    "battles = battles.sort_values()"
   ]
  },
  {
   "cell_type": "code",
   "execution_count": 47,
   "metadata": {
    "ExecuteTime": {
     "end_time": "2023-10-20T16:46:25.688847Z",
     "start_time": "2023-10-20T16:46:24.861609Z"
    }
   },
   "outputs": [
    {
     "data": {
      "text/plain": "Start Date\n1781-09-06    Connecticut\n1779-07-05    Connecticut\n1777-04-27    Connecticut\nName: State, dtype: object"
     },
     "execution_count": 47,
     "metadata": {},
     "output_type": "execute_result"
    }
   ],
   "source": [
    "battles.head(3)"
   ]
  },
  {
   "cell_type": "markdown",
   "metadata": {},
   "source": [
    "## Counting Values with the value_counts Method"
   ]
  },
  {
   "cell_type": "code",
   "execution_count": 48,
   "metadata": {
    "ExecuteTime": {
     "end_time": "2023-10-20T16:46:25.689046Z",
     "start_time": "2023-10-20T16:46:24.868066Z"
    }
   },
   "outputs": [
    {
     "data": {
      "text/plain": "Pokemon\nBulbasaur     Grass / Poison\nIvysaur       Grass / Poison\nVenusaur      Grass / Poison\nCharmander              Fire\nCharmeleon              Fire\nName: Type, dtype: object"
     },
     "execution_count": 48,
     "metadata": {},
     "output_type": "execute_result"
    }
   ],
   "source": [
    "pokemon.head()"
   ]
  },
  {
   "cell_type": "code",
   "execution_count": 49,
   "metadata": {
    "ExecuteTime": {
     "end_time": "2023-10-20T16:46:25.689247Z",
     "start_time": "2023-10-20T16:46:24.873039Z"
    }
   },
   "outputs": [
    {
     "data": {
      "text/plain": "Type\nNormal                65\nWater                 61\nGrass                 38\nPsychic               35\nFire                  30\n                      ..\nFire / Psychic         1\nNormal / Ground        1\nPsychic / Fighting     1\nDark / Ghost           1\nFire / Ghost           1\nName: count, Length: 159, dtype: int64"
     },
     "execution_count": 49,
     "metadata": {},
     "output_type": "execute_result"
    }
   ],
   "source": [
    "pokemon.value_counts()"
   ]
  },
  {
   "cell_type": "code",
   "execution_count": 50,
   "metadata": {
    "ExecuteTime": {
     "end_time": "2023-10-20T16:46:25.689435Z",
     "start_time": "2023-10-20T16:46:24.882974Z"
    }
   },
   "outputs": [
    {
     "data": {
      "text/plain": "159"
     },
     "execution_count": 50,
     "metadata": {},
     "output_type": "execute_result"
    }
   ],
   "source": [
    "len(pokemon.value_counts())"
   ]
  },
  {
   "cell_type": "code",
   "execution_count": 51,
   "metadata": {
    "ExecuteTime": {
     "end_time": "2023-10-20T16:46:25.689618Z",
     "start_time": "2023-10-20T16:46:24.888527Z"
    }
   },
   "outputs": [
    {
     "data": {
      "text/plain": "159"
     },
     "execution_count": 51,
     "metadata": {},
     "output_type": "execute_result"
    }
   ],
   "source": [
    "pokemon.nunique()"
   ]
  },
  {
   "cell_type": "code",
   "execution_count": 52,
   "metadata": {
    "ExecuteTime": {
     "end_time": "2023-10-20T16:46:25.689821Z",
     "start_time": "2023-10-20T16:46:24.896206Z"
    }
   },
   "outputs": [
    {
     "data": {
      "text/plain": "Type\nFire / Ghost         1\nFighting / Dark      1\nFighting / Steel     1\nNormal / Ground      1\nFire / Psychic       1\n                    ..\nFire                30\nPsychic             35\nGrass               38\nWater               61\nNormal              65\nName: count, Length: 159, dtype: int64"
     },
     "execution_count": 52,
     "metadata": {},
     "output_type": "execute_result"
    }
   ],
   "source": [
    "pokemon.value_counts(ascending = True)"
   ]
  },
  {
   "cell_type": "code",
   "execution_count": 53,
   "metadata": {
    "ExecuteTime": {
     "end_time": "2023-10-20T16:46:25.690016Z",
     "start_time": "2023-10-20T16:46:24.904366Z"
    }
   },
   "outputs": [
    {
     "data": {
      "text/plain": "Type\nNormal     0.080346\nWater      0.075402\nGrass      0.046972\nPsychic    0.043263\nFire       0.037083\nName: proportion, dtype: float64"
     },
     "execution_count": 53,
     "metadata": {},
     "output_type": "execute_result"
    }
   ],
   "source": [
    "pokemon.value_counts(normalize = True).head()"
   ]
  },
  {
   "cell_type": "code",
   "execution_count": 54,
   "metadata": {
    "ExecuteTime": {
     "end_time": "2023-10-20T16:46:25.690207Z",
     "start_time": "2023-10-20T16:46:24.912142Z"
    }
   },
   "outputs": [
    {
     "data": {
      "text/plain": "Type\nNormal     8.034611\nWater      7.540173\nGrass      4.697157\nPsychic    4.326329\nFire       3.708282\nName: proportion, dtype: float64"
     },
     "execution_count": 54,
     "metadata": {},
     "output_type": "execute_result"
    }
   ],
   "source": [
    "pokemon.value_counts(normalize = True).head() * 100"
   ]
  },
  {
   "cell_type": "code",
   "execution_count": 55,
   "metadata": {
    "ExecuteTime": {
     "end_time": "2023-10-20T16:46:25.690420Z",
     "start_time": "2023-10-20T16:46:24.919403Z"
    }
   },
   "outputs": [
    {
     "data": {
      "text/plain": "Type\nNormal                8.03\nWater                 7.54\nGrass                 4.70\nPsychic               4.33\nFire                  3.71\n                      ... \nFire / Psychic        0.12\nNormal / Ground       0.12\nPsychic / Fighting    0.12\nDark / Ghost          0.12\nFire / Ghost          0.12\nName: proportion, Length: 159, dtype: float64"
     },
     "execution_count": 55,
     "metadata": {},
     "output_type": "execute_result"
    }
   ],
   "source": [
    "(pokemon.value_counts(normalize = True) * 100).round(2)"
   ]
  },
  {
   "cell_type": "code",
   "execution_count": 56,
   "metadata": {
    "ExecuteTime": {
     "end_time": "2023-10-20T16:46:25.690615Z",
     "start_time": "2023-10-20T16:46:24.926219Z"
    }
   },
   "outputs": [
    {
     "data": {
      "text/plain": "Close\n287.68    3\n194.27    3\n307.10    3\n288.92    3\n290.41    3\nName: count, dtype: int64"
     },
     "execution_count": 56,
     "metadata": {},
     "output_type": "execute_result"
    }
   ],
   "source": [
    "google.value_counts().head()"
   ]
  },
  {
   "cell_type": "code",
   "execution_count": 57,
   "metadata": {
    "ExecuteTime": {
     "end_time": "2023-10-20T16:46:25.690818Z",
     "start_time": "2023-10-20T16:46:24.934506Z"
    }
   },
   "outputs": [
    {
     "data": {
      "text/plain": "1287.58"
     },
     "execution_count": 57,
     "metadata": {},
     "output_type": "execute_result"
    }
   ],
   "source": [
    "google.max()"
   ]
  },
  {
   "cell_type": "code",
   "execution_count": 58,
   "metadata": {
    "ExecuteTime": {
     "end_time": "2023-10-20T16:46:25.691002Z",
     "start_time": "2023-10-20T16:46:24.939170Z"
    }
   },
   "outputs": [
    {
     "data": {
      "text/plain": "49.82"
     },
     "execution_count": 58,
     "metadata": {},
     "output_type": "execute_result"
    }
   ],
   "source": [
    "google.min()"
   ]
  },
  {
   "cell_type": "code",
   "execution_count": 59,
   "metadata": {
    "ExecuteTime": {
     "end_time": "2023-10-20T16:46:25.691200Z",
     "start_time": "2023-10-20T16:46:24.946565Z"
    }
   },
   "outputs": [
    {
     "data": {
      "text/plain": "(200.0, 400.0]      1568\n(-0.001, 200.0]      595\n(400.0, 600.0]       575\n(1000.0, 1200.0]     406\n(600.0, 800.0]       380\n(800.0, 1000.0]      207\n(1200.0, 1400.0]      93\nName: count, dtype: int64"
     },
     "execution_count": 59,
     "metadata": {},
     "output_type": "execute_result"
    }
   ],
   "source": [
    "buckets = [0, 200, 400, 600, 800, 1000, 1200, 1400]\n",
    "google.value_counts(bins = buckets)"
   ]
  },
  {
   "cell_type": "code",
   "execution_count": 60,
   "metadata": {
    "ExecuteTime": {
     "end_time": "2023-10-20T16:46:25.691566Z",
     "start_time": "2023-10-20T16:46:24.955698Z"
    }
   },
   "outputs": [
    {
     "data": {
      "text/plain": "(-0.001, 200.0]      595\n(200.0, 400.0]      1568\n(400.0, 600.0]       575\n(600.0, 800.0]       380\n(800.0, 1000.0]      207\n(1000.0, 1200.0]     406\n(1200.0, 1400.0]      93\nName: count, dtype: int64"
     },
     "execution_count": 60,
     "metadata": {},
     "output_type": "execute_result"
    }
   ],
   "source": [
    "google.value_counts(bins = buckets).sort_index()"
   ]
  },
  {
   "cell_type": "code",
   "execution_count": 61,
   "metadata": {
    "ExecuteTime": {
     "end_time": "2023-10-20T16:46:25.691792Z",
     "start_time": "2023-10-20T16:46:24.974846Z"
    }
   },
   "outputs": [
    {
     "data": {
      "text/plain": "(-0.001, 200.0]      595\n(200.0, 400.0]      1568\n(400.0, 600.0]       575\n(600.0, 800.0]       380\n(800.0, 1000.0]      207\n(1000.0, 1200.0]     406\n(1200.0, 1400.0]      93\nName: count, dtype: int64"
     },
     "execution_count": 61,
     "metadata": {},
     "output_type": "execute_result"
    }
   ],
   "source": [
    "google.value_counts(bins = buckets, sort = False)"
   ]
  },
  {
   "cell_type": "code",
   "execution_count": 62,
   "metadata": {
    "ExecuteTime": {
     "end_time": "2023-10-20T16:46:25.692010Z",
     "start_time": "2023-10-20T16:46:24.984051Z"
    }
   },
   "outputs": [
    {
     "data": {
      "text/plain": "(48.581, 256.113]      1204\n(256.113, 462.407]     1104\n(462.407, 668.7]        507\n(668.7, 874.993]        380\n(874.993, 1081.287]     292\n(1081.287, 1287.58]     337\nName: count, dtype: int64"
     },
     "execution_count": 62,
     "metadata": {},
     "output_type": "execute_result"
    }
   ],
   "source": [
    "google.value_counts(bins = 6, sort = False)"
   ]
  },
  {
   "cell_type": "code",
   "execution_count": 63,
   "metadata": {
    "ExecuteTime": {
     "end_time": "2023-10-20T16:46:25.692207Z",
     "start_time": "2023-10-20T16:46:24.993275Z"
    }
   },
   "outputs": [
    {
     "data": {
      "text/plain": "Start Date\n1781-09-06    Connecticut\n1779-07-05    Connecticut\n1777-04-27    Connecticut\n1777-09-03       Delaware\n1777-05-17        Florida\nName: State, dtype: object"
     },
     "execution_count": 63,
     "metadata": {},
     "output_type": "execute_result"
    }
   ],
   "source": [
    "battles.head()"
   ]
  },
  {
   "cell_type": "code",
   "execution_count": 64,
   "metadata": {
    "ExecuteTime": {
     "end_time": "2023-10-20T16:46:25.692397Z",
     "start_time": "2023-10-20T16:46:24.999117Z"
    }
   },
   "outputs": [
    {
     "data": {
      "text/plain": "State\nSouth Carolina    31\nNew York          28\nNew Jersey        24\nVirginia          21\nMassachusetts     11\nName: count, dtype: int64"
     },
     "execution_count": 64,
     "metadata": {},
     "output_type": "execute_result"
    }
   ],
   "source": [
    "battles.value_counts().head()"
   ]
  },
  {
   "cell_type": "code",
   "execution_count": 65,
   "metadata": {
    "ExecuteTime": {
     "end_time": "2023-10-20T16:46:25.692637Z",
     "start_time": "2023-10-20T16:46:25.004937Z"
    }
   },
   "outputs": [
    {
     "data": {
      "text/plain": "State\nNaN               70\nSouth Carolina    31\nNew York          28\nNew Jersey        24\nVirginia          21\nName: count, dtype: int64"
     },
     "execution_count": 65,
     "metadata": {},
     "output_type": "execute_result"
    }
   ],
   "source": [
    "battles.value_counts(dropna = False).head()"
   ]
  },
  {
   "cell_type": "code",
   "execution_count": 66,
   "metadata": {
    "ExecuteTime": {
     "end_time": "2023-10-20T16:46:25.692926Z",
     "start_time": "2023-10-20T16:46:25.010139Z"
    }
   },
   "outputs": [
    {
     "data": {
      "text/plain": "DatetimeIndex(['1781-09-06', '1779-07-05', '1777-04-27', '1777-09-03',\n               '1777-05-17', '1779-09-10', '1779-09-07', '1780-03-02',\n               '1778-06-30', '1781-01-07',\n               ...\n               '1782-05-06', '1782-05-25', '1782-05-28', '1782-07-01',\n               '1782-07-06', '1782-08-08', '1782-08-25', '1782-09-13',\n               '1782-10-18', '1782-12-06'],\n              dtype='datetime64[ns]', name='Start Date', length=232, freq=None)"
     },
     "execution_count": 66,
     "metadata": {},
     "output_type": "execute_result"
    }
   ],
   "source": [
    "battles.index"
   ]
  },
  {
   "cell_type": "code",
   "execution_count": 67,
   "metadata": {
    "ExecuteTime": {
     "end_time": "2023-10-20T16:46:25.695434Z",
     "start_time": "2023-10-20T16:46:25.014882Z"
    }
   },
   "outputs": [
    {
     "data": {
      "text/plain": "Start Date\n1781-05-22    2\n1775-04-19    2\n1782-03-16    2\n1782-01-11    2\n1781-04-25    2\n             ..\n1776-09-15    1\n1776-10-11    1\n1777-10-06    1\n1780-11-23    1\n1782-12-06    1\nName: count, Length: 217, dtype: int64"
     },
     "execution_count": 67,
     "metadata": {},
     "output_type": "execute_result"
    }
   ],
   "source": [
    "battles.index.value_counts()"
   ]
  },
  {
   "cell_type": "markdown",
   "metadata": {},
   "source": [
    "## Invoking a Function on Every Series Value with the apply Method"
   ]
  },
  {
   "cell_type": "code",
   "execution_count": 68,
   "metadata": {
    "ExecuteTime": {
     "end_time": "2023-10-20T16:46:25.695610Z",
     "start_time": "2023-10-20T16:46:25.021476Z"
    }
   },
   "outputs": [],
   "source": [
    "funcs = [len, max, min]"
   ]
  },
  {
   "cell_type": "code",
   "execution_count": 69,
   "metadata": {
    "ExecuteTime": {
     "end_time": "2023-10-20T16:46:25.695802Z",
     "start_time": "2023-10-20T16:46:25.025772Z"
    }
   },
   "outputs": [
    {
     "name": "stdout",
     "output_type": "stream",
     "text": [
      "3824\n",
      "1287.58\n",
      "49.82\n"
     ]
    }
   ],
   "source": [
    "for current_func in funcs:\n",
    "    print(current_func(google))"
   ]
  },
  {
   "cell_type": "code",
   "execution_count": 70,
   "metadata": {
    "ExecuteTime": {
     "end_time": "2023-10-20T16:46:25.696009Z",
     "start_time": "2023-10-20T16:46:25.030123Z"
    }
   },
   "outputs": [
    {
     "data": {
      "text/plain": "99"
     },
     "execution_count": 70,
     "metadata": {},
     "output_type": "execute_result"
    }
   ],
   "source": [
    "round(99.2)"
   ]
  },
  {
   "cell_type": "code",
   "execution_count": 71,
   "metadata": {
    "ExecuteTime": {
     "end_time": "2023-10-20T16:46:25.696193Z",
     "start_time": "2023-10-20T16:46:25.034973Z"
    }
   },
   "outputs": [
    {
     "data": {
      "text/plain": "99"
     },
     "execution_count": 71,
     "metadata": {},
     "output_type": "execute_result"
    }
   ],
   "source": [
    "round(99.49)"
   ]
  },
  {
   "cell_type": "code",
   "execution_count": 72,
   "metadata": {
    "ExecuteTime": {
     "end_time": "2023-10-20T16:46:25.696368Z",
     "start_time": "2023-10-20T16:46:25.038952Z"
    }
   },
   "outputs": [
    {
     "data": {
      "text/plain": "100"
     },
     "execution_count": 72,
     "metadata": {},
     "output_type": "execute_result"
    }
   ],
   "source": [
    "round(99.5)"
   ]
  },
  {
   "cell_type": "code",
   "execution_count": 73,
   "metadata": {
    "ExecuteTime": {
     "end_time": "2023-10-20T16:46:25.696573Z",
     "start_time": "2023-10-20T16:46:25.048022Z"
    }
   },
   "outputs": [
    {
     "data": {
      "text/plain": "Date\n2004-08-19      50\n2004-08-20      54\n2004-08-23      54\n2004-08-24      52\n2004-08-25      53\n              ... \n2019-10-21    1246\n2019-10-22    1243\n2019-10-23    1259\n2019-10-24    1261\n2019-10-25    1265\nName: Close, Length: 3824, dtype: int64"
     },
     "execution_count": 73,
     "metadata": {},
     "output_type": "execute_result"
    }
   ],
   "source": [
    "# The two lines below are equivalent\n",
    "google.apply(func = round)\n",
    "google.apply(round)"
   ]
  },
  {
   "cell_type": "code",
   "execution_count": 74,
   "metadata": {
    "ExecuteTime": {
     "end_time": "2023-10-20T16:46:25.696655Z",
     "start_time": "2023-10-20T16:46:25.051802Z"
    }
   },
   "outputs": [],
   "source": [
    "def single_or_multi(pokemon_type):\n",
    "    if \"/\" in pokemon_type:\n",
    "        return \"Multi\"\n",
    "    \n",
    "    return \"Single\""
   ]
  },
  {
   "cell_type": "code",
   "execution_count": 75,
   "metadata": {
    "ExecuteTime": {
     "end_time": "2023-10-20T16:46:25.696846Z",
     "start_time": "2023-10-20T16:46:25.056649Z"
    }
   },
   "outputs": [
    {
     "data": {
      "text/plain": "Pokemon\nBulbasaur     Grass / Poison\nIvysaur       Grass / Poison\nVenusaur      Grass / Poison\nCharmander              Fire\nName: Type, dtype: object"
     },
     "execution_count": 75,
     "metadata": {},
     "output_type": "execute_result"
    }
   ],
   "source": [
    "pokemon.head(4)"
   ]
  },
  {
   "cell_type": "code",
   "execution_count": 76,
   "metadata": {
    "ExecuteTime": {
     "end_time": "2023-10-20T16:46:25.697065Z",
     "start_time": "2023-10-20T16:46:25.061935Z"
    }
   },
   "outputs": [
    {
     "data": {
      "text/plain": "Pokemon\nBulbasaur       Multi\nIvysaur         Multi\nVenusaur        Multi\nCharmander     Single\nCharmeleon     Single\n                ...  \nStakataka       Multi\nBlacephalon     Multi\nZeraora        Single\nMeltan         Single\nMelmetal       Single\nName: Type, Length: 809, dtype: object"
     },
     "execution_count": 76,
     "metadata": {},
     "output_type": "execute_result"
    }
   ],
   "source": [
    "pokemon.apply(single_or_multi)"
   ]
  },
  {
   "cell_type": "code",
   "execution_count": 77,
   "metadata": {
    "ExecuteTime": {
     "end_time": "2023-10-20T16:46:25.697250Z",
     "start_time": "2023-10-20T16:46:25.066608Z"
    }
   },
   "outputs": [
    {
     "data": {
      "text/plain": "Type\nMulti     405\nSingle    404\nName: count, dtype: int64"
     },
     "execution_count": 77,
     "metadata": {},
     "output_type": "execute_result"
    }
   ],
   "source": [
    "pokemon.apply(single_or_multi).value_counts()"
   ]
  },
  {
   "cell_type": "markdown",
   "metadata": {},
   "source": [
    "## Coding Challenge"
   ]
  },
  {
   "cell_type": "markdown",
   "metadata": {},
   "source": [
    "### Solutions"
   ]
  },
  {
   "cell_type": "code",
   "execution_count": 78,
   "metadata": {
    "ExecuteTime": {
     "end_time": "2023-10-20T16:46:25.697996Z",
     "start_time": "2023-10-20T16:46:25.070991Z"
    }
   },
   "outputs": [
    {
     "data": {
      "text/plain": "'Saturday'"
     },
     "execution_count": 78,
     "metadata": {},
     "output_type": "execute_result"
    }
   ],
   "source": [
    "import datetime as dt\n",
    "today = dt.datetime(2020, 12, 26)\n",
    "today.strftime(\"%A\")"
   ]
  },
  {
   "cell_type": "code",
   "execution_count": 79,
   "metadata": {
    "ExecuteTime": {
     "end_time": "2023-10-20T16:46:25.698362Z",
     "start_time": "2023-10-20T16:46:25.075224Z"
    }
   },
   "outputs": [
    {
     "data": {
      "text/plain": "                              Battle  Start Date          State\n0                       Powder Alarm    9/1/1774  Massachusetts\n1  Storming of Fort William and Mary  12/14/1774  New Hampshire\n2   Battles of Lexington and Concord   4/19/1775  Massachusetts\n3                    Siege of Boston   4/19/1775  Massachusetts\n4                 Gunpowder Incident   4/20/1775       Virginia",
      "text/html": "<div>\n<style scoped>\n    .dataframe tbody tr th:only-of-type {\n        vertical-align: middle;\n    }\n\n    .dataframe tbody tr th {\n        vertical-align: top;\n    }\n\n    .dataframe thead th {\n        text-align: right;\n    }\n</style>\n<table border=\"1\" class=\"dataframe\">\n  <thead>\n    <tr style=\"text-align: right;\">\n      <th></th>\n      <th>Battle</th>\n      <th>Start Date</th>\n      <th>State</th>\n    </tr>\n  </thead>\n  <tbody>\n    <tr>\n      <th>0</th>\n      <td>Powder Alarm</td>\n      <td>9/1/1774</td>\n      <td>Massachusetts</td>\n    </tr>\n    <tr>\n      <th>1</th>\n      <td>Storming of Fort William and Mary</td>\n      <td>12/14/1774</td>\n      <td>New Hampshire</td>\n    </tr>\n    <tr>\n      <th>2</th>\n      <td>Battles of Lexington and Concord</td>\n      <td>4/19/1775</td>\n      <td>Massachusetts</td>\n    </tr>\n    <tr>\n      <th>3</th>\n      <td>Siege of Boston</td>\n      <td>4/19/1775</td>\n      <td>Massachusetts</td>\n    </tr>\n    <tr>\n      <th>4</th>\n      <td>Gunpowder Incident</td>\n      <td>4/20/1775</td>\n      <td>Virginia</td>\n    </tr>\n  </tbody>\n</table>\n</div>"
     },
     "execution_count": 79,
     "metadata": {},
     "output_type": "execute_result"
    }
   ],
   "source": [
    "pd.read_csv(\"data/revolutionary_war.csv\").head()"
   ]
  },
  {
   "cell_type": "code",
   "execution_count": 80,
   "metadata": {
    "ExecuteTime": {
     "end_time": "2023-10-20T16:46:25.698568Z",
     "start_time": "2023-10-20T16:46:25.082471Z"
    }
   },
   "outputs": [
    {
     "data": {
      "text/plain": "0   1774-09-01\n1   1774-12-14\n2   1775-04-19\n3   1775-04-19\n4   1775-04-20\nName: Start Date, dtype: datetime64[ns]"
     },
     "execution_count": 80,
     "metadata": {},
     "output_type": "execute_result"
    }
   ],
   "source": [
    "days_of_war = pd.read_csv(\n",
    "    \"data/revolutionary_war.csv\",\n",
    "    usecols = [\"Start Date\"],\n",
    "    parse_dates = [\"Start Date\"],\n",
    ").squeeze()\n",
    "\n",
    "days_of_war.head()"
   ]
  },
  {
   "cell_type": "code",
   "execution_count": 81,
   "metadata": {
    "ExecuteTime": {
     "end_time": "2023-10-20T16:46:25.698662Z",
     "start_time": "2023-10-20T16:46:25.090151Z"
    }
   },
   "outputs": [],
   "source": [
    "def day_of_week(date):\n",
    "    return date.strftime(\"%A\")"
   ]
  },
  {
   "cell_type": "code",
   "execution_count": 82,
   "metadata": {
    "ExecuteTime": {
     "end_time": "2023-10-20T16:46:25.700479Z",
     "start_time": "2023-10-20T16:46:25.095649Z"
    }
   },
   "outputs": [
    {
     "data": {
      "text/plain": "0       Thursday\n1      Wednesday\n2      Wednesday\n3      Wednesday\n4       Thursday\n         ...    \n227    Wednesday\n228       Friday\n229       Friday\n230       Friday\n231    Wednesday\nName: Start Date, Length: 228, dtype: object"
     },
     "execution_count": 82,
     "metadata": {},
     "output_type": "execute_result"
    }
   ],
   "source": [
    "days_of_war.dropna().apply(day_of_week)"
   ]
  },
  {
   "cell_type": "code",
   "execution_count": 83,
   "metadata": {
    "ExecuteTime": {
     "end_time": "2023-10-20T16:46:25.700882Z",
     "start_time": "2023-10-20T16:46:25.099575Z"
    }
   },
   "outputs": [
    {
     "data": {
      "text/plain": "Start Date\nSaturday     39\nFriday       39\nWednesday    32\nThursday     31\nSunday       31\nTuesday      29\nMonday       27\nName: count, dtype: int64"
     },
     "execution_count": 83,
     "metadata": {},
     "output_type": "execute_result"
    }
   ],
   "source": [
    "days_of_war.dropna().apply(day_of_week).value_counts()"
   ]
  }
 ],
 "metadata": {
  "kernelspec": {
   "display_name": "Python 3",
   "language": "python",
   "name": "python3"
  },
  "language_info": {
   "codemirror_mode": {
    "name": "ipython",
    "version": 3
   },
   "file_extension": ".py",
   "mimetype": "text/x-python",
   "name": "python",
   "nbconvert_exporter": "python",
   "pygments_lexer": "ipython3",
   "version": "3.11.6"
  }
 },
 "nbformat": 4,
 "nbformat_minor": 2
}
